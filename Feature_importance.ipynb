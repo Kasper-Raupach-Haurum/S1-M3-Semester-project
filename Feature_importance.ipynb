{
 "cells": [
  {
   "cell_type": "code",
   "execution_count": 1,
   "id": "2e8f4ce2-055c-498a-9b0f-59063e18f15c",
   "metadata": {
    "execution": {
     "iopub.execute_input": "2022-12-20T12:49:49.764660Z",
     "iopub.status.busy": "2022-12-20T12:49:49.764445Z",
     "iopub.status.idle": "2022-12-20T12:50:15.706905Z",
     "shell.execute_reply": "2022-12-20T12:50:15.704654Z",
     "shell.execute_reply.started": "2022-12-20T12:49:49.764639Z"
    },
    "tags": []
   },
   "outputs": [
    {
     "name": "stdout",
     "output_type": "stream",
     "text": [
      "Collecting pandas\n",
      "  Downloading pandas-1.5.2-cp310-cp310-manylinux_2_17_x86_64.manylinux2014_x86_64.whl (12.1 MB)\n",
      "\u001b[2K     \u001b[90m━━━━━━━━━━━━━━━━━━━━━━━━━━━━━━━━━━━━━━━━\u001b[0m \u001b[32m12.1/12.1 MB\u001b[0m \u001b[31m50.7 MB/s\u001b[0m eta \u001b[36m0:00:00\u001b[0m00:01\u001b[0m0:01\u001b[0m\n",
      "\u001b[?25hRequirement already satisfied: numpy in /opt/conda/lib/python3.10/site-packages (from -r Requirements.txt (line 2)) (1.23.2)\n",
      "Collecting pyarrow\n",
      "  Downloading pyarrow-10.0.1-cp310-cp310-manylinux_2_17_x86_64.manylinux2014_x86_64.whl (35.9 MB)\n",
      "\u001b[2K     \u001b[90m━━━━━━━━━━━━━━━━━━━━━━━━━━━━━━━━━━━━━━━━\u001b[0m \u001b[32m35.9/35.9 MB\u001b[0m \u001b[31m29.5 MB/s\u001b[0m eta \u001b[36m0:00:00\u001b[0m00:01\u001b[0m00:01\u001b[0m\n",
      "\u001b[?25hRequirement already satisfied: matplotlib in /opt/conda/lib/python3.10/site-packages (from -r Requirements.txt (line 4)) (3.5.3)\n",
      "Collecting seaborn\n",
      "  Downloading seaborn-0.12.1-py3-none-any.whl (288 kB)\n",
      "\u001b[2K     \u001b[90m━━━━━━━━━━━━━━━━━━━━━━━━━━━━━━━━━━━━━━━\u001b[0m \u001b[32m288.2/288.2 kB\u001b[0m \u001b[31m2.1 MB/s\u001b[0m eta \u001b[36m0:00:00\u001b[0m00:01\u001b[0m\n",
      "\u001b[?25hCollecting scikit-learn\n",
      "  Downloading scikit_learn-1.2.0-cp310-cp310-manylinux_2_17_x86_64.manylinux2014_x86_64.whl (9.5 MB)\n",
      "\u001b[2K     \u001b[90m━━━━━━━━━━━━━━━━━━━━━━━━━━━━━━━━━━━━━━━━\u001b[0m \u001b[32m9.5/9.5 MB\u001b[0m \u001b[31m41.9 MB/s\u001b[0m eta \u001b[36m0:00:00\u001b[0m:00:01\u001b[0m00:01\u001b[0m\n",
      "\u001b[?25hRequirement already satisfied: python-dateutil>=2.8.1 in /opt/conda/lib/python3.10/site-packages (from pandas->-r Requirements.txt (line 1)) (2.8.2)\n",
      "Requirement already satisfied: pytz>=2020.1 in /opt/conda/lib/python3.10/site-packages (from pandas->-r Requirements.txt (line 1)) (2022.2.1)\n",
      "Requirement already satisfied: kiwisolver>=1.0.1 in /opt/conda/lib/python3.10/site-packages (from matplotlib->-r Requirements.txt (line 4)) (1.4.4)\n",
      "Requirement already satisfied: pillow>=6.2.0 in /opt/conda/lib/python3.10/site-packages (from matplotlib->-r Requirements.txt (line 4)) (9.2.0)\n",
      "Requirement already satisfied: cycler>=0.10 in /opt/conda/lib/python3.10/site-packages (from matplotlib->-r Requirements.txt (line 4)) (0.11.0)\n",
      "Requirement already satisfied: fonttools>=4.22.0 in /opt/conda/lib/python3.10/site-packages (from matplotlib->-r Requirements.txt (line 4)) (4.37.1)\n",
      "Requirement already satisfied: pyparsing>=2.2.1 in /opt/conda/lib/python3.10/site-packages (from matplotlib->-r Requirements.txt (line 4)) (3.0.9)\n",
      "Requirement already satisfied: packaging>=20.0 in /opt/conda/lib/python3.10/site-packages (from matplotlib->-r Requirements.txt (line 4)) (21.3)\n",
      "Collecting joblib>=1.1.1\n",
      "  Downloading joblib-1.2.0-py3-none-any.whl (297 kB)\n",
      "\u001b[2K     \u001b[90m━━━━━━━━━━━━━━━━━━━━━━━━━━━━━━━━━━━━━━\u001b[0m \u001b[32m298.0/298.0 kB\u001b[0m \u001b[31m10.1 MB/s\u001b[0m eta \u001b[36m0:00:00\u001b[0m\n",
      "\u001b[?25hCollecting threadpoolctl>=2.0.0\n",
      "  Downloading threadpoolctl-3.1.0-py3-none-any.whl (14 kB)\n",
      "Collecting scipy>=1.3.2\n",
      "  Downloading scipy-1.9.3-cp310-cp310-manylinux_2_17_x86_64.manylinux2014_x86_64.whl (33.7 MB)\n",
      "\u001b[2K     \u001b[90m━━━━━━━━━━━━━━━━━━━━━━━━━━━━━━━━━━━━━━━━\u001b[0m \u001b[32m33.7/33.7 MB\u001b[0m \u001b[31m23.0 MB/s\u001b[0m eta \u001b[36m0:00:00\u001b[0m00:01\u001b[0m00:01\u001b[0m\n",
      "\u001b[?25hRequirement already satisfied: six>=1.5 in /opt/conda/lib/python3.10/site-packages (from python-dateutil>=2.8.1->pandas->-r Requirements.txt (line 1)) (1.16.0)\n",
      "Installing collected packages: threadpoolctl, scipy, pyarrow, joblib, scikit-learn, pandas, seaborn\n",
      "Successfully installed joblib-1.2.0 pandas-1.5.2 pyarrow-10.0.1 scikit-learn-1.2.0 scipy-1.9.3 seaborn-0.12.1 threadpoolctl-3.1.0\n"
     ]
    }
   ],
   "source": [
    "!pip install -r Requirements.txt"
   ]
  },
  {
   "cell_type": "code",
   "execution_count": 2,
   "id": "84c283ba-8959-422c-819d-789f9ffd516f",
   "metadata": {
    "execution": {
     "iopub.execute_input": "2022-12-20T12:50:15.710847Z",
     "iopub.status.busy": "2022-12-20T12:50:15.710237Z",
     "iopub.status.idle": "2022-12-20T12:50:17.291732Z",
     "shell.execute_reply": "2022-12-20T12:50:17.290920Z",
     "shell.execute_reply.started": "2022-12-20T12:50:15.710786Z"
    },
    "tags": []
   },
   "outputs": [],
   "source": [
    "import pandas as pd\n",
    "import numpy as np\n",
    "import matplotlib.pyplot as plt \n",
    "\n",
    "\n",
    "from sklearn.model_selection import train_test_split\n",
    "from sklearn.preprocessing import StandardScaler\n",
    "from sklearn.ensemble import RandomForestRegressor\n",
    "\n",
    "from sklearn.model_selection import GridSearchCV\n",
    "from sklearn.metrics import make_scorer \n",
    "from sklearn.metrics import mean_squared_error \n",
    "from sklearn.metrics import r2_score\n",
    "\n",
    "# scorer = make_scorer(r2_score)\n",
    "scorer = make_scorer(mean_squared_error)\n",
    "\n",
    "from sklearn.ensemble import RandomForestClassifier\n"
   ]
  },
  {
   "cell_type": "code",
   "execution_count": 3,
   "id": "83e07b33-b738-4bd3-a3ef-9d67a6eeb4b8",
   "metadata": {
    "execution": {
     "iopub.execute_input": "2022-12-20T12:50:17.292998Z",
     "iopub.status.busy": "2022-12-20T12:50:17.292680Z",
     "iopub.status.idle": "2022-12-20T12:50:17.444574Z",
     "shell.execute_reply": "2022-12-20T12:50:17.443780Z",
     "shell.execute_reply.started": "2022-12-20T12:50:17.292977Z"
    },
    "tags": []
   },
   "outputs": [],
   "source": [
    "data= pd.read_csv('clean_data_final.csv')"
   ]
  },
  {
   "cell_type": "code",
   "execution_count": 4,
   "id": "aaf9c3c4-50d3-48cb-bb07-995ea639db0b",
   "metadata": {
    "execution": {
     "iopub.execute_input": "2022-12-20T12:50:17.445714Z",
     "iopub.status.busy": "2022-12-20T12:50:17.445507Z",
     "iopub.status.idle": "2022-12-20T12:50:17.575311Z",
     "shell.execute_reply": "2022-12-20T12:50:17.574442Z",
     "shell.execute_reply.started": "2022-12-20T12:50:17.445695Z"
    }
   },
   "outputs": [
    {
     "name": "stdout",
     "output_type": "stream",
     "text": [
      "<class 'pandas.core.frame.DataFrame'>\n",
      "RangeIndex: 91009 entries, 0 to 91008\n",
      "Data columns (total 12 columns):\n",
      " #   Column                Non-Null Count  Dtype  \n",
      "---  ------                --------------  -----  \n",
      " 0   RN                    91009 non-null  float64\n",
      " 1   UserinfoCountry       91009 non-null  int64  \n",
      " 2   HealthcareWorker      91009 non-null  int64  \n",
      " 3   Profession            91009 non-null  int64  \n",
      " 4   Experiance            91009 non-null  int64  \n",
      " 5   WorkPlace             91009 non-null  int64  \n",
      " 6   SafeDeliveryApp       91009 non-null  int64  \n",
      " 7   UserinfoIsMyLearning  91009 non-null  float64\n",
      " 8   UserinfoUserIsActive  91009 non-null  float64\n",
      " 9   Module_Key            91009 non-null  int64  \n",
      " 10  Time                  91009 non-null  float64\n",
      " 11  KlpResultLevel        91009 non-null  float64\n",
      "dtypes: float64(5), int64(7)\n",
      "memory usage: 8.3 MB\n"
     ]
    }
   ],
   "source": [
    "data.info()"
   ]
  },
  {
   "cell_type": "markdown",
   "id": "b4ad1c37-13df-4a39-8eef-72db2fe8d002",
   "metadata": {},
   "source": [
    "# Experiance"
   ]
  },
  {
   "cell_type": "code",
   "execution_count": 5,
   "id": "e9639164-b1c7-4a7c-86ef-3b5fc4652f94",
   "metadata": {
    "execution": {
     "iopub.execute_input": "2022-12-20T12:50:17.576847Z",
     "iopub.status.busy": "2022-12-20T12:50:17.576551Z",
     "iopub.status.idle": "2022-12-20T12:50:17.624622Z",
     "shell.execute_reply": "2022-12-20T12:50:17.623280Z",
     "shell.execute_reply.started": "2022-12-20T12:50:17.576822Z"
    }
   },
   "outputs": [],
   "source": [
    "# Separating out the x \n",
    "x_exp = data.drop(['Experiance'], axis=1)\n",
    "# Separating out the target\n",
    "y_exp = data['Experiance']"
   ]
  },
  {
   "cell_type": "code",
   "execution_count": 6,
   "id": "a7dc9c73-5c7f-4456-b1c7-e618e0cc754e",
   "metadata": {
    "execution": {
     "iopub.execute_input": "2022-12-20T12:50:17.629806Z",
     "iopub.status.busy": "2022-12-20T12:50:17.629398Z",
     "iopub.status.idle": "2022-12-20T12:50:17.662194Z",
     "shell.execute_reply": "2022-12-20T12:50:17.660854Z",
     "shell.execute_reply.started": "2022-12-20T12:50:17.629781Z"
    }
   },
   "outputs": [
    {
     "name": "stdout",
     "output_type": "stream",
     "text": [
      "Size of x_exp dataset is: (91009, 11)\n"
     ]
    }
   ],
   "source": [
    "print('Size of x_exp dataset is: {}'.format(x_exp.shape))"
   ]
  },
  {
   "cell_type": "code",
   "execution_count": 7,
   "id": "45fbcc88-00f5-486a-9e44-5965a9e80c67",
   "metadata": {
    "execution": {
     "iopub.execute_input": "2022-12-20T12:50:17.702094Z",
     "iopub.status.busy": "2022-12-20T12:50:17.701889Z",
     "iopub.status.idle": "2022-12-20T12:50:17.770527Z",
     "shell.execute_reply": "2022-12-20T12:50:17.769759Z",
     "shell.execute_reply.started": "2022-12-20T12:50:17.702076Z"
    },
    "tags": []
   },
   "outputs": [
    {
     "name": "stdout",
     "output_type": "stream",
     "text": [
      "Shape of X_train dataset:  (72807, 11)\n",
      "Shape of y_train dataset:  (72807,)\n",
      "Shape of X_test dataset:  (18202, 11)\n",
      "Shape of y_test dataset:  (18202,)\n"
     ]
    }
   ],
   "source": [
    "X_train, X_test, y_train, y_test = train_test_split(x_exp,\n",
    "                                                    y_exp,\n",
    "                                                    test_size=0.2,\n",
    "                                                    random_state=7,\n",
    "                                                    stratify=y_exp)  \n",
    "print(\"Shape of X_train dataset: \", X_train.shape)\n",
    "print(\"Shape of y_train dataset: \", y_train.shape)\n",
    "print(\"Shape of X_test dataset: \", X_test.shape)\n",
    "print(\"Shape of y_test dataset: \", y_test.shape)"
   ]
  },
  {
   "cell_type": "code",
   "execution_count": 8,
   "id": "550e1675-485f-4c83-a6b3-17fe3f43e404",
   "metadata": {
    "execution": {
     "iopub.execute_input": "2022-12-20T12:50:17.771456Z",
     "iopub.status.busy": "2022-12-20T12:50:17.771274Z",
     "iopub.status.idle": "2022-12-20T12:50:17.775996Z",
     "shell.execute_reply": "2022-12-20T12:50:17.775534Z",
     "shell.execute_reply.started": "2022-12-20T12:50:17.771439Z"
    }
   },
   "outputs": [],
   "source": [
    "def feature_imp(x_exp, model):\n",
    "    fi = pd.DataFrame()\n",
    "    fi[\"feature\"] = x_exp.columns\n",
    "    fi[\"importance\"] = model.feature_importances_\n",
    "    return fi.sort_values(by=\"importance\", ascending=False)"
   ]
  },
  {
   "cell_type": "code",
   "execution_count": 9,
   "id": "953e7d29-2202-4ad1-ac37-100a4e1cd88a",
   "metadata": {
    "execution": {
     "iopub.execute_input": "2022-12-20T12:50:17.777250Z",
     "iopub.status.busy": "2022-12-20T12:50:17.776916Z",
     "iopub.status.idle": "2022-12-20T12:50:17.836289Z",
     "shell.execute_reply": "2022-12-20T12:50:17.834957Z",
     "shell.execute_reply.started": "2022-12-20T12:50:17.777231Z"
    },
    "tags": []
   },
   "outputs": [],
   "source": [
    "rf = RandomForestClassifier()"
   ]
  },
  {
   "cell_type": "code",
   "execution_count": 10,
   "id": "60689284-6d6a-4d83-99e5-455e0b735d03",
   "metadata": {
    "execution": {
     "iopub.execute_input": "2022-12-20T12:50:17.839303Z",
     "iopub.status.busy": "2022-12-20T12:50:17.838581Z",
     "iopub.status.idle": "2022-12-20T12:50:24.246839Z",
     "shell.execute_reply": "2022-12-20T12:50:24.246005Z",
     "shell.execute_reply.started": "2022-12-20T12:50:17.839252Z"
    },
    "tags": []
   },
   "outputs": [
    {
     "data": {
      "text/plain": [
       "0.3760575760905395"
      ]
     },
     "execution_count": 10,
     "metadata": {},
     "output_type": "execute_result"
    }
   ],
   "source": [
    "#fit the train set \n",
    "rf.fit(X_train, y_train)\n",
    "rf.score(X_test,y_test)"
   ]
  },
  {
   "cell_type": "code",
   "execution_count": 11,
   "id": "4c42b59d-1910-462f-af4e-774a7c592db8",
   "metadata": {
    "execution": {
     "iopub.execute_input": "2022-12-20T12:50:24.248144Z",
     "iopub.status.busy": "2022-12-20T12:50:24.247945Z",
     "iopub.status.idle": "2022-12-20T12:50:24.253193Z",
     "shell.execute_reply": "2022-12-20T12:50:24.252376Z",
     "shell.execute_reply.started": "2022-12-20T12:50:24.248126Z"
    },
    "tags": []
   },
   "outputs": [],
   "source": [
    "# providing parameters to check\n",
    "parameters_rf = {'bootstrap': [True, False],\n",
    " 'max_depth': [10, 20, None],\n",
    " 'min_samples_split': [2, 5, 10],\n",
    " 'n_estimators': [20, 25, 30]}"
   ]
  },
  {
   "cell_type": "code",
   "execution_count": 12,
   "id": "8bb3e2c5-0b58-4545-8b05-404b768a9763",
   "metadata": {
    "execution": {
     "iopub.execute_input": "2022-12-20T12:50:24.254234Z",
     "iopub.status.busy": "2022-12-20T12:50:24.254050Z",
     "iopub.status.idle": "2022-12-20T12:50:24.290258Z",
     "shell.execute_reply": "2022-12-20T12:50:24.289074Z",
     "shell.execute_reply.started": "2022-12-20T12:50:24.254217Z"
    },
    "tags": []
   },
   "outputs": [],
   "source": [
    "# Perform grid search on the classifier using 'scorer' as the scoring method.\n",
    "grid_obj = GridSearchCV(rf, parameters_rf, scoring=scorer)"
   ]
  },
  {
   "cell_type": "code",
   "execution_count": 13,
   "id": "fb7ca858-fad2-4d48-8de4-216103764ac1",
   "metadata": {
    "execution": {
     "iopub.execute_input": "2022-12-20T12:50:24.293167Z",
     "iopub.status.busy": "2022-12-20T12:50:24.292586Z",
     "iopub.status.idle": "2022-12-20T12:50:24.312408Z",
     "shell.execute_reply": "2022-12-20T12:50:24.311664Z",
     "shell.execute_reply.started": "2022-12-20T12:50:24.293119Z"
    },
    "tags": []
   },
   "outputs": [
    {
     "data": {
      "text/html": [
       "<style>#sk-container-id-1 {color: black;background-color: white;}#sk-container-id-1 pre{padding: 0;}#sk-container-id-1 div.sk-toggleable {background-color: white;}#sk-container-id-1 label.sk-toggleable__label {cursor: pointer;display: block;width: 100%;margin-bottom: 0;padding: 0.3em;box-sizing: border-box;text-align: center;}#sk-container-id-1 label.sk-toggleable__label-arrow:before {content: \"▸\";float: left;margin-right: 0.25em;color: #696969;}#sk-container-id-1 label.sk-toggleable__label-arrow:hover:before {color: black;}#sk-container-id-1 div.sk-estimator:hover label.sk-toggleable__label-arrow:before {color: black;}#sk-container-id-1 div.sk-toggleable__content {max-height: 0;max-width: 0;overflow: hidden;text-align: left;background-color: #f0f8ff;}#sk-container-id-1 div.sk-toggleable__content pre {margin: 0.2em;color: black;border-radius: 0.25em;background-color: #f0f8ff;}#sk-container-id-1 input.sk-toggleable__control:checked~div.sk-toggleable__content {max-height: 200px;max-width: 100%;overflow: auto;}#sk-container-id-1 input.sk-toggleable__control:checked~label.sk-toggleable__label-arrow:before {content: \"▾\";}#sk-container-id-1 div.sk-estimator input.sk-toggleable__control:checked~label.sk-toggleable__label {background-color: #d4ebff;}#sk-container-id-1 div.sk-label input.sk-toggleable__control:checked~label.sk-toggleable__label {background-color: #d4ebff;}#sk-container-id-1 input.sk-hidden--visually {border: 0;clip: rect(1px 1px 1px 1px);clip: rect(1px, 1px, 1px, 1px);height: 1px;margin: -1px;overflow: hidden;padding: 0;position: absolute;width: 1px;}#sk-container-id-1 div.sk-estimator {font-family: monospace;background-color: #f0f8ff;border: 1px dotted black;border-radius: 0.25em;box-sizing: border-box;margin-bottom: 0.5em;}#sk-container-id-1 div.sk-estimator:hover {background-color: #d4ebff;}#sk-container-id-1 div.sk-parallel-item::after {content: \"\";width: 100%;border-bottom: 1px solid gray;flex-grow: 1;}#sk-container-id-1 div.sk-label:hover label.sk-toggleable__label {background-color: #d4ebff;}#sk-container-id-1 div.sk-serial::before {content: \"\";position: absolute;border-left: 1px solid gray;box-sizing: border-box;top: 0;bottom: 0;left: 50%;z-index: 0;}#sk-container-id-1 div.sk-serial {display: flex;flex-direction: column;align-items: center;background-color: white;padding-right: 0.2em;padding-left: 0.2em;position: relative;}#sk-container-id-1 div.sk-item {position: relative;z-index: 1;}#sk-container-id-1 div.sk-parallel {display: flex;align-items: stretch;justify-content: center;background-color: white;position: relative;}#sk-container-id-1 div.sk-item::before, #sk-container-id-1 div.sk-parallel-item::before {content: \"\";position: absolute;border-left: 1px solid gray;box-sizing: border-box;top: 0;bottom: 0;left: 50%;z-index: -1;}#sk-container-id-1 div.sk-parallel-item {display: flex;flex-direction: column;z-index: 1;position: relative;background-color: white;}#sk-container-id-1 div.sk-parallel-item:first-child::after {align-self: flex-end;width: 50%;}#sk-container-id-1 div.sk-parallel-item:last-child::after {align-self: flex-start;width: 50%;}#sk-container-id-1 div.sk-parallel-item:only-child::after {width: 0;}#sk-container-id-1 div.sk-dashed-wrapped {border: 1px dashed gray;margin: 0 0.4em 0.5em 0.4em;box-sizing: border-box;padding-bottom: 0.4em;background-color: white;}#sk-container-id-1 div.sk-label label {font-family: monospace;font-weight: bold;display: inline-block;line-height: 1.2em;}#sk-container-id-1 div.sk-label-container {text-align: center;}#sk-container-id-1 div.sk-container {/* jupyter's `normalize.less` sets `[hidden] { display: none; }` but bootstrap.min.css set `[hidden] { display: none !important; }` so we also need the `!important` here to be able to override the default hidden behavior on the sphinx rendered scikit-learn.org. See: https://github.com/scikit-learn/scikit-learn/issues/21755 */display: inline-block !important;position: relative;}#sk-container-id-1 div.sk-text-repr-fallback {display: none;}</style><div id=\"sk-container-id-1\" class=\"sk-top-container\"><div class=\"sk-text-repr-fallback\"><pre>GridSearchCV(estimator=RandomForestClassifier(),\n",
       "             param_grid={&#x27;bootstrap&#x27;: [True, False],\n",
       "                         &#x27;max_depth&#x27;: [10, 20, None],\n",
       "                         &#x27;min_samples_split&#x27;: [2, 5, 10],\n",
       "                         &#x27;n_estimators&#x27;: [20, 25, 30]},\n",
       "             scoring=make_scorer(mean_squared_error))</pre><b>In a Jupyter environment, please rerun this cell to show the HTML representation or trust the notebook. <br />On GitHub, the HTML representation is unable to render, please try loading this page with nbviewer.org.</b></div><div class=\"sk-container\" hidden><div class=\"sk-item sk-dashed-wrapped\"><div class=\"sk-label-container\"><div class=\"sk-label sk-toggleable\"><input class=\"sk-toggleable__control sk-hidden--visually\" id=\"sk-estimator-id-1\" type=\"checkbox\" ><label for=\"sk-estimator-id-1\" class=\"sk-toggleable__label sk-toggleable__label-arrow\">GridSearchCV</label><div class=\"sk-toggleable__content\"><pre>GridSearchCV(estimator=RandomForestClassifier(),\n",
       "             param_grid={&#x27;bootstrap&#x27;: [True, False],\n",
       "                         &#x27;max_depth&#x27;: [10, 20, None],\n",
       "                         &#x27;min_samples_split&#x27;: [2, 5, 10],\n",
       "                         &#x27;n_estimators&#x27;: [20, 25, 30]},\n",
       "             scoring=make_scorer(mean_squared_error))</pre></div></div></div><div class=\"sk-parallel\"><div class=\"sk-parallel-item\"><div class=\"sk-item\"><div class=\"sk-label-container\"><div class=\"sk-label sk-toggleable\"><input class=\"sk-toggleable__control sk-hidden--visually\" id=\"sk-estimator-id-2\" type=\"checkbox\" ><label for=\"sk-estimator-id-2\" class=\"sk-toggleable__label sk-toggleable__label-arrow\">estimator: RandomForestClassifier</label><div class=\"sk-toggleable__content\"><pre>RandomForestClassifier()</pre></div></div></div><div class=\"sk-serial\"><div class=\"sk-item\"><div class=\"sk-estimator sk-toggleable\"><input class=\"sk-toggleable__control sk-hidden--visually\" id=\"sk-estimator-id-3\" type=\"checkbox\" ><label for=\"sk-estimator-id-3\" class=\"sk-toggleable__label sk-toggleable__label-arrow\">RandomForestClassifier</label><div class=\"sk-toggleable__content\"><pre>RandomForestClassifier()</pre></div></div></div></div></div></div></div></div></div></div>"
      ],
      "text/plain": [
       "GridSearchCV(estimator=RandomForestClassifier(),\n",
       "             param_grid={'bootstrap': [True, False],\n",
       "                         'max_depth': [10, 20, None],\n",
       "                         'min_samples_split': [2, 5, 10],\n",
       "                         'n_estimators': [20, 25, 30]},\n",
       "             scoring=make_scorer(mean_squared_error))"
      ]
     },
     "execution_count": 13,
     "metadata": {},
     "output_type": "execute_result"
    }
   ],
   "source": [
    "grid_obj"
   ]
  },
  {
   "cell_type": "code",
   "execution_count": 14,
   "id": "49c89654-741f-46bc-bf13-72eb59c57a67",
   "metadata": {
    "execution": {
     "iopub.execute_input": "2022-12-20T12:50:24.313768Z",
     "iopub.status.busy": "2022-12-20T12:50:24.313542Z",
     "iopub.status.idle": "2022-12-20T12:55:11.823560Z",
     "shell.execute_reply": "2022-12-20T12:55:11.821357Z",
     "shell.execute_reply.started": "2022-12-20T12:50:24.313748Z"
    },
    "tags": []
   },
   "outputs": [],
   "source": [
    "grid_fit = grid_obj.fit(X_train, y_train)"
   ]
  },
  {
   "cell_type": "code",
   "execution_count": 15,
   "id": "e5a74284-95d1-4ab7-a900-f281610f6e54",
   "metadata": {
    "execution": {
     "iopub.execute_input": "2022-12-20T12:55:11.825364Z",
     "iopub.status.busy": "2022-12-20T12:55:11.825127Z",
     "iopub.status.idle": "2022-12-20T12:55:12.954485Z",
     "shell.execute_reply": "2022-12-20T12:55:12.953182Z",
     "shell.execute_reply.started": "2022-12-20T12:55:11.825343Z"
    },
    "tags": []
   },
   "outputs": [
    {
     "data": {
      "text/html": [
       "<style>#sk-container-id-2 {color: black;background-color: white;}#sk-container-id-2 pre{padding: 0;}#sk-container-id-2 div.sk-toggleable {background-color: white;}#sk-container-id-2 label.sk-toggleable__label {cursor: pointer;display: block;width: 100%;margin-bottom: 0;padding: 0.3em;box-sizing: border-box;text-align: center;}#sk-container-id-2 label.sk-toggleable__label-arrow:before {content: \"▸\";float: left;margin-right: 0.25em;color: #696969;}#sk-container-id-2 label.sk-toggleable__label-arrow:hover:before {color: black;}#sk-container-id-2 div.sk-estimator:hover label.sk-toggleable__label-arrow:before {color: black;}#sk-container-id-2 div.sk-toggleable__content {max-height: 0;max-width: 0;overflow: hidden;text-align: left;background-color: #f0f8ff;}#sk-container-id-2 div.sk-toggleable__content pre {margin: 0.2em;color: black;border-radius: 0.25em;background-color: #f0f8ff;}#sk-container-id-2 input.sk-toggleable__control:checked~div.sk-toggleable__content {max-height: 200px;max-width: 100%;overflow: auto;}#sk-container-id-2 input.sk-toggleable__control:checked~label.sk-toggleable__label-arrow:before {content: \"▾\";}#sk-container-id-2 div.sk-estimator input.sk-toggleable__control:checked~label.sk-toggleable__label {background-color: #d4ebff;}#sk-container-id-2 div.sk-label input.sk-toggleable__control:checked~label.sk-toggleable__label {background-color: #d4ebff;}#sk-container-id-2 input.sk-hidden--visually {border: 0;clip: rect(1px 1px 1px 1px);clip: rect(1px, 1px, 1px, 1px);height: 1px;margin: -1px;overflow: hidden;padding: 0;position: absolute;width: 1px;}#sk-container-id-2 div.sk-estimator {font-family: monospace;background-color: #f0f8ff;border: 1px dotted black;border-radius: 0.25em;box-sizing: border-box;margin-bottom: 0.5em;}#sk-container-id-2 div.sk-estimator:hover {background-color: #d4ebff;}#sk-container-id-2 div.sk-parallel-item::after {content: \"\";width: 100%;border-bottom: 1px solid gray;flex-grow: 1;}#sk-container-id-2 div.sk-label:hover label.sk-toggleable__label {background-color: #d4ebff;}#sk-container-id-2 div.sk-serial::before {content: \"\";position: absolute;border-left: 1px solid gray;box-sizing: border-box;top: 0;bottom: 0;left: 50%;z-index: 0;}#sk-container-id-2 div.sk-serial {display: flex;flex-direction: column;align-items: center;background-color: white;padding-right: 0.2em;padding-left: 0.2em;position: relative;}#sk-container-id-2 div.sk-item {position: relative;z-index: 1;}#sk-container-id-2 div.sk-parallel {display: flex;align-items: stretch;justify-content: center;background-color: white;position: relative;}#sk-container-id-2 div.sk-item::before, #sk-container-id-2 div.sk-parallel-item::before {content: \"\";position: absolute;border-left: 1px solid gray;box-sizing: border-box;top: 0;bottom: 0;left: 50%;z-index: -1;}#sk-container-id-2 div.sk-parallel-item {display: flex;flex-direction: column;z-index: 1;position: relative;background-color: white;}#sk-container-id-2 div.sk-parallel-item:first-child::after {align-self: flex-end;width: 50%;}#sk-container-id-2 div.sk-parallel-item:last-child::after {align-self: flex-start;width: 50%;}#sk-container-id-2 div.sk-parallel-item:only-child::after {width: 0;}#sk-container-id-2 div.sk-dashed-wrapped {border: 1px dashed gray;margin: 0 0.4em 0.5em 0.4em;box-sizing: border-box;padding-bottom: 0.4em;background-color: white;}#sk-container-id-2 div.sk-label label {font-family: monospace;font-weight: bold;display: inline-block;line-height: 1.2em;}#sk-container-id-2 div.sk-label-container {text-align: center;}#sk-container-id-2 div.sk-container {/* jupyter's `normalize.less` sets `[hidden] { display: none; }` but bootstrap.min.css set `[hidden] { display: none !important; }` so we also need the `!important` here to be able to override the default hidden behavior on the sphinx rendered scikit-learn.org. See: https://github.com/scikit-learn/scikit-learn/issues/21755 */display: inline-block !important;position: relative;}#sk-container-id-2 div.sk-text-repr-fallback {display: none;}</style><div id=\"sk-container-id-2\" class=\"sk-top-container\"><div class=\"sk-text-repr-fallback\"><pre>RandomForestClassifier(bootstrap=False, max_depth=10, n_estimators=30)</pre><b>In a Jupyter environment, please rerun this cell to show the HTML representation or trust the notebook. <br />On GitHub, the HTML representation is unable to render, please try loading this page with nbviewer.org.</b></div><div class=\"sk-container\" hidden><div class=\"sk-item\"><div class=\"sk-estimator sk-toggleable\"><input class=\"sk-toggleable__control sk-hidden--visually\" id=\"sk-estimator-id-4\" type=\"checkbox\" checked><label for=\"sk-estimator-id-4\" class=\"sk-toggleable__label sk-toggleable__label-arrow\">RandomForestClassifier</label><div class=\"sk-toggleable__content\"><pre>RandomForestClassifier(bootstrap=False, max_depth=10, n_estimators=30)</pre></div></div></div></div></div>"
      ],
      "text/plain": [
       "RandomForestClassifier(bootstrap=False, max_depth=10, n_estimators=30)"
      ]
     },
     "execution_count": 15,
     "metadata": {},
     "output_type": "execute_result"
    }
   ],
   "source": [
    "# Get the estimator.\n",
    "best_reg = grid_fit.best_estimator_\n",
    "\n",
    "# Fit the new model.\n",
    "best_reg.fit(X_train, y_train)"
   ]
  },
  {
   "cell_type": "code",
   "execution_count": 16,
   "id": "631f24ba-5d75-4ccb-a322-3da4af446818",
   "metadata": {
    "execution": {
     "iopub.execute_input": "2022-12-20T12:55:12.955726Z",
     "iopub.status.busy": "2022-12-20T12:55:12.955498Z",
     "iopub.status.idle": "2022-12-20T12:55:13.226878Z",
     "shell.execute_reply": "2022-12-20T12:55:13.226038Z",
     "shell.execute_reply.started": "2022-12-20T12:55:12.955707Z"
    },
    "tags": []
   },
   "outputs": [
    {
     "name": "stdout",
     "output_type": "stream",
     "text": [
      "train score : 0.4206601013638798\n",
      "test score: 0.39979123173277664\n"
     ]
    }
   ],
   "source": [
    "# Model performance on TRAIN data\n",
    "print('train score :', best_reg.score(X_train, y_train))\n",
    "print('test score:', best_reg.score(X_test, y_test))"
   ]
  },
  {
   "cell_type": "code",
   "execution_count": 17,
   "id": "ed33103b-2dd6-43d7-b105-d6d24547feba",
   "metadata": {
    "execution": {
     "iopub.execute_input": "2022-12-20T12:55:13.228016Z",
     "iopub.status.busy": "2022-12-20T12:55:13.227811Z",
     "iopub.status.idle": "2022-12-20T12:55:13.233212Z",
     "shell.execute_reply": "2022-12-20T12:55:13.231928Z",
     "shell.execute_reply.started": "2022-12-20T12:55:13.227999Z"
    },
    "tags": []
   },
   "outputs": [],
   "source": [
    "#20 = 0.7600917494196987\n",
    "#train score : 0.4190256431387092\n",
    "#test score: 0.4002856828919899"
   ]
  },
  {
   "cell_type": "code",
   "execution_count": 18,
   "id": "d4949a39-9a0f-401d-b7a4-c56f3b2847c4",
   "metadata": {
    "execution": {
     "iopub.execute_input": "2022-12-20T12:55:13.235547Z",
     "iopub.status.busy": "2022-12-20T12:55:13.234996Z",
     "iopub.status.idle": "2022-12-20T12:55:13.863064Z",
     "shell.execute_reply": "2022-12-20T12:55:13.862157Z",
     "shell.execute_reply.started": "2022-12-20T12:55:13.235511Z"
    },
    "tags": []
   },
   "outputs": [
    {
     "data": {
      "image/png": "[encoded data removed]",
      "text/plain": [
       "<Figure size 1500x700 with 1 Axes>"
      ]
     },
     "metadata": {},
     "output_type": "display_data"
    }
   ],
   "source": [
    "importances = best_reg.feature_importances_\n",
    "indices = np.argsort(importances)[::-1] # Sort feature importances in descending order\n",
    "names = [X_train.columns[i] for i in indices] # Rearrange feature names so they match the sorted feature importances\n",
    "plt.figure(figsize=(15, 7)) # Create plot\n",
    "plt.title(\"Feature Importance Experiance\") # Create plot title\n",
    "plt.bar(range(X_train.shape[1]), importances[indices]) # Add bars\n",
    "plt.xticks(range(X_train.shape[1]), names, rotation=90) # Add feature names as x-axis labels\n",
    "plt.show() # Show plot"
   ]
  },
  {
   "cell_type": "markdown",
   "id": "682f1769-e9a2-45e6-8f70-9f218ebc4515",
   "metadata": {},
   "source": [
    "# Profession"
   ]
  },
  {
   "cell_type": "code",
   "execution_count": 19,
   "id": "0823b295-73cd-4a1e-abb3-e1bcfe9f0609",
   "metadata": {
    "execution": {
     "iopub.execute_input": "2022-12-20T12:55:13.869526Z",
     "iopub.status.busy": "2022-12-20T12:55:13.869320Z",
     "iopub.status.idle": "2022-12-20T12:55:13.884606Z",
     "shell.execute_reply": "2022-12-20T12:55:13.883637Z",
     "shell.execute_reply.started": "2022-12-20T12:55:13.869509Z"
    },
    "tags": []
   },
   "outputs": [],
   "source": [
    "# Separating out the x \n",
    "x_prof = data.drop(['Profession'], axis=1)\n",
    "# Separating out the target\n",
    "y_prof = data['Profession']"
   ]
  },
  {
   "cell_type": "code",
   "execution_count": 20,
   "id": "2981f911-fd25-47e8-9e7d-5d7eb5da8ae8",
   "metadata": {
    "execution": {
     "iopub.execute_input": "2022-12-20T12:55:13.885736Z",
     "iopub.status.busy": "2022-12-20T12:55:13.885544Z",
     "iopub.status.idle": "2022-12-20T12:55:13.913079Z",
     "shell.execute_reply": "2022-12-20T12:55:13.911312Z",
     "shell.execute_reply.started": "2022-12-20T12:55:13.885720Z"
    },
    "tags": []
   },
   "outputs": [
    {
     "name": "stdout",
     "output_type": "stream",
     "text": [
      "Size of x_exp dataset is: (91009, 11)\n"
     ]
    }
   ],
   "source": [
    "print('Size of x_exp dataset is: {}'.format(x_prof.shape))"
   ]
  },
  {
   "cell_type": "code",
   "execution_count": 21,
   "id": "6654dcc2-7467-4969-ac7e-723f1e9c0709",
   "metadata": {
    "execution": {
     "iopub.execute_input": "2022-12-20T12:55:13.915730Z",
     "iopub.status.busy": "2022-12-20T12:55:13.915010Z",
     "iopub.status.idle": "2022-12-20T12:55:13.983561Z",
     "shell.execute_reply": "2022-12-20T12:55:13.981948Z",
     "shell.execute_reply.started": "2022-12-20T12:55:13.915678Z"
    },
    "tags": []
   },
   "outputs": [
    {
     "name": "stdout",
     "output_type": "stream",
     "text": [
      "Shape of X_train dataset:  (72807, 11)\n",
      "Shape of y_train dataset:  (72807,)\n",
      "Shape of X_test dataset:  (18202, 11)\n",
      "Shape of y_test dataset:  (18202,)\n"
     ]
    }
   ],
   "source": [
    "X_train, X_test, y_train, y_test = train_test_split(x_prof,\n",
    "                                                    y_prof,\n",
    "                                                    test_size=0.2,\n",
    "                                                    random_state=7,\n",
    "                                                    stratify=y_prof)  \n",
    "print(\"Shape of X_train dataset: \", X_train.shape)\n",
    "print(\"Shape of y_train dataset: \", y_train.shape)\n",
    "print(\"Shape of X_test dataset: \", X_test.shape)\n",
    "print(\"Shape of y_test dataset: \", y_test.shape)"
   ]
  },
  {
   "cell_type": "code",
   "execution_count": 22,
   "id": "b965684e-0f60-44e1-b51e-c0191ba4f733",
   "metadata": {
    "execution": {
     "iopub.execute_input": "2022-12-20T12:55:13.985075Z",
     "iopub.status.busy": "2022-12-20T12:55:13.984875Z",
     "iopub.status.idle": "2022-12-20T12:55:13.989816Z",
     "shell.execute_reply": "2022-12-20T12:55:13.988845Z",
     "shell.execute_reply.started": "2022-12-20T12:55:13.985058Z"
    },
    "tags": []
   },
   "outputs": [],
   "source": [
    "def feature_imp(x_prof, model):\n",
    "    fi = pd.DataFrame()\n",
    "    fi[\"feature\"] = x_prof.columns\n",
    "    fi[\"importance\"] = model.feature_importances_\n",
    "    return fi.sort_values(by=\"importance\", ascending=False)"
   ]
  },
  {
   "cell_type": "code",
   "execution_count": 23,
   "id": "275fd928-49ac-4077-98af-353129417187",
   "metadata": {
    "execution": {
     "iopub.execute_input": "2022-12-20T12:55:13.991346Z",
     "iopub.status.busy": "2022-12-20T12:55:13.991167Z",
     "iopub.status.idle": "2022-12-20T12:55:19.691871Z",
     "shell.execute_reply": "2022-12-20T12:55:19.690824Z",
     "shell.execute_reply.started": "2022-12-20T12:55:13.991331Z"
    },
    "tags": []
   },
   "outputs": [
    {
     "data": {
      "text/plain": [
       "0.5967476101527305"
      ]
     },
     "execution_count": 23,
     "metadata": {},
     "output_type": "execute_result"
    }
   ],
   "source": [
    "#fit the train set \n",
    "rf.fit(X_train, y_train)\n",
    "rf.score(X_test,y_test)"
   ]
  },
  {
   "cell_type": "code",
   "execution_count": 24,
   "id": "c0c1133b-3a75-4982-bb29-eb0b020e1eb9",
   "metadata": {
    "execution": {
     "iopub.execute_input": "2022-12-20T12:55:19.693065Z",
     "iopub.status.busy": "2022-12-20T12:55:19.692838Z",
     "iopub.status.idle": "2022-12-20T12:55:19.697855Z",
     "shell.execute_reply": "2022-12-20T12:55:19.696843Z",
     "shell.execute_reply.started": "2022-12-20T12:55:19.693047Z"
    },
    "tags": []
   },
   "outputs": [],
   "source": [
    "# providing parameters to check\n",
    "parameters_rf = {'bootstrap': [True, False],\n",
    " 'max_depth': [10, 20, None],\n",
    " 'min_samples_split': [2, 5, 10],\n",
    " 'n_estimators': [ 25, 30, 50]}"
   ]
  },
  {
   "cell_type": "code",
   "execution_count": 25,
   "id": "9a836656-a569-4076-a62e-3933de091a9a",
   "metadata": {
    "execution": {
     "iopub.execute_input": "2022-12-20T12:55:19.698747Z",
     "iopub.status.busy": "2022-12-20T12:55:19.698575Z",
     "iopub.status.idle": "2022-12-20T12:55:19.717374Z",
     "shell.execute_reply": "2022-12-20T12:55:19.715886Z",
     "shell.execute_reply.started": "2022-12-20T12:55:19.698731Z"
    },
    "tags": []
   },
   "outputs": [],
   "source": [
    "# Perform grid search on the classifier using 'scorer' as the scoring method.\n",
    "grid_obj = GridSearchCV(rf, parameters_rf, scoring=scorer)"
   ]
  },
  {
   "cell_type": "code",
   "execution_count": 26,
   "id": "b414b1c8-e23f-4283-85e4-d2bc9117e66c",
   "metadata": {
    "execution": {
     "iopub.execute_input": "2022-12-20T12:55:19.719991Z",
     "iopub.status.busy": "2022-12-20T12:55:19.719297Z",
     "iopub.status.idle": "2022-12-20T12:55:19.737887Z",
     "shell.execute_reply": "2022-12-20T12:55:19.736987Z",
     "shell.execute_reply.started": "2022-12-20T12:55:19.719940Z"
    },
    "tags": []
   },
   "outputs": [
    {
     "data": {
      "text/html": [
       "<style>#sk-container-id-3 {color: black;background-color: white;}#sk-container-id-3 pre{padding: 0;}#sk-container-id-3 div.sk-toggleable {background-color: white;}#sk-container-id-3 label.sk-toggleable__label {cursor: pointer;display: block;width: 100%;margin-bottom: 0;padding: 0.3em;box-sizing: border-box;text-align: center;}#sk-container-id-3 label.sk-toggleable__label-arrow:before {content: \"▸\";float: left;margin-right: 0.25em;color: #696969;}#sk-container-id-3 label.sk-toggleable__label-arrow:hover:before {color: black;}#sk-container-id-3 div.sk-estimator:hover label.sk-toggleable__label-arrow:before {color: black;}#sk-container-id-3 div.sk-toggleable__content {max-height: 0;max-width: 0;overflow: hidden;text-align: left;background-color: #f0f8ff;}#sk-container-id-3 div.sk-toggleable__content pre {margin: 0.2em;color: black;border-radius: 0.25em;background-color: #f0f8ff;}#sk-container-id-3 input.sk-toggleable__control:checked~div.sk-toggleable__content {max-height: 200px;max-width: 100%;overflow: auto;}#sk-container-id-3 input.sk-toggleable__control:checked~label.sk-toggleable__label-arrow:before {content: \"▾\";}#sk-container-id-3 div.sk-estimator input.sk-toggleable__control:checked~label.sk-toggleable__label {background-color: #d4ebff;}#sk-container-id-3 div.sk-label input.sk-toggleable__control:checked~label.sk-toggleable__label {background-color: #d4ebff;}#sk-container-id-3 input.sk-hidden--visually {border: 0;clip: rect(1px 1px 1px 1px);clip: rect(1px, 1px, 1px, 1px);height: 1px;margin: -1px;overflow: hidden;padding: 0;position: absolute;width: 1px;}#sk-container-id-3 div.sk-estimator {font-family: monospace;background-color: #f0f8ff;border: 1px dotted black;border-radius: 0.25em;box-sizing: border-box;margin-bottom: 0.5em;}#sk-container-id-3 div.sk-estimator:hover {background-color: #d4ebff;}#sk-container-id-3 div.sk-parallel-item::after {content: \"\";width: 100%;border-bottom: 1px solid gray;flex-grow: 1;}#sk-container-id-3 div.sk-label:hover label.sk-toggleable__label {background-color: #d4ebff;}#sk-container-id-3 div.sk-serial::before {content: \"\";position: absolute;border-left: 1px solid gray;box-sizing: border-box;top: 0;bottom: 0;left: 50%;z-index: 0;}#sk-container-id-3 div.sk-serial {display: flex;flex-direction: column;align-items: center;background-color: white;padding-right: 0.2em;padding-left: 0.2em;position: relative;}#sk-container-id-3 div.sk-item {position: relative;z-index: 1;}#sk-container-id-3 div.sk-parallel {display: flex;align-items: stretch;justify-content: center;background-color: white;position: relative;}#sk-container-id-3 div.sk-item::before, #sk-container-id-3 div.sk-parallel-item::before {content: \"\";position: absolute;border-left: 1px solid gray;box-sizing: border-box;top: 0;bottom: 0;left: 50%;z-index: -1;}#sk-container-id-3 div.sk-parallel-item {display: flex;flex-direction: column;z-index: 1;position: relative;background-color: white;}#sk-container-id-3 div.sk-parallel-item:first-child::after {align-self: flex-end;width: 50%;}#sk-container-id-3 div.sk-parallel-item:last-child::after {align-self: flex-start;width: 50%;}#sk-container-id-3 div.sk-parallel-item:only-child::after {width: 0;}#sk-container-id-3 div.sk-dashed-wrapped {border: 1px dashed gray;margin: 0 0.4em 0.5em 0.4em;box-sizing: border-box;padding-bottom: 0.4em;background-color: white;}#sk-container-id-3 div.sk-label label {font-family: monospace;font-weight: bold;display: inline-block;line-height: 1.2em;}#sk-container-id-3 div.sk-label-container {text-align: center;}#sk-container-id-3 div.sk-container {/* jupyter's `normalize.less` sets `[hidden] { display: none; }` but bootstrap.min.css set `[hidden] { display: none !important; }` so we also need the `!important` here to be able to override the default hidden behavior on the sphinx rendered scikit-learn.org. See: https://github.com/scikit-learn/scikit-learn/issues/21755 */display: inline-block !important;position: relative;}#sk-container-id-3 div.sk-text-repr-fallback {display: none;}</style><div id=\"sk-container-id-3\" class=\"sk-top-container\"><div class=\"sk-text-repr-fallback\"><pre>GridSearchCV(estimator=RandomForestClassifier(),\n",
       "             param_grid={&#x27;bootstrap&#x27;: [True, False],\n",
       "                         &#x27;max_depth&#x27;: [10, 20, None],\n",
       "                         &#x27;min_samples_split&#x27;: [2, 5, 10],\n",
       "                         &#x27;n_estimators&#x27;: [25, 30, 50]},\n",
       "             scoring=make_scorer(mean_squared_error))</pre><b>In a Jupyter environment, please rerun this cell to show the HTML representation or trust the notebook. <br />On GitHub, the HTML representation is unable to render, please try loading this page with nbviewer.org.</b></div><div class=\"sk-container\" hidden><div class=\"sk-item sk-dashed-wrapped\"><div class=\"sk-label-container\"><div class=\"sk-label sk-toggleable\"><input class=\"sk-toggleable__control sk-hidden--visually\" id=\"sk-estimator-id-5\" type=\"checkbox\" ><label for=\"sk-estimator-id-5\" class=\"sk-toggleable__label sk-toggleable__label-arrow\">GridSearchCV</label><div class=\"sk-toggleable__content\"><pre>GridSearchCV(estimator=RandomForestClassifier(),\n",
       "             param_grid={&#x27;bootstrap&#x27;: [True, False],\n",
       "                         &#x27;max_depth&#x27;: [10, 20, None],\n",
       "                         &#x27;min_samples_split&#x27;: [2, 5, 10],\n",
       "                         &#x27;n_estimators&#x27;: [25, 30, 50]},\n",
       "             scoring=make_scorer(mean_squared_error))</pre></div></div></div><div class=\"sk-parallel\"><div class=\"sk-parallel-item\"><div class=\"sk-item\"><div class=\"sk-label-container\"><div class=\"sk-label sk-toggleable\"><input class=\"sk-toggleable__control sk-hidden--visually\" id=\"sk-estimator-id-6\" type=\"checkbox\" ><label for=\"sk-estimator-id-6\" class=\"sk-toggleable__label sk-toggleable__label-arrow\">estimator: RandomForestClassifier</label><div class=\"sk-toggleable__content\"><pre>RandomForestClassifier()</pre></div></div></div><div class=\"sk-serial\"><div class=\"sk-item\"><div class=\"sk-estimator sk-toggleable\"><input class=\"sk-toggleable__control sk-hidden--visually\" id=\"sk-estimator-id-7\" type=\"checkbox\" ><label for=\"sk-estimator-id-7\" class=\"sk-toggleable__label sk-toggleable__label-arrow\">RandomForestClassifier</label><div class=\"sk-toggleable__content\"><pre>RandomForestClassifier()</pre></div></div></div></div></div></div></div></div></div></div>"
      ],
      "text/plain": [
       "GridSearchCV(estimator=RandomForestClassifier(),\n",
       "             param_grid={'bootstrap': [True, False],\n",
       "                         'max_depth': [10, 20, None],\n",
       "                         'min_samples_split': [2, 5, 10],\n",
       "                         'n_estimators': [25, 30, 50]},\n",
       "             scoring=make_scorer(mean_squared_error))"
      ]
     },
     "execution_count": 26,
     "metadata": {},
     "output_type": "execute_result"
    }
   ],
   "source": [
    "grid_obj"
   ]
  },
  {
   "cell_type": "code",
   "execution_count": 27,
   "id": "2a8603f5-9fe9-4da0-bde0-f2e3dbaf77fc",
   "metadata": {
    "execution": {
     "iopub.execute_input": "2022-12-20T12:55:19.740542Z",
     "iopub.status.busy": "2022-12-20T12:55:19.739872Z",
     "iopub.status.idle": "2022-12-20T13:01:43.013078Z",
     "shell.execute_reply": "2022-12-20T13:01:43.010474Z",
     "shell.execute_reply.started": "2022-12-20T12:55:19.740511Z"
    },
    "tags": []
   },
   "outputs": [],
   "source": [
    "grid_fit = grid_obj.fit(X_train, y_train)"
   ]
  },
  {
   "cell_type": "code",
   "execution_count": 28,
   "id": "9b3edd14-0dbf-4662-83e5-aaef2664e030",
   "metadata": {
    "execution": {
     "iopub.execute_input": "2022-12-20T13:01:43.016209Z",
     "iopub.status.busy": "2022-12-20T13:01:43.015925Z",
     "iopub.status.idle": "2022-12-20T13:01:44.794389Z",
     "shell.execute_reply": "2022-12-20T13:01:44.793591Z",
     "shell.execute_reply.started": "2022-12-20T13:01:43.016185Z"
    },
    "tags": []
   },
   "outputs": [
    {
     "data": {
      "text/html": [
       "<style>#sk-container-id-4 {color: black;background-color: white;}#sk-container-id-4 pre{padding: 0;}#sk-container-id-4 div.sk-toggleable {background-color: white;}#sk-container-id-4 label.sk-toggleable__label {cursor: pointer;display: block;width: 100%;margin-bottom: 0;padding: 0.3em;box-sizing: border-box;text-align: center;}#sk-container-id-4 label.sk-toggleable__label-arrow:before {content: \"▸\";float: left;margin-right: 0.25em;color: #696969;}#sk-container-id-4 label.sk-toggleable__label-arrow:hover:before {color: black;}#sk-container-id-4 div.sk-estimator:hover label.sk-toggleable__label-arrow:before {color: black;}#sk-container-id-4 div.sk-toggleable__content {max-height: 0;max-width: 0;overflow: hidden;text-align: left;background-color: #f0f8ff;}#sk-container-id-4 div.sk-toggleable__content pre {margin: 0.2em;color: black;border-radius: 0.25em;background-color: #f0f8ff;}#sk-container-id-4 input.sk-toggleable__control:checked~div.sk-toggleable__content {max-height: 200px;max-width: 100%;overflow: auto;}#sk-container-id-4 input.sk-toggleable__control:checked~label.sk-toggleable__label-arrow:before {content: \"▾\";}#sk-container-id-4 div.sk-estimator input.sk-toggleable__control:checked~label.sk-toggleable__label {background-color: #d4ebff;}#sk-container-id-4 div.sk-label input.sk-toggleable__control:checked~label.sk-toggleable__label {background-color: #d4ebff;}#sk-container-id-4 input.sk-hidden--visually {border: 0;clip: rect(1px 1px 1px 1px);clip: rect(1px, 1px, 1px, 1px);height: 1px;margin: -1px;overflow: hidden;padding: 0;position: absolute;width: 1px;}#sk-container-id-4 div.sk-estimator {font-family: monospace;background-color: #f0f8ff;border: 1px dotted black;border-radius: 0.25em;box-sizing: border-box;margin-bottom: 0.5em;}#sk-container-id-4 div.sk-estimator:hover {background-color: #d4ebff;}#sk-container-id-4 div.sk-parallel-item::after {content: \"\";width: 100%;border-bottom: 1px solid gray;flex-grow: 1;}#sk-container-id-4 div.sk-label:hover label.sk-toggleable__label {background-color: #d4ebff;}#sk-container-id-4 div.sk-serial::before {content: \"\";position: absolute;border-left: 1px solid gray;box-sizing: border-box;top: 0;bottom: 0;left: 50%;z-index: 0;}#sk-container-id-4 div.sk-serial {display: flex;flex-direction: column;align-items: center;background-color: white;padding-right: 0.2em;padding-left: 0.2em;position: relative;}#sk-container-id-4 div.sk-item {position: relative;z-index: 1;}#sk-container-id-4 div.sk-parallel {display: flex;align-items: stretch;justify-content: center;background-color: white;position: relative;}#sk-container-id-4 div.sk-item::before, #sk-container-id-4 div.sk-parallel-item::before {content: \"\";position: absolute;border-left: 1px solid gray;box-sizing: border-box;top: 0;bottom: 0;left: 50%;z-index: -1;}#sk-container-id-4 div.sk-parallel-item {display: flex;flex-direction: column;z-index: 1;position: relative;background-color: white;}#sk-container-id-4 div.sk-parallel-item:first-child::after {align-self: flex-end;width: 50%;}#sk-container-id-4 div.sk-parallel-item:last-child::after {align-self: flex-start;width: 50%;}#sk-container-id-4 div.sk-parallel-item:only-child::after {width: 0;}#sk-container-id-4 div.sk-dashed-wrapped {border: 1px dashed gray;margin: 0 0.4em 0.5em 0.4em;box-sizing: border-box;padding-bottom: 0.4em;background-color: white;}#sk-container-id-4 div.sk-label label {font-family: monospace;font-weight: bold;display: inline-block;line-height: 1.2em;}#sk-container-id-4 div.sk-label-container {text-align: center;}#sk-container-id-4 div.sk-container {/* jupyter's `normalize.less` sets `[hidden] { display: none; }` but bootstrap.min.css set `[hidden] { display: none !important; }` so we also need the `!important` here to be able to override the default hidden behavior on the sphinx rendered scikit-learn.org. See: https://github.com/scikit-learn/scikit-learn/issues/21755 */display: inline-block !important;position: relative;}#sk-container-id-4 div.sk-text-repr-fallback {display: none;}</style><div id=\"sk-container-id-4\" class=\"sk-top-container\"><div class=\"sk-text-repr-fallback\"><pre>RandomForestClassifier(bootstrap=False, n_estimators=25)</pre><b>In a Jupyter environment, please rerun this cell to show the HTML representation or trust the notebook. <br />On GitHub, the HTML representation is unable to render, please try loading this page with nbviewer.org.</b></div><div class=\"sk-container\" hidden><div class=\"sk-item\"><div class=\"sk-estimator sk-toggleable\"><input class=\"sk-toggleable__control sk-hidden--visually\" id=\"sk-estimator-id-8\" type=\"checkbox\" checked><label for=\"sk-estimator-id-8\" class=\"sk-toggleable__label sk-toggleable__label-arrow\">RandomForestClassifier</label><div class=\"sk-toggleable__content\"><pre>RandomForestClassifier(bootstrap=False, n_estimators=25)</pre></div></div></div></div></div>"
      ],
      "text/plain": [
       "RandomForestClassifier(bootstrap=False, n_estimators=25)"
      ]
     },
     "execution_count": 28,
     "metadata": {},
     "output_type": "execute_result"
    }
   ],
   "source": [
    "# Get the estimator.\n",
    "best_reg = grid_fit.best_estimator_\n",
    "\n",
    "# Fit the new model.\n",
    "best_reg.fit(X_train, y_train)"
   ]
  },
  {
   "cell_type": "code",
   "execution_count": 29,
   "id": "f8156093-afea-4072-b2a6-f79a028d28fa",
   "metadata": {
    "execution": {
     "iopub.execute_input": "2022-12-20T13:01:44.795519Z",
     "iopub.status.busy": "2022-12-20T13:01:44.795319Z",
     "iopub.status.idle": "2022-12-20T13:01:45.420853Z",
     "shell.execute_reply": "2022-12-20T13:01:45.419930Z",
     "shell.execute_reply.started": "2022-12-20T13:01:44.795502Z"
    },
    "tags": []
   },
   "outputs": [
    {
     "name": "stdout",
     "output_type": "stream",
     "text": [
      "train score : 0.7603115085087973\n",
      "test score: 0.5837820019778046\n"
     ]
    }
   ],
   "source": [
    "# Model performance on TRAIN data\n",
    "print('train score :', best_reg.score(X_train, y_train))\n",
    "print('test score:', best_reg.score(X_test, y_test))"
   ]
  },
  {
   "cell_type": "code",
   "execution_count": 30,
   "id": "294228e2-71b1-4868-8268-829c164bf246",
   "metadata": {
    "execution": {
     "iopub.execute_input": "2022-12-20T13:01:45.422011Z",
     "iopub.status.busy": "2022-12-20T13:01:45.421793Z",
     "iopub.status.idle": "2022-12-20T13:01:45.430617Z",
     "shell.execute_reply": "2022-12-20T13:01:45.428475Z",
     "shell.execute_reply.started": "2022-12-20T13:01:45.421993Z"
    }
   },
   "outputs": [
    {
     "ename": "SyntaxError",
     "evalue": "invalid syntax (422415168.py, line 1)",
     "output_type": "error",
     "traceback": [
      "\u001b[0;36m  Cell \u001b[0;32mIn [30], line 1\u001b[0;36m\u001b[0m\n\u001b[0;31m    train score : 0.6252146084854479\u001b[0m\n\u001b[0m          ^\u001b[0m\n\u001b[0;31mSyntaxError\u001b[0m\u001b[0;31m:\u001b[0m invalid syntax\n"
     ]
    }
   ],
   "source": [
    "#train score : 0.6252146084854479\n",
    "#test score: 0.6186682782111855"
   ]
  },
  {
   "cell_type": "code",
   "execution_count": 31,
   "id": "b35d4d57-7950-4df2-b122-0a991f19a62c",
   "metadata": {
    "execution": {
     "iopub.execute_input": "2022-12-20T13:02:41.363852Z",
     "iopub.status.busy": "2022-12-20T13:02:41.362992Z",
     "iopub.status.idle": "2022-12-20T13:02:41.565859Z",
     "shell.execute_reply": "2022-12-20T13:02:41.565056Z",
     "shell.execute_reply.started": "2022-12-20T13:02:41.363798Z"
    },
    "tags": []
   },
   "outputs": [
    {
     "data": {
      "image/png": "[encoded data removed]",
      "text/plain": [
       "<Figure size 1500x700 with 1 Axes>"
      ]
     },
     "metadata": {},
     "output_type": "display_data"
    }
   ],
   "source": [
    "importances = best_reg.feature_importances_\n",
    "indices = np.argsort(importances)[::-1] # Sort feature importances in descending order\n",
    "names = [X_train.columns[i] for i in indices] # Rearrange feature names so they match the sorted feature importances\n",
    "plt.figure(figsize=(15, 7)) # Create plot\n",
    "plt.title(\"Feature Importance Profession\") # Create plot title\n",
    "plt.bar(range(X_train.shape[1]), importances[indices]) # Add bars\n",
    "plt.xticks(range(X_train.shape[1]), names, rotation=90) # Add feature names as x-axis labels\n",
    "plt.show() # Show plot"
   ]
  },
  {
   "cell_type": "markdown",
   "id": "c6846c6c-5e9d-4af2-9da9-b42083498240",
   "metadata": {},
   "source": [
    "# SafeDeliveryApp"
   ]
  },
  {
   "cell_type": "code",
   "execution_count": 32,
   "id": "b287b38d-de36-4b3a-aab1-71746d1f086b",
   "metadata": {
    "execution": {
     "iopub.execute_input": "2022-12-20T13:02:51.978056Z",
     "iopub.status.busy": "2022-12-20T13:02:51.977407Z",
     "iopub.status.idle": "2022-12-20T13:02:51.992930Z",
     "shell.execute_reply": "2022-12-20T13:02:51.991981Z",
     "shell.execute_reply.started": "2022-12-20T13:02:51.977988Z"
    },
    "tags": []
   },
   "outputs": [],
   "source": [
    "# Separating out the x \n",
    "x_app = data.drop(['SafeDeliveryApp'], axis=1)\n",
    "# Separating out the target\n",
    "y_app = data['SafeDeliveryApp']"
   ]
  },
  {
   "cell_type": "code",
   "execution_count": 33,
   "id": "b177751f-b7da-4778-912a-6cbc01c209b5",
   "metadata": {
    "execution": {
     "iopub.execute_input": "2022-12-20T13:02:52.968473Z",
     "iopub.status.busy": "2022-12-20T13:02:52.967838Z",
     "iopub.status.idle": "2022-12-20T13:02:52.976812Z",
     "shell.execute_reply": "2022-12-20T13:02:52.975324Z",
     "shell.execute_reply.started": "2022-12-20T13:02:52.968420Z"
    },
    "tags": []
   },
   "outputs": [
    {
     "name": "stdout",
     "output_type": "stream",
     "text": [
      "Size of x_exp dataset is: (91009, 11)\n"
     ]
    }
   ],
   "source": [
    "print('Size of x_exp dataset is: {}'.format(x_app.shape))"
   ]
  },
  {
   "cell_type": "code",
   "execution_count": 34,
   "id": "477ff7e2-7311-4f8d-8658-3509c4b841df",
   "metadata": {
    "execution": {
     "iopub.execute_input": "2022-12-20T13:02:53.405441Z",
     "iopub.status.busy": "2022-12-20T13:02:53.404842Z",
     "iopub.status.idle": "2022-12-20T13:02:53.453970Z",
     "shell.execute_reply": "2022-12-20T13:02:53.453150Z",
     "shell.execute_reply.started": "2022-12-20T13:02:53.405390Z"
    },
    "tags": []
   },
   "outputs": [
    {
     "name": "stdout",
     "output_type": "stream",
     "text": [
      "Shape of X_train dataset:  (72807, 11)\n",
      "Shape of y_train dataset:  (72807,)\n",
      "Shape of X_test dataset:  (18202, 11)\n",
      "Shape of y_test dataset:  (18202,)\n"
     ]
    }
   ],
   "source": [
    "X_train, X_test, y_train, y_test = train_test_split(x_app,\n",
    "                                                    y_app,\n",
    "                                                    test_size=0.2,\n",
    "                                                    random_state=7,\n",
    "                                                    stratify=y_app)  \n",
    "print(\"Shape of X_train dataset: \", X_train.shape)\n",
    "print(\"Shape of y_train dataset: \", y_train.shape)\n",
    "print(\"Shape of X_test dataset: \", X_test.shape)\n",
    "print(\"Shape of y_test dataset: \", y_test.shape)"
   ]
  },
  {
   "cell_type": "code",
   "execution_count": 35,
   "id": "7f201817-6165-468b-8d18-7a2caff7320a",
   "metadata": {
    "execution": {
     "iopub.execute_input": "2022-12-20T13:02:53.704566Z",
     "iopub.status.busy": "2022-12-20T13:02:53.704130Z",
     "iopub.status.idle": "2022-12-20T13:02:53.711688Z",
     "shell.execute_reply": "2022-12-20T13:02:53.710466Z",
     "shell.execute_reply.started": "2022-12-20T13:02:53.704528Z"
    },
    "tags": []
   },
   "outputs": [],
   "source": [
    "def feature_imp(x_app, model):\n",
    "    fi = pd.DataFrame()\n",
    "    fi[\"feature\"] = x_app.columns\n",
    "    fi[\"importance\"] = model.feature_importances_\n",
    "    return fi.sort_values(by=\"importance\", ascending=False)"
   ]
  },
  {
   "cell_type": "code",
   "execution_count": 36,
   "id": "6d2fe4fb-607e-48c6-8f76-578429806a6a",
   "metadata": {
    "execution": {
     "iopub.execute_input": "2022-12-20T13:02:54.145218Z",
     "iopub.status.busy": "2022-12-20T13:02:54.144616Z",
     "iopub.status.idle": "2022-12-20T13:03:00.312504Z",
     "shell.execute_reply": "2022-12-20T13:03:00.311710Z",
     "shell.execute_reply.started": "2022-12-20T13:02:54.145167Z"
    },
    "tags": []
   },
   "outputs": [
    {
     "data": {
      "text/plain": [
       "0.27518953961103176"
      ]
     },
     "execution_count": 36,
     "metadata": {},
     "output_type": "execute_result"
    }
   ],
   "source": [
    "#fit the train set \n",
    "rf.fit(X_train, y_train)\n",
    "rf.score(X_test,y_test)"
   ]
  },
  {
   "cell_type": "code",
   "execution_count": 37,
   "id": "a1331f4e-ee92-4206-a8f6-86b619481d7a",
   "metadata": {
    "execution": {
     "iopub.execute_input": "2022-12-20T13:03:00.332101Z",
     "iopub.status.busy": "2022-12-20T13:03:00.331921Z",
     "iopub.status.idle": "2022-12-20T13:03:00.336444Z",
     "shell.execute_reply": "2022-12-20T13:03:00.335743Z",
     "shell.execute_reply.started": "2022-12-20T13:03:00.332085Z"
    },
    "tags": []
   },
   "outputs": [],
   "source": [
    "# providing parameters to check\n",
    "parameters_rf = {'bootstrap': [True, False],\n",
    " 'max_depth': [10, 20, None],\n",
    " 'min_samples_split': [2, 5, 10],\n",
    " 'n_estimators': [ 10, 20, 25, 50]}"
   ]
  },
  {
   "cell_type": "code",
   "execution_count": 38,
   "id": "531a86ce-9c0a-48ee-b840-cd9942e56469",
   "metadata": {
    "execution": {
     "iopub.execute_input": "2022-12-20T13:03:00.338404Z",
     "iopub.status.busy": "2022-12-20T13:03:00.338225Z",
     "iopub.status.idle": "2022-12-20T13:03:00.353303Z",
     "shell.execute_reply": "2022-12-20T13:03:00.351767Z",
     "shell.execute_reply.started": "2022-12-20T13:03:00.338389Z"
    },
    "tags": []
   },
   "outputs": [],
   "source": [
    "# Perform grid search on the classifier using 'scorer' as the scoring method.\n",
    "grid_obj = GridSearchCV(rf, parameters_rf, scoring=scorer)"
   ]
  },
  {
   "cell_type": "code",
   "execution_count": 39,
   "id": "5e900f90-5f65-4c6e-aab2-045a6fdc2696",
   "metadata": {
    "execution": {
     "iopub.execute_input": "2022-12-20T13:03:00.356096Z",
     "iopub.status.busy": "2022-12-20T13:03:00.355143Z",
     "iopub.status.idle": "2022-12-20T13:03:00.378683Z",
     "shell.execute_reply": "2022-12-20T13:03:00.377207Z",
     "shell.execute_reply.started": "2022-12-20T13:03:00.356043Z"
    },
    "tags": []
   },
   "outputs": [
    {
     "data": {
      "text/html": [
       "<style>#sk-container-id-5 {color: black;background-color: white;}#sk-container-id-5 pre{padding: 0;}#sk-container-id-5 div.sk-toggleable {background-color: white;}#sk-container-id-5 label.sk-toggleable__label {cursor: pointer;display: block;width: 100%;margin-bottom: 0;padding: 0.3em;box-sizing: border-box;text-align: center;}#sk-container-id-5 label.sk-toggleable__label-arrow:before {content: \"▸\";float: left;margin-right: 0.25em;color: #696969;}#sk-container-id-5 label.sk-toggleable__label-arrow:hover:before {color: black;}#sk-container-id-5 div.sk-estimator:hover label.sk-toggleable__label-arrow:before {color: black;}#sk-container-id-5 div.sk-toggleable__content {max-height: 0;max-width: 0;overflow: hidden;text-align: left;background-color: #f0f8ff;}#sk-container-id-5 div.sk-toggleable__content pre {margin: 0.2em;color: black;border-radius: 0.25em;background-color: #f0f8ff;}#sk-container-id-5 input.sk-toggleable__control:checked~div.sk-toggleable__content {max-height: 200px;max-width: 100%;overflow: auto;}#sk-container-id-5 input.sk-toggleable__control:checked~label.sk-toggleable__label-arrow:before {content: \"▾\";}#sk-container-id-5 div.sk-estimator input.sk-toggleable__control:checked~label.sk-toggleable__label {background-color: #d4ebff;}#sk-container-id-5 div.sk-label input.sk-toggleable__control:checked~label.sk-toggleable__label {background-color: #d4ebff;}#sk-container-id-5 input.sk-hidden--visually {border: 0;clip: rect(1px 1px 1px 1px);clip: rect(1px, 1px, 1px, 1px);height: 1px;margin: -1px;overflow: hidden;padding: 0;position: absolute;width: 1px;}#sk-container-id-5 div.sk-estimator {font-family: monospace;background-color: #f0f8ff;border: 1px dotted black;border-radius: 0.25em;box-sizing: border-box;margin-bottom: 0.5em;}#sk-container-id-5 div.sk-estimator:hover {background-color: #d4ebff;}#sk-container-id-5 div.sk-parallel-item::after {content: \"\";width: 100%;border-bottom: 1px solid gray;flex-grow: 1;}#sk-container-id-5 div.sk-label:hover label.sk-toggleable__label {background-color: #d4ebff;}#sk-container-id-5 div.sk-serial::before {content: \"\";position: absolute;border-left: 1px solid gray;box-sizing: border-box;top: 0;bottom: 0;left: 50%;z-index: 0;}#sk-container-id-5 div.sk-serial {display: flex;flex-direction: column;align-items: center;background-color: white;padding-right: 0.2em;padding-left: 0.2em;position: relative;}#sk-container-id-5 div.sk-item {position: relative;z-index: 1;}#sk-container-id-5 div.sk-parallel {display: flex;align-items: stretch;justify-content: center;background-color: white;position: relative;}#sk-container-id-5 div.sk-item::before, #sk-container-id-5 div.sk-parallel-item::before {content: \"\";position: absolute;border-left: 1px solid gray;box-sizing: border-box;top: 0;bottom: 0;left: 50%;z-index: -1;}#sk-container-id-5 div.sk-parallel-item {display: flex;flex-direction: column;z-index: 1;position: relative;background-color: white;}#sk-container-id-5 div.sk-parallel-item:first-child::after {align-self: flex-end;width: 50%;}#sk-container-id-5 div.sk-parallel-item:last-child::after {align-self: flex-start;width: 50%;}#sk-container-id-5 div.sk-parallel-item:only-child::after {width: 0;}#sk-container-id-5 div.sk-dashed-wrapped {border: 1px dashed gray;margin: 0 0.4em 0.5em 0.4em;box-sizing: border-box;padding-bottom: 0.4em;background-color: white;}#sk-container-id-5 div.sk-label label {font-family: monospace;font-weight: bold;display: inline-block;line-height: 1.2em;}#sk-container-id-5 div.sk-label-container {text-align: center;}#sk-container-id-5 div.sk-container {/* jupyter's `normalize.less` sets `[hidden] { display: none; }` but bootstrap.min.css set `[hidden] { display: none !important; }` so we also need the `!important` here to be able to override the default hidden behavior on the sphinx rendered scikit-learn.org. See: https://github.com/scikit-learn/scikit-learn/issues/21755 */display: inline-block !important;position: relative;}#sk-container-id-5 div.sk-text-repr-fallback {display: none;}</style><div id=\"sk-container-id-5\" class=\"sk-top-container\"><div class=\"sk-text-repr-fallback\"><pre>GridSearchCV(estimator=RandomForestClassifier(),\n",
       "             param_grid={&#x27;bootstrap&#x27;: [True, False],\n",
       "                         &#x27;max_depth&#x27;: [10, 20, None],\n",
       "                         &#x27;min_samples_split&#x27;: [2, 5, 10],\n",
       "                         &#x27;n_estimators&#x27;: [10, 20, 25, 50]},\n",
       "             scoring=make_scorer(mean_squared_error))</pre><b>In a Jupyter environment, please rerun this cell to show the HTML representation or trust the notebook. <br />On GitHub, the HTML representation is unable to render, please try loading this page with nbviewer.org.</b></div><div class=\"sk-container\" hidden><div class=\"sk-item sk-dashed-wrapped\"><div class=\"sk-label-container\"><div class=\"sk-label sk-toggleable\"><input class=\"sk-toggleable__control sk-hidden--visually\" id=\"sk-estimator-id-9\" type=\"checkbox\" ><label for=\"sk-estimator-id-9\" class=\"sk-toggleable__label sk-toggleable__label-arrow\">GridSearchCV</label><div class=\"sk-toggleable__content\"><pre>GridSearchCV(estimator=RandomForestClassifier(),\n",
       "             param_grid={&#x27;bootstrap&#x27;: [True, False],\n",
       "                         &#x27;max_depth&#x27;: [10, 20, None],\n",
       "                         &#x27;min_samples_split&#x27;: [2, 5, 10],\n",
       "                         &#x27;n_estimators&#x27;: [10, 20, 25, 50]},\n",
       "             scoring=make_scorer(mean_squared_error))</pre></div></div></div><div class=\"sk-parallel\"><div class=\"sk-parallel-item\"><div class=\"sk-item\"><div class=\"sk-label-container\"><div class=\"sk-label sk-toggleable\"><input class=\"sk-toggleable__control sk-hidden--visually\" id=\"sk-estimator-id-10\" type=\"checkbox\" ><label for=\"sk-estimator-id-10\" class=\"sk-toggleable__label sk-toggleable__label-arrow\">estimator: RandomForestClassifier</label><div class=\"sk-toggleable__content\"><pre>RandomForestClassifier()</pre></div></div></div><div class=\"sk-serial\"><div class=\"sk-item\"><div class=\"sk-estimator sk-toggleable\"><input class=\"sk-toggleable__control sk-hidden--visually\" id=\"sk-estimator-id-11\" type=\"checkbox\" ><label for=\"sk-estimator-id-11\" class=\"sk-toggleable__label sk-toggleable__label-arrow\">RandomForestClassifier</label><div class=\"sk-toggleable__content\"><pre>RandomForestClassifier()</pre></div></div></div></div></div></div></div></div></div></div>"
      ],
      "text/plain": [
       "GridSearchCV(estimator=RandomForestClassifier(),\n",
       "             param_grid={'bootstrap': [True, False],\n",
       "                         'max_depth': [10, 20, None],\n",
       "                         'min_samples_split': [2, 5, 10],\n",
       "                         'n_estimators': [10, 20, 25, 50]},\n",
       "             scoring=make_scorer(mean_squared_error))"
      ]
     },
     "execution_count": 39,
     "metadata": {},
     "output_type": "execute_result"
    }
   ],
   "source": [
    "grid_obj"
   ]
  },
  {
   "cell_type": "code",
   "execution_count": 40,
   "id": "a4269963-d7a7-4907-aaf1-eff766c8dae9",
   "metadata": {
    "execution": {
     "iopub.execute_input": "2022-12-20T13:03:00.380585Z",
     "iopub.status.busy": "2022-12-20T13:03:00.380149Z",
     "iopub.status.idle": "2022-12-20T13:09:30.076543Z",
     "shell.execute_reply": "2022-12-20T13:09:30.074573Z",
     "shell.execute_reply.started": "2022-12-20T13:03:00.380559Z"
    },
    "tags": []
   },
   "outputs": [],
   "source": [
    "grid_fit = grid_obj.fit(X_train, y_train)"
   ]
  },
  {
   "cell_type": "code",
   "execution_count": 41,
   "id": "81ca8664-468f-4f5d-af9a-7ff356d63ac4",
   "metadata": {
    "execution": {
     "iopub.execute_input": "2022-12-20T13:09:30.078660Z",
     "iopub.status.busy": "2022-12-20T13:09:30.078424Z",
     "iopub.status.idle": "2022-12-20T13:09:30.837832Z",
     "shell.execute_reply": "2022-12-20T13:09:30.836168Z",
     "shell.execute_reply.started": "2022-12-20T13:09:30.078641Z"
    },
    "tags": []
   },
   "outputs": [
    {
     "data": {
      "text/html": [
       "<style>#sk-container-id-6 {color: black;background-color: white;}#sk-container-id-6 pre{padding: 0;}#sk-container-id-6 div.sk-toggleable {background-color: white;}#sk-container-id-6 label.sk-toggleable__label {cursor: pointer;display: block;width: 100%;margin-bottom: 0;padding: 0.3em;box-sizing: border-box;text-align: center;}#sk-container-id-6 label.sk-toggleable__label-arrow:before {content: \"▸\";float: left;margin-right: 0.25em;color: #696969;}#sk-container-id-6 label.sk-toggleable__label-arrow:hover:before {color: black;}#sk-container-id-6 div.sk-estimator:hover label.sk-toggleable__label-arrow:before {color: black;}#sk-container-id-6 div.sk-toggleable__content {max-height: 0;max-width: 0;overflow: hidden;text-align: left;background-color: #f0f8ff;}#sk-container-id-6 div.sk-toggleable__content pre {margin: 0.2em;color: black;border-radius: 0.25em;background-color: #f0f8ff;}#sk-container-id-6 input.sk-toggleable__control:checked~div.sk-toggleable__content {max-height: 200px;max-width: 100%;overflow: auto;}#sk-container-id-6 input.sk-toggleable__control:checked~label.sk-toggleable__label-arrow:before {content: \"▾\";}#sk-container-id-6 div.sk-estimator input.sk-toggleable__control:checked~label.sk-toggleable__label {background-color: #d4ebff;}#sk-container-id-6 div.sk-label input.sk-toggleable__control:checked~label.sk-toggleable__label {background-color: #d4ebff;}#sk-container-id-6 input.sk-hidden--visually {border: 0;clip: rect(1px 1px 1px 1px);clip: rect(1px, 1px, 1px, 1px);height: 1px;margin: -1px;overflow: hidden;padding: 0;position: absolute;width: 1px;}#sk-container-id-6 div.sk-estimator {font-family: monospace;background-color: #f0f8ff;border: 1px dotted black;border-radius: 0.25em;box-sizing: border-box;margin-bottom: 0.5em;}#sk-container-id-6 div.sk-estimator:hover {background-color: #d4ebff;}#sk-container-id-6 div.sk-parallel-item::after {content: \"\";width: 100%;border-bottom: 1px solid gray;flex-grow: 1;}#sk-container-id-6 div.sk-label:hover label.sk-toggleable__label {background-color: #d4ebff;}#sk-container-id-6 div.sk-serial::before {content: \"\";position: absolute;border-left: 1px solid gray;box-sizing: border-box;top: 0;bottom: 0;left: 50%;z-index: 0;}#sk-container-id-6 div.sk-serial {display: flex;flex-direction: column;align-items: center;background-color: white;padding-right: 0.2em;padding-left: 0.2em;position: relative;}#sk-container-id-6 div.sk-item {position: relative;z-index: 1;}#sk-container-id-6 div.sk-parallel {display: flex;align-items: stretch;justify-content: center;background-color: white;position: relative;}#sk-container-id-6 div.sk-item::before, #sk-container-id-6 div.sk-parallel-item::before {content: \"\";position: absolute;border-left: 1px solid gray;box-sizing: border-box;top: 0;bottom: 0;left: 50%;z-index: -1;}#sk-container-id-6 div.sk-parallel-item {display: flex;flex-direction: column;z-index: 1;position: relative;background-color: white;}#sk-container-id-6 div.sk-parallel-item:first-child::after {align-self: flex-end;width: 50%;}#sk-container-id-6 div.sk-parallel-item:last-child::after {align-self: flex-start;width: 50%;}#sk-container-id-6 div.sk-parallel-item:only-child::after {width: 0;}#sk-container-id-6 div.sk-dashed-wrapped {border: 1px dashed gray;margin: 0 0.4em 0.5em 0.4em;box-sizing: border-box;padding-bottom: 0.4em;background-color: white;}#sk-container-id-6 div.sk-label label {font-family: monospace;font-weight: bold;display: inline-block;line-height: 1.2em;}#sk-container-id-6 div.sk-label-container {text-align: center;}#sk-container-id-6 div.sk-container {/* jupyter's `normalize.less` sets `[hidden] { display: none; }` but bootstrap.min.css set `[hidden] { display: none !important; }` so we also need the `!important` here to be able to override the default hidden behavior on the sphinx rendered scikit-learn.org. See: https://github.com/scikit-learn/scikit-learn/issues/21755 */display: inline-block !important;position: relative;}#sk-container-id-6 div.sk-text-repr-fallback {display: none;}</style><div id=\"sk-container-id-6\" class=\"sk-top-container\"><div class=\"sk-text-repr-fallback\"><pre>RandomForestClassifier(bootstrap=False, n_estimators=10)</pre><b>In a Jupyter environment, please rerun this cell to show the HTML representation or trust the notebook. <br />On GitHub, the HTML representation is unable to render, please try loading this page with nbviewer.org.</b></div><div class=\"sk-container\" hidden><div class=\"sk-item\"><div class=\"sk-estimator sk-toggleable\"><input class=\"sk-toggleable__control sk-hidden--visually\" id=\"sk-estimator-id-12\" type=\"checkbox\" checked><label for=\"sk-estimator-id-12\" class=\"sk-toggleable__label sk-toggleable__label-arrow\">RandomForestClassifier</label><div class=\"sk-toggleable__content\"><pre>RandomForestClassifier(bootstrap=False, n_estimators=10)</pre></div></div></div></div></div>"
      ],
      "text/plain": [
       "RandomForestClassifier(bootstrap=False, n_estimators=10)"
      ]
     },
     "execution_count": 41,
     "metadata": {},
     "output_type": "execute_result"
    }
   ],
   "source": [
    "# Get the estimator.\n",
    "best_reg = grid_fit.best_estimator_\n",
    "\n",
    "# Fit the new model.\n",
    "best_reg.fit(X_train, y_train)"
   ]
  },
  {
   "cell_type": "code",
   "execution_count": 42,
   "id": "076fce36-5bf2-4eb2-9476-ea74f76a7868",
   "metadata": {
    "execution": {
     "iopub.execute_input": "2022-12-20T13:09:30.839462Z",
     "iopub.status.busy": "2022-12-20T13:09:30.839183Z",
     "iopub.status.idle": "2022-12-20T13:09:31.107739Z",
     "shell.execute_reply": "2022-12-20T13:09:31.106311Z",
     "shell.execute_reply.started": "2022-12-20T13:09:30.839437Z"
    },
    "tags": []
   },
   "outputs": [
    {
     "name": "stdout",
     "output_type": "stream",
     "text": [
      "train score : 0.5780076091584601\n",
      "test score: 0.2622788704537963\n"
     ]
    }
   ],
   "source": [
    "# Model performance on TRAIN data\n",
    "print('train score :', best_reg.score(X_train, y_train))\n",
    "print('test score:', best_reg.score(X_test, y_test))"
   ]
  },
  {
   "cell_type": "markdown",
   "id": "3867c81c-3425-488c-ac65-021a03550336",
   "metadata": {
    "execution": {
     "iopub.status.busy": "2022-12-20T13:01:45.444933Z",
     "iopub.status.idle": "2022-12-20T13:01:45.445159Z",
     "shell.execute_reply": "2022-12-20T13:01:45.445058Z",
     "shell.execute_reply.started": "2022-12-20T13:01:45.445047Z"
    }
   },
   "source": [
    "5\n",
    "train score : 0.5780076091584601\n",
    "test score: 0.25738929787935394\n",
    "1 \n",
    "train score : 0.38820443089263396\n",
    "test score: 0.2520602131633886"
   ]
  },
  {
   "cell_type": "code",
   "execution_count": 43,
   "id": "21d1b129-f96a-4801-8b6b-97685fbab641",
   "metadata": {
    "execution": {
     "iopub.execute_input": "2022-12-20T13:09:31.185937Z",
     "iopub.status.busy": "2022-12-20T13:09:31.185757Z",
     "iopub.status.idle": "2022-12-20T13:09:31.382373Z",
     "shell.execute_reply": "2022-12-20T13:09:31.380919Z",
     "shell.execute_reply.started": "2022-12-20T13:09:31.185920Z"
    },
    "tags": []
   },
   "outputs": [
    {
     "data": {
      "image/png": "[encoded data removed]",
      "text/plain": [
       "<Figure size 1500x700 with 1 Axes>"
      ]
     },
     "metadata": {},
     "output_type": "display_data"
    }
   ],
   "source": [
    "importances = best_reg.feature_importances_\n",
    "indices = np.argsort(importances)[::-1] # Sort feature importances in descending order\n",
    "names = [X_train.columns[i] for i in indices] # Rearrange feature names so they match the sorted feature importances\n",
    "plt.figure(figsize=(15, 7)) # Create plot\n",
    "plt.title(\"Feature Importance SafeDelivery App\") # Create plot title\n",
    "plt.bar(range(X_train.shape[1]), importances[indices]) # Add bars\n",
    "plt.xticks(range(X_train.shape[1]), names, rotation=90) # Add feature names as x-axis labels\n",
    "plt.show() # Show plot"
   ]
  },
  {
   "cell_type": "markdown",
   "id": "fe9bd233-dbdb-47ce-bee3-f8c79f775214",
   "metadata": {},
   "source": [
    "# Workplace"
   ]
  },
  {
   "cell_type": "code",
   "execution_count": 44,
   "id": "486decba-4f61-451f-b3f3-5a3a75a51f6a",
   "metadata": {
    "execution": {
     "iopub.execute_input": "2022-12-20T13:09:31.384197Z",
     "iopub.status.busy": "2022-12-20T13:09:31.383731Z",
     "iopub.status.idle": "2022-12-20T13:09:31.395916Z",
     "shell.execute_reply": "2022-12-20T13:09:31.394391Z",
     "shell.execute_reply.started": "2022-12-20T13:09:31.384154Z"
    },
    "tags": []
   },
   "outputs": [],
   "source": [
    "# Separating out the x \n",
    "x_work = data.drop(['WorkPlace'], axis=1)\n",
    "# Separating out the target\n",
    "y_work = data['WorkPlace']"
   ]
  },
  {
   "cell_type": "code",
   "execution_count": 45,
   "id": "f4da72f5-3f4a-473b-9b82-d07c6dfcd946",
   "metadata": {
    "execution": {
     "iopub.execute_input": "2022-12-20T13:09:31.397551Z",
     "iopub.status.busy": "2022-12-20T13:09:31.397279Z",
     "iopub.status.idle": "2022-12-20T13:09:31.519838Z",
     "shell.execute_reply": "2022-12-20T13:09:31.517990Z",
     "shell.execute_reply.started": "2022-12-20T13:09:31.397526Z"
    },
    "tags": []
   },
   "outputs": [
    {
     "name": "stdout",
     "output_type": "stream",
     "text": [
      "Size of x_exp dataset is: (91009, 11)\n"
     ]
    }
   ],
   "source": [
    "print('Size of x_exp dataset is: {}'.format(x_work.shape))"
   ]
  },
  {
   "cell_type": "code",
   "execution_count": 46,
   "id": "4f320c0f-0133-4af1-bc54-2aa33547924d",
   "metadata": {
    "execution": {
     "iopub.execute_input": "2022-12-20T13:09:31.523303Z",
     "iopub.status.busy": "2022-12-20T13:09:31.521887Z",
     "iopub.status.idle": "2022-12-20T13:09:31.784593Z",
     "shell.execute_reply": "2022-12-20T13:09:31.782764Z",
     "shell.execute_reply.started": "2022-12-20T13:09:31.523252Z"
    },
    "tags": []
   },
   "outputs": [
    {
     "name": "stdout",
     "output_type": "stream",
     "text": [
      "Shape of X_train dataset:  (72807, 11)\n",
      "Shape of y_train dataset:  (72807,)\n",
      "Shape of X_test dataset:  (18202, 11)\n",
      "Shape of y_test dataset:  (18202,)\n"
     ]
    }
   ],
   "source": [
    "X_train, X_test, y_train, y_test = train_test_split(x_work,\n",
    "                                                    y_work,\n",
    "                                                    test_size=0.2,\n",
    "                                                    random_state=7,\n",
    "                                                    stratify=y_work)  \n",
    "print(\"Shape of X_train dataset: \", X_train.shape)\n",
    "print(\"Shape of y_train dataset: \", y_train.shape)\n",
    "print(\"Shape of X_test dataset: \", X_test.shape)\n",
    "print(\"Shape of y_test dataset: \", y_test.shape)"
   ]
  },
  {
   "cell_type": "code",
   "execution_count": 47,
   "id": "542afa3e-23fd-454f-9b80-a0371844dff7",
   "metadata": {
    "execution": {
     "iopub.execute_input": "2022-12-20T13:09:31.786865Z",
     "iopub.status.busy": "2022-12-20T13:09:31.786343Z",
     "iopub.status.idle": "2022-12-20T13:09:31.935801Z",
     "shell.execute_reply": "2022-12-20T13:09:31.933919Z",
     "shell.execute_reply.started": "2022-12-20T13:09:31.786834Z"
    },
    "tags": []
   },
   "outputs": [],
   "source": [
    "def feature_imp(x_work, model):\n",
    "    fi = pd.DataFrame()\n",
    "    fi[\"feature\"] = x_work.columns\n",
    "    fi[\"importance\"] = model.feature_importances_\n",
    "    return fi.sort_values(by=\"importance\", ascending=False)"
   ]
  },
  {
   "cell_type": "code",
   "execution_count": 48,
   "id": "f1ed78d5-3d77-4094-b1c5-d2412d98cd0d",
   "metadata": {
    "execution": {
     "iopub.execute_input": "2022-12-20T13:09:31.938537Z",
     "iopub.status.busy": "2022-12-20T13:09:31.937940Z",
     "iopub.status.idle": "2022-12-20T13:09:37.558852Z",
     "shell.execute_reply": "2022-12-20T13:09:37.557352Z",
     "shell.execute_reply.started": "2022-12-20T13:09:31.938485Z"
    },
    "tags": []
   },
   "outputs": [
    {
     "data": {
      "text/plain": [
       "0.5003845731238326"
      ]
     },
     "execution_count": 48,
     "metadata": {},
     "output_type": "execute_result"
    }
   ],
   "source": [
    "#fit the train set \n",
    "rf.fit(X_train, y_train)\n",
    "rf.score(X_test,y_test)"
   ]
  },
  {
   "cell_type": "code",
   "execution_count": 49,
   "id": "45821aa8-1e1a-4a09-93c2-fde02c12812d",
   "metadata": {
    "execution": {
     "iopub.execute_input": "2022-12-20T13:09:37.560383Z",
     "iopub.status.busy": "2022-12-20T13:09:37.560098Z",
     "iopub.status.idle": "2022-12-20T13:09:37.566458Z",
     "shell.execute_reply": "2022-12-20T13:09:37.565082Z",
     "shell.execute_reply.started": "2022-12-20T13:09:37.560358Z"
    },
    "tags": []
   },
   "outputs": [],
   "source": [
    "# providing parameters to check\n",
    "parameters_rf = {'bootstrap': [True, False],\n",
    " 'max_depth': [10, 20, None],\n",
    " 'min_samples_split': [2, 5, 10],\n",
    " 'n_estimators': [25, 30, 50]}"
   ]
  },
  {
   "cell_type": "code",
   "execution_count": 50,
   "id": "185a76e5-23b2-44a2-838a-05d4bae9d9c5",
   "metadata": {
    "execution": {
     "iopub.execute_input": "2022-12-20T13:09:37.568856Z",
     "iopub.status.busy": "2022-12-20T13:09:37.568009Z",
     "iopub.status.idle": "2022-12-20T13:09:37.606693Z",
     "shell.execute_reply": "2022-12-20T13:09:37.604945Z",
     "shell.execute_reply.started": "2022-12-20T13:09:37.568817Z"
    },
    "tags": []
   },
   "outputs": [],
   "source": [
    "# Perform grid search on the classifier using 'scorer' as the scoring method.\n",
    "grid_obj = GridSearchCV(rf, parameters_rf, scoring=scorer)"
   ]
  },
  {
   "cell_type": "code",
   "execution_count": 51,
   "id": "bbe48fc3-91f3-4ace-98e3-0262f196cae5",
   "metadata": {
    "execution": {
     "iopub.execute_input": "2022-12-20T13:09:37.609336Z",
     "iopub.status.busy": "2022-12-20T13:09:37.608634Z",
     "iopub.status.idle": "2022-12-20T13:09:37.897829Z",
     "shell.execute_reply": "2022-12-20T13:09:37.896006Z",
     "shell.execute_reply.started": "2022-12-20T13:09:37.609285Z"
    },
    "tags": []
   },
   "outputs": [
    {
     "data": {
      "text/html": [
       "<style>#sk-container-id-7 {color: black;background-color: white;}#sk-container-id-7 pre{padding: 0;}#sk-container-id-7 div.sk-toggleable {background-color: white;}#sk-container-id-7 label.sk-toggleable__label {cursor: pointer;display: block;width: 100%;margin-bottom: 0;padding: 0.3em;box-sizing: border-box;text-align: center;}#sk-container-id-7 label.sk-toggleable__label-arrow:before {content: \"▸\";float: left;margin-right: 0.25em;color: #696969;}#sk-container-id-7 label.sk-toggleable__label-arrow:hover:before {color: black;}#sk-container-id-7 div.sk-estimator:hover label.sk-toggleable__label-arrow:before {color: black;}#sk-container-id-7 div.sk-toggleable__content {max-height: 0;max-width: 0;overflow: hidden;text-align: left;background-color: #f0f8ff;}#sk-container-id-7 div.sk-toggleable__content pre {margin: 0.2em;color: black;border-radius: 0.25em;background-color: #f0f8ff;}#sk-container-id-7 input.sk-toggleable__control:checked~div.sk-toggleable__content {max-height: 200px;max-width: 100%;overflow: auto;}#sk-container-id-7 input.sk-toggleable__control:checked~label.sk-toggleable__label-arrow:before {content: \"▾\";}#sk-container-id-7 div.sk-estimator input.sk-toggleable__control:checked~label.sk-toggleable__label {background-color: #d4ebff;}#sk-container-id-7 div.sk-label input.sk-toggleable__control:checked~label.sk-toggleable__label {background-color: #d4ebff;}#sk-container-id-7 input.sk-hidden--visually {border: 0;clip: rect(1px 1px 1px 1px);clip: rect(1px, 1px, 1px, 1px);height: 1px;margin: -1px;overflow: hidden;padding: 0;position: absolute;width: 1px;}#sk-container-id-7 div.sk-estimator {font-family: monospace;background-color: #f0f8ff;border: 1px dotted black;border-radius: 0.25em;box-sizing: border-box;margin-bottom: 0.5em;}#sk-container-id-7 div.sk-estimator:hover {background-color: #d4ebff;}#sk-container-id-7 div.sk-parallel-item::after {content: \"\";width: 100%;border-bottom: 1px solid gray;flex-grow: 1;}#sk-container-id-7 div.sk-label:hover label.sk-toggleable__label {background-color: #d4ebff;}#sk-container-id-7 div.sk-serial::before {content: \"\";position: absolute;border-left: 1px solid gray;box-sizing: border-box;top: 0;bottom: 0;left: 50%;z-index: 0;}#sk-container-id-7 div.sk-serial {display: flex;flex-direction: column;align-items: center;background-color: white;padding-right: 0.2em;padding-left: 0.2em;position: relative;}#sk-container-id-7 div.sk-item {position: relative;z-index: 1;}#sk-container-id-7 div.sk-parallel {display: flex;align-items: stretch;justify-content: center;background-color: white;position: relative;}#sk-container-id-7 div.sk-item::before, #sk-container-id-7 div.sk-parallel-item::before {content: \"\";position: absolute;border-left: 1px solid gray;box-sizing: border-box;top: 0;bottom: 0;left: 50%;z-index: -1;}#sk-container-id-7 div.sk-parallel-item {display: flex;flex-direction: column;z-index: 1;position: relative;background-color: white;}#sk-container-id-7 div.sk-parallel-item:first-child::after {align-self: flex-end;width: 50%;}#sk-container-id-7 div.sk-parallel-item:last-child::after {align-self: flex-start;width: 50%;}#sk-container-id-7 div.sk-parallel-item:only-child::after {width: 0;}#sk-container-id-7 div.sk-dashed-wrapped {border: 1px dashed gray;margin: 0 0.4em 0.5em 0.4em;box-sizing: border-box;padding-bottom: 0.4em;background-color: white;}#sk-container-id-7 div.sk-label label {font-family: monospace;font-weight: bold;display: inline-block;line-height: 1.2em;}#sk-container-id-7 div.sk-label-container {text-align: center;}#sk-container-id-7 div.sk-container {/* jupyter's `normalize.less` sets `[hidden] { display: none; }` but bootstrap.min.css set `[hidden] { display: none !important; }` so we also need the `!important` here to be able to override the default hidden behavior on the sphinx rendered scikit-learn.org. See: https://github.com/scikit-learn/scikit-learn/issues/21755 */display: inline-block !important;position: relative;}#sk-container-id-7 div.sk-text-repr-fallback {display: none;}</style><div id=\"sk-container-id-7\" class=\"sk-top-container\"><div class=\"sk-text-repr-fallback\"><pre>GridSearchCV(estimator=RandomForestClassifier(),\n",
       "             param_grid={&#x27;bootstrap&#x27;: [True, False],\n",
       "                         &#x27;max_depth&#x27;: [10, 20, None],\n",
       "                         &#x27;min_samples_split&#x27;: [2, 5, 10],\n",
       "                         &#x27;n_estimators&#x27;: [25, 30, 50]},\n",
       "             scoring=make_scorer(mean_squared_error))</pre><b>In a Jupyter environment, please rerun this cell to show the HTML representation or trust the notebook. <br />On GitHub, the HTML representation is unable to render, please try loading this page with nbviewer.org.</b></div><div class=\"sk-container\" hidden><div class=\"sk-item sk-dashed-wrapped\"><div class=\"sk-label-container\"><div class=\"sk-label sk-toggleable\"><input class=\"sk-toggleable__control sk-hidden--visually\" id=\"sk-estimator-id-13\" type=\"checkbox\" ><label for=\"sk-estimator-id-13\" class=\"sk-toggleable__label sk-toggleable__label-arrow\">GridSearchCV</label><div class=\"sk-toggleable__content\"><pre>GridSearchCV(estimator=RandomForestClassifier(),\n",
       "             param_grid={&#x27;bootstrap&#x27;: [True, False],\n",
       "                         &#x27;max_depth&#x27;: [10, 20, None],\n",
       "                         &#x27;min_samples_split&#x27;: [2, 5, 10],\n",
       "                         &#x27;n_estimators&#x27;: [25, 30, 50]},\n",
       "             scoring=make_scorer(mean_squared_error))</pre></div></div></div><div class=\"sk-parallel\"><div class=\"sk-parallel-item\"><div class=\"sk-item\"><div class=\"sk-label-container\"><div class=\"sk-label sk-toggleable\"><input class=\"sk-toggleable__control sk-hidden--visually\" id=\"sk-estimator-id-14\" type=\"checkbox\" ><label for=\"sk-estimator-id-14\" class=\"sk-toggleable__label sk-toggleable__label-arrow\">estimator: RandomForestClassifier</label><div class=\"sk-toggleable__content\"><pre>RandomForestClassifier()</pre></div></div></div><div class=\"sk-serial\"><div class=\"sk-item\"><div class=\"sk-estimator sk-toggleable\"><input class=\"sk-toggleable__control sk-hidden--visually\" id=\"sk-estimator-id-15\" type=\"checkbox\" ><label for=\"sk-estimator-id-15\" class=\"sk-toggleable__label sk-toggleable__label-arrow\">RandomForestClassifier</label><div class=\"sk-toggleable__content\"><pre>RandomForestClassifier()</pre></div></div></div></div></div></div></div></div></div></div>"
      ],
      "text/plain": [
       "GridSearchCV(estimator=RandomForestClassifier(),\n",
       "             param_grid={'bootstrap': [True, False],\n",
       "                         'max_depth': [10, 20, None],\n",
       "                         'min_samples_split': [2, 5, 10],\n",
       "                         'n_estimators': [25, 30, 50]},\n",
       "             scoring=make_scorer(mean_squared_error))"
      ]
     },
     "execution_count": 51,
     "metadata": {},
     "output_type": "execute_result"
    }
   ],
   "source": [
    "grid_obj"
   ]
  },
  {
   "cell_type": "code",
   "execution_count": 52,
   "id": "070c44dd-45b9-4716-a482-d495da5216a4",
   "metadata": {
    "execution": {
     "iopub.execute_input": "2022-12-20T13:09:37.903848Z",
     "iopub.status.busy": "2022-12-20T13:09:37.903462Z",
     "iopub.status.idle": "2022-12-20T13:15:53.418497Z",
     "shell.execute_reply": "2022-12-20T13:15:53.415603Z",
     "shell.execute_reply.started": "2022-12-20T13:09:37.903816Z"
    },
    "tags": []
   },
   "outputs": [],
   "source": [
    "grid_fit = grid_obj.fit(X_train, y_train)"
   ]
  },
  {
   "cell_type": "code",
   "execution_count": 53,
   "id": "112359d1-18e9-401d-aedc-209a93554927",
   "metadata": {
    "execution": {
     "iopub.execute_input": "2022-12-20T13:15:53.421219Z",
     "iopub.status.busy": "2022-12-20T13:15:53.420933Z",
     "iopub.status.idle": "2022-12-20T13:15:57.207519Z",
     "shell.execute_reply": "2022-12-20T13:15:57.206611Z",
     "shell.execute_reply.started": "2022-12-20T13:15:53.421194Z"
    },
    "tags": []
   },
   "outputs": [
    {
     "data": {
      "text/html": [
       "<style>#sk-container-id-8 {color: black;background-color: white;}#sk-container-id-8 pre{padding: 0;}#sk-container-id-8 div.sk-toggleable {background-color: white;}#sk-container-id-8 label.sk-toggleable__label {cursor: pointer;display: block;width: 100%;margin-bottom: 0;padding: 0.3em;box-sizing: border-box;text-align: center;}#sk-container-id-8 label.sk-toggleable__label-arrow:before {content: \"▸\";float: left;margin-right: 0.25em;color: #696969;}#sk-container-id-8 label.sk-toggleable__label-arrow:hover:before {color: black;}#sk-container-id-8 div.sk-estimator:hover label.sk-toggleable__label-arrow:before {color: black;}#sk-container-id-8 div.sk-toggleable__content {max-height: 0;max-width: 0;overflow: hidden;text-align: left;background-color: #f0f8ff;}#sk-container-id-8 div.sk-toggleable__content pre {margin: 0.2em;color: black;border-radius: 0.25em;background-color: #f0f8ff;}#sk-container-id-8 input.sk-toggleable__control:checked~div.sk-toggleable__content {max-height: 200px;max-width: 100%;overflow: auto;}#sk-container-id-8 input.sk-toggleable__control:checked~label.sk-toggleable__label-arrow:before {content: \"▾\";}#sk-container-id-8 div.sk-estimator input.sk-toggleable__control:checked~label.sk-toggleable__label {background-color: #d4ebff;}#sk-container-id-8 div.sk-label input.sk-toggleable__control:checked~label.sk-toggleable__label {background-color: #d4ebff;}#sk-container-id-8 input.sk-hidden--visually {border: 0;clip: rect(1px 1px 1px 1px);clip: rect(1px, 1px, 1px, 1px);height: 1px;margin: -1px;overflow: hidden;padding: 0;position: absolute;width: 1px;}#sk-container-id-8 div.sk-estimator {font-family: monospace;background-color: #f0f8ff;border: 1px dotted black;border-radius: 0.25em;box-sizing: border-box;margin-bottom: 0.5em;}#sk-container-id-8 div.sk-estimator:hover {background-color: #d4ebff;}#sk-container-id-8 div.sk-parallel-item::after {content: \"\";width: 100%;border-bottom: 1px solid gray;flex-grow: 1;}#sk-container-id-8 div.sk-label:hover label.sk-toggleable__label {background-color: #d4ebff;}#sk-container-id-8 div.sk-serial::before {content: \"\";position: absolute;border-left: 1px solid gray;box-sizing: border-box;top: 0;bottom: 0;left: 50%;z-index: 0;}#sk-container-id-8 div.sk-serial {display: flex;flex-direction: column;align-items: center;background-color: white;padding-right: 0.2em;padding-left: 0.2em;position: relative;}#sk-container-id-8 div.sk-item {position: relative;z-index: 1;}#sk-container-id-8 div.sk-parallel {display: flex;align-items: stretch;justify-content: center;background-color: white;position: relative;}#sk-container-id-8 div.sk-item::before, #sk-container-id-8 div.sk-parallel-item::before {content: \"\";position: absolute;border-left: 1px solid gray;box-sizing: border-box;top: 0;bottom: 0;left: 50%;z-index: -1;}#sk-container-id-8 div.sk-parallel-item {display: flex;flex-direction: column;z-index: 1;position: relative;background-color: white;}#sk-container-id-8 div.sk-parallel-item:first-child::after {align-self: flex-end;width: 50%;}#sk-container-id-8 div.sk-parallel-item:last-child::after {align-self: flex-start;width: 50%;}#sk-container-id-8 div.sk-parallel-item:only-child::after {width: 0;}#sk-container-id-8 div.sk-dashed-wrapped {border: 1px dashed gray;margin: 0 0.4em 0.5em 0.4em;box-sizing: border-box;padding-bottom: 0.4em;background-color: white;}#sk-container-id-8 div.sk-label label {font-family: monospace;font-weight: bold;display: inline-block;line-height: 1.2em;}#sk-container-id-8 div.sk-label-container {text-align: center;}#sk-container-id-8 div.sk-container {/* jupyter's `normalize.less` sets `[hidden] { display: none; }` but bootstrap.min.css set `[hidden] { display: none !important; }` so we also need the `!important` here to be able to override the default hidden behavior on the sphinx rendered scikit-learn.org. See: https://github.com/scikit-learn/scikit-learn/issues/21755 */display: inline-block !important;position: relative;}#sk-container-id-8 div.sk-text-repr-fallback {display: none;}</style><div id=\"sk-container-id-8\" class=\"sk-top-container\"><div class=\"sk-text-repr-fallback\"><pre>RandomForestClassifier(bootstrap=False, n_estimators=50)</pre><b>In a Jupyter environment, please rerun this cell to show the HTML representation or trust the notebook. <br />On GitHub, the HTML representation is unable to render, please try loading this page with nbviewer.org.</b></div><div class=\"sk-container\" hidden><div class=\"sk-item\"><div class=\"sk-estimator sk-toggleable\"><input class=\"sk-toggleable__control sk-hidden--visually\" id=\"sk-estimator-id-16\" type=\"checkbox\" checked><label for=\"sk-estimator-id-16\" class=\"sk-toggleable__label sk-toggleable__label-arrow\">RandomForestClassifier</label><div class=\"sk-toggleable__content\"><pre>RandomForestClassifier(bootstrap=False, n_estimators=50)</pre></div></div></div></div></div>"
      ],
      "text/plain": [
       "RandomForestClassifier(bootstrap=False, n_estimators=50)"
      ]
     },
     "execution_count": 53,
     "metadata": {},
     "output_type": "execute_result"
    }
   ],
   "source": [
    "# Get the estimator.\n",
    "best_reg = grid_fit.best_estimator_\n",
    "\n",
    "# Fit the new model.\n",
    "best_reg.fit(X_train, y_train)"
   ]
  },
  {
   "cell_type": "code",
   "execution_count": 54,
   "id": "5f93d110-52dc-4904-8167-8fb7c8e3a3c8",
   "metadata": {
    "execution": {
     "iopub.execute_input": "2022-12-20T13:15:57.208818Z",
     "iopub.status.busy": "2022-12-20T13:15:57.208616Z",
     "iopub.status.idle": "2022-12-20T13:15:58.460792Z",
     "shell.execute_reply": "2022-12-20T13:15:58.459988Z",
     "shell.execute_reply.started": "2022-12-20T13:15:57.208800Z"
    },
    "tags": []
   },
   "outputs": [
    {
     "name": "stdout",
     "output_type": "stream",
     "text": [
      "train score : 0.726290054527724\n",
      "test score: 0.49071530601032853\n"
     ]
    }
   ],
   "source": [
    "# Model performance on TRAIN data\n",
    "print('train score :', best_reg.score(X_train, y_train))\n",
    "print('test score:', best_reg.score(X_test, y_test))"
   ]
  },
  {
   "cell_type": "code",
   "execution_count": null,
   "id": "f33be308-b279-4992-a5eb-deaeb8256ec2",
   "metadata": {
    "execution": {
     "iopub.status.busy": "2022-12-20T13:01:45.459918Z",
     "iopub.status.idle": "2022-12-20T13:01:45.460288Z",
     "shell.execute_reply": "2022-12-20T13:01:45.460121Z",
     "shell.execute_reply.started": "2022-12-20T13:01:45.460103Z"
    }
   },
   "outputs": [],
   "source": [
    "20\n",
    "train score : 0.726290054527724\n",
    "test score: 0.48873750137347544"
   ]
  },
  {
   "cell_type": "code",
   "execution_count": 55,
   "id": "b7358052-96bb-4dcc-b2c3-e6c1694e54ea",
   "metadata": {
    "execution": {
     "iopub.execute_input": "2022-12-20T13:16:31.127417Z",
     "iopub.status.busy": "2022-12-20T13:16:31.126694Z",
     "iopub.status.idle": "2022-12-20T13:16:31.375822Z",
     "shell.execute_reply": "2022-12-20T13:16:31.375055Z",
     "shell.execute_reply.started": "2022-12-20T13:16:31.127360Z"
    },
    "tags": []
   },
   "outputs": [
    {
     "data": {
      "image/png": "[encoded data removed]",
      "text/plain": [
       "<Figure size 1500x700 with 1 Axes>"
      ]
     },
     "metadata": {},
     "output_type": "display_data"
    }
   ],
   "source": [
    "importances = best_reg.feature_importances_\n",
    "indices = np.argsort(importances)[::-1] # Sort feature importances in descending order\n",
    "names = [X_train.columns[i] for i in indices] # Rearrange feature names so they match the sorted feature importances\n",
    "plt.figure(figsize=(15, 7)) # Create plot\n",
    "plt.title(\"Feature Importance Workplace\") # Create plot title\n",
    "plt.bar(range(X_train.shape[1]), importances[indices]) # Add bars\n",
    "plt.xticks(range(X_train.shape[1]), names, rotation=90) # Add feature names as x-axis labels\n",
    "plt.show() # Show plot"
   ]
  },
  {
   "cell_type": "code",
   "execution_count": null,
   "id": "4aac71ac-568e-4639-8af4-06b31235a01d",
   "metadata": {},
   "outputs": [],
   "source": []
  },
  {
   "cell_type": "code",
   "execution_count": null,
   "id": "ff8ea695-ba70-443d-864a-2a5a068657e6",
   "metadata": {},
   "outputs": [],
   "source": []
  }
 ],
 "metadata": {
  "kernelspec": {
   "display_name": "Python 3 ",
   "language": "python",
   "name": "python3"
  },
  "language_info": {
   "codemirror_mode": {
    "name": "ipython",
    "version": 3
   },
   "file_extension": ".py",
   "mimetype": "text/x-python",
   "name": "python",
   "nbconvert_exporter": "python",
   "pygments_lexer": "ipython3",
   "version": "3.10.6"
  }
 },
 "nbformat": 4,
 "nbformat_minor": 5
}
