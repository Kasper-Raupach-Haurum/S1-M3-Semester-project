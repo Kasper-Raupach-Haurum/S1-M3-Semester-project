{
 "cells": [
  {
   "cell_type": "markdown",
   "id": "ce15fdf5-51c4-4d10-86ac-68f306804d1a",
   "metadata": {
    "tags": []
   },
   "source": [
    "# Installs and imports"
   ]
  },
  {
   "cell_type": "code",
   "execution_count": 102,
   "id": "28a0e79f-3012-45be-b507-8af3bff337ba",
   "metadata": {
    "execution": {
     "iopub.execute_input": "2022-12-16T16:46:35.543420Z",
     "iopub.status.busy": "2022-12-16T16:46:35.542581Z",
     "iopub.status.idle": "2022-12-16T16:46:56.393522Z",
     "shell.execute_reply": "2022-12-16T16:46:56.390618Z",
     "shell.execute_reply.started": "2022-12-16T16:46:35.543343Z"
    },
    "tags": []
   },
   "outputs": [],
   "source": [
    "# peep peeep installs\n",
    "!pip install pandas -q\n",
    "# Load bar (i forgot to use it of course)\n",
    "!pip install tqdm -q\n",
    "# Visualisation and model building libraries\n",
    "!pip install missingno -q\n",
    "!pip install pyarrow -q\n",
    "!pip install scipy -q\n",
    "!pip install scikit-learn -q\n",
    "# for quick visualisation of missing data;\n",
    "!pip install missingno -q"
   ]
  },
  {
   "cell_type": "code",
   "execution_count": 766,
   "id": "ae203a3a-207d-4608-8628-b36b00088f60",
   "metadata": {
    "execution": {
     "iopub.execute_input": "2022-12-17T10:41:06.363457Z",
     "iopub.status.busy": "2022-12-17T10:41:06.362760Z",
     "iopub.status.idle": "2022-12-17T10:41:06.372767Z",
     "shell.execute_reply": "2022-12-17T10:41:06.371663Z",
     "shell.execute_reply.started": "2022-12-17T10:41:06.363385Z"
    },
    "tags": []
   },
   "outputs": [],
   "source": [
    "import numpy as np\n",
    "import matplotlib.pyplot as plt\n",
    "import pandas as pd\n",
    "\n",
    "# To use this experimental feature, we need to explicitly ask for it:\n",
    "from sklearn.experimental import enable_iterative_imputer\n",
    "# Our pipeline parts: \n",
    "from sklearn.impute import IterativeImputer\n",
    "from sklearn.neighbors import KNeighborsRegressor\n",
    "from sklearn.neighbors import KNeighborsClassifier\n",
    "from sklearn.pipeline import Pipeline\n",
    "from sklearn.preprocessing import MinMaxScaler\n",
    "from scipy import stats\n",
    "#Gonna use MSNO to quickly create a test set based on missing data visualisation.\n",
    "import missingno as msno"
   ]
  },
  {
   "cell_type": "markdown",
   "id": "98fa9315-c80b-405a-8d12-4a2a4b0cf52c",
   "metadata": {},
   "source": [
    "# Loading data and quick EDA of missingness"
   ]
  },
  {
   "cell_type": "code",
   "execution_count": 335,
   "id": "f8bc3f61-a96d-4137-8418-06c82840b861",
   "metadata": {
    "execution": {
     "iopub.execute_input": "2022-12-16T22:16:04.817240Z",
     "iopub.status.busy": "2022-12-16T22:16:04.816693Z",
     "iopub.status.idle": "2022-12-16T22:16:06.208630Z",
     "shell.execute_reply": "2022-12-16T22:16:06.207748Z",
     "shell.execute_reply.started": "2022-12-16T22:16:04.817203Z"
    },
    "tags": []
   },
   "outputs": [],
   "source": [
    "df_users = pd.read_parquet('/work/imputation_data/data/users/data_users.parquet', engine = 'pyarrow')"
   ]
  },
  {
   "cell_type": "code",
   "execution_count": 849,
   "id": "1fed5f74-b187-41d1-8874-ec2e0641f807",
   "metadata": {
    "execution": {
     "iopub.execute_input": "2022-12-17T11:17:00.659369Z",
     "iopub.status.busy": "2022-12-17T11:17:00.658709Z",
     "iopub.status.idle": "2022-12-17T11:17:00.775958Z",
     "shell.execute_reply": "2022-12-17T11:17:00.775015Z",
     "shell.execute_reply.started": "2022-12-17T11:17:00.659315Z"
    },
    "tags": []
   },
   "outputs": [],
   "source": [
    "data = pd.read_csv('clean_data.csv') \n",
    "# This dataset is a clean version of the original data, where we've put in our found users, and removed a few unnecessary dimensions.\n",
    "# We've also added in a few new dimensions that will be explained later\n",
    "true_data = pd.read_csv('clean_data.csv')"
   ]
  },
  {
   "cell_type": "code",
   "execution_count": 850,
   "id": "d3a4f124-39c9-4d02-8634-17fef7ece0dc",
   "metadata": {
    "execution": {
     "iopub.execute_input": "2022-12-17T11:17:00.875664Z",
     "iopub.status.busy": "2022-12-17T11:17:00.875049Z",
     "iopub.status.idle": "2022-12-17T11:17:01.133573Z",
     "shell.execute_reply": "2022-12-17T11:17:01.132680Z",
     "shell.execute_reply.started": "2022-12-17T11:17:00.875611Z"
    },
    "tags": []
   },
   "outputs": [
    {
     "data": {
      "text/html": [
       "<div>\n",
       "<style scoped>\n",
       "    .dataframe tbody tr th:only-of-type {\n",
       "        vertical-align: middle;\n",
       "    }\n",
       "\n",
       "    .dataframe tbody tr th {\n",
       "        vertical-align: top;\n",
       "    }\n",
       "\n",
       "    .dataframe thead th {\n",
       "        text-align: right;\n",
       "    }\n",
       "</style>\n",
       "<table border=\"1\" class=\"dataframe\">\n",
       "  <thead>\n",
       "    <tr style=\"text-align: right;\">\n",
       "      <th></th>\n",
       "      <th>RN</th>\n",
       "      <th>UserinfoCountry</th>\n",
       "      <th>HealthcareWorker</th>\n",
       "      <th>Profession</th>\n",
       "      <th>Experiance</th>\n",
       "      <th>WorkPlace</th>\n",
       "      <th>SafeDeliveryApp</th>\n",
       "      <th>UserinfoIsMyLearning</th>\n",
       "      <th>UserinfoUserIsActive</th>\n",
       "      <th>KlpResultLevel</th>\n",
       "      <th>Module_Key</th>\n",
       "      <th>Time</th>\n",
       "    </tr>\n",
       "  </thead>\n",
       "  <tbody>\n",
       "    <tr>\n",
       "      <th>0</th>\n",
       "      <td>14.0</td>\n",
       "      <td>1</td>\n",
       "      <td>1</td>\n",
       "      <td>4</td>\n",
       "      <td>1</td>\n",
       "      <td>5</td>\n",
       "      <td>5</td>\n",
       "      <td>1.0</td>\n",
       "      <td>0.0</td>\n",
       "      <td>0.0</td>\n",
       "      <td>-1.0</td>\n",
       "      <td>0.0</td>\n",
       "    </tr>\n",
       "    <tr>\n",
       "      <th>1</th>\n",
       "      <td>10.0</td>\n",
       "      <td>1</td>\n",
       "      <td>1</td>\n",
       "      <td>4</td>\n",
       "      <td>1</td>\n",
       "      <td>2</td>\n",
       "      <td>3</td>\n",
       "      <td>1.0</td>\n",
       "      <td>0.0</td>\n",
       "      <td>0.0</td>\n",
       "      <td>-1.0</td>\n",
       "      <td>0.0</td>\n",
       "    </tr>\n",
       "    <tr>\n",
       "      <th>2</th>\n",
       "      <td>12.0</td>\n",
       "      <td>1</td>\n",
       "      <td>0</td>\n",
       "      <td>4</td>\n",
       "      <td>0</td>\n",
       "      <td>1</td>\n",
       "      <td>3</td>\n",
       "      <td>1.0</td>\n",
       "      <td>0.0</td>\n",
       "      <td>0.0</td>\n",
       "      <td>-1.0</td>\n",
       "      <td>0.0</td>\n",
       "    </tr>\n",
       "    <tr>\n",
       "      <th>3</th>\n",
       "      <td>15.0</td>\n",
       "      <td>1</td>\n",
       "      <td>1</td>\n",
       "      <td>1</td>\n",
       "      <td>1</td>\n",
       "      <td>2</td>\n",
       "      <td>5</td>\n",
       "      <td>1.0</td>\n",
       "      <td>0.0</td>\n",
       "      <td>0.0</td>\n",
       "      <td>-1.0</td>\n",
       "      <td>0.0</td>\n",
       "    </tr>\n",
       "    <tr>\n",
       "      <th>4</th>\n",
       "      <td>12.0</td>\n",
       "      <td>1</td>\n",
       "      <td>1</td>\n",
       "      <td>4</td>\n",
       "      <td>0</td>\n",
       "      <td>4</td>\n",
       "      <td>2</td>\n",
       "      <td>1.0</td>\n",
       "      <td>0.0</td>\n",
       "      <td>0.0</td>\n",
       "      <td>-1.0</td>\n",
       "      <td>0.0</td>\n",
       "    </tr>\n",
       "    <tr>\n",
       "      <th>...</th>\n",
       "      <td>...</td>\n",
       "      <td>...</td>\n",
       "      <td>...</td>\n",
       "      <td>...</td>\n",
       "      <td>...</td>\n",
       "      <td>...</td>\n",
       "      <td>...</td>\n",
       "      <td>...</td>\n",
       "      <td>...</td>\n",
       "      <td>...</td>\n",
       "      <td>...</td>\n",
       "      <td>...</td>\n",
       "    </tr>\n",
       "    <tr>\n",
       "      <th>91004</th>\n",
       "      <td>10.0</td>\n",
       "      <td>1</td>\n",
       "      <td>1</td>\n",
       "      <td>3</td>\n",
       "      <td>1</td>\n",
       "      <td>4</td>\n",
       "      <td>4</td>\n",
       "      <td>0.0</td>\n",
       "      <td>1.0</td>\n",
       "      <td>0.0</td>\n",
       "      <td>-1.0</td>\n",
       "      <td>0.0</td>\n",
       "    </tr>\n",
       "    <tr>\n",
       "      <th>91005</th>\n",
       "      <td>9.0</td>\n",
       "      <td>1</td>\n",
       "      <td>1</td>\n",
       "      <td>5</td>\n",
       "      <td>3</td>\n",
       "      <td>0</td>\n",
       "      <td>8</td>\n",
       "      <td>1.0</td>\n",
       "      <td>1.0</td>\n",
       "      <td>0.0</td>\n",
       "      <td>-1.0</td>\n",
       "      <td>0.0</td>\n",
       "    </tr>\n",
       "    <tr>\n",
       "      <th>91006</th>\n",
       "      <td>9.0</td>\n",
       "      <td>1</td>\n",
       "      <td>1</td>\n",
       "      <td>2</td>\n",
       "      <td>2</td>\n",
       "      <td>0</td>\n",
       "      <td>4</td>\n",
       "      <td>0.0</td>\n",
       "      <td>1.0</td>\n",
       "      <td>0.0</td>\n",
       "      <td>-1.0</td>\n",
       "      <td>0.0</td>\n",
       "    </tr>\n",
       "    <tr>\n",
       "      <th>91007</th>\n",
       "      <td>10.0</td>\n",
       "      <td>1</td>\n",
       "      <td>1</td>\n",
       "      <td>0</td>\n",
       "      <td>1</td>\n",
       "      <td>1</td>\n",
       "      <td>5</td>\n",
       "      <td>0.0</td>\n",
       "      <td>1.0</td>\n",
       "      <td>0.0</td>\n",
       "      <td>-1.0</td>\n",
       "      <td>0.0</td>\n",
       "    </tr>\n",
       "    <tr>\n",
       "      <th>91008</th>\n",
       "      <td>9.0</td>\n",
       "      <td>1</td>\n",
       "      <td>1</td>\n",
       "      <td>2</td>\n",
       "      <td>0</td>\n",
       "      <td>0</td>\n",
       "      <td>6</td>\n",
       "      <td>1.0</td>\n",
       "      <td>1.0</td>\n",
       "      <td>0.0</td>\n",
       "      <td>-1.0</td>\n",
       "      <td>0.0</td>\n",
       "    </tr>\n",
       "  </tbody>\n",
       "</table>\n",
       "<p>91009 rows × 12 columns</p>\n",
       "</div>"
      ],
      "text/plain": [
       "         RN  UserinfoCountry  HealthcareWorker  Profession  Experiance  \\\n",
       "0      14.0                1                 1           4           1   \n",
       "1      10.0                1                 1           4           1   \n",
       "2      12.0                1                 0           4           0   \n",
       "3      15.0                1                 1           1           1   \n",
       "4      12.0                1                 1           4           0   \n",
       "...     ...              ...               ...         ...         ...   \n",
       "91004  10.0                1                 1           3           1   \n",
       "91005   9.0                1                 1           5           3   \n",
       "91006   9.0                1                 1           2           2   \n",
       "91007  10.0                1                 1           0           1   \n",
       "91008   9.0                1                 1           2           0   \n",
       "\n",
       "       WorkPlace  SafeDeliveryApp  UserinfoIsMyLearning  UserinfoUserIsActive  \\\n",
       "0              5                5                   1.0                   0.0   \n",
       "1              2                3                   1.0                   0.0   \n",
       "2              1                3                   1.0                   0.0   \n",
       "3              2                5                   1.0                   0.0   \n",
       "4              4                2                   1.0                   0.0   \n",
       "...          ...              ...                   ...                   ...   \n",
       "91004          4                4                   0.0                   1.0   \n",
       "91005          0                8                   1.0                   1.0   \n",
       "91006          0                4                   0.0                   1.0   \n",
       "91007          1                5                   0.0                   1.0   \n",
       "91008          0                6                   1.0                   1.0   \n",
       "\n",
       "       KlpResultLevel  Module_Key  Time  \n",
       "0                 0.0        -1.0   0.0  \n",
       "1                 0.0        -1.0   0.0  \n",
       "2                 0.0        -1.0   0.0  \n",
       "3                 0.0        -1.0   0.0  \n",
       "4                 0.0        -1.0   0.0  \n",
       "...               ...         ...   ...  \n",
       "91004             0.0        -1.0   0.0  \n",
       "91005             0.0        -1.0   0.0  \n",
       "91006             0.0        -1.0   0.0  \n",
       "91007             0.0        -1.0   0.0  \n",
       "91008             0.0        -1.0   0.0  \n",
       "\n",
       "[91009 rows x 12 columns]"
      ]
     },
     "execution_count": 850,
     "metadata": {},
     "output_type": "execute_result"
    }
   ],
   "source": [
    "data"
   ]
  },
  {
   "cell_type": "code",
   "execution_count": 851,
   "id": "8168711e-7c28-4fda-9534-ba4cb1f562e9",
   "metadata": {
    "execution": {
     "iopub.execute_input": "2022-12-17T11:17:01.170536Z",
     "iopub.status.busy": "2022-12-17T11:17:01.170328Z",
     "iopub.status.idle": "2022-12-17T11:17:01.380637Z",
     "shell.execute_reply": "2022-12-17T11:17:01.379802Z",
     "shell.execute_reply.started": "2022-12-17T11:17:01.170518Z"
    },
    "tags": []
   },
   "outputs": [],
   "source": [
    "df_users_nanified = df_users.replace('Unknown', np.nan)"
   ]
  },
  {
   "cell_type": "code",
   "execution_count": 852,
   "id": "199b4977-10ce-441f-b3e0-5210654396ec",
   "metadata": {
    "execution": {
     "iopub.execute_input": "2022-12-17T11:17:01.382449Z",
     "iopub.status.busy": "2022-12-17T11:17:01.382216Z",
     "iopub.status.idle": "2022-12-17T11:17:02.899104Z",
     "shell.execute_reply": "2022-12-17T11:17:02.898333Z",
     "shell.execute_reply.started": "2022-12-17T11:17:01.382429Z"
    },
    "tags": []
   },
   "outputs": [
    {
     "data": {
      "text/plain": [
       "<AxesSubplot:>"
      ]
     },
     "execution_count": 852,
     "metadata": {},
     "output_type": "execute_result"
    },
    {
     "data": {
      "image/png": "[encoded data removed]",
      "text/plain": [
       "<Figure size 1000x500 with 3 Axes>"
      ]
     },
     "metadata": {},
     "output_type": "display_data"
    }
   ],
   "source": [
    "msno.bar(df_users_nanified, figsize=(10,5), fontsize=(12), color=(0.27,0.52,1.0))"
   ]
  },
  {
   "cell_type": "code",
   "execution_count": 853,
   "id": "8a20f29b-186c-4f8d-be46-fbf496b927b9",
   "metadata": {
    "execution": {
     "iopub.execute_input": "2022-12-17T11:17:02.971282Z",
     "iopub.status.busy": "2022-12-17T11:17:02.971077Z",
     "iopub.status.idle": "2022-12-17T11:17:03.002963Z",
     "shell.execute_reply": "2022-12-17T11:17:03.002275Z",
     "shell.execute_reply.started": "2022-12-17T11:17:02.971262Z"
    },
    "tags": []
   },
   "outputs": [
    {
     "name": "stdout",
     "output_type": "stream",
     "text": [
      "Chi-square test statistic (Experiance): 300.559\n",
      "p-value (Experiance): 0.000\n",
      "There is a significant association between the missing data in Experiance and UserinfoCountry.\n"
     ]
    }
   ],
   "source": [
    "# Select the variable with missing data and the other variable of interest\n",
    "x = df_users_nanified['Experiance']\n",
    "y = df_users_nanified['UserinfoCountry']\n",
    "# Compute the chi-square test statistic and p-value\n",
    "chi2, p_value, _, _ = stats.chi2_contingency(pd.crosstab(x, y))\n",
    "# Print the results\n",
    "print(f'Chi-square test statistic (Experiance): {chi2:.3f}')\n",
    "print(f'p-value (Experiance): {p_value:.3f}')\n",
    "\n",
    "# Interpret the results\n",
    "if p_value < 0.05:\n",
    "    print('There is a significant association between the missing data in Experiance and UserinfoCountry.')\n",
    "else:\n",
    "    print('There is no significant association between the missing data in Experiance and UserinfoCountry.')"
   ]
  },
  {
   "cell_type": "code",
   "execution_count": 854,
   "id": "44e7e455-da8c-4a6b-9a05-4f1460ac9e2e",
   "metadata": {
    "execution": {
     "iopub.execute_input": "2022-12-17T11:17:03.036447Z",
     "iopub.status.busy": "2022-12-17T11:17:03.036271Z",
     "iopub.status.idle": "2022-12-17T11:17:03.400470Z",
     "shell.execute_reply": "2022-12-17T11:17:03.399627Z",
     "shell.execute_reply.started": "2022-12-17T11:17:03.036431Z"
    },
    "tags": []
   },
   "outputs": [
    {
     "name": "stdout",
     "output_type": "stream",
     "text": [
      "Chi-square test statistic (Profession): 5434.708\n",
      "p-value (Profession): 0.000\n",
      "There is a significant association between the missing data in Profession and UserinfoCountry.\n"
     ]
    }
   ],
   "source": [
    "# Select the variable with missing data and the other variable of interest\n",
    "x = df_users_nanified['Profession']\n",
    "y = df_users_nanified['UserinfoCountry']\n",
    "# Compute the chi-square test statistic and p-value\n",
    "chi2, p_value, _, _ = stats.chi2_contingency(pd.crosstab(x, y))\n",
    "# Print the results\n",
    "print(f'Chi-square test statistic (Profession): {chi2:.3f}')\n",
    "print(f'p-value (Profession): {p_value:.3f}')\n",
    "\n",
    "# Interpret the results\n",
    "if p_value < 0.05:\n",
    "    print('There is a significant association between the missing data in Profession and UserinfoCountry.')\n",
    "else:\n",
    "    print('There is no significant association between the missing data in Profession and UserinfoCountry.')"
   ]
  },
  {
   "cell_type": "code",
   "execution_count": 855,
   "id": "61b2124f-af2e-4fc8-83db-d942ed507c31",
   "metadata": {
    "execution": {
     "iopub.execute_input": "2022-12-17T11:17:03.401606Z",
     "iopub.status.busy": "2022-12-17T11:17:03.401377Z",
     "iopub.status.idle": "2022-12-17T11:17:04.055559Z",
     "shell.execute_reply": "2022-12-17T11:17:04.054784Z",
     "shell.execute_reply.started": "2022-12-17T11:17:03.401586Z"
    },
    "tags": []
   },
   "outputs": [
    {
     "name": "stdout",
     "output_type": "stream",
     "text": [
      "Chi-square test statistic (WorkPlace): 1477.583\n",
      "p-value (WorkPlace): 0.000\n",
      "There is a significant association between the missing data in WorkPlace and UserinfoCountry.\n"
     ]
    }
   ],
   "source": [
    "# Select the variable with missing data and the other variable of interest\n",
    "x = df_users_nanified['WorkPlace']\n",
    "y = df_users_nanified['UserinfoCountry']\n",
    "# Compute the chi-square test statistic and p-value\n",
    "chi2, p_value, _, _ = stats.chi2_contingency(pd.crosstab(x, y))\n",
    "# Print the results\n",
    "print(f'Chi-square test statistic (WorkPlace): {chi2:.3f}')\n",
    "print(f'p-value (WorkPlace): {p_value:.3f}')\n",
    "\n",
    "# Interpret the results\n",
    "if p_value < 0.05:\n",
    "    print('There is a significant association between the missing data in WorkPlace and UserinfoCountry.')\n",
    "else:\n",
    "    print('There is no significant association between the missing data in WorkPlace and UserinfoCountry.')"
   ]
  },
  {
   "cell_type": "code",
   "execution_count": 856,
   "id": "d9147cc2-2f4e-49f3-ba99-e79bd14cad4a",
   "metadata": {
    "execution": {
     "iopub.execute_input": "2022-12-17T11:17:04.056663Z",
     "iopub.status.busy": "2022-12-17T11:17:04.056465Z",
     "iopub.status.idle": "2022-12-17T11:17:04.383808Z",
     "shell.execute_reply": "2022-12-17T11:17:04.383039Z",
     "shell.execute_reply.started": "2022-12-17T11:17:04.056645Z"
    },
    "tags": []
   },
   "outputs": [
    {
     "name": "stdout",
     "output_type": "stream",
     "text": [
      "Chi-square test statistic (HealthcareWorker): 12.271\n",
      "p-value (HealthcareWorker): 0.000\n",
      "There is a significant association between the missing data in HealthcareWorker and UserinfoCountry.\n"
     ]
    }
   ],
   "source": [
    "# Select the variable with missing data and the other variable of interest\n",
    "x = df_users_nanified['HealthcareWorker']\n",
    "y = df_users_nanified['UserinfoCountry']\n",
    "# Compute the chi-square test statistic and p-value\n",
    "chi2, p_value, _, _ = stats.chi2_contingency(pd.crosstab(x, y))\n",
    "# Print the results\n",
    "print(f'Chi-square test statistic (HealthcareWorker): {chi2:.3f}')\n",
    "print(f'p-value (HealthcareWorker): {p_value:.3f}')\n",
    "\n",
    "# Interpret the results\n",
    "if p_value < 0.05:\n",
    "    print('There is a significant association between the missing data in HealthcareWorker and UserinfoCountry.')\n",
    "else:\n",
    "    print('There is no significant association between the missing data in HealthcareWorker and UserinfoCountry.')"
   ]
  },
  {
   "cell_type": "code",
   "execution_count": 857,
   "id": "950ebbde-a2ca-4bca-94a8-54130c45afea",
   "metadata": {
    "execution": {
     "iopub.execute_input": "2022-12-17T11:17:04.384855Z",
     "iopub.status.busy": "2022-12-17T11:17:04.384664Z",
     "iopub.status.idle": "2022-12-17T11:17:04.760086Z",
     "shell.execute_reply": "2022-12-17T11:17:04.759351Z",
     "shell.execute_reply.started": "2022-12-17T11:17:04.384838Z"
    },
    "tags": []
   },
   "outputs": [
    {
     "name": "stdout",
     "output_type": "stream",
     "text": [
      "Chi-square test statistic (SafeDeliveryApp): 3811.229\n",
      "p-value (SafeDeliveryApp): 0.000\n",
      "There is a significant association between the missing data in SafeDeliveryApp and UserinfoCountry.\n"
     ]
    }
   ],
   "source": [
    "# Select the variable with missing data and the other variable of interest\n",
    "x = df_users_nanified['SafeDeliveryApp']\n",
    "y = df_users_nanified['UserinfoCountry']\n",
    "# Compute the chi-square test statistic and p-value\n",
    "chi2, p_value, _, _ = stats.chi2_contingency(pd.crosstab(x, y))\n",
    "# Print the results\n",
    "print(f'Chi-square test statistic (SafeDeliveryApp): {chi2:.3f}')\n",
    "print(f'p-value (SafeDeliveryApp): {p_value:.3f}')\n",
    "\n",
    "# Interpret the results\n",
    "if p_value < 0.05:\n",
    "    print('There is a significant association between the missing data in SafeDeliveryApp and UserinfoCountry.')\n",
    "else:\n",
    "    print('There is no significant association between the missing data in SafeDeliveryApp and UserinfoCountry.')"
   ]
  },
  {
   "cell_type": "markdown",
   "id": "4cc7490a-efba-4269-b804-8a8da742d1bf",
   "metadata": {},
   "source": [
    "It seems that the data missingness is either MAR or MNAR. Based on where the data is coming from originally, it is likely MNAR."
   ]
  },
  {
   "cell_type": "markdown",
   "id": "364368a9-046b-4615-a970-49dc8a9b2a19",
   "metadata": {
    "execution": {
     "iopub.execute_input": "2022-12-17T11:17:04.761029Z",
     "iopub.status.busy": "2022-12-17T11:17:04.760842Z",
     "iopub.status.idle": "2022-12-17T11:17:05.259579Z",
     "shell.execute_reply": "2022-12-17T11:17:05.258135Z",
     "shell.execute_reply.started": "2022-12-17T11:17:04.761011Z"
    },
    "jp-MarkdownHeadingCollapsed": true,
    "tags": []
   },
   "source": [
    "Due to location data being very hard to predict, we have instead chosen to focus on the user characteristics that we believe are possible to impute\n",
    "within a certain degree of accuracy. These dimensions are;\n",
    "HealthcareWorker, Profession, Experiance, WorkPlace, SafeDeliveryApp\n",
    "\n",
    "Based on the results from our Feature Importance analysis, we know that we only need certain dimensions to impute, so the remaining dimensions/features have been stripped\n",
    "Also we have calculated/found a further 3 dimensions to try and help us build the missing data.\n",
    "Time is average time spent per month across the entire datas timeperiod\n",
    "KlpResultLevel is the users highest level achieved within any module\n",
    "Module_Key is the users most frequently accessed module according to data_activity."
   ]
  },
  {
   "cell_type": "code",
   "execution_count": 860,
   "id": "5ba3fc5f-9d21-4898-b4ea-7c770b9f2f1b",
   "metadata": {
    "execution": {
     "iopub.execute_input": "2022-12-17T11:17:05.484547Z",
     "iopub.status.busy": "2022-12-17T11:17:05.483728Z",
     "iopub.status.idle": "2022-12-17T11:17:06.053891Z",
     "shell.execute_reply": "2022-12-17T11:17:06.052282Z",
     "shell.execute_reply.started": "2022-12-17T11:17:05.484488Z"
    },
    "tags": []
   },
   "outputs": [],
   "source": [
    "seed = 42069 # We had to get a bit creative with the seed, due to some initial issues with labels that went messing"
   ]
  },
  {
   "cell_type": "code",
   "execution_count": 861,
   "id": "6d99b0af-0c62-416e-8d12-8fe27004f7af",
   "metadata": {
    "execution": {
     "iopub.execute_input": "2022-12-17T11:17:06.061153Z",
     "iopub.status.busy": "2022-12-17T11:17:06.060768Z",
     "iopub.status.idle": "2022-12-17T11:17:06.375040Z",
     "shell.execute_reply": "2022-12-17T11:17:06.374276Z",
     "shell.execute_reply.started": "2022-12-17T11:17:06.061120Z"
    },
    "tags": []
   },
   "outputs": [
    {
     "data": {
      "text/html": [
       "<div>\n",
       "<style scoped>\n",
       "    .dataframe tbody tr th:only-of-type {\n",
       "        vertical-align: middle;\n",
       "    }\n",
       "\n",
       "    .dataframe tbody tr th {\n",
       "        vertical-align: top;\n",
       "    }\n",
       "\n",
       "    .dataframe thead th {\n",
       "        text-align: right;\n",
       "    }\n",
       "</style>\n",
       "<table border=\"1\" class=\"dataframe\">\n",
       "  <thead>\n",
       "    <tr style=\"text-align: right;\">\n",
       "      <th></th>\n",
       "      <th>RN</th>\n",
       "      <th>UserinfoCountry</th>\n",
       "      <th>HealthcareWorker</th>\n",
       "      <th>Profession</th>\n",
       "      <th>Experiance</th>\n",
       "      <th>WorkPlace</th>\n",
       "      <th>SafeDeliveryApp</th>\n",
       "      <th>UserinfoIsMyLearning</th>\n",
       "      <th>UserinfoUserIsActive</th>\n",
       "      <th>KlpResultLevel</th>\n",
       "      <th>Module_Key</th>\n",
       "      <th>Time</th>\n",
       "    </tr>\n",
       "  </thead>\n",
       "  <tbody>\n",
       "    <tr>\n",
       "      <th>0</th>\n",
       "      <td>14.0</td>\n",
       "      <td>1</td>\n",
       "      <td>1</td>\n",
       "      <td>4</td>\n",
       "      <td>1</td>\n",
       "      <td>5</td>\n",
       "      <td>5</td>\n",
       "      <td>1.0</td>\n",
       "      <td>0.0</td>\n",
       "      <td>0.0</td>\n",
       "      <td>-1.0</td>\n",
       "      <td>0.0</td>\n",
       "    </tr>\n",
       "    <tr>\n",
       "      <th>1</th>\n",
       "      <td>10.0</td>\n",
       "      <td>1</td>\n",
       "      <td>1</td>\n",
       "      <td>4</td>\n",
       "      <td>1</td>\n",
       "      <td>2</td>\n",
       "      <td>3</td>\n",
       "      <td>1.0</td>\n",
       "      <td>0.0</td>\n",
       "      <td>0.0</td>\n",
       "      <td>-1.0</td>\n",
       "      <td>0.0</td>\n",
       "    </tr>\n",
       "    <tr>\n",
       "      <th>2</th>\n",
       "      <td>12.0</td>\n",
       "      <td>1</td>\n",
       "      <td>0</td>\n",
       "      <td>4</td>\n",
       "      <td>0</td>\n",
       "      <td>1</td>\n",
       "      <td>3</td>\n",
       "      <td>1.0</td>\n",
       "      <td>0.0</td>\n",
       "      <td>0.0</td>\n",
       "      <td>-1.0</td>\n",
       "      <td>0.0</td>\n",
       "    </tr>\n",
       "    <tr>\n",
       "      <th>3</th>\n",
       "      <td>15.0</td>\n",
       "      <td>1</td>\n",
       "      <td>1</td>\n",
       "      <td>1</td>\n",
       "      <td>1</td>\n",
       "      <td>2</td>\n",
       "      <td>5</td>\n",
       "      <td>1.0</td>\n",
       "      <td>0.0</td>\n",
       "      <td>0.0</td>\n",
       "      <td>-1.0</td>\n",
       "      <td>0.0</td>\n",
       "    </tr>\n",
       "    <tr>\n",
       "      <th>4</th>\n",
       "      <td>12.0</td>\n",
       "      <td>1</td>\n",
       "      <td>1</td>\n",
       "      <td>4</td>\n",
       "      <td>0</td>\n",
       "      <td>4</td>\n",
       "      <td>2</td>\n",
       "      <td>1.0</td>\n",
       "      <td>0.0</td>\n",
       "      <td>0.0</td>\n",
       "      <td>-1.0</td>\n",
       "      <td>0.0</td>\n",
       "    </tr>\n",
       "    <tr>\n",
       "      <th>...</th>\n",
       "      <td>...</td>\n",
       "      <td>...</td>\n",
       "      <td>...</td>\n",
       "      <td>...</td>\n",
       "      <td>...</td>\n",
       "      <td>...</td>\n",
       "      <td>...</td>\n",
       "      <td>...</td>\n",
       "      <td>...</td>\n",
       "      <td>...</td>\n",
       "      <td>...</td>\n",
       "      <td>...</td>\n",
       "    </tr>\n",
       "    <tr>\n",
       "      <th>91004</th>\n",
       "      <td>10.0</td>\n",
       "      <td>1</td>\n",
       "      <td>1</td>\n",
       "      <td>3</td>\n",
       "      <td>1</td>\n",
       "      <td>4</td>\n",
       "      <td>4</td>\n",
       "      <td>0.0</td>\n",
       "      <td>1.0</td>\n",
       "      <td>0.0</td>\n",
       "      <td>-1.0</td>\n",
       "      <td>0.0</td>\n",
       "    </tr>\n",
       "    <tr>\n",
       "      <th>91005</th>\n",
       "      <td>9.0</td>\n",
       "      <td>1</td>\n",
       "      <td>1</td>\n",
       "      <td>5</td>\n",
       "      <td>3</td>\n",
       "      <td>0</td>\n",
       "      <td>8</td>\n",
       "      <td>1.0</td>\n",
       "      <td>1.0</td>\n",
       "      <td>0.0</td>\n",
       "      <td>-1.0</td>\n",
       "      <td>0.0</td>\n",
       "    </tr>\n",
       "    <tr>\n",
       "      <th>91006</th>\n",
       "      <td>9.0</td>\n",
       "      <td>1</td>\n",
       "      <td>1</td>\n",
       "      <td>2</td>\n",
       "      <td>2</td>\n",
       "      <td>0</td>\n",
       "      <td>4</td>\n",
       "      <td>0.0</td>\n",
       "      <td>1.0</td>\n",
       "      <td>0.0</td>\n",
       "      <td>-1.0</td>\n",
       "      <td>0.0</td>\n",
       "    </tr>\n",
       "    <tr>\n",
       "      <th>91007</th>\n",
       "      <td>10.0</td>\n",
       "      <td>1</td>\n",
       "      <td>1</td>\n",
       "      <td>0</td>\n",
       "      <td>1</td>\n",
       "      <td>1</td>\n",
       "      <td>5</td>\n",
       "      <td>0.0</td>\n",
       "      <td>1.0</td>\n",
       "      <td>0.0</td>\n",
       "      <td>-1.0</td>\n",
       "      <td>0.0</td>\n",
       "    </tr>\n",
       "    <tr>\n",
       "      <th>91008</th>\n",
       "      <td>9.0</td>\n",
       "      <td>1</td>\n",
       "      <td>1</td>\n",
       "      <td>2</td>\n",
       "      <td>0</td>\n",
       "      <td>0</td>\n",
       "      <td>6</td>\n",
       "      <td>1.0</td>\n",
       "      <td>1.0</td>\n",
       "      <td>0.0</td>\n",
       "      <td>-1.0</td>\n",
       "      <td>0.0</td>\n",
       "    </tr>\n",
       "  </tbody>\n",
       "</table>\n",
       "<p>91009 rows × 12 columns</p>\n",
       "</div>"
      ],
      "text/plain": [
       "         RN  UserinfoCountry  HealthcareWorker  Profession  Experiance  \\\n",
       "0      14.0                1                 1           4           1   \n",
       "1      10.0                1                 1           4           1   \n",
       "2      12.0                1                 0           4           0   \n",
       "3      15.0                1                 1           1           1   \n",
       "4      12.0                1                 1           4           0   \n",
       "...     ...              ...               ...         ...         ...   \n",
       "91004  10.0                1                 1           3           1   \n",
       "91005   9.0                1                 1           5           3   \n",
       "91006   9.0                1                 1           2           2   \n",
       "91007  10.0                1                 1           0           1   \n",
       "91008   9.0                1                 1           2           0   \n",
       "\n",
       "       WorkPlace  SafeDeliveryApp  UserinfoIsMyLearning  UserinfoUserIsActive  \\\n",
       "0              5                5                   1.0                   0.0   \n",
       "1              2                3                   1.0                   0.0   \n",
       "2              1                3                   1.0                   0.0   \n",
       "3              2                5                   1.0                   0.0   \n",
       "4              4                2                   1.0                   0.0   \n",
       "...          ...              ...                   ...                   ...   \n",
       "91004          4                4                   0.0                   1.0   \n",
       "91005          0                8                   1.0                   1.0   \n",
       "91006          0                4                   0.0                   1.0   \n",
       "91007          1                5                   0.0                   1.0   \n",
       "91008          0                6                   1.0                   1.0   \n",
       "\n",
       "       KlpResultLevel  Module_Key  Time  \n",
       "0                 0.0        -1.0   0.0  \n",
       "1                 0.0        -1.0   0.0  \n",
       "2                 0.0        -1.0   0.0  \n",
       "3                 0.0        -1.0   0.0  \n",
       "4                 0.0        -1.0   0.0  \n",
       "...               ...         ...   ...  \n",
       "91004             0.0        -1.0   0.0  \n",
       "91005             0.0        -1.0   0.0  \n",
       "91006             0.0        -1.0   0.0  \n",
       "91007             0.0        -1.0   0.0  \n",
       "91008             0.0        -1.0   0.0  \n",
       "\n",
       "[91009 rows x 12 columns]"
      ]
     },
     "execution_count": 861,
     "metadata": {},
     "output_type": "execute_result"
    }
   ],
   "source": [
    "data"
   ]
  },
  {
   "cell_type": "markdown",
   "id": "15dfde95-39c0-4647-93db-cd1ec04d4a9e",
   "metadata": {
    "execution": {
     "iopub.execute_input": "2022-12-17T11:17:06.376983Z",
     "iopub.status.busy": "2022-12-17T11:17:06.376586Z",
     "iopub.status.idle": "2022-12-17T11:17:06.694236Z",
     "shell.execute_reply": "2022-12-17T11:17:06.692583Z",
     "shell.execute_reply.started": "2022-12-17T11:17:06.376962Z"
    },
    "tags": []
   },
   "source": [
    "Feature importances;\n",
    "\n",
    "Workplace: Time -> RN -> Profession -> SafeDeliveryApp -> Experiance -> KlpResultLevel -> UserinfoIsMyLearning -> Module_Key -> UserinfoIsActive -> UserinfoCountry\n",
    "\n",
    "Experiance: Time -> Profession -> KlpResultLevel -> Workplace -> SafeDeliveryApp -> UserinfoIsMyLearning -> Module_Key -> UserinfoIsActive -> UserinfoCountry\n",
    "\n",
    "SafeDeliveryApp: Time -> RN -> KlpResultLevel -> Workplace -> Experiance -> Profession -> UserinfoIsMyLearning -> Module_Key -> UserinfoCountry -> UserinfoIsActive\n",
    "\n",
    "Profession: Workplace -> Experiance -> Time -> RN -> SafeDeliveryApp -> KlpResultLevel -> UserinfoIsMyLearning -> UserinfoCountry -> UserinfoUserIsActive -> Module_Key\n",
    "\n",
    "We will first simply test how imputation of all these dimensions together work. Then we will try imputing the individual dimensions based on it's feature importance "
   ]
  },
  {
   "cell_type": "code",
   "execution_count": 863,
   "id": "0d47ccab-3d5e-46f1-8351-86c6bf5af765",
   "metadata": {
    "execution": {
     "iopub.execute_input": "2022-12-17T11:17:06.696933Z",
     "iopub.status.busy": "2022-12-17T11:17:06.696195Z",
     "iopub.status.idle": "2022-12-17T11:17:07.598327Z",
     "shell.execute_reply": "2022-12-17T11:17:07.597581Z",
     "shell.execute_reply.started": "2022-12-17T11:17:06.696878Z"
    },
    "tags": []
   },
   "outputs": [
    {
     "data": {
      "text/plain": [
       "<AxesSubplot:>"
      ]
     },
     "execution_count": 863,
     "metadata": {},
     "output_type": "execute_result"
    },
    {
     "data": {
      "image/png": "[encoded data removed]",
      "text/plain": [
       "<Figure size 1000x500 with 2 Axes>"
      ]
     },
     "metadata": {},
     "output_type": "display_data"
    }
   ],
   "source": [
    "msno.matrix(data, figsize=(10,5), fontsize=(12), color=(0.27,0.52,1.0)) \n",
    "# Right now our dataset is completely clean. We have 91009 rows, which should still give us a clear result."
   ]
  },
  {
   "cell_type": "code",
   "execution_count": 864,
   "id": "0ebfdc20-80ca-462c-9412-efa536ab79ba",
   "metadata": {
    "execution": {
     "iopub.execute_input": "2022-12-17T11:17:07.599358Z",
     "iopub.status.busy": "2022-12-17T11:17:07.599160Z",
     "iopub.status.idle": "2022-12-17T11:17:07.696840Z",
     "shell.execute_reply": "2022-12-17T11:17:07.696144Z",
     "shell.execute_reply.started": "2022-12-17T11:17:07.599339Z"
    },
    "tags": []
   },
   "outputs": [
    {
     "name": "stdout",
     "output_type": "stream",
     "text": [
      "Profession has 12.623449213512856 % of the true data is missing\n",
      "HealthcareWorker has 0.739279037709835 % of the true data is missing\n",
      "Experiance has 12.878373019619687 % of the true data missing\n",
      "WorkPlace has 5.013501520101215 % of the true data is missing\n",
      "SafeDeliveryApp has 13.549672375701036 % of the true data is missing\n"
     ]
    }
   ],
   "source": [
    "# So to test our model, we need to recreate a test set, that is as close to the original data as we can.\n",
    "print(f\"Profession has {100 - ( df_users_nanified['Profession'].value_counts().sum() / len(df_users_nanified.index)) * 100} % of the true data is missing\")\n",
    "print('')\n",
    "print(f\"HealthcareWorker has {100 - (df_users_nanified['HealthcareWorker'].value_counts().sum() / len(df_users_nanified.index)) * 100} % of the true data is missing\")\n",
    "print('')\n",
    "print(f\"Experiance has {100 - (df_users_nanified['Experiance'].value_counts().sum() / len(df_users_nanified.index)) * 100} % of the true data missing\")\n",
    "print('')\n",
    "print(f\"WorkPlace has {100 - (df_users_nanified['WorkPlace'].value_counts().sum() / len(df_users_nanified.index)) * 100} % of the true data is missing\")\n",
    "print('')\n",
    "print(f\"SafeDeliveryApp has {100 - (df_users_nanified['SafeDeliveryApp'].value_counts().sum() / len(df_users_nanified.index)) * 100} % of the true data is missing\")"
   ]
  },
  {
   "cell_type": "code",
   "execution_count": 865,
   "id": "8bbc1bbf-5f76-42e4-a203-06b26525b539",
   "metadata": {
    "execution": {
     "iopub.execute_input": "2022-12-17T11:17:07.697759Z",
     "iopub.status.busy": "2022-12-17T11:17:07.697585Z",
     "iopub.status.idle": "2022-12-17T11:17:07.953966Z",
     "shell.execute_reply": "2022-12-17T11:17:07.953154Z",
     "shell.execute_reply.started": "2022-12-17T11:17:07.697743Z"
    },
    "tags": []
   },
   "outputs": [
    {
     "name": "stderr",
     "output_type": "stream",
     "text": [
      "/tmp/ipykernel_54/1231861608.py:6: FutureWarning: The pandas.np module is deprecated and will be removed from pandas in a future version. Import numpy directly instead.\n",
      "  data.loc[data.sample(frac=0.126, random_state = seed).index, col] = pd.np.nan\n",
      "/tmp/ipykernel_54/1231861608.py:10: FutureWarning: The pandas.np module is deprecated and will be removed from pandas in a future version. Import numpy directly instead.\n",
      "  data.loc[data.sample(frac=0.05, random_state = seed).index, col] = pd.np.nan\n",
      "/tmp/ipykernel_54/1231861608.py:14: FutureWarning: The pandas.np module is deprecated and will be removed from pandas in a future version. Import numpy directly instead.\n",
      "  data.loc[data.sample(frac=0.128, random_state = seed).index, col] = pd.np.nan\n",
      "/tmp/ipykernel_54/1231861608.py:18: FutureWarning: The pandas.np module is deprecated and will be removed from pandas in a future version. Import numpy directly instead.\n",
      "  data.loc[data.sample(frac=0.007, random_state = seed).index, col] = pd.np.nan\n",
      "/tmp/ipykernel_54/1231861608.py:22: FutureWarning: The pandas.np module is deprecated and will be removed from pandas in a future version. Import numpy directly instead.\n",
      "  data.loc[data.sample(frac=0.135, random_state = seed).index, col] = pd.np.nan\n"
     ]
    }
   ],
   "source": [
    "# Let's introduce our NaN's to our test set\n",
    "# I want to recreate the rough percentages (frac=) of missingnesss\n",
    "#Percent missingness for Profession : roughly 13 %\n",
    "cols = ['Profession']\n",
    "for col in cols:\n",
    "    data.loc[data.sample(frac=0.126, random_state = seed).index, col] = pd.np.nan\n",
    "#Percent missingness for WorkPlace : roughly 5 %\n",
    "cols = ['WorkPlace']\n",
    "for col in cols:\n",
    "    data.loc[data.sample(frac=0.05, random_state = seed).index, col] = pd.np.nan\n",
    "#Percent missingness for Experiance : roughly 12 %    \n",
    "cols = ['Experiance']\n",
    "for col in cols:\n",
    "    data.loc[data.sample(frac=0.128, random_state = seed).index, col] = pd.np.nan\n",
    "#Percent missingness for HealthcareWorker : 0.7 %\n",
    "cols = ['HealthcareWorker']\n",
    "for col in cols:\n",
    "    data.loc[data.sample(frac=0.007, random_state = seed).index, col] = pd.np.nan\n",
    "#Percent missingness for SafeDeliveryApp  : 0.7 %\n",
    "cols = ['SafeDeliveryApp']\n",
    "for col in cols:\n",
    "    data.loc[data.sample(frac=0.135, random_state = seed).index, col] = pd.np.nan"
   ]
  },
  {
   "cell_type": "code",
   "execution_count": 866,
   "id": "9ac5fc6b-177c-4da9-be37-18d25e24d750",
   "metadata": {
    "execution": {
     "iopub.execute_input": "2022-12-17T11:17:09.863185Z",
     "iopub.status.busy": "2022-12-17T11:17:09.863003Z",
     "iopub.status.idle": "2022-12-17T11:17:10.395450Z",
     "shell.execute_reply": "2022-12-17T11:17:10.394880Z",
     "shell.execute_reply.started": "2022-12-17T11:17:09.863167Z"
    },
    "tags": []
   },
   "outputs": [
    {
     "data": {
      "text/plain": [
       "<AxesSubplot:>"
      ]
     },
     "execution_count": 866,
     "metadata": {},
     "output_type": "execute_result"
    },
    {
     "data": {
      "image/png": "[encoded data removed]",
      "text/plain": [
       "<Figure size 1000x500 with 3 Axes>"
      ]
     },
     "metadata": {},
     "output_type": "display_data"
    }
   ],
   "source": [
    "# So now our test data has the same proportional missingness. Let's try and use our pipeline, and then compare.\n",
    "msno.bar(data, figsize=(10,5), fontsize=(12), color=(0.27,0.52,1.0))"
   ]
  },
  {
   "cell_type": "markdown",
   "id": "97653d3e-5391-478a-928e-e36b0a69ecfc",
   "metadata": {
    "jp-MarkdownHeadingCollapsed": true,
    "tags": []
   },
   "source": [
    "# Model pipeline Building and imputation"
   ]
  },
  {
   "cell_type": "code",
   "execution_count": 951,
   "id": "d88a69b1-b53e-475c-8b43-312d34486a40",
   "metadata": {
    "execution": {
     "iopub.execute_input": "2022-12-17T11:34:15.116717Z",
     "iopub.status.busy": "2022-12-17T11:34:15.115891Z",
     "iopub.status.idle": "2022-12-17T11:34:15.129899Z",
     "shell.execute_reply": "2022-12-17T11:34:15.128887Z",
     "shell.execute_reply.started": "2022-12-17T11:34:15.116659Z"
    },
    "tags": []
   },
   "outputs": [],
   "source": [
    "# Start up our models\n",
    "# I begin with a relatively low level of neighbors, compared to the sample size, to see how it handles the imputation. \n",
    "# I also choose to base the imputation on the distance between neighbors, rather than a uniform distribution between all closest neighbours\n",
    "# Hopefully this means that our imputations should be slightly more accurate in terms of user characteristics\n",
    "#model = KNeighborsClassifier(n_neighbors=29,weights='distance',n_jobs=-1)\n",
    "model = KNeighborsRegressor(n_neighbors=100,weights='uniform',n_jobs=-1,)\n",
    "imputer = IterativeImputer(sample_posterior=False, random_state=seed,estimator=model, max_iter=100,initial_strategy='most_frequent')\n",
    "scaler = MinMaxScaler(feature_range=(0, 1))\n",
    "# Building the pipeline\n",
    "pipeline = Pipeline(\n",
    "    steps=[\n",
    "    ('s', scaler), # First we scale the data\n",
    "    ('i', imputer) # Then we fit the imputer and transform the NaN's\n",
    "    ]\n",
    ")"
   ]
  },
  {
   "cell_type": "markdown",
   "id": "b7c0c73f-55d0-4911-97e0-4ba3c1f9eca3",
   "metadata": {},
   "source": [
    "We also performed the imputation using a training and test set. Here we randomly took 75 % of the full clean dataframe for our training data.\n",
    "The remaining 25% went into our test set, into which we then injected NaN's in the same proportions as the original data.\n",
    "\n",
    "The results of this however was the same. Which is likely due to IterativeImputers functionality, where it doesn't work like most UML/SML models.\n",
    "Instead of being trained/fit on clean data, and then using this to transform a target dataframe, it simply fits and transforms the target data alone.\n",
    "This means that the clean data is mostly used as a point of reference in our testing, so that we can compare our imputations directly."
   ]
  },
  {
   "cell_type": "code",
   "execution_count": 952,
   "id": "bd42c38b-362f-427b-8483-c5e1a0d7b53b",
   "metadata": {
    "execution": {
     "iopub.execute_input": "2022-12-17T11:34:15.556550Z",
     "iopub.status.busy": "2022-12-17T11:34:15.555758Z",
     "iopub.status.idle": "2022-12-17T11:34:15.684599Z",
     "shell.execute_reply": "2022-12-17T11:34:15.683181Z",
     "shell.execute_reply.started": "2022-12-17T11:34:15.556492Z"
    },
    "tags": []
   },
   "outputs": [],
   "source": [
    "#pipeline.fit(training_data)"
   ]
  },
  {
   "cell_type": "code",
   "execution_count": 953,
   "id": "494aca11-bdb1-4dd3-ad7d-e76219a6b12f",
   "metadata": {
    "execution": {
     "iopub.execute_input": "2022-12-17T11:34:15.859649Z",
     "iopub.status.busy": "2022-12-17T11:34:15.858993Z",
     "iopub.status.idle": "2022-12-17T11:34:16.125350Z",
     "shell.execute_reply": "2022-12-17T11:34:16.123585Z",
     "shell.execute_reply.started": "2022-12-17T11:34:15.859592Z"
    },
    "tags": []
   },
   "outputs": [],
   "source": [
    "#data_imputed = pipeline.transform(testing_data)"
   ]
  },
  {
   "cell_type": "code",
   "execution_count": 954,
   "id": "ba4b0e56-d016-402f-84b1-15590393f195",
   "metadata": {
    "execution": {
     "iopub.execute_input": "2022-12-17T11:34:16.183024Z",
     "iopub.status.busy": "2022-12-17T11:34:16.182463Z",
     "iopub.status.idle": "2022-12-17T12:22:34.471238Z",
     "shell.execute_reply": "2022-12-17T12:22:34.469976Z",
     "shell.execute_reply.started": "2022-12-17T11:34:16.182973Z"
    },
    "tags": []
   },
   "outputs": [
    {
     "name": "stderr",
     "output_type": "stream",
     "text": [
      "/opt/conda/lib/python3.10/site-packages/sklearn/impute/_iterative.py:785: ConvergenceWarning: [IterativeImputer] Early stopping criterion not reached.\n",
      "  warnings.warn(\n"
     ]
    }
   ],
   "source": [
    "data_imputed = pipeline.fit_transform(data) # We transform the data, and save it as data_imputed"
   ]
  },
  {
   "cell_type": "code",
   "execution_count": 955,
   "id": "692d5759-c135-489f-b7cc-14a76bbdc3b6",
   "metadata": {
    "execution": {
     "iopub.execute_input": "2022-12-17T12:22:35.059227Z",
     "iopub.status.busy": "2022-12-17T12:22:35.058647Z",
     "iopub.status.idle": "2022-12-17T12:22:35.072641Z",
     "shell.execute_reply": "2022-12-17T12:22:35.071807Z",
     "shell.execute_reply.started": "2022-12-17T12:22:35.059175Z"
    },
    "tags": []
   },
   "outputs": [
    {
     "data": {
      "text/plain": [
       "array([[14.,  1.,  1., ...,  0., -1.,  0.],\n",
       "       [10.,  1.,  1., ...,  0., -1.,  0.],\n",
       "       [12.,  1.,  0., ...,  0., -1.,  0.],\n",
       "       ...,\n",
       "       [ 9.,  1.,  1., ...,  0., -1.,  0.],\n",
       "       [10.,  1.,  1., ...,  0., -1.,  0.],\n",
       "       [ 9.,  1.,  1., ...,  0., -1.,  0.]])"
      ]
     },
     "execution_count": 955,
     "metadata": {},
     "output_type": "execute_result"
    }
   ],
   "source": [
    "data_imputed = scaler.inverse_transform(data_imputed) \n",
    "# after the pipeline has imputed the data, we need to return it to the original scale. We scaled it down to a feature range of\n",
    "# 0-1 to help the model generalize from the data.\n",
    "data_imputed"
   ]
  },
  {
   "cell_type": "code",
   "execution_count": 956,
   "id": "f641eac7-c250-485f-8df3-c62cfee908cd",
   "metadata": {
    "execution": {
     "iopub.execute_input": "2022-12-17T12:22:35.076194Z",
     "iopub.status.busy": "2022-12-17T12:22:35.075561Z",
     "iopub.status.idle": "2022-12-17T12:22:35.368656Z",
     "shell.execute_reply": "2022-12-17T12:22:35.367397Z",
     "shell.execute_reply.started": "2022-12-17T12:22:35.076165Z"
    },
    "tags": []
   },
   "outputs": [
    {
     "data": {
      "text/html": [
       "<div>\n",
       "<style scoped>\n",
       "    .dataframe tbody tr th:only-of-type {\n",
       "        vertical-align: middle;\n",
       "    }\n",
       "\n",
       "    .dataframe tbody tr th {\n",
       "        vertical-align: top;\n",
       "    }\n",
       "\n",
       "    .dataframe thead th {\n",
       "        text-align: right;\n",
       "    }\n",
       "</style>\n",
       "<table border=\"1\" class=\"dataframe\">\n",
       "  <thead>\n",
       "    <tr style=\"text-align: right;\">\n",
       "      <th></th>\n",
       "      <th>0</th>\n",
       "      <th>1</th>\n",
       "      <th>2</th>\n",
       "      <th>3</th>\n",
       "      <th>4</th>\n",
       "      <th>5</th>\n",
       "      <th>6</th>\n",
       "      <th>7</th>\n",
       "      <th>8</th>\n",
       "      <th>9</th>\n",
       "      <th>10</th>\n",
       "      <th>11</th>\n",
       "    </tr>\n",
       "  </thead>\n",
       "  <tbody>\n",
       "    <tr>\n",
       "      <th>0</th>\n",
       "      <td>14</td>\n",
       "      <td>1</td>\n",
       "      <td>1</td>\n",
       "      <td>4</td>\n",
       "      <td>1</td>\n",
       "      <td>5</td>\n",
       "      <td>5</td>\n",
       "      <td>1</td>\n",
       "      <td>0</td>\n",
       "      <td>0</td>\n",
       "      <td>-1</td>\n",
       "      <td>0</td>\n",
       "    </tr>\n",
       "    <tr>\n",
       "      <th>1</th>\n",
       "      <td>10</td>\n",
       "      <td>1</td>\n",
       "      <td>1</td>\n",
       "      <td>4</td>\n",
       "      <td>1</td>\n",
       "      <td>2</td>\n",
       "      <td>3</td>\n",
       "      <td>1</td>\n",
       "      <td>0</td>\n",
       "      <td>0</td>\n",
       "      <td>-1</td>\n",
       "      <td>0</td>\n",
       "    </tr>\n",
       "    <tr>\n",
       "      <th>2</th>\n",
       "      <td>12</td>\n",
       "      <td>1</td>\n",
       "      <td>0</td>\n",
       "      <td>4</td>\n",
       "      <td>0</td>\n",
       "      <td>1</td>\n",
       "      <td>3</td>\n",
       "      <td>1</td>\n",
       "      <td>0</td>\n",
       "      <td>0</td>\n",
       "      <td>-1</td>\n",
       "      <td>0</td>\n",
       "    </tr>\n",
       "    <tr>\n",
       "      <th>3</th>\n",
       "      <td>15</td>\n",
       "      <td>1</td>\n",
       "      <td>1</td>\n",
       "      <td>1</td>\n",
       "      <td>1</td>\n",
       "      <td>2</td>\n",
       "      <td>5</td>\n",
       "      <td>1</td>\n",
       "      <td>0</td>\n",
       "      <td>0</td>\n",
       "      <td>-1</td>\n",
       "      <td>0</td>\n",
       "    </tr>\n",
       "    <tr>\n",
       "      <th>4</th>\n",
       "      <td>12</td>\n",
       "      <td>1</td>\n",
       "      <td>1</td>\n",
       "      <td>4</td>\n",
       "      <td>0</td>\n",
       "      <td>4</td>\n",
       "      <td>2</td>\n",
       "      <td>1</td>\n",
       "      <td>0</td>\n",
       "      <td>0</td>\n",
       "      <td>-1</td>\n",
       "      <td>0</td>\n",
       "    </tr>\n",
       "    <tr>\n",
       "      <th>...</th>\n",
       "      <td>...</td>\n",
       "      <td>...</td>\n",
       "      <td>...</td>\n",
       "      <td>...</td>\n",
       "      <td>...</td>\n",
       "      <td>...</td>\n",
       "      <td>...</td>\n",
       "      <td>...</td>\n",
       "      <td>...</td>\n",
       "      <td>...</td>\n",
       "      <td>...</td>\n",
       "      <td>...</td>\n",
       "    </tr>\n",
       "    <tr>\n",
       "      <th>91004</th>\n",
       "      <td>10</td>\n",
       "      <td>1</td>\n",
       "      <td>1</td>\n",
       "      <td>3</td>\n",
       "      <td>1</td>\n",
       "      <td>4</td>\n",
       "      <td>4</td>\n",
       "      <td>0</td>\n",
       "      <td>1</td>\n",
       "      <td>0</td>\n",
       "      <td>-1</td>\n",
       "      <td>0</td>\n",
       "    </tr>\n",
       "    <tr>\n",
       "      <th>91005</th>\n",
       "      <td>9</td>\n",
       "      <td>1</td>\n",
       "      <td>1</td>\n",
       "      <td>5</td>\n",
       "      <td>3</td>\n",
       "      <td>0</td>\n",
       "      <td>8</td>\n",
       "      <td>1</td>\n",
       "      <td>1</td>\n",
       "      <td>0</td>\n",
       "      <td>-1</td>\n",
       "      <td>0</td>\n",
       "    </tr>\n",
       "    <tr>\n",
       "      <th>91006</th>\n",
       "      <td>9</td>\n",
       "      <td>1</td>\n",
       "      <td>1</td>\n",
       "      <td>2</td>\n",
       "      <td>2</td>\n",
       "      <td>0</td>\n",
       "      <td>4</td>\n",
       "      <td>0</td>\n",
       "      <td>1</td>\n",
       "      <td>0</td>\n",
       "      <td>-1</td>\n",
       "      <td>0</td>\n",
       "    </tr>\n",
       "    <tr>\n",
       "      <th>91007</th>\n",
       "      <td>10</td>\n",
       "      <td>1</td>\n",
       "      <td>1</td>\n",
       "      <td>2</td>\n",
       "      <td>1</td>\n",
       "      <td>1</td>\n",
       "      <td>4</td>\n",
       "      <td>0</td>\n",
       "      <td>1</td>\n",
       "      <td>0</td>\n",
       "      <td>-1</td>\n",
       "      <td>0</td>\n",
       "    </tr>\n",
       "    <tr>\n",
       "      <th>91008</th>\n",
       "      <td>9</td>\n",
       "      <td>1</td>\n",
       "      <td>1</td>\n",
       "      <td>2</td>\n",
       "      <td>0</td>\n",
       "      <td>0</td>\n",
       "      <td>6</td>\n",
       "      <td>1</td>\n",
       "      <td>1</td>\n",
       "      <td>0</td>\n",
       "      <td>-1</td>\n",
       "      <td>0</td>\n",
       "    </tr>\n",
       "  </tbody>\n",
       "</table>\n",
       "<p>91009 rows × 12 columns</p>\n",
       "</div>"
      ],
      "text/plain": [
       "       0   1   2   3   4   5   6   7   8   9   10  11\n",
       "0      14   1   1   4   1   5   5   1   0   0  -1   0\n",
       "1      10   1   1   4   1   2   3   1   0   0  -1   0\n",
       "2      12   1   0   4   0   1   3   1   0   0  -1   0\n",
       "3      15   1   1   1   1   2   5   1   0   0  -1   0\n",
       "4      12   1   1   4   0   4   2   1   0   0  -1   0\n",
       "...    ..  ..  ..  ..  ..  ..  ..  ..  ..  ..  ..  ..\n",
       "91004  10   1   1   3   1   4   4   0   1   0  -1   0\n",
       "91005   9   1   1   5   3   0   8   1   1   0  -1   0\n",
       "91006   9   1   1   2   2   0   4   0   1   0  -1   0\n",
       "91007  10   1   1   2   1   1   4   0   1   0  -1   0\n",
       "91008   9   1   1   2   0   0   6   1   1   0  -1   0\n",
       "\n",
       "[91009 rows x 12 columns]"
      ]
     },
     "execution_count": 956,
     "metadata": {},
     "output_type": "execute_result"
    }
   ],
   "source": [
    "imputed_df = pd.DataFrame(data_imputed).astype(np.int64)\n",
    "imputed_df # Here we put the dataframe back together."
   ]
  },
  {
   "cell_type": "code",
   "execution_count": 957,
   "id": "f65d36b5-1eb5-407e-b419-3dc30ae66500",
   "metadata": {
    "execution": {
     "iopub.execute_input": "2022-12-17T12:22:35.369992Z",
     "iopub.status.busy": "2022-12-17T12:22:35.369746Z",
     "iopub.status.idle": "2022-12-17T12:22:35.513037Z",
     "shell.execute_reply": "2022-12-17T12:22:35.512429Z",
     "shell.execute_reply.started": "2022-12-17T12:22:35.369968Z"
    },
    "tags": []
   },
   "outputs": [],
   "source": [
    "# Let's get the names back to the imputed columns;\n",
    "for i in list(range(12)): #This needs to be the same number as the number of columns\n",
    "    imputed_df.rename(columns={i:list(data.columns)[i]},inplace = True)"
   ]
  },
  {
   "cell_type": "code",
   "execution_count": 958,
   "id": "98123d44-b4bd-4847-8f22-08cb01e6cf26",
   "metadata": {
    "execution": {
     "iopub.execute_input": "2022-12-17T12:22:35.514205Z",
     "iopub.status.busy": "2022-12-17T12:22:35.514018Z",
     "iopub.status.idle": "2022-12-17T12:22:35.552833Z",
     "shell.execute_reply": "2022-12-17T12:22:35.551887Z",
     "shell.execute_reply.started": "2022-12-17T12:22:35.514187Z"
    },
    "tags": []
   },
   "outputs": [
    {
     "data": {
      "text/html": [
       "<div>\n",
       "<style scoped>\n",
       "    .dataframe tbody tr th:only-of-type {\n",
       "        vertical-align: middle;\n",
       "    }\n",
       "\n",
       "    .dataframe tbody tr th {\n",
       "        vertical-align: top;\n",
       "    }\n",
       "\n",
       "    .dataframe thead th {\n",
       "        text-align: right;\n",
       "    }\n",
       "</style>\n",
       "<table border=\"1\" class=\"dataframe\">\n",
       "  <thead>\n",
       "    <tr style=\"text-align: right;\">\n",
       "      <th></th>\n",
       "      <th>RN</th>\n",
       "      <th>UserinfoCountry</th>\n",
       "      <th>HealthcareWorker</th>\n",
       "      <th>Profession</th>\n",
       "      <th>Experiance</th>\n",
       "      <th>WorkPlace</th>\n",
       "      <th>SafeDeliveryApp</th>\n",
       "      <th>UserinfoIsMyLearning</th>\n",
       "      <th>UserinfoUserIsActive</th>\n",
       "      <th>KlpResultLevel</th>\n",
       "      <th>Module_Key</th>\n",
       "      <th>Time</th>\n",
       "    </tr>\n",
       "  </thead>\n",
       "  <tbody>\n",
       "    <tr>\n",
       "      <th>0</th>\n",
       "      <td>14</td>\n",
       "      <td>1</td>\n",
       "      <td>1</td>\n",
       "      <td>4</td>\n",
       "      <td>1</td>\n",
       "      <td>5</td>\n",
       "      <td>5</td>\n",
       "      <td>1</td>\n",
       "      <td>0</td>\n",
       "      <td>0</td>\n",
       "      <td>-1</td>\n",
       "      <td>0</td>\n",
       "    </tr>\n",
       "    <tr>\n",
       "      <th>1</th>\n",
       "      <td>10</td>\n",
       "      <td>1</td>\n",
       "      <td>1</td>\n",
       "      <td>4</td>\n",
       "      <td>1</td>\n",
       "      <td>2</td>\n",
       "      <td>3</td>\n",
       "      <td>1</td>\n",
       "      <td>0</td>\n",
       "      <td>0</td>\n",
       "      <td>-1</td>\n",
       "      <td>0</td>\n",
       "    </tr>\n",
       "    <tr>\n",
       "      <th>2</th>\n",
       "      <td>12</td>\n",
       "      <td>1</td>\n",
       "      <td>0</td>\n",
       "      <td>4</td>\n",
       "      <td>0</td>\n",
       "      <td>1</td>\n",
       "      <td>3</td>\n",
       "      <td>1</td>\n",
       "      <td>0</td>\n",
       "      <td>0</td>\n",
       "      <td>-1</td>\n",
       "      <td>0</td>\n",
       "    </tr>\n",
       "    <tr>\n",
       "      <th>3</th>\n",
       "      <td>15</td>\n",
       "      <td>1</td>\n",
       "      <td>1</td>\n",
       "      <td>1</td>\n",
       "      <td>1</td>\n",
       "      <td>2</td>\n",
       "      <td>5</td>\n",
       "      <td>1</td>\n",
       "      <td>0</td>\n",
       "      <td>0</td>\n",
       "      <td>-1</td>\n",
       "      <td>0</td>\n",
       "    </tr>\n",
       "    <tr>\n",
       "      <th>4</th>\n",
       "      <td>12</td>\n",
       "      <td>1</td>\n",
       "      <td>1</td>\n",
       "      <td>4</td>\n",
       "      <td>0</td>\n",
       "      <td>4</td>\n",
       "      <td>2</td>\n",
       "      <td>1</td>\n",
       "      <td>0</td>\n",
       "      <td>0</td>\n",
       "      <td>-1</td>\n",
       "      <td>0</td>\n",
       "    </tr>\n",
       "    <tr>\n",
       "      <th>...</th>\n",
       "      <td>...</td>\n",
       "      <td>...</td>\n",
       "      <td>...</td>\n",
       "      <td>...</td>\n",
       "      <td>...</td>\n",
       "      <td>...</td>\n",
       "      <td>...</td>\n",
       "      <td>...</td>\n",
       "      <td>...</td>\n",
       "      <td>...</td>\n",
       "      <td>...</td>\n",
       "      <td>...</td>\n",
       "    </tr>\n",
       "    <tr>\n",
       "      <th>91004</th>\n",
       "      <td>10</td>\n",
       "      <td>1</td>\n",
       "      <td>1</td>\n",
       "      <td>3</td>\n",
       "      <td>1</td>\n",
       "      <td>4</td>\n",
       "      <td>4</td>\n",
       "      <td>0</td>\n",
       "      <td>1</td>\n",
       "      <td>0</td>\n",
       "      <td>-1</td>\n",
       "      <td>0</td>\n",
       "    </tr>\n",
       "    <tr>\n",
       "      <th>91005</th>\n",
       "      <td>9</td>\n",
       "      <td>1</td>\n",
       "      <td>1</td>\n",
       "      <td>5</td>\n",
       "      <td>3</td>\n",
       "      <td>0</td>\n",
       "      <td>8</td>\n",
       "      <td>1</td>\n",
       "      <td>1</td>\n",
       "      <td>0</td>\n",
       "      <td>-1</td>\n",
       "      <td>0</td>\n",
       "    </tr>\n",
       "    <tr>\n",
       "      <th>91006</th>\n",
       "      <td>9</td>\n",
       "      <td>1</td>\n",
       "      <td>1</td>\n",
       "      <td>2</td>\n",
       "      <td>2</td>\n",
       "      <td>0</td>\n",
       "      <td>4</td>\n",
       "      <td>0</td>\n",
       "      <td>1</td>\n",
       "      <td>0</td>\n",
       "      <td>-1</td>\n",
       "      <td>0</td>\n",
       "    </tr>\n",
       "    <tr>\n",
       "      <th>91007</th>\n",
       "      <td>10</td>\n",
       "      <td>1</td>\n",
       "      <td>1</td>\n",
       "      <td>2</td>\n",
       "      <td>1</td>\n",
       "      <td>1</td>\n",
       "      <td>4</td>\n",
       "      <td>0</td>\n",
       "      <td>1</td>\n",
       "      <td>0</td>\n",
       "      <td>-1</td>\n",
       "      <td>0</td>\n",
       "    </tr>\n",
       "    <tr>\n",
       "      <th>91008</th>\n",
       "      <td>9</td>\n",
       "      <td>1</td>\n",
       "      <td>1</td>\n",
       "      <td>2</td>\n",
       "      <td>0</td>\n",
       "      <td>0</td>\n",
       "      <td>6</td>\n",
       "      <td>1</td>\n",
       "      <td>1</td>\n",
       "      <td>0</td>\n",
       "      <td>-1</td>\n",
       "      <td>0</td>\n",
       "    </tr>\n",
       "  </tbody>\n",
       "</table>\n",
       "<p>91009 rows × 12 columns</p>\n",
       "</div>"
      ],
      "text/plain": [
       "       RN  UserinfoCountry  HealthcareWorker  Profession  Experiance  \\\n",
       "0      14                1                 1           4           1   \n",
       "1      10                1                 1           4           1   \n",
       "2      12                1                 0           4           0   \n",
       "3      15                1                 1           1           1   \n",
       "4      12                1                 1           4           0   \n",
       "...    ..              ...               ...         ...         ...   \n",
       "91004  10                1                 1           3           1   \n",
       "91005   9                1                 1           5           3   \n",
       "91006   9                1                 1           2           2   \n",
       "91007  10                1                 1           2           1   \n",
       "91008   9                1                 1           2           0   \n",
       "\n",
       "       WorkPlace  SafeDeliveryApp  UserinfoIsMyLearning  UserinfoUserIsActive  \\\n",
       "0              5                5                     1                     0   \n",
       "1              2                3                     1                     0   \n",
       "2              1                3                     1                     0   \n",
       "3              2                5                     1                     0   \n",
       "4              4                2                     1                     0   \n",
       "...          ...              ...                   ...                   ...   \n",
       "91004          4                4                     0                     1   \n",
       "91005          0                8                     1                     1   \n",
       "91006          0                4                     0                     1   \n",
       "91007          1                4                     0                     1   \n",
       "91008          0                6                     1                     1   \n",
       "\n",
       "       KlpResultLevel  Module_Key  Time  \n",
       "0                   0          -1     0  \n",
       "1                   0          -1     0  \n",
       "2                   0          -1     0  \n",
       "3                   0          -1     0  \n",
       "4                   0          -1     0  \n",
       "...               ...         ...   ...  \n",
       "91004               0          -1     0  \n",
       "91005               0          -1     0  \n",
       "91006               0          -1     0  \n",
       "91007               0          -1     0  \n",
       "91008               0          -1     0  \n",
       "\n",
       "[91009 rows x 12 columns]"
      ]
     },
     "execution_count": 958,
     "metadata": {},
     "output_type": "execute_result"
    }
   ],
   "source": [
    "imputed_df # There we go. Now let's compare the distributions of our imputed labels to the true labels;"
   ]
  },
  {
   "cell_type": "markdown",
   "id": "a87cc21a-bfb5-420a-82da-06f003fed5bb",
   "metadata": {
    "tags": []
   },
   "source": [
    "# Test results for imputation on full dataframe"
   ]
  },
  {
   "cell_type": "code",
   "execution_count": 959,
   "id": "a6240df0-0456-4ed5-b7b3-649b8fe69a3b",
   "metadata": {
    "execution": {
     "iopub.execute_input": "2022-12-17T12:22:35.553844Z",
     "iopub.status.busy": "2022-12-17T12:22:35.553658Z",
     "iopub.status.idle": "2022-12-17T12:22:35.619571Z",
     "shell.execute_reply": "2022-12-17T12:22:35.618633Z",
     "shell.execute_reply.started": "2022-12-17T12:22:35.553825Z"
    },
    "tags": []
   },
   "outputs": [],
   "source": [
    "def mse(imputed, true):\n",
    "    return ((imputed - true) ** 2).mean()\n",
    "\n",
    "# Calculate MAE\n",
    "def mae(imputed, true):\n",
    "    return (np.abs(imputed - true)).mean()"
   ]
  },
  {
   "cell_type": "markdown",
   "id": "2f70d544-2e94-47ef-805f-81174b073030",
   "metadata": {},
   "source": [
    "We can look at the MSE between our true and imputed values, to see how good our imputations are.\n",
    "For most of the interesting dimensions, they seem to have a relatively low number score, besides SafeDeliveryApp\n",
    "Seeing as the data is label encoded, and most of these contain 5-6 labels, these low MSE score indicate that we are close to the original mean value.\n",
    "Although SafeDeliveryApp does contain 9 labels, it is still not a very decent score."
   ]
  },
  {
   "cell_type": "code",
   "execution_count": 998,
   "id": "d3e3d8a1-8ac4-47c1-8ba0-7b355ab8557e",
   "metadata": {
    "execution": {
     "iopub.execute_input": "2022-12-17T13:01:16.438629Z",
     "iopub.status.busy": "2022-12-17T13:01:16.437937Z",
     "iopub.status.idle": "2022-12-17T13:01:16.496179Z",
     "shell.execute_reply": "2022-12-17T13:01:16.495483Z",
     "shell.execute_reply.started": "2022-12-17T13:01:16.438572Z"
    },
    "tags": []
   },
   "outputs": [
    {
     "ename": "NameError",
     "evalue": "name 'imputed_df' is not defined",
     "output_type": "error",
     "traceback": [
      "\u001b[0;31m---------------------------------------------------------------------------\u001b[0m",
      "\u001b[0;31mNameError\u001b[0m                                 Traceback (most recent call last)",
      "Cell \u001b[0;32mIn [1], line 1\u001b[0m\n\u001b[0;32m----> 1\u001b[0m mse_results \u001b[38;5;241m=\u001b[39m \u001b[43mimputed_df\u001b[49m\u001b[38;5;241m.\u001b[39mastype(np\u001b[38;5;241m.\u001b[39mint64)\u001b[38;5;241m.\u001b[39mapply(\u001b[38;5;28;01mlambda\u001b[39;00m x: mse(x, true_data[x\u001b[38;5;241m.\u001b[39mname]))\n\u001b[1;32m      2\u001b[0m mae_results \u001b[38;5;241m=\u001b[39m imputed_df\u001b[38;5;241m.\u001b[39mastype(np\u001b[38;5;241m.\u001b[39mint64)\u001b[38;5;241m.\u001b[39mapply(\u001b[38;5;28;01mlambda\u001b[39;00m x: mae(x, true_data[x\u001b[38;5;241m.\u001b[39mname]))\n\u001b[1;32m      3\u001b[0m variance \u001b[38;5;241m=\u001b[39m true_data\u001b[38;5;241m.\u001b[39mapply(\u001b[38;5;28;01mlambda\u001b[39;00m x: x\u001b[38;5;241m.\u001b[39mvar())\n",
      "\u001b[0;31mNameError\u001b[0m: name 'imputed_df' is not defined"
     ]
    }
   ],
   "source": [
    "mse_results = imputed_df.apply(lambda x: mse(x, true_data[x.name]))\n",
    "mae_results = imputed_df.apply(lambda x: mae(x, true_data[x.name]))\n",
    "variance = true_data.apply(lambda x: x.var())\n",
    "mad = true_data.apply(lambda x: x.mad())\n",
    "\n",
    "print(\"Variance of true data:\")\n",
    "print(variance)\n",
    "print('')\n",
    "print(\"Mean Absolute Deviation of true data:\")\n",
    "print(mad)\n",
    "print('')\n",
    "print(\"Mean Square Error results between imputation and true data:\")\n",
    "print(mse_results)\n",
    "print('')\n",
    "print(\"Mean Absolute Error results between imputation and true data:\")\n",
    "print(mae_results)"
   ]
  },
  {
   "cell_type": "markdown",
   "id": "78dce2c1-5c2a-445c-b490-4d7ee3535ad9",
   "metadata": {},
   "source": [
    "If we compare these values to the variation of the true data, we can better evaluate the quality of our imputation model.\n",
    "\n",
    "For Profession, we see that the variation is around 1.4, which means our MSE is significantly under.\n",
    "This means our estimate is pretty solid when compared to the true mean of Profession\n",
    "\n",
    "For Experiance, we see the same thing. Our estimate relative to the true mean is pretty solid.\n",
    "\n",
    "For WorkPlace, our estimate relative to the mean value is really strong. Our MSE here is only 0.136866 relative to the variation of 2.02\n",
    "\n",
    "For SafeDeliveryApp, estimate also seems pretty solid when looking at the comparison between MSE and variation."
   ]
  },
  {
   "cell_type": "code",
   "execution_count": 963,
   "id": "2a26ab22-b63b-4a2c-9653-a7683907f673",
   "metadata": {
    "execution": {
     "iopub.execute_input": "2022-12-17T12:22:35.893890Z",
     "iopub.status.busy": "2022-12-17T12:22:35.893701Z",
     "iopub.status.idle": "2022-12-17T12:22:36.031837Z",
     "shell.execute_reply": "2022-12-17T12:22:36.030959Z",
     "shell.execute_reply.started": "2022-12-17T12:22:35.893872Z"
    },
    "tags": []
   },
   "outputs": [
    {
     "data": {
      "text/plain": [
       "RN                          0.000000\n",
       "UserinfoCountry             0.000000\n",
       "HealthcareWorker            0.000000\n",
       "Profession              -8504.000000\n",
       "Experiance              -6308.000000\n",
       "WorkPlace               -3266.000000\n",
       "SafeDeliveryApp        -12478.000000\n",
       "UserinfoIsMyLearning        0.000000\n",
       "UserinfoUserIsActive        0.000000\n",
       "KlpResultLevel          -4952.122461\n",
       "Module_Key               -198.000000\n",
       "Time                    -2193.000000\n",
       "dtype: float64"
      ]
     },
     "execution_count": 963,
     "metadata": {},
     "output_type": "execute_result"
    }
   ],
   "source": [
    "imputed_df.subtract(true_data).sum() #First let's take a look at our difference matrix for each column;"
   ]
  },
  {
   "cell_type": "code",
   "execution_count": 964,
   "id": "7c2633c2-1197-4c41-9599-b54fd34c046f",
   "metadata": {
    "execution": {
     "iopub.execute_input": "2022-12-17T12:22:36.033992Z",
     "iopub.status.busy": "2022-12-17T12:22:36.033509Z",
     "iopub.status.idle": "2022-12-17T12:22:36.321100Z",
     "shell.execute_reply": "2022-12-17T12:22:36.320577Z",
     "shell.execute_reply.started": "2022-12-17T12:22:36.033959Z"
    },
    "tags": []
   },
   "outputs": [
    {
     "data": {
      "image/png": "[encoded data removed]",
      "text/plain": [
       "<Figure size 640x480 with 2 Axes>"
      ]
     },
     "metadata": {},
     "output_type": "display_data"
    }
   ],
   "source": [
    "# Let's also compare the distribution of the labels in the true data versus imputed data.\n",
    "plt.subplot(1, 2, 1)\n",
    "plt.hist(true_data['Profession'],rwidth=0.9)\n",
    "plt.title('Profession True Data')\n",
    "plt.xlabel('Labels')\n",
    "plt.ylabel('Count')\n",
    "plt.xticks([0,1,2,3,4,5])\n",
    "\n",
    "plt.subplot(1, 2, 2)\n",
    "plt.hist(imputed_df['Profession'].astype(np.int64),rwidth=0.9)\n",
    "plt.title('Profession Imputed Data')\n",
    "plt.xlabel('Labels')\n",
    "plt.ylabel('Count')\n",
    "plt.xticks([0,1,2,3,4,5])\n",
    "\n",
    "plt.tight_layout()\n",
    "plt.show()"
   ]
  },
  {
   "cell_type": "code",
   "execution_count": 965,
   "id": "7af76607-d0d4-4991-9bbd-c63e50a4bba2",
   "metadata": {
    "execution": {
     "iopub.execute_input": "2022-12-17T12:22:36.322263Z",
     "iopub.status.busy": "2022-12-17T12:22:36.322070Z",
     "iopub.status.idle": "2022-12-17T12:22:36.445229Z",
     "shell.execute_reply": "2022-12-17T12:22:36.443860Z",
     "shell.execute_reply.started": "2022-12-17T12:22:36.322246Z"
    },
    "tags": []
   },
   "outputs": [
    {
     "name": "stdout",
     "output_type": "stream",
     "text": [
      "0     2308\n",
      "1    15779\n",
      "2    52181\n",
      "3     3083\n",
      "4    10952\n",
      "5     6706\n",
      "Name: Profession, dtype: int64\n"
     ]
    }
   ],
   "source": [
    "# Finally, we can directly calculate the number of misplaced labels by simply comparing the label counts of the true versus imputed data:\n",
    "print(true_data['Profession'].value_counts().sort_index())"
   ]
  },
  {
   "cell_type": "code",
   "execution_count": 966,
   "id": "163d5594-716c-4814-8f02-bac3dd37af0a",
   "metadata": {
    "execution": {
     "iopub.execute_input": "2022-12-17T12:22:36.448101Z",
     "iopub.status.busy": "2022-12-17T12:22:36.447523Z",
     "iopub.status.idle": "2022-12-17T12:22:36.661095Z",
     "shell.execute_reply": "2022-12-17T12:22:36.659855Z",
     "shell.execute_reply.started": "2022-12-17T12:22:36.448050Z"
    },
    "tags": []
   },
   "outputs": [
    {
     "name": "stdout",
     "output_type": "stream",
     "text": [
      "0     2001\n",
      "1    19413\n",
      "2    51324\n",
      "3     2802\n",
      "4     9588\n",
      "5     5881\n",
      "Name: Profession, dtype: int64\n"
     ]
    }
   ],
   "source": [
    "print(imputed_df['Profession'].astype(np.int64).value_counts().sort_index())"
   ]
  },
  {
   "cell_type": "code",
   "execution_count": 967,
   "id": "7c2f4b91-c214-41e9-82c7-f4e2fb37daee",
   "metadata": {
    "execution": {
     "iopub.execute_input": "2022-12-17T12:22:36.663180Z",
     "iopub.status.busy": "2022-12-17T12:22:36.662806Z",
     "iopub.status.idle": "2022-12-17T12:22:36.722580Z",
     "shell.execute_reply": "2022-12-17T12:22:36.721424Z",
     "shell.execute_reply.started": "2022-12-17T12:22:36.663144Z"
    },
    "tags": []
   },
   "outputs": [
    {
     "name": "stdout",
     "output_type": "stream",
     "text": [
      "0    -307\n",
      "1    3634\n",
      "2    -857\n",
      "3    -281\n",
      "4   -1364\n",
      "5    -825\n",
      "Name: Profession, dtype: int64\n"
     ]
    }
   ],
   "source": [
    "#These can be considered to be in a kind of equilibrium, where all values should sum to 0 regardless of accuracy.\n",
    "#This means we can take the total sum of either, and divide by the original number of missing values for each feature, to find our prediction accuracy as a percentage.\n",
    "print(imputed_df['Profession'].astype(np.int64).value_counts().sort_index() - true_data['Profession'].value_counts().sort_index())"
   ]
  },
  {
   "cell_type": "code",
   "execution_count": 991,
   "id": "7c025b5a-c37c-4346-9b3f-3384e3d92cce",
   "metadata": {
    "execution": {
     "iopub.execute_input": "2022-12-17T12:26:06.275313Z",
     "iopub.status.busy": "2022-12-17T12:26:06.274632Z",
     "iopub.status.idle": "2022-12-17T12:26:06.284170Z",
     "shell.execute_reply": "2022-12-17T12:26:06.282727Z",
     "shell.execute_reply.started": "2022-12-17T12:26:06.275258Z"
    },
    "tags": []
   },
   "outputs": [
    {
     "name": "stdout",
     "output_type": "stream",
     "text": [
      " Accuracy for Profession: 69.28452553720385 %\n",
      " Percent misplaced labels: 30.715474462796156 %\n"
     ]
    }
   ],
   "source": [
    "print(f' Accuracy for Profession: {100 - (3634 / (0.13 * len(true_data.index)) * 100)} %')\n",
    "print(f' Percent misplaced labels: {(3634 / (0.13 * len(true_data.index))) * 100} %')"
   ]
  },
  {
   "cell_type": "code",
   "execution_count": 969,
   "id": "816a0be6-5007-4a56-a64e-8efe58f39db6",
   "metadata": {
    "execution": {
     "iopub.execute_input": "2022-12-17T12:22:36.751684Z",
     "iopub.status.busy": "2022-12-17T12:22:36.751297Z",
     "iopub.status.idle": "2022-12-17T12:22:36.773207Z",
     "shell.execute_reply": "2022-12-17T12:22:36.771571Z",
     "shell.execute_reply.started": "2022-12-17T12:22:36.751648Z"
    },
    "tags": []
   },
   "outputs": [],
   "source": [
    "#Profession has 87.37655078648714 % of the true data. This equals 0.13 * 91000 = 11830 for our test data.\n",
    "# (2822 + 61) / 11830 ) * 100 = 24.37 % misplaced labels. Accuracy is therefore 75.63% for fit_transform(data) method."
   ]
  },
  {
   "cell_type": "code",
   "execution_count": 970,
   "id": "fe578eb6-51d8-4116-9e31-41da3a9dbe93",
   "metadata": {
    "execution": {
     "iopub.execute_input": "2022-12-17T12:22:36.775964Z",
     "iopub.status.busy": "2022-12-17T12:22:36.775263Z",
     "iopub.status.idle": "2022-12-17T12:22:37.036904Z",
     "shell.execute_reply": "2022-12-17T12:22:37.036078Z",
     "shell.execute_reply.started": "2022-12-17T12:22:36.775911Z"
    },
    "tags": []
   },
   "outputs": [
    {
     "data": {
      "image/png": "[encoded data removed]",
      "text/plain": [
       "<Figure size 640x480 with 2 Axes>"
      ]
     },
     "metadata": {},
     "output_type": "display_data"
    }
   ],
   "source": [
    "plt.subplot(1, 2, 1)\n",
    "plt.hist(true_data['Experiance'])\n",
    "plt.title('Experiance True Data')\n",
    "plt.xlabel('Labels')\n",
    "plt.ylabel('Count')\n",
    "\n",
    "plt.subplot(1, 2, 2)\n",
    "plt.hist(imputed_df['Experiance'].astype(np.int64))\n",
    "plt.title('Experiance Imputed Data')\n",
    "plt.xlabel('Labels')\n",
    "plt.ylabel('Count')\n",
    "\n",
    "plt.tight_layout()\n",
    "plt.show()"
   ]
  },
  {
   "cell_type": "code",
   "execution_count": 971,
   "id": "99cbe313-25fd-4f37-bef3-9699ffb9f43a",
   "metadata": {
    "execution": {
     "iopub.execute_input": "2022-12-17T12:22:37.037907Z",
     "iopub.status.busy": "2022-12-17T12:22:37.037717Z",
     "iopub.status.idle": "2022-12-17T12:22:37.045029Z",
     "shell.execute_reply": "2022-12-17T12:22:37.044227Z",
     "shell.execute_reply.started": "2022-12-17T12:22:37.037890Z"
    },
    "tags": []
   },
   "outputs": [
    {
     "name": "stdout",
     "output_type": "stream",
     "text": [
      "0    29934\n",
      "1    20468\n",
      "2    17919\n",
      "3    10984\n",
      "4    11704\n",
      "Name: Experiance, dtype: int64\n"
     ]
    }
   ],
   "source": [
    "print(true_data['Experiance'].value_counts().sort_index())"
   ]
  },
  {
   "cell_type": "code",
   "execution_count": 972,
   "id": "a17465c7-ac48-4c26-86b6-12994c5f2c14",
   "metadata": {
    "execution": {
     "iopub.execute_input": "2022-12-17T12:22:37.045917Z",
     "iopub.status.busy": "2022-12-17T12:22:37.045753Z",
     "iopub.status.idle": "2022-12-17T12:22:37.203036Z",
     "shell.execute_reply": "2022-12-17T12:22:37.201749Z",
     "shell.execute_reply.started": "2022-12-17T12:22:37.045902Z"
    },
    "tags": []
   },
   "outputs": [
    {
     "name": "stdout",
     "output_type": "stream",
     "text": [
      "0    26649\n",
      "1    28879\n",
      "2    15726\n",
      "3     9585\n",
      "4    10170\n",
      "Name: Experiance, dtype: int64\n"
     ]
    }
   ],
   "source": [
    "print(imputed_df['Experiance'].astype(np.int64).value_counts().sort_index())"
   ]
  },
  {
   "cell_type": "code",
   "execution_count": 973,
   "id": "6d9da69b-2b06-469a-9527-d1d620e41f75",
   "metadata": {
    "execution": {
     "iopub.execute_input": "2022-12-17T12:22:37.205333Z",
     "iopub.status.busy": "2022-12-17T12:22:37.205044Z",
     "iopub.status.idle": "2022-12-17T12:22:37.382910Z",
     "shell.execute_reply": "2022-12-17T12:22:37.381583Z",
     "shell.execute_reply.started": "2022-12-17T12:22:37.205307Z"
    },
    "tags": []
   },
   "outputs": [
    {
     "name": "stdout",
     "output_type": "stream",
     "text": [
      "0   -3285\n",
      "1    8411\n",
      "2   -2193\n",
      "3   -1399\n",
      "4   -1534\n",
      "Name: Experiance, dtype: int64\n"
     ]
    }
   ],
   "source": [
    "print(imputed_df['Experiance'].astype(np.int64).value_counts().sort_index() - true_data['Experiance'].value_counts().sort_index())"
   ]
  },
  {
   "cell_type": "code",
   "execution_count": 992,
   "id": "e7ee5a82-3731-478d-8f0b-4cc7efc8bd39",
   "metadata": {
    "execution": {
     "iopub.execute_input": "2022-12-17T12:26:35.387588Z",
     "iopub.status.busy": "2022-12-17T12:26:35.386758Z",
     "iopub.status.idle": "2022-12-17T12:26:35.395952Z",
     "shell.execute_reply": "2022-12-17T12:26:35.394520Z",
     "shell.execute_reply.started": "2022-12-17T12:26:35.387532Z"
    },
    "tags": []
   },
   "outputs": [
    {
     "name": "stdout",
     "output_type": "stream",
     "text": [
      " Accuracy for Experiance: 27.797319495874035 %\n",
      " Percent misplaced labels: 72.20268050412596 %\n"
     ]
    }
   ],
   "source": [
    "print(f' Accuracy for Experiance: {100 - (8411 / (0.128 * len(true_data.index)) * 100)} %')\n",
    "print(f' Percent misplaced labels: {(8411 / (0.128 * len(true_data.index))) * 100} %')"
   ]
  },
  {
   "cell_type": "code",
   "execution_count": 975,
   "id": "8c978cab-8a5e-48e4-bbab-189f86889aff",
   "metadata": {
    "execution": {
     "iopub.execute_input": "2022-12-17T12:22:37.659768Z",
     "iopub.status.busy": "2022-12-17T12:22:37.659232Z",
     "iopub.status.idle": "2022-12-17T12:22:37.690866Z",
     "shell.execute_reply": "2022-12-17T12:22:37.689069Z",
     "shell.execute_reply.started": "2022-12-17T12:22:37.659731Z"
    },
    "tags": []
   },
   "outputs": [],
   "source": [
    "#Experiance has 87.12162698038031 % of the true data. This equals 0.13 * 91000 = 11830 for our test data.\n",
    "# 7757 / 11830 ) * 100 = 65.57 % misplaced labels. Accuracy is therefore 34.43 % for fit_transform(data) method. "
   ]
  },
  {
   "cell_type": "code",
   "execution_count": 976,
   "id": "8c4df959-fac0-4b82-8d30-76da4a584ec0",
   "metadata": {
    "execution": {
     "iopub.execute_input": "2022-12-17T12:22:37.693434Z",
     "iopub.status.busy": "2022-12-17T12:22:37.692857Z",
     "iopub.status.idle": "2022-12-17T12:22:37.899571Z",
     "shell.execute_reply": "2022-12-17T12:22:37.898834Z",
     "shell.execute_reply.started": "2022-12-17T12:22:37.693367Z"
    },
    "tags": []
   },
   "outputs": [
    {
     "data": {
      "image/png": "[encoded data removed]",
      "text/plain": [
       "<Figure size 640x480 with 2 Axes>"
      ]
     },
     "metadata": {},
     "output_type": "display_data"
    }
   ],
   "source": [
    "plt.subplot(1, 2, 1)\n",
    "plt.hist(true_data['HealthcareWorker'])\n",
    "plt.title('HealthcareWorker True Data')\n",
    "plt.xlabel('Labels')\n",
    "plt.ylabel('Count')\n",
    "plt.xticks([0,1])\n",
    "\n",
    "plt.subplot(1, 2, 2)\n",
    "plt.hist(imputed_df['HealthcareWorker'].astype(np.int64))\n",
    "plt.title('HealthcareWorker Imputed Data')\n",
    "plt.xlabel('Labels')\n",
    "plt.ylabel('Count')\n",
    "plt.xticks([0,1])\n",
    "\n",
    "plt.tight_layout()\n",
    "plt.show()"
   ]
  },
  {
   "cell_type": "code",
   "execution_count": 977,
   "id": "291862e9-3c23-495b-9ed2-be2b127c9802",
   "metadata": {
    "execution": {
     "iopub.execute_input": "2022-12-17T12:22:37.900786Z",
     "iopub.status.busy": "2022-12-17T12:22:37.900579Z",
     "iopub.status.idle": "2022-12-17T12:22:37.907088Z",
     "shell.execute_reply": "2022-12-17T12:22:37.906496Z",
     "shell.execute_reply.started": "2022-12-17T12:22:37.900767Z"
    },
    "tags": []
   },
   "outputs": [
    {
     "name": "stdout",
     "output_type": "stream",
     "text": [
      "0       15\n",
      "1    90994\n",
      "Name: HealthcareWorker, dtype: int64\n"
     ]
    }
   ],
   "source": [
    "print(true_data['HealthcareWorker'].value_counts().sort_index())"
   ]
  },
  {
   "cell_type": "code",
   "execution_count": 978,
   "id": "922f47dc-d1a6-442d-9b21-e1bf7940f869",
   "metadata": {
    "execution": {
     "iopub.execute_input": "2022-12-17T12:22:37.907915Z",
     "iopub.status.busy": "2022-12-17T12:22:37.907748Z",
     "iopub.status.idle": "2022-12-17T12:22:38.014654Z",
     "shell.execute_reply": "2022-12-17T12:22:38.013412Z",
     "shell.execute_reply.started": "2022-12-17T12:22:37.907899Z"
    },
    "tags": []
   },
   "outputs": [
    {
     "name": "stdout",
     "output_type": "stream",
     "text": [
      "0       15\n",
      "1    90994\n",
      "Name: HealthcareWorker, dtype: int64\n"
     ]
    }
   ],
   "source": [
    "print(imputed_df['HealthcareWorker'].astype(np.int64).value_counts().sort_index())"
   ]
  },
  {
   "cell_type": "code",
   "execution_count": 979,
   "id": "01463bd6-796f-4e71-80b0-30cc6ecd3559",
   "metadata": {
    "execution": {
     "iopub.execute_input": "2022-12-17T12:22:38.017088Z",
     "iopub.status.busy": "2022-12-17T12:22:38.016274Z",
     "iopub.status.idle": "2022-12-17T12:22:38.033843Z",
     "shell.execute_reply": "2022-12-17T12:22:38.032689Z",
     "shell.execute_reply.started": "2022-12-17T12:22:38.017049Z"
    },
    "tags": []
   },
   "outputs": [
    {
     "name": "stdout",
     "output_type": "stream",
     "text": [
      "0    0\n",
      "1    0\n",
      "Name: HealthcareWorker, dtype: int64\n"
     ]
    }
   ],
   "source": [
    "print(true_data['HealthcareWorker'].value_counts().sort_index() - imputed_df['HealthcareWorker'].astype(np.int64).value_counts().sort_index())"
   ]
  },
  {
   "cell_type": "code",
   "execution_count": 980,
   "id": "59ea2080-fdac-4301-923c-33cbe7f48cd4",
   "metadata": {
    "execution": {
     "iopub.execute_input": "2022-12-17T12:22:38.040234Z",
     "iopub.status.busy": "2022-12-17T12:22:38.039824Z",
     "iopub.status.idle": "2022-12-17T12:22:38.047417Z",
     "shell.execute_reply": "2022-12-17T12:22:38.046772Z",
     "shell.execute_reply.started": "2022-12-17T12:22:38.040210Z"
    },
    "tags": []
   },
   "outputs": [],
   "source": [
    "# All true values found, no much of a surprise with less than 1% missing."
   ]
  },
  {
   "cell_type": "code",
   "execution_count": 981,
   "id": "718ac39b-1656-456f-a809-dabfa9423d82",
   "metadata": {
    "execution": {
     "iopub.execute_input": "2022-12-17T12:22:38.048340Z",
     "iopub.status.busy": "2022-12-17T12:22:38.048161Z",
     "iopub.status.idle": "2022-12-17T12:22:38.292962Z",
     "shell.execute_reply": "2022-12-17T12:22:38.292252Z",
     "shell.execute_reply.started": "2022-12-17T12:22:38.048323Z"
    },
    "tags": []
   },
   "outputs": [
    {
     "data": {
      "image/png": "[encoded data removed]",
      "text/plain": [
       "<Figure size 640x480 with 2 Axes>"
      ]
     },
     "metadata": {},
     "output_type": "display_data"
    }
   ],
   "source": [
    "plt.subplot(1, 2, 1)\n",
    "plt.hist(true_data['WorkPlace'],rwidth=0.7)\n",
    "plt.title('WorkPlace True Data')\n",
    "plt.xlabel('Labels')\n",
    "plt.ylabel('Count')\n",
    "plt.xticks([0,1,2,3,4,5])\n",
    "\n",
    "plt.subplot(1, 2, 2)\n",
    "plt.hist(imputed_df['WorkPlace'].astype(np.int64),rwidth=0.7)\n",
    "plt.title('WorkPlace Imputed Data')\n",
    "plt.xlabel('Labels')\n",
    "plt.ylabel('Count')\n",
    "plt.xticks([0,1,2,3,4,5])\n",
    "\n",
    "plt.tight_layout()\n",
    "plt.show()"
   ]
  },
  {
   "cell_type": "code",
   "execution_count": 982,
   "id": "29dad85a-3336-4923-91f9-ebb0ab863d27",
   "metadata": {
    "execution": {
     "iopub.execute_input": "2022-12-17T12:22:38.293912Z",
     "iopub.status.busy": "2022-12-17T12:22:38.293725Z",
     "iopub.status.idle": "2022-12-17T12:22:38.300015Z",
     "shell.execute_reply": "2022-12-17T12:22:38.299449Z",
     "shell.execute_reply.started": "2022-12-17T12:22:38.293894Z"
    },
    "tags": []
   },
   "outputs": [
    {
     "name": "stdout",
     "output_type": "stream",
     "text": [
      "0     9300\n",
      "1     6901\n",
      "2    38911\n",
      "3     4624\n",
      "4    23806\n",
      "5     7467\n",
      "Name: WorkPlace, dtype: int64\n"
     ]
    }
   ],
   "source": [
    "print(true_data['WorkPlace'].value_counts().sort_index())"
   ]
  },
  {
   "cell_type": "code",
   "execution_count": 983,
   "id": "ad8a4449-95b5-4aae-a510-4e86a144fef2",
   "metadata": {
    "execution": {
     "iopub.execute_input": "2022-12-17T12:22:38.300853Z",
     "iopub.status.busy": "2022-12-17T12:22:38.300684Z",
     "iopub.status.idle": "2022-12-17T12:22:38.517180Z",
     "shell.execute_reply": "2022-12-17T12:22:38.515848Z",
     "shell.execute_reply.started": "2022-12-17T12:22:38.300837Z"
    },
    "tags": []
   },
   "outputs": [
    {
     "name": "stdout",
     "output_type": "stream",
     "text": [
      "0     8855\n",
      "1     7502\n",
      "2    40389\n",
      "3     4550\n",
      "4    22607\n",
      "5     7106\n",
      "Name: WorkPlace, dtype: int64\n"
     ]
    }
   ],
   "source": [
    "print(imputed_df['WorkPlace'].value_counts().sort_index())"
   ]
  },
  {
   "cell_type": "code",
   "execution_count": 984,
   "id": "809a9aaf-60ae-4211-88f0-85b1947e154a",
   "metadata": {
    "execution": {
     "iopub.execute_input": "2022-12-17T12:22:38.519158Z",
     "iopub.status.busy": "2022-12-17T12:22:38.518786Z",
     "iopub.status.idle": "2022-12-17T12:22:38.940367Z",
     "shell.execute_reply": "2022-12-17T12:22:38.938719Z",
     "shell.execute_reply.started": "2022-12-17T12:22:38.519124Z"
    },
    "tags": []
   },
   "outputs": [
    {
     "name": "stdout",
     "output_type": "stream",
     "text": [
      "0     445\n",
      "1    -601\n",
      "2   -1478\n",
      "3      74\n",
      "4    1199\n",
      "5     361\n",
      "Name: WorkPlace, dtype: int64\n"
     ]
    }
   ],
   "source": [
    "print(true_data['WorkPlace'].value_counts().sort_index() - imputed_df['WorkPlace'].value_counts().sort_index())"
   ]
  },
  {
   "cell_type": "code",
   "execution_count": 993,
   "id": "97a3231c-989d-411b-9087-45cefa831c4a",
   "metadata": {
    "execution": {
     "iopub.execute_input": "2022-12-17T12:27:24.664396Z",
     "iopub.status.busy": "2022-12-17T12:27:24.663619Z",
     "iopub.status.idle": "2022-12-17T12:27:24.672228Z",
     "shell.execute_reply": "2022-12-17T12:27:24.670896Z",
     "shell.execute_reply.started": "2022-12-17T12:27:24.664338Z"
    },
    "tags": []
   },
   "outputs": [
    {
     "name": "stdout",
     "output_type": "stream",
     "text": [
      " Accuracy for WorkPlace: 54.31221088024261 %\n",
      " Percent misplaced labels: 45.68778911975739 %\n"
     ]
    }
   ],
   "source": [
    "print(f' Accuracy for WorkPlace: {100 - ((601 + 1478) / (0.05 * len(true_data.index)) * 100)} %')\n",
    "print(f' Percent misplaced labels: {(601 + 1478) / (0.05 * len(true_data.index)) * 100} %')"
   ]
  },
  {
   "cell_type": "code",
   "execution_count": 986,
   "id": "68b27a1d-e3be-4c1b-b376-0ddf3708b7c4",
   "metadata": {
    "execution": {
     "iopub.execute_input": "2022-12-17T12:22:39.062027Z",
     "iopub.status.busy": "2022-12-17T12:22:39.061351Z",
     "iopub.status.idle": "2022-12-17T12:22:39.546443Z",
     "shell.execute_reply": "2022-12-17T12:22:39.545750Z",
     "shell.execute_reply.started": "2022-12-17T12:22:39.061985Z"
    },
    "tags": []
   },
   "outputs": [
    {
     "data": {
      "image/png": "[encoded data removed]",
      "text/plain": [
       "<Figure size 640x480 with 2 Axes>"
      ]
     },
     "metadata": {},
     "output_type": "display_data"
    }
   ],
   "source": [
    "plt.subplot(1, 2, 1)\n",
    "plt.hist(true_data['SafeDeliveryApp'],rwidth=0.7)\n",
    "plt.title('SafeDeliveryApp True Data')\n",
    "plt.xlabel('Labels')\n",
    "plt.ylabel('Count')\n",
    "#plt.xticks([0,1,2,3,4,5])\n",
    "\n",
    "plt.subplot(1, 2, 2)\n",
    "plt.hist(imputed_df['SafeDeliveryApp'].astype(np.int64),rwidth=0.7)\n",
    "plt.title('SafeDeliveryApp Imputed Data')\n",
    "plt.xlabel('Labels')\n",
    "plt.ylabel('Count')\n",
    "#plt.xticks([0,1,2,3,4,5])\n",
    "\n",
    "plt.tight_layout()\n",
    "plt.show()"
   ]
  },
  {
   "cell_type": "code",
   "execution_count": 987,
   "id": "714eafbb-7681-4e65-bbc1-6c12403bddb7",
   "metadata": {
    "execution": {
     "iopub.execute_input": "2022-12-17T12:22:39.547378Z",
     "iopub.status.busy": "2022-12-17T12:22:39.547200Z",
     "iopub.status.idle": "2022-12-17T12:22:39.555843Z",
     "shell.execute_reply": "2022-12-17T12:22:39.553175Z",
     "shell.execute_reply.started": "2022-12-17T12:22:39.547362Z"
    },
    "tags": []
   },
   "outputs": [
    {
     "name": "stdout",
     "output_type": "stream",
     "text": [
      "0     6099\n",
      "1     1829\n",
      "2     4192\n",
      "3    11697\n",
      "4     9813\n",
      "5    12290\n",
      "6     2201\n",
      "7     4512\n",
      "8    24599\n",
      "9    13777\n",
      "Name: SafeDeliveryApp, dtype: int64\n"
     ]
    }
   ],
   "source": [
    "print(true_data['SafeDeliveryApp'].astype(np.int64).value_counts().sort_index())"
   ]
  },
  {
   "cell_type": "code",
   "execution_count": 988,
   "id": "53e6516b-553f-4066-b940-00e89f36d2f5",
   "metadata": {
    "execution": {
     "iopub.execute_input": "2022-12-17T12:22:39.558251Z",
     "iopub.status.busy": "2022-12-17T12:22:39.557786Z",
     "iopub.status.idle": "2022-12-17T12:22:39.628155Z",
     "shell.execute_reply": "2022-12-17T12:22:39.627154Z",
     "shell.execute_reply.started": "2022-12-17T12:22:39.558208Z"
    },
    "tags": []
   },
   "outputs": [
    {
     "name": "stdout",
     "output_type": "stream",
     "text": [
      "0     5267\n",
      "1     1598\n",
      "2     3602\n",
      "3    10482\n",
      "4    12261\n",
      "5    15351\n",
      "6     9216\n",
      "7       20\n",
      "8    21288\n",
      "9    11924\n",
      "Name: SafeDeliveryApp, dtype: int64\n"
     ]
    }
   ],
   "source": [
    "print(imputed_df['SafeDeliveryApp'].astype(np.int64).value_counts().sort_index())"
   ]
  },
  {
   "cell_type": "code",
   "execution_count": 989,
   "id": "ae26c76e-b0a8-4877-ad7d-ea03f0d8c22c",
   "metadata": {
    "execution": {
     "iopub.execute_input": "2022-12-17T12:22:39.630364Z",
     "iopub.status.busy": "2022-12-17T12:22:39.629677Z",
     "iopub.status.idle": "2022-12-17T12:22:39.668229Z",
     "shell.execute_reply": "2022-12-17T12:22:39.667434Z",
     "shell.execute_reply.started": "2022-12-17T12:22:39.630324Z"
    },
    "tags": []
   },
   "outputs": [
    {
     "name": "stdout",
     "output_type": "stream",
     "text": [
      "0     832\n",
      "1     231\n",
      "2     590\n",
      "3    1215\n",
      "4   -2448\n",
      "5   -3061\n",
      "6   -7015\n",
      "7    4492\n",
      "8    3311\n",
      "9    1853\n",
      "Name: SafeDeliveryApp, dtype: int64\n"
     ]
    }
   ],
   "source": [
    "print(true_data['SafeDeliveryApp'].astype(np.int64).value_counts().sort_index() - imputed_df['SafeDeliveryApp'].astype(np.int64).value_counts().sort_index())"
   ]
  },
  {
   "cell_type": "code",
   "execution_count": 994,
   "id": "741f0cd3-2d48-4850-b88d-606d2363a027",
   "metadata": {
    "execution": {
     "iopub.execute_input": "2022-12-17T12:28:05.207288Z",
     "iopub.status.busy": "2022-12-17T12:28:05.206502Z",
     "iopub.status.idle": "2022-12-17T12:28:05.215228Z",
     "shell.execute_reply": "2022-12-17T12:28:05.213873Z",
     "shell.execute_reply.started": "2022-12-17T12:28:05.207231Z"
    },
    "tags": []
   },
   "outputs": [
    {
     "name": "stdout",
     "output_type": "stream",
     "text": [
      " Accuracy for SafeDeliveryApp: 1.7051688765475461 %\n",
      " Percent misplaced labels: 98.29483112345245 %\n"
     ]
    }
   ],
   "source": [
    "print(f' Accuracy for SafeDeliveryApp: {100 - ((2448+3061+7015) / (0.14 * len(true_data.index)) * 100)} %')\n",
    "print(f' Percent misplaced labels: {((2448+3061+7015) / (0.14 * len(true_data.index))) * 100} %')"
   ]
  },
  {
   "cell_type": "markdown",
   "id": "244e0f47-a1aa-4868-86cb-e439209c7a58",
   "metadata": {
    "jp-MarkdownHeadingCollapsed": true,
    "tags": []
   },
   "source": [
    "# Imputation directly by feature importance - SafeDeliveryApp"
   ]
  },
  {
   "cell_type": "markdown",
   "id": "2a791606-6a9d-477f-924d-22eb6fe87084",
   "metadata": {
    "execution": {
     "iopub.execute_input": "2022-12-17T11:22:19.142192Z",
     "iopub.status.busy": "2022-12-17T11:22:19.141499Z",
     "iopub.status.idle": "2022-12-17T11:22:19.529944Z",
     "shell.execute_reply": "2022-12-17T11:22:19.528569Z",
     "shell.execute_reply.started": "2022-12-17T11:22:19.142139Z"
    },
    "jp-MarkdownHeadingCollapsed": true,
    "tags": []
   },
   "source": [
    "Let's try building data sets based on the direct feature importances for each feature, and then impute these systematically rather than collectively.\n",
    "First we will do SafeDeliveryApp, as we can capture 68% of the feature importance, without the use of the other missing data dimensions.\n",
    "Next we will do WorkPlace, as we will then hopefully be able to use SDA data for that imputation. With SDA we capture 70.5% of the feature importance.\n",
    "Thirdly we will impute Profession, again using the previously imputed dimensions in order to reach 72% of the total explained feature importance.\n",
    "Finally we will impute Experiance. This has proven to be the most difficult dimensions besides our previous attempts at location data imputation."
   ]
  },
  {
   "cell_type": "code",
   "execution_count": null,
   "id": "6037072c-c4ad-4790-bf05-a1f48432b888",
   "metadata": {
    "execution": {
     "iopub.execute_input": "2022-12-17T11:22:19.532912Z",
     "iopub.status.busy": "2022-12-17T11:22:19.532191Z",
     "iopub.status.idle": "2022-12-17T11:22:19.938819Z",
     "shell.execute_reply": "2022-12-17T11:22:19.937616Z",
     "shell.execute_reply.started": "2022-12-17T11:22:19.532859Z"
    },
    "tags": []
   },
   "outputs": [
    {
     "data": {
      "text/plain": [
       "Index(['RN', 'UserinfoCountry', 'HealthcareWorker', 'Profession', 'Experiance',\n",
       "       'WorkPlace', 'SafeDeliveryApp', 'UserinfoIsMyLearning',\n",
       "       'UserinfoUserIsActive', 'KlpResultLevel', 'Module_Key', 'Time'],\n",
       "      dtype='object')"
      ]
     },
     "execution_count": 909,
     "metadata": {},
     "output_type": "execute_result"
    }
   ],
   "source": [
    "data.columns"
   ]
  },
  {
   "cell_type": "code",
   "execution_count": 910,
   "id": "cb70006f-7372-4464-aa81-82ad5e48de57",
   "metadata": {
    "execution": {
     "iopub.execute_input": "2022-12-17T11:22:19.941523Z",
     "iopub.status.busy": "2022-12-17T11:22:19.940920Z",
     "iopub.status.idle": "2022-12-17T11:22:20.174073Z",
     "shell.execute_reply": "2022-12-17T11:22:20.172718Z",
     "shell.execute_reply.started": "2022-12-17T11:22:19.941478Z"
    },
    "tags": []
   },
   "outputs": [],
   "source": [
    "data_SDA = data[['SafeDeliveryApp','Time','RN','KlpResultLevel','UserinfoCountry','UserinfoUserIsActive','HealthcareWorker','Module_Key']]\n",
    "data_SDA_true = data[['SafeDeliveryApp','Time','RN','KlpResultLevel','UserinfoCountry','UserinfoUserIsActive','HealthcareWorker','Module_Key']]"
   ]
  },
  {
   "cell_type": "code",
   "execution_count": 272,
   "id": "c9aec9e9-481f-4956-88f4-0353044a5d58",
   "metadata": {
    "execution": {
     "iopub.execute_input": "2022-12-16T20:03:08.750544Z",
     "iopub.status.busy": "2022-12-16T20:03:08.749898Z",
     "iopub.status.idle": "2022-12-16T20:03:08.773993Z",
     "shell.execute_reply": "2022-12-16T20:03:08.773263Z",
     "shell.execute_reply.started": "2022-12-16T20:03:08.750487Z"
    },
    "tags": []
   },
   "outputs": [
    {
     "data": {
      "text/html": [
       "<div>\n",
       "<style scoped>\n",
       "    .dataframe tbody tr th:only-of-type {\n",
       "        vertical-align: middle;\n",
       "    }\n",
       "\n",
       "    .dataframe tbody tr th {\n",
       "        vertical-align: top;\n",
       "    }\n",
       "\n",
       "    .dataframe thead th {\n",
       "        text-align: right;\n",
       "    }\n",
       "</style>\n",
       "<table border=\"1\" class=\"dataframe\">\n",
       "  <thead>\n",
       "    <tr style=\"text-align: right;\">\n",
       "      <th></th>\n",
       "      <th>SafeDeliveryApp</th>\n",
       "      <th>Time</th>\n",
       "      <th>RN</th>\n",
       "      <th>KlpResultLevel</th>\n",
       "      <th>UserinfoCountry</th>\n",
       "      <th>UserinfoUserIsActive</th>\n",
       "      <th>HealthcareWorker</th>\n",
       "      <th>Module_Key</th>\n",
       "    </tr>\n",
       "  </thead>\n",
       "  <tbody>\n",
       "    <tr>\n",
       "      <th>0</th>\n",
       "      <td>5</td>\n",
       "      <td>0.0</td>\n",
       "      <td>14.0</td>\n",
       "      <td>0.0</td>\n",
       "      <td>1</td>\n",
       "      <td>0.0</td>\n",
       "      <td>1</td>\n",
       "      <td>-1.0</td>\n",
       "    </tr>\n",
       "    <tr>\n",
       "      <th>1</th>\n",
       "      <td>3</td>\n",
       "      <td>0.0</td>\n",
       "      <td>10.0</td>\n",
       "      <td>0.0</td>\n",
       "      <td>1</td>\n",
       "      <td>0.0</td>\n",
       "      <td>1</td>\n",
       "      <td>-1.0</td>\n",
       "    </tr>\n",
       "    <tr>\n",
       "      <th>2</th>\n",
       "      <td>3</td>\n",
       "      <td>0.0</td>\n",
       "      <td>12.0</td>\n",
       "      <td>0.0</td>\n",
       "      <td>1</td>\n",
       "      <td>0.0</td>\n",
       "      <td>0</td>\n",
       "      <td>-1.0</td>\n",
       "    </tr>\n",
       "    <tr>\n",
       "      <th>3</th>\n",
       "      <td>5</td>\n",
       "      <td>0.0</td>\n",
       "      <td>15.0</td>\n",
       "      <td>0.0</td>\n",
       "      <td>1</td>\n",
       "      <td>0.0</td>\n",
       "      <td>1</td>\n",
       "      <td>-1.0</td>\n",
       "    </tr>\n",
       "    <tr>\n",
       "      <th>4</th>\n",
       "      <td>2</td>\n",
       "      <td>0.0</td>\n",
       "      <td>12.0</td>\n",
       "      <td>0.0</td>\n",
       "      <td>1</td>\n",
       "      <td>0.0</td>\n",
       "      <td>1</td>\n",
       "      <td>-1.0</td>\n",
       "    </tr>\n",
       "    <tr>\n",
       "      <th>...</th>\n",
       "      <td>...</td>\n",
       "      <td>...</td>\n",
       "      <td>...</td>\n",
       "      <td>...</td>\n",
       "      <td>...</td>\n",
       "      <td>...</td>\n",
       "      <td>...</td>\n",
       "      <td>...</td>\n",
       "    </tr>\n",
       "    <tr>\n",
       "      <th>91004</th>\n",
       "      <td>4</td>\n",
       "      <td>0.0</td>\n",
       "      <td>10.0</td>\n",
       "      <td>0.0</td>\n",
       "      <td>1</td>\n",
       "      <td>1.0</td>\n",
       "      <td>1</td>\n",
       "      <td>-1.0</td>\n",
       "    </tr>\n",
       "    <tr>\n",
       "      <th>91005</th>\n",
       "      <td>8</td>\n",
       "      <td>0.0</td>\n",
       "      <td>9.0</td>\n",
       "      <td>0.0</td>\n",
       "      <td>1</td>\n",
       "      <td>1.0</td>\n",
       "      <td>1</td>\n",
       "      <td>-1.0</td>\n",
       "    </tr>\n",
       "    <tr>\n",
       "      <th>91006</th>\n",
       "      <td>4</td>\n",
       "      <td>0.0</td>\n",
       "      <td>9.0</td>\n",
       "      <td>0.0</td>\n",
       "      <td>1</td>\n",
       "      <td>1.0</td>\n",
       "      <td>1</td>\n",
       "      <td>-1.0</td>\n",
       "    </tr>\n",
       "    <tr>\n",
       "      <th>91007</th>\n",
       "      <td>5</td>\n",
       "      <td>0.0</td>\n",
       "      <td>10.0</td>\n",
       "      <td>0.0</td>\n",
       "      <td>1</td>\n",
       "      <td>1.0</td>\n",
       "      <td>1</td>\n",
       "      <td>-1.0</td>\n",
       "    </tr>\n",
       "    <tr>\n",
       "      <th>91008</th>\n",
       "      <td>6</td>\n",
       "      <td>0.0</td>\n",
       "      <td>9.0</td>\n",
       "      <td>0.0</td>\n",
       "      <td>1</td>\n",
       "      <td>1.0</td>\n",
       "      <td>1</td>\n",
       "      <td>-1.0</td>\n",
       "    </tr>\n",
       "  </tbody>\n",
       "</table>\n",
       "<p>91009 rows × 8 columns</p>\n",
       "</div>"
      ],
      "text/plain": [
       "       SafeDeliveryApp  Time    RN  KlpResultLevel  UserinfoCountry  \\\n",
       "0                    5   0.0  14.0             0.0                1   \n",
       "1                    3   0.0  10.0             0.0                1   \n",
       "2                    3   0.0  12.0             0.0                1   \n",
       "3                    5   0.0  15.0             0.0                1   \n",
       "4                    2   0.0  12.0             0.0                1   \n",
       "...                ...   ...   ...             ...              ...   \n",
       "91004                4   0.0  10.0             0.0                1   \n",
       "91005                8   0.0   9.0             0.0                1   \n",
       "91006                4   0.0   9.0             0.0                1   \n",
       "91007                5   0.0  10.0             0.0                1   \n",
       "91008                6   0.0   9.0             0.0                1   \n",
       "\n",
       "       UserinfoUserIsActive  HealthcareWorker  Module_Key  \n",
       "0                       0.0                 1        -1.0  \n",
       "1                       0.0                 1        -1.0  \n",
       "2                       0.0                 0        -1.0  \n",
       "3                       0.0                 1        -1.0  \n",
       "4                       0.0                 1        -1.0  \n",
       "...                     ...               ...         ...  \n",
       "91004                   1.0                 1        -1.0  \n",
       "91005                   1.0                 1        -1.0  \n",
       "91006                   1.0                 1        -1.0  \n",
       "91007                   1.0                 1        -1.0  \n",
       "91008                   1.0                 1        -1.0  \n",
       "\n",
       "[91009 rows x 8 columns]"
      ]
     },
     "execution_count": 272,
     "metadata": {},
     "output_type": "execute_result"
    }
   ],
   "source": [
    "data_SDA_true"
   ]
  },
  {
   "cell_type": "code",
   "execution_count": 277,
   "id": "9ff0c97f-684c-463f-851d-466b34ce2aab",
   "metadata": {
    "execution": {
     "iopub.execute_input": "2022-12-16T20:03:31.643982Z",
     "iopub.status.busy": "2022-12-16T20:03:31.643074Z",
     "iopub.status.idle": "2022-12-16T20:03:31.661454Z",
     "shell.execute_reply": "2022-12-16T20:03:31.660606Z",
     "shell.execute_reply.started": "2022-12-16T20:03:31.643921Z"
    },
    "tags": []
   },
   "outputs": [
    {
     "name": "stderr",
     "output_type": "stream",
     "text": [
      "/tmp/ipykernel_54/2533812282.py:5: FutureWarning: The pandas.np module is deprecated and will be removed from pandas in a future version. Import numpy directly instead.\n",
      "  data_SDA.loc[data_SDA.sample(frac=0.14, random_state = seed).index, col] = pd.np.nan\n"
     ]
    }
   ],
   "source": [
    "#Percent missingness for SafeDeliveryApp : roughly 14 %\n",
    "\n",
    "cols = ['SafeDeliveryApp']\n",
    "for col in cols:\n",
    "    data_SDA.loc[data_SDA.sample(frac=0.14, random_state = seed).index, col] = pd.np.nan"
   ]
  },
  {
   "cell_type": "code",
   "execution_count": 278,
   "id": "130fca2c-317f-4726-a0b5-34fd66230dcb",
   "metadata": {
    "execution": {
     "iopub.execute_input": "2022-12-16T20:03:33.219104Z",
     "iopub.status.busy": "2022-12-16T20:03:33.218182Z",
     "iopub.status.idle": "2022-12-16T20:03:33.231502Z",
     "shell.execute_reply": "2022-12-16T20:03:33.230554Z",
     "shell.execute_reply.started": "2022-12-16T20:03:33.219042Z"
    },
    "tags": []
   },
   "outputs": [
    {
     "data": {
      "text/plain": [
       "SafeDeliveryApp         12741\n",
       "Time                        0\n",
       "RN                          0\n",
       "KlpResultLevel              0\n",
       "UserinfoCountry             0\n",
       "UserinfoUserIsActive        0\n",
       "HealthcareWorker            0\n",
       "Module_Key                  0\n",
       "dtype: int64"
      ]
     },
     "execution_count": 278,
     "metadata": {},
     "output_type": "execute_result"
    }
   ],
   "source": [
    "data_SDA.isnull().sum()"
   ]
  },
  {
   "cell_type": "code",
   "execution_count": 297,
   "id": "7fd8761c-01c7-42a5-9130-763e9c47f486",
   "metadata": {
    "execution": {
     "iopub.execute_input": "2022-12-16T20:16:25.124915Z",
     "iopub.status.busy": "2022-12-16T20:16:25.124137Z",
     "iopub.status.idle": "2022-12-16T20:16:25.135296Z",
     "shell.execute_reply": "2022-12-16T20:16:25.134448Z",
     "shell.execute_reply.started": "2022-12-16T20:16:25.124859Z"
    },
    "tags": []
   },
   "outputs": [],
   "source": [
    "model_SDA = KNeighborsRegressor(n_neighbors=10,weights='distance',n_jobs=-1,)\n",
    "imputer_SDA = IterativeImputer(sample_posterior=False, random_state=seed,estimator=model, max_iter=30,initial_strategy='constant')\n",
    "scaler = MinMaxScaler(feature_range=(0, 1))\n",
    "# Building the pipeline\n",
    "pipeline_SDA = Pipeline(\n",
    "    steps=[\n",
    "    ('s', scaler), # First we scale the data\n",
    "    ('i', imputer) # Then we fit the imputer and transform the NaN's\n",
    "    ]\n",
    ")"
   ]
  },
  {
   "cell_type": "code",
   "execution_count": 298,
   "id": "26de8b9d-295b-4302-8837-679fc5d651d0",
   "metadata": {
    "execution": {
     "iopub.execute_input": "2022-12-16T20:16:31.229740Z",
     "iopub.status.busy": "2022-12-16T20:16:31.229090Z",
     "iopub.status.idle": "2022-12-16T20:16:38.432577Z",
     "shell.execute_reply": "2022-12-16T20:16:38.431722Z",
     "shell.execute_reply.started": "2022-12-16T20:16:31.229684Z"
    },
    "tags": []
   },
   "outputs": [],
   "source": [
    "#Let's try to just fit_transform it\n",
    "SDA_imputed = pipeline_SDA.fit_transform(data_SDA)"
   ]
  },
  {
   "cell_type": "code",
   "execution_count": 299,
   "id": "07d363e6-323f-4f9d-8045-7e2618f7b74a",
   "metadata": {
    "execution": {
     "iopub.execute_input": "2022-12-16T20:16:38.464627Z",
     "iopub.status.busy": "2022-12-16T20:16:38.464393Z",
     "iopub.status.idle": "2022-12-16T20:16:38.470770Z",
     "shell.execute_reply": "2022-12-16T20:16:38.470107Z",
     "shell.execute_reply.started": "2022-12-16T20:16:38.464607Z"
    },
    "tags": []
   },
   "outputs": [],
   "source": [
    "# A bit of tech wizardry to reverse our data back to a more recognizable format\n",
    "SDA_imputed = scaler.inverse_transform(SDA_imputed)"
   ]
  },
  {
   "cell_type": "code",
   "execution_count": 300,
   "id": "5dd6b91e-badb-4f0b-b8d4-c364ee98f4eb",
   "metadata": {
    "execution": {
     "iopub.execute_input": "2022-12-16T20:16:38.473034Z",
     "iopub.status.busy": "2022-12-16T20:16:38.472487Z",
     "iopub.status.idle": "2022-12-16T20:16:38.489011Z",
     "shell.execute_reply": "2022-12-16T20:16:38.487799Z",
     "shell.execute_reply.started": "2022-12-16T20:16:38.473012Z"
    },
    "tags": []
   },
   "outputs": [],
   "source": [
    "# Let's get the names back to the imputed columns;\n",
    "SDA_imputed = pd.DataFrame(SDA_imputed).astype(np.int64)\n",
    "for i in list(range(0,6)):\n",
    "    SDA_imputed.rename(columns={i:list(data_SDA_true.columns)[i]},inplace = True)"
   ]
  },
  {
   "cell_type": "code",
   "execution_count": 301,
   "id": "e33939a2-8102-44b8-99b8-c002a434cf7c",
   "metadata": {
    "execution": {
     "iopub.execute_input": "2022-12-16T20:16:38.490214Z",
     "iopub.status.busy": "2022-12-16T20:16:38.489965Z",
     "iopub.status.idle": "2022-12-16T20:16:38.505462Z",
     "shell.execute_reply": "2022-12-16T20:16:38.504721Z",
     "shell.execute_reply.started": "2022-12-16T20:16:38.490194Z"
    },
    "tags": []
   },
   "outputs": [
    {
     "data": {
      "text/plain": [
       "Index([     'SafeDeliveryApp',                 'Time',                   'RN',\n",
       "             'KlpResultLevel',      'UserinfoCountry', 'UserinfoUserIsActive',\n",
       "                            6,                      7],\n",
       "      dtype='object')"
      ]
     },
     "execution_count": 301,
     "metadata": {},
     "output_type": "execute_result"
    }
   ],
   "source": [
    "SDA_imputed.columns"
   ]
  },
  {
   "cell_type": "code",
   "execution_count": 302,
   "id": "ded5c4f7-1940-49c1-98fd-48cc3c8c54f1",
   "metadata": {
    "execution": {
     "iopub.execute_input": "2022-12-16T20:16:38.506857Z",
     "iopub.status.busy": "2022-12-16T20:16:38.506444Z",
     "iopub.status.idle": "2022-12-16T20:16:38.755835Z",
     "shell.execute_reply": "2022-12-16T20:16:38.751715Z",
     "shell.execute_reply.started": "2022-12-16T20:16:38.506830Z"
    },
    "tags": []
   },
   "outputs": [
    {
     "data": {
      "image/png": "[encoded data removed]",
      "text/plain": [
       "<Figure size 640x480 with 2 Axes>"
      ]
     },
     "metadata": {},
     "output_type": "display_data"
    }
   ],
   "source": [
    "plt.subplot(1, 2, 1)\n",
    "plt.hist(data_SDA_true['SafeDeliveryApp'],rwidth=0.7)\n",
    "plt.title('SafeDeliveryApp True Data')\n",
    "plt.xlabel('Labels')\n",
    "plt.ylabel('Count')\n",
    "#plt.xticks([0,1,2,3,4,5])\n",
    "\n",
    "plt.subplot(1, 2, 2)\n",
    "plt.hist(SDA_imputed['SafeDeliveryApp'],rwidth=0.7)\n",
    "plt.title('SafeDeliveryApp Imputed Data')\n",
    "plt.xlabel('Labels')\n",
    "plt.ylabel('Count')\n",
    "#plt.xticks([0,1,2,3,4,5])\n",
    "\n",
    "plt.tight_layout()\n",
    "plt.show()"
   ]
  },
  {
   "cell_type": "code",
   "execution_count": 303,
   "id": "6ef60124-2b8d-47ed-9f1b-1346eb7b8753",
   "metadata": {
    "execution": {
     "iopub.execute_input": "2022-12-16T20:16:38.757060Z",
     "iopub.status.busy": "2022-12-16T20:16:38.756850Z",
     "iopub.status.idle": "2022-12-16T20:16:38.766033Z",
     "shell.execute_reply": "2022-12-16T20:16:38.765399Z",
     "shell.execute_reply.started": "2022-12-16T20:16:38.757039Z"
    },
    "tags": []
   },
   "outputs": [
    {
     "data": {
      "text/plain": [
       "0     5264\n",
       "1     1610\n",
       "2     4376\n",
       "3    10596\n",
       "4    12965\n",
       "5    15394\n",
       "6     7167\n",
       "7      417\n",
       "8    21336\n",
       "9    11884\n",
       "Name: SafeDeliveryApp, dtype: int64"
      ]
     },
     "execution_count": 303,
     "metadata": {},
     "output_type": "execute_result"
    }
   ],
   "source": [
    "SDA_imputed['SafeDeliveryApp'].astype(np.int64).value_counts().sort_index()"
   ]
  },
  {
   "cell_type": "code",
   "execution_count": 304,
   "id": "69541e2a-455b-429f-9c3e-b14305761998",
   "metadata": {
    "execution": {
     "iopub.execute_input": "2022-12-16T20:16:38.767026Z",
     "iopub.status.busy": "2022-12-16T20:16:38.766828Z",
     "iopub.status.idle": "2022-12-16T20:16:38.790048Z",
     "shell.execute_reply": "2022-12-16T20:16:38.789154Z",
     "shell.execute_reply.started": "2022-12-16T20:16:38.767006Z"
    },
    "tags": []
   },
   "outputs": [
    {
     "name": "stdout",
     "output_type": "stream",
     "text": [
      "0    -835\n",
      "1    -219\n",
      "2     184\n",
      "3   -1101\n",
      "4    3152\n",
      "5    3104\n",
      "6    4966\n",
      "7   -4095\n",
      "8   -3263\n",
      "9   -1893\n",
      "Name: SafeDeliveryApp, dtype: int64\n"
     ]
    }
   ],
   "source": [
    "print(SDA_imputed['SafeDeliveryApp'].astype(np.int64).value_counts().sort_index() - data_SDA_true['SafeDeliveryApp'].astype(np.int64).value_counts().sort_index())"
   ]
  },
  {
   "cell_type": "code",
   "execution_count": 307,
   "id": "1d1e61e3-f43c-476b-848a-0393da7eb86c",
   "metadata": {
    "execution": {
     "iopub.execute_input": "2022-12-16T20:17:30.845851Z",
     "iopub.status.busy": "2022-12-16T20:17:30.845180Z",
     "iopub.status.idle": "2022-12-16T20:17:30.855398Z",
     "shell.execute_reply": "2022-12-16T20:17:30.854256Z",
     "shell.execute_reply.started": "2022-12-16T20:17:30.845795Z"
    },
    "tags": []
   },
   "outputs": [
    {
     "data": {
      "text/plain": [
       "89.52510721663725"
      ]
     },
     "execution_count": 307,
     "metadata": {},
     "output_type": "execute_result"
    }
   ],
   "source": [
    "((835 + 219 + 1101 + 4095 + 3263 + 1893) / (0.14 * 91004)) * 100 # Calculating percent of misplaced labels."
   ]
  },
  {
   "cell_type": "markdown",
   "id": "230e3339-73f7-4f07-9d40-9c1935f899fe",
   "metadata": {
    "jp-MarkdownHeadingCollapsed": true,
    "tags": []
   },
   "source": [
    "# Imputation directly by feature importance - WorkPlace"
   ]
  },
  {
   "cell_type": "code",
   "execution_count": 310,
   "id": "75208068-ba4c-4e15-b677-9b3a2096aa6e",
   "metadata": {
    "execution": {
     "iopub.execute_input": "2022-12-16T20:22:15.062124Z",
     "iopub.status.busy": "2022-12-16T20:22:15.061454Z",
     "iopub.status.idle": "2022-12-16T20:22:15.071543Z",
     "shell.execute_reply": "2022-12-16T20:22:15.070774Z",
     "shell.execute_reply.started": "2022-12-16T20:22:15.062089Z"
    },
    "tags": []
   },
   "outputs": [],
   "source": [
    "data_WorkPlace = data[['WorkPlace','Time','RN','KlpResultLevel','UserinfoCountry','UserinfoUserIsActive','HealthcareWorker']]\n",
    "data_WorkPlace_true = data[['WorkPlace','Time','RN','KlpResultLevel','UserinfoCountry','UserinfoUserIsActive','HealthcareWorker']]"
   ]
  },
  {
   "cell_type": "code",
   "execution_count": 311,
   "id": "aec8c2fe-735c-477d-97c2-2288cfe1ec14",
   "metadata": {
    "execution": {
     "iopub.execute_input": "2022-12-16T20:22:15.655695Z",
     "iopub.status.busy": "2022-12-16T20:22:15.654920Z",
     "iopub.status.idle": "2022-12-16T20:22:15.672112Z",
     "shell.execute_reply": "2022-12-16T20:22:15.671303Z",
     "shell.execute_reply.started": "2022-12-16T20:22:15.655636Z"
    },
    "tags": []
   },
   "outputs": [
    {
     "name": "stderr",
     "output_type": "stream",
     "text": [
      "/tmp/ipykernel_54/1746946575.py:3: FutureWarning: The pandas.np module is deprecated and will be removed from pandas in a future version. Import numpy directly instead.\n",
      "  data_WorkPlace.loc[data_WorkPlace.sample(frac=0.05, random_state = seed).index, col] = pd.np.nan\n"
     ]
    }
   ],
   "source": [
    "cols = ['WorkPlace'] # Roughly 5% data missing\n",
    "for col in cols:\n",
    "    data_WorkPlace.loc[data_WorkPlace.sample(frac=0.05, random_state = seed).index, col] = pd.np.nan"
   ]
  },
  {
   "cell_type": "code",
   "execution_count": 312,
   "id": "fe58758d-79a5-4d7e-8fae-f8ef84adb1d5",
   "metadata": {
    "execution": {
     "iopub.execute_input": "2022-12-16T20:23:35.144563Z",
     "iopub.status.busy": "2022-12-16T20:23:35.143774Z",
     "iopub.status.idle": "2022-12-16T20:23:35.153866Z",
     "shell.execute_reply": "2022-12-16T20:23:35.152877Z",
     "shell.execute_reply.started": "2022-12-16T20:23:35.144504Z"
    }
   },
   "outputs": [],
   "source": [
    "modelWorkPlace = KNeighborsRegressor(n_neighbors=100,weights='distance',n_jobs=-1,)\n",
    "imputerWorkPlace = IterativeImputer(sample_posterior=False, random_state=seed,estimator=model, max_iter=30,initial_strategy='most_frequent')\n",
    "scaler = MinMaxScaler(feature_range=(0, 1))\n",
    "# Building the pipeline\n",
    "pipelineWorkPlace = Pipeline(\n",
    "    steps=[\n",
    "    ('s', scaler), # First we scale the data\n",
    "    ('i', imputer) # Then we fit the imputer and transform the NaN's\n",
    "    ]\n",
    ")"
   ]
  },
  {
   "cell_type": "code",
   "execution_count": 313,
   "id": "aad062a1-5dfc-4f3b-a33e-cad09fd37587",
   "metadata": {
    "execution": {
     "iopub.execute_input": "2022-12-16T20:24:08.243142Z",
     "iopub.status.busy": "2022-12-16T20:24:08.242464Z",
     "iopub.status.idle": "2022-12-16T20:24:11.667950Z",
     "shell.execute_reply": "2022-12-16T20:24:11.667150Z",
     "shell.execute_reply.started": "2022-12-16T20:24:08.243084Z"
    }
   },
   "outputs": [],
   "source": [
    "imputed_Workplace = pipelineWorkPlace.fit_transform(data_WorkPlace)"
   ]
  },
  {
   "cell_type": "code",
   "execution_count": 314,
   "id": "e35a3cee-3cf1-4124-8b6d-c30055c3e270",
   "metadata": {
    "execution": {
     "iopub.execute_input": "2022-12-16T20:24:30.246485Z",
     "iopub.status.busy": "2022-12-16T20:24:30.245787Z",
     "iopub.status.idle": "2022-12-16T20:24:30.257757Z",
     "shell.execute_reply": "2022-12-16T20:24:30.256189Z",
     "shell.execute_reply.started": "2022-12-16T20:24:30.246425Z"
    }
   },
   "outputs": [],
   "source": [
    "imputed_Workplace = scaler.inverse_transform(imputed_Workplace)"
   ]
  },
  {
   "cell_type": "markdown",
   "id": "fbbf171c-d7d1-4b74-bf79-0c637f74e9f2",
   "metadata": {},
   "source": [
    "Let's get the names back to the imputed columns;"
   ]
  },
  {
   "cell_type": "code",
   "execution_count": 315,
   "id": "2402ab93-a8aa-4ccc-9311-9bb7bdaa98e4",
   "metadata": {
    "execution": {
     "iopub.execute_input": "2022-12-16T20:25:27.488825Z",
     "iopub.status.busy": "2022-12-16T20:25:27.488143Z",
     "iopub.status.idle": "2022-12-16T20:25:27.504429Z",
     "shell.execute_reply": "2022-12-16T20:25:27.503183Z",
     "shell.execute_reply.started": "2022-12-16T20:25:27.488767Z"
    }
   },
   "outputs": [],
   "source": [
    "imputed_Workplace = pd.DataFrame(imputed_Workplace).astype(np.int64)\n",
    "for i in list(range(0,len(list(data_WorkPlace_true.columns)))):\n",
    "    imputed_Workplace.rename(columns={i:list(data_WorkPlace_true.columns)[i]},inplace = True)"
   ]
  },
  {
   "cell_type": "code",
   "execution_count": 316,
   "id": "e23e6152-b10b-47f3-89f9-36069466018a",
   "metadata": {
    "execution": {
     "iopub.execute_input": "2022-12-16T20:25:37.279889Z",
     "iopub.status.busy": "2022-12-16T20:25:37.279196Z",
     "iopub.status.idle": "2022-12-16T20:25:37.298659Z",
     "shell.execute_reply": "2022-12-16T20:25:37.297832Z",
     "shell.execute_reply.started": "2022-12-16T20:25:37.279828Z"
    }
   },
   "outputs": [
    {
     "data": {
      "text/html": [
       "<div>\n",
       "<style scoped>\n",
       "    .dataframe tbody tr th:only-of-type {\n",
       "        vertical-align: middle;\n",
       "    }\n",
       "\n",
       "    .dataframe tbody tr th {\n",
       "        vertical-align: top;\n",
       "    }\n",
       "\n",
       "    .dataframe thead th {\n",
       "        text-align: right;\n",
       "    }\n",
       "</style>\n",
       "<table border=\"1\" class=\"dataframe\">\n",
       "  <thead>\n",
       "    <tr style=\"text-align: right;\">\n",
       "      <th></th>\n",
       "      <th>WorkPlace</th>\n",
       "      <th>Time</th>\n",
       "      <th>RN</th>\n",
       "      <th>KlpResultLevel</th>\n",
       "      <th>UserinfoCountry</th>\n",
       "      <th>UserinfoUserIsActive</th>\n",
       "      <th>HealthcareWorker</th>\n",
       "    </tr>\n",
       "  </thead>\n",
       "  <tbody>\n",
       "    <tr>\n",
       "      <th>0</th>\n",
       "      <td>5</td>\n",
       "      <td>0</td>\n",
       "      <td>14</td>\n",
       "      <td>0</td>\n",
       "      <td>1</td>\n",
       "      <td>0</td>\n",
       "      <td>1</td>\n",
       "    </tr>\n",
       "    <tr>\n",
       "      <th>1</th>\n",
       "      <td>2</td>\n",
       "      <td>0</td>\n",
       "      <td>10</td>\n",
       "      <td>0</td>\n",
       "      <td>1</td>\n",
       "      <td>0</td>\n",
       "      <td>1</td>\n",
       "    </tr>\n",
       "    <tr>\n",
       "      <th>2</th>\n",
       "      <td>1</td>\n",
       "      <td>0</td>\n",
       "      <td>12</td>\n",
       "      <td>0</td>\n",
       "      <td>1</td>\n",
       "      <td>0</td>\n",
       "      <td>0</td>\n",
       "    </tr>\n",
       "    <tr>\n",
       "      <th>3</th>\n",
       "      <td>2</td>\n",
       "      <td>0</td>\n",
       "      <td>15</td>\n",
       "      <td>0</td>\n",
       "      <td>1</td>\n",
       "      <td>0</td>\n",
       "      <td>1</td>\n",
       "    </tr>\n",
       "    <tr>\n",
       "      <th>4</th>\n",
       "      <td>4</td>\n",
       "      <td>0</td>\n",
       "      <td>12</td>\n",
       "      <td>0</td>\n",
       "      <td>1</td>\n",
       "      <td>0</td>\n",
       "      <td>1</td>\n",
       "    </tr>\n",
       "    <tr>\n",
       "      <th>...</th>\n",
       "      <td>...</td>\n",
       "      <td>...</td>\n",
       "      <td>...</td>\n",
       "      <td>...</td>\n",
       "      <td>...</td>\n",
       "      <td>...</td>\n",
       "      <td>...</td>\n",
       "    </tr>\n",
       "    <tr>\n",
       "      <th>91004</th>\n",
       "      <td>4</td>\n",
       "      <td>0</td>\n",
       "      <td>10</td>\n",
       "      <td>0</td>\n",
       "      <td>1</td>\n",
       "      <td>1</td>\n",
       "      <td>1</td>\n",
       "    </tr>\n",
       "    <tr>\n",
       "      <th>91005</th>\n",
       "      <td>0</td>\n",
       "      <td>0</td>\n",
       "      <td>9</td>\n",
       "      <td>0</td>\n",
       "      <td>1</td>\n",
       "      <td>1</td>\n",
       "      <td>1</td>\n",
       "    </tr>\n",
       "    <tr>\n",
       "      <th>91006</th>\n",
       "      <td>0</td>\n",
       "      <td>0</td>\n",
       "      <td>9</td>\n",
       "      <td>0</td>\n",
       "      <td>1</td>\n",
       "      <td>1</td>\n",
       "      <td>1</td>\n",
       "    </tr>\n",
       "    <tr>\n",
       "      <th>91007</th>\n",
       "      <td>1</td>\n",
       "      <td>0</td>\n",
       "      <td>10</td>\n",
       "      <td>0</td>\n",
       "      <td>1</td>\n",
       "      <td>1</td>\n",
       "      <td>1</td>\n",
       "    </tr>\n",
       "    <tr>\n",
       "      <th>91008</th>\n",
       "      <td>0</td>\n",
       "      <td>0</td>\n",
       "      <td>9</td>\n",
       "      <td>0</td>\n",
       "      <td>1</td>\n",
       "      <td>1</td>\n",
       "      <td>1</td>\n",
       "    </tr>\n",
       "  </tbody>\n",
       "</table>\n",
       "<p>91009 rows × 7 columns</p>\n",
       "</div>"
      ],
      "text/plain": [
       "       WorkPlace  Time  RN  KlpResultLevel  UserinfoCountry  \\\n",
       "0              5     0  14               0                1   \n",
       "1              2     0  10               0                1   \n",
       "2              1     0  12               0                1   \n",
       "3              2     0  15               0                1   \n",
       "4              4     0  12               0                1   \n",
       "...          ...   ...  ..             ...              ...   \n",
       "91004          4     0  10               0                1   \n",
       "91005          0     0   9               0                1   \n",
       "91006          0     0   9               0                1   \n",
       "91007          1     0  10               0                1   \n",
       "91008          0     0   9               0                1   \n",
       "\n",
       "       UserinfoUserIsActive  HealthcareWorker  \n",
       "0                         0                 1  \n",
       "1                         0                 1  \n",
       "2                         0                 0  \n",
       "3                         0                 1  \n",
       "4                         0                 1  \n",
       "...                     ...               ...  \n",
       "91004                     1                 1  \n",
       "91005                     1                 1  \n",
       "91006                     1                 1  \n",
       "91007                     1                 1  \n",
       "91008                     1                 1  \n",
       "\n",
       "[91009 rows x 7 columns]"
      ]
     },
     "execution_count": 316,
     "metadata": {},
     "output_type": "execute_result"
    }
   ],
   "source": [
    "imputed_Workplace"
   ]
  },
  {
   "cell_type": "code",
   "execution_count": 317,
   "id": "6eca3920-f8e3-4921-abb7-49ee9498e472",
   "metadata": {
    "execution": {
     "iopub.execute_input": "2022-12-16T20:26:29.259570Z",
     "iopub.status.busy": "2022-12-16T20:26:29.258782Z",
     "iopub.status.idle": "2022-12-16T20:26:29.542152Z",
     "shell.execute_reply": "2022-12-16T20:26:29.541399Z",
     "shell.execute_reply.started": "2022-12-16T20:26:29.259513Z"
    }
   },
   "outputs": [
    {
     "data": {
      "image/png": "[encoded data removed]",
      "text/plain": [
       "<Figure size 640x480 with 2 Axes>"
      ]
     },
     "metadata": {},
     "output_type": "display_data"
    }
   ],
   "source": [
    "plt.subplot(1, 2, 1)\n",
    "plt.hist(data_WorkPlace_true['WorkPlace'],rwidth=0.7)\n",
    "plt.title('WorkPlace True Data')\n",
    "plt.xlabel('Labels')\n",
    "plt.ylabel('Count')\n",
    "#plt.xticks([0,1,2,3,4,5])\n",
    "\n",
    "plt.subplot(1, 2, 2)\n",
    "plt.hist(imputed_Workplace['WorkPlace'],rwidth=0.7)\n",
    "plt.title('WorkPlace Imputed Data')\n",
    "plt.xlabel('Labels')\n",
    "plt.ylabel('Count')\n",
    "#plt.xticks([0,1,2,3,4,5])\n",
    "\n",
    "plt.tight_layout()\n",
    "plt.show()"
   ]
  },
  {
   "cell_type": "code",
   "execution_count": 319,
   "id": "306f1370-0eab-47fe-abae-e0c89d85d75d",
   "metadata": {
    "execution": {
     "iopub.execute_input": "2022-12-16T20:27:39.932068Z",
     "iopub.status.busy": "2022-12-16T20:27:39.931189Z",
     "iopub.status.idle": "2022-12-16T20:27:39.946659Z",
     "shell.execute_reply": "2022-12-16T20:27:39.945659Z",
     "shell.execute_reply.started": "2022-12-16T20:27:39.932007Z"
    },
    "tags": []
   },
   "outputs": [
    {
     "name": "stdout",
     "output_type": "stream",
     "text": [
      "0    -438\n",
      "1    -303\n",
      "2     794\n",
      "3    1479\n",
      "4   -1174\n",
      "5    -358\n",
      "Name: WorkPlace, dtype: int64\n"
     ]
    }
   ],
   "source": [
    "print(imputed_Workplace['WorkPlace'].astype(np.int64).value_counts().sort_index() - data_WorkPlace_true['WorkPlace'].astype(np.int64).value_counts().sort_index())"
   ]
  },
  {
   "cell_type": "code",
   "execution_count": 320,
   "id": "61da04f8-f115-4f91-b272-67c2e6ea6fba",
   "metadata": {
    "execution": {
     "iopub.execute_input": "2022-12-16T20:28:31.644652Z",
     "iopub.status.busy": "2022-12-16T20:28:31.643959Z",
     "iopub.status.idle": "2022-12-16T20:28:31.654921Z",
     "shell.execute_reply": "2022-12-16T20:28:31.653598Z",
     "shell.execute_reply.started": "2022-12-16T20:28:31.644593Z"
    }
   },
   "outputs": [
    {
     "data": {
      "text/plain": [
       "49.953848182497474"
      ]
     },
     "execution_count": 320,
     "metadata": {},
     "output_type": "execute_result"
    }
   ],
   "source": [
    "((438 + 303 + 1174 + 358) / (0.05 * 91004)) * 100 # Calculating percent of misplaced labels."
   ]
  },
  {
   "cell_type": "markdown",
   "id": "6c95789e-4815-4e36-a267-cc6cc68bb01e",
   "metadata": {
    "jp-MarkdownHeadingCollapsed": true,
    "tags": []
   },
   "source": [
    "# Early conclusion on results"
   ]
  },
  {
   "cell_type": "markdown",
   "id": "303e7970-3a53-405f-b1bc-3b295e1a108b",
   "metadata": {},
   "source": [
    "So this methodology seems to not improve our results in any way. The issue most likely lies with the dimensions we found to describe the imputed data.\n",
    "\n",
    "When looking at our MSE versus variation comparison, the imputations seem to be solid estimates compared to the true mean value of the data.\n",
    "However when predicting the labels, and comparing the redistribution, we see a much higher variety of precision.\n",
    "\n",
    "According to our feature importance analysis, the Time dimension died matter a lot for each of the missing dimensions.\n",
    "However, due to lack of variation amongst users in the Module_Key dimension, that seemed did not carry much importance for prediction.\n",
    "More time spent on identifying relevant dimensions with higher variation among users, could most likely have improved some of the results.\n",
    "\n",
    "Another thing that could be happening, is the dataframe index positions somehow being switched up some where in the process.\n",
    "If this happened, the direct comparison using just the difference matrix could be flawed, however the value counts should still tell us the real story\n",
    "of the true and wrong distributions.\n",
    "\n",
    "Finally, our hyperparameter tuning of the estimator could be flawed as well, since we didn't succeed in finding a way to gridsearch for the optimal parameters.\n",
    "Instead our testing/tuning was done in a more manual fashion for this project, although a method for more automated process most likely does exist."
   ]
  }
 ],
 "metadata": {
  "kernelspec": {
   "display_name": "Python 3 ",
   "language": "python",
   "name": "python3"
  },
  "language_info": {
   "codemirror_mode": {
    "name": "ipython",
    "version": 3
   },
   "file_extension": ".py",
   "mimetype": "text/x-python",
   "name": "python",
   "nbconvert_exporter": "python",
   "pygments_lexer": "ipython3",
   "version": "3.10.6"
  }
 },
 "nbformat": 4,
 "nbformat_minor": 5
}
