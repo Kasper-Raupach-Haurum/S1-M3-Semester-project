{
 "cells": [
  {
   "cell_type": "code",
   "execution_count": 202,
   "id": "1b79506b-ae39-4d96-9967-3c4cbdc6bfa9",
   "metadata": {
    "execution": {
     "iopub.execute_input": "2022-12-06T15:05:53.839199Z",
     "iopub.status.busy": "2022-12-06T15:05:53.838519Z",
     "iopub.status.idle": "2022-12-06T15:06:48.069264Z",
     "shell.execute_reply": "2022-12-06T15:06:48.067710Z",
     "shell.execute_reply.started": "2022-12-06T15:05:53.839145Z"
    },
    "tags": []
   },
   "outputs": [
    {
     "name": "stdout",
     "output_type": "stream",
     "text": [
      "Requirement already satisfied: tqdm in /opt/conda/lib/python3.10/site-packages (4.64.1)\n",
      "Requirement already satisfied: geopy in /opt/conda/lib/python3.10/site-packages (2.3.0)\n",
      "Requirement already satisfied: geographiclib<3,>=1.52 in /opt/conda/lib/python3.10/site-packages (from geopy) (2.0)\n"
     ]
    }
   ],
   "source": [
    "# peep peeep\n",
    "!pip install pandas -q\n",
    "# Load bar (i forgot to use it of course)\n",
    "!pip install tqdm\n",
    "# the engine behind the geo reverse process\n",
    "!pip install geopy"
   ]
  },
  {
   "cell_type": "code",
   "execution_count": 203,
   "id": "2f11127a-0019-4f9e-b3ff-d9a4bd8f8335",
   "metadata": {
    "execution": {
     "iopub.execute_input": "2022-12-06T15:06:48.073903Z",
     "iopub.status.busy": "2022-12-06T15:06:48.073291Z",
     "iopub.status.idle": "2022-12-06T15:06:48.082273Z",
     "shell.execute_reply": "2022-12-06T15:06:48.081305Z",
     "shell.execute_reply.started": "2022-12-06T15:06:48.073848Z"
    },
    "tags": []
   },
   "outputs": [],
   "source": [
    "# Importing our badbois\n",
    "import pandas as pd\n",
    "from tqdm import tqdm\n",
    "from geopy.geocoders import Nominatim"
   ]
  },
  {
   "cell_type": "code",
   "execution_count": 204,
   "id": "7ff1e96d-bd7a-49ee-99d7-4ccf7404373a",
   "metadata": {
    "execution": {
     "iopub.execute_input": "2022-12-06T15:06:48.083904Z",
     "iopub.status.busy": "2022-12-06T15:06:48.083451Z",
     "iopub.status.idle": "2022-12-06T15:06:51.980180Z",
     "shell.execute_reply": "2022-12-06T15:06:51.979392Z",
     "shell.execute_reply.started": "2022-12-06T15:06:48.083875Z"
    },
    "tags": []
   },
   "outputs": [],
   "source": [
    "known_geos = pd.read_csv('Known_UserDistrict_Geodata.csv') #LOAD DAT DATA"
   ]
  },
  {
   "cell_type": "code",
   "execution_count": 205,
   "id": "d7d97c4b-2a9a-4d49-ae97-2db38e7c8a82",
   "metadata": {
    "execution": {
     "iopub.execute_input": "2022-12-06T15:06:51.981308Z",
     "iopub.status.busy": "2022-12-06T15:06:51.981113Z",
     "iopub.status.idle": "2022-12-06T15:06:52.036466Z",
     "shell.execute_reply": "2022-12-06T15:06:52.034949Z",
     "shell.execute_reply.started": "2022-12-06T15:06:51.981291Z"
    },
    "tags": []
   },
   "outputs": [],
   "source": [
    "geolocator = Nominatim(user_agent=\"geoapiExercises\") # This is a class object that can give us the text-based location data from our lat/lon."
   ]
  },
  {
   "cell_type": "code",
   "execution_count": 206,
   "id": "de3d8e69-b62e-4307-8226-ac999d3f8aa2",
   "metadata": {
    "execution": {
     "iopub.execute_input": "2022-12-06T15:06:52.041990Z",
     "iopub.status.busy": "2022-12-06T15:06:52.041281Z",
     "iopub.status.idle": "2022-12-06T15:06:52.151456Z",
     "shell.execute_reply": "2022-12-06T15:06:52.150218Z",
     "shell.execute_reply.started": "2022-12-06T15:06:52.041939Z"
    },
    "tags": []
   },
   "outputs": [],
   "source": [
    "ID_filter = list(known_geos.Userinfo_Key.unique()) # We need a list of unique user ID's so we don't get more than one from each"
   ]
  },
  {
   "cell_type": "code",
   "execution_count": 207,
   "id": "b81c5f4f-eb6f-459c-8485-6e7d34b0c8c4",
   "metadata": {
    "execution": {
     "iopub.execute_input": "2022-12-06T15:06:52.154392Z",
     "iopub.status.busy": "2022-12-06T15:06:52.153715Z",
     "iopub.status.idle": "2022-12-06T15:06:52.249253Z",
     "shell.execute_reply": "2022-12-06T15:06:52.248174Z",
     "shell.execute_reply.started": "2022-12-06T15:06:52.154341Z"
    },
    "tags": []
   },
   "outputs": [
    {
     "data": {
      "text/plain": [
       "19.2283004"
      ]
     },
     "execution_count": 207,
     "metadata": {},
     "output_type": "execute_result"
    }
   ],
   "source": [
    "# I need to find the most frequent value for lat and lon, as this would be where we'd expect to find our users. Some users may have more than one, and so we get a list of 2 or more\n",
    "known_geos.loc[known_geos['Userinfo_Key'] == 474737].Lat.mode()[0] #Checking if I can select a value out of the list that appeared without [0]"
   ]
  },
  {
   "cell_type": "code",
   "execution_count": 208,
   "id": "8a57f013-013d-4fe4-8423-cd369575c7f4",
   "metadata": {
    "execution": {
     "iopub.execute_input": "2022-12-06T15:06:52.251843Z",
     "iopub.status.busy": "2022-12-06T15:06:52.251353Z",
     "iopub.status.idle": "2022-12-06T15:06:56.571320Z",
     "shell.execute_reply": "2022-12-06T15:06:56.570550Z",
     "shell.execute_reply.started": "2022-12-06T15:06:52.251811Z"
    },
    "tags": []
   },
   "outputs": [
    {
     "name": "stderr",
     "output_type": "stream",
     "text": [
      "100%|██████████| 1619/1619 [00:04<00:00, 382.74it/s]\n"
     ]
    }
   ],
   "source": [
    "#I wanna create a loop to do the annoying work, so we loop our unique ID's through and using the code before, we fill 2 lists for the next part.\n",
    "lat_list = [] # We generate 2 empty lists to fill with the lat/lon data for each user. The indexes of the lists will match up for the imputation later on.\n",
    "lon_list = []\n",
    "for ID in tqdm(ID_filter): #We need the filtered list of unique ID's for the users we found\n",
    "    lat_temp = known_geos.loc[known_geos['Userinfo_Key'] == ID].Lat.mode()[0] # We find the most frequent Lat data for each user. If they got more than one, we just pick the first on the list.\n",
    "    lon_temp = known_geos.loc[known_geos['Userinfo_Key'] == ID].Lon.mode()[0] # We do the same for the Lon data.\n",
    "    lat_list.append(lat_temp) # We append the data to the empty lists we created earlier.\n",
    "    lon_list.append(lon_temp)"
   ]
  },
  {
   "cell_type": "code",
   "execution_count": 209,
   "id": "1ac231a6-0a76-47da-b255-3257682e58e7",
   "metadata": {
    "execution": {
     "iopub.execute_input": "2022-12-06T15:06:56.572603Z",
     "iopub.status.busy": "2022-12-06T15:06:56.572365Z",
     "iopub.status.idle": "2022-12-06T15:06:56.635811Z",
     "shell.execute_reply": "2022-12-06T15:06:56.633777Z",
     "shell.execute_reply.started": "2022-12-06T15:06:56.572584Z"
    },
    "tags": []
   },
   "outputs": [
    {
     "name": "stdout",
     "output_type": "stream",
     "text": [
      "19.2283004,82.552138\n"
     ]
    }
   ],
   "source": [
    "print(str(lat_list[0])+ ','+ str(lon_list[0])) # The model takes the lat/lon input as a string with a comma separator"
   ]
  },
  {
   "cell_type": "code",
   "execution_count": 210,
   "id": "b9ce5c4d-72c5-4eac-a059-25d1a41e3ec7",
   "metadata": {
    "execution": {
     "iopub.execute_input": "2022-12-06T15:06:56.638465Z",
     "iopub.status.busy": "2022-12-06T15:06:56.637805Z",
     "iopub.status.idle": "2022-12-06T15:06:56.836688Z",
     "shell.execute_reply": "2022-12-06T15:06:56.835039Z",
     "shell.execute_reply.started": "2022-12-06T15:06:56.638414Z"
    },
    "tags": []
   },
   "outputs": [],
   "source": [
    "# Let's try out this badboi on the first user (the list indexes match with the ID_filter we passed for the loop, which makes assignment easier later)\n",
    "location = geolocator.reverse(str(lat_list[0])+ ','+ str(lon_list[0]))"
   ]
  },
  {
   "cell_type": "code",
   "execution_count": 211,
   "id": "d985ee59-9adc-4d5f-bae0-89a404380fab",
   "metadata": {
    "execution": {
     "iopub.execute_input": "2022-12-06T15:06:56.839359Z",
     "iopub.status.busy": "2022-12-06T15:06:56.838677Z",
     "iopub.status.idle": "2022-12-06T15:06:56.845780Z",
     "shell.execute_reply": "2022-12-06T15:06:56.844673Z",
     "shell.execute_reply.started": "2022-12-06T15:06:56.839307Z"
    },
    "tags": []
   },
   "outputs": [
    {
     "name": "stdout",
     "output_type": "stream",
     "text": [
      "NH26, Nabarangapur, Nabarangapur P.S, Nabarangapur, Odisha, 764059, India\n"
     ]
    }
   ],
   "source": [
    "print(location) # Woooo, we get some goodies. One step closer to finding those users"
   ]
  },
  {
   "cell_type": "code",
   "execution_count": 212,
   "id": "3d7269fe-b824-4c6f-8512-269f970d100b",
   "metadata": {
    "execution": {
     "iopub.execute_input": "2022-12-06T15:06:56.847877Z",
     "iopub.status.busy": "2022-12-06T15:06:56.847378Z",
     "iopub.status.idle": "2022-12-06T15:06:56.933879Z",
     "shell.execute_reply": "2022-12-06T15:06:56.890094Z",
     "shell.execute_reply.started": "2022-12-06T15:06:56.847843Z"
    },
    "tags": []
   },
   "outputs": [
    {
     "name": "stdout",
     "output_type": "stream",
     "text": [
      "{'road': 'NH26', 'town': 'Nabarangapur', 'county': 'Nabarangapur P.S', 'state_district': 'Nabarangapur', 'state': 'Odisha', 'ISO3166-2-lvl4': 'IN-OR', 'postcode': '764059', 'country': 'India', 'country_code': 'in'}\n"
     ]
    }
   ],
   "source": [
    "# There is a way to get a dictionary of the elements created from that Lat/Lon data. For the purpose of recreating the df_users we are interested in the state_district, state and country values \n",
    "address = location.raw['address']\n",
    "print(address)"
   ]
  },
  {
   "cell_type": "code",
   "execution_count": 213,
   "id": "0d482aee-0bb1-401e-9d2a-98045cc3df17",
   "metadata": {
    "execution": {
     "iopub.execute_input": "2022-12-06T15:06:56.936580Z",
     "iopub.status.busy": "2022-12-06T15:06:56.935898Z",
     "iopub.status.idle": "2022-12-06T15:06:56.943346Z",
     "shell.execute_reply": "2022-12-06T15:06:56.942228Z",
     "shell.execute_reply.started": "2022-12-06T15:06:56.936512Z"
    },
    "tags": []
   },
   "outputs": [],
   "source": [
    "district = location.raw['address'].get('state_district','') # We're only interested in the districts though"
   ]
  },
  {
   "cell_type": "code",
   "execution_count": 214,
   "id": "229a2b94-3f06-4541-b6d0-0787d147f854",
   "metadata": {
    "execution": {
     "iopub.execute_input": "2022-12-06T15:06:57.044517Z",
     "iopub.status.busy": "2022-12-06T15:06:57.043745Z",
     "iopub.status.idle": "2022-12-06T15:06:57.050608Z",
     "shell.execute_reply": "2022-12-06T15:06:57.049940Z",
     "shell.execute_reply.started": "2022-12-06T15:06:57.044465Z"
    },
    "tags": []
   },
   "outputs": [
    {
     "data": {
      "text/plain": [
       "'Nabarangapur'"
      ]
     },
     "execution_count": 214,
     "metadata": {},
     "output_type": "execute_result"
    }
   ],
   "source": [
    "district # Seems to work"
   ]
  },
  {
   "cell_type": "code",
   "execution_count": 215,
   "id": "0fe9994c-3ec0-4df7-89c1-795b38ae82f9",
   "metadata": {
    "execution": {
     "iopub.execute_input": "2022-12-06T15:06:57.051740Z",
     "iopub.status.busy": "2022-12-06T15:06:57.051483Z",
     "iopub.status.idle": "2022-12-06T15:06:57.172182Z",
     "shell.execute_reply": "2022-12-06T15:06:57.171211Z",
     "shell.execute_reply.started": "2022-12-06T15:06:57.051717Z"
    },
    "tags": []
   },
   "outputs": [],
   "source": [
    "user_district_df = pd.DataFrame(ID_filter, columns=['Userinfo_Key']) # Let's recreate a dataframe from our ID_list"
   ]
  },
  {
   "cell_type": "code",
   "execution_count": 216,
   "id": "8ed4430b-4e35-4e04-a17f-d80de19c2e32",
   "metadata": {
    "execution": {
     "iopub.execute_input": "2022-12-06T15:06:57.173699Z",
     "iopub.status.busy": "2022-12-06T15:06:57.173399Z",
     "iopub.status.idle": "2022-12-06T15:06:57.184952Z",
     "shell.execute_reply": "2022-12-06T15:06:57.184282Z",
     "shell.execute_reply.started": "2022-12-06T15:06:57.173672Z"
    },
    "tags": []
   },
   "outputs": [
    {
     "data": {
      "text/html": [
       "<div>\n",
       "<style scoped>\n",
       "    .dataframe tbody tr th:only-of-type {\n",
       "        vertical-align: middle;\n",
       "    }\n",
       "\n",
       "    .dataframe tbody tr th {\n",
       "        vertical-align: top;\n",
       "    }\n",
       "\n",
       "    .dataframe thead th {\n",
       "        text-align: right;\n",
       "    }\n",
       "</style>\n",
       "<table border=\"1\" class=\"dataframe\">\n",
       "  <thead>\n",
       "    <tr style=\"text-align: right;\">\n",
       "      <th></th>\n",
       "      <th>Userinfo_Key</th>\n",
       "    </tr>\n",
       "  </thead>\n",
       "  <tbody>\n",
       "    <tr>\n",
       "      <th>0</th>\n",
       "      <td>474737</td>\n",
       "    </tr>\n",
       "    <tr>\n",
       "      <th>1</th>\n",
       "      <td>474986</td>\n",
       "    </tr>\n",
       "    <tr>\n",
       "      <th>2</th>\n",
       "      <td>476738</td>\n",
       "    </tr>\n",
       "    <tr>\n",
       "      <th>3</th>\n",
       "      <td>481106</td>\n",
       "    </tr>\n",
       "    <tr>\n",
       "      <th>4</th>\n",
       "      <td>481511</td>\n",
       "    </tr>\n",
       "  </tbody>\n",
       "</table>\n",
       "</div>"
      ],
      "text/plain": [
       "   Userinfo_Key\n",
       "0        474737\n",
       "1        474986\n",
       "2        476738\n",
       "3        481106\n",
       "4        481511"
      ]
     },
     "execution_count": 216,
     "metadata": {},
     "output_type": "execute_result"
    }
   ],
   "source": [
    "user_district_df.head(5)"
   ]
  },
  {
   "cell_type": "code",
   "execution_count": 217,
   "id": "2708a585-8287-4a5b-87e5-24cf6308840d",
   "metadata": {
    "execution": {
     "iopub.execute_input": "2022-12-06T15:06:57.185941Z",
     "iopub.status.busy": "2022-12-06T15:06:57.185733Z",
     "iopub.status.idle": "2022-12-06T15:20:56.536435Z",
     "shell.execute_reply": "2022-12-06T15:20:56.534091Z",
     "shell.execute_reply.started": "2022-12-06T15:06:57.185921Z"
    },
    "tags": []
   },
   "outputs": [
    {
     "name": "stderr",
     "output_type": "stream",
     "text": [
      "1619it [13:59,  1.93it/s]\n"
     ]
    }
   ],
   "source": [
    "# We create a list, and run each ID through our geolocator to get the districts. These will match up indexwise with our dataframe\n",
    "found_you = [] # Sorry about the not so creative names, I'll do better next time, promise :) \n",
    "for lat, lon in tqdm(zip(lat_list, lon_list)):\n",
    "    location = geolocator.reverse(str(lat)+ ','+ str(lon))\n",
    "    district = location.raw['address'].get('state_district','')\n",
    "    found_you.append(district)\n",
    "\n",
    "# There's 1619 unique UserKeys, so it performs 1619 iterations (1619it)?"
   ]
  },
  {
   "cell_type": "code",
   "execution_count": 218,
   "id": "f5c455a8-27fd-414a-bfab-831da52d4e1c",
   "metadata": {
    "execution": {
     "iopub.execute_input": "2022-12-06T15:20:56.540227Z",
     "iopub.status.busy": "2022-12-06T15:20:56.539612Z",
     "iopub.status.idle": "2022-12-06T15:20:56.552192Z",
     "shell.execute_reply": "2022-12-06T15:20:56.551345Z",
     "shell.execute_reply.started": "2022-12-06T15:20:56.540172Z"
    },
    "tags": []
   },
   "outputs": [],
   "source": [
    "found_you_df = pd.DataFrame(found_you,columns = ['UserDistrict'])"
   ]
  },
  {
   "cell_type": "code",
   "execution_count": 219,
   "id": "930b38e1-5e6f-4e8a-bbdd-b97d0c4900c2",
   "metadata": {
    "execution": {
     "iopub.execute_input": "2022-12-06T15:20:56.633309Z",
     "iopub.status.busy": "2022-12-06T15:20:56.632719Z",
     "iopub.status.idle": "2022-12-06T15:20:58.341278Z",
     "shell.execute_reply": "2022-12-06T15:20:58.339469Z",
     "shell.execute_reply.started": "2022-12-06T15:20:56.633260Z"
    },
    "tags": []
   },
   "outputs": [
    {
     "data": {
      "text/html": [
       "<div>\n",
       "<style scoped>\n",
       "    .dataframe tbody tr th:only-of-type {\n",
       "        vertical-align: middle;\n",
       "    }\n",
       "\n",
       "    .dataframe tbody tr th {\n",
       "        vertical-align: top;\n",
       "    }\n",
       "\n",
       "    .dataframe thead th {\n",
       "        text-align: right;\n",
       "    }\n",
       "</style>\n",
       "<table border=\"1\" class=\"dataframe\">\n",
       "  <thead>\n",
       "    <tr style=\"text-align: right;\">\n",
       "      <th></th>\n",
       "      <th>Userinfo_Key</th>\n",
       "      <th>UserDistrict</th>\n",
       "    </tr>\n",
       "  </thead>\n",
       "  <tbody>\n",
       "    <tr>\n",
       "      <th>0</th>\n",
       "      <td>474737</td>\n",
       "      <td>Nabarangapur</td>\n",
       "    </tr>\n",
       "    <tr>\n",
       "      <th>1</th>\n",
       "      <td>474986</td>\n",
       "      <td>Jammu District</td>\n",
       "    </tr>\n",
       "    <tr>\n",
       "      <th>2</th>\n",
       "      <td>476738</td>\n",
       "      <td>Faridabad</td>\n",
       "    </tr>\n",
       "    <tr>\n",
       "      <th>3</th>\n",
       "      <td>481106</td>\n",
       "      <td>Kanpur Nagar</td>\n",
       "    </tr>\n",
       "    <tr>\n",
       "      <th>4</th>\n",
       "      <td>481511</td>\n",
       "      <td>Pauri Garhwal</td>\n",
       "    </tr>\n",
       "    <tr>\n",
       "      <th>5</th>\n",
       "      <td>482082</td>\n",
       "      <td>አዲስ አበባ / Addis Ababa</td>\n",
       "    </tr>\n",
       "    <tr>\n",
       "      <th>6</th>\n",
       "      <td>483043</td>\n",
       "      <td>Cachar</td>\n",
       "    </tr>\n",
       "    <tr>\n",
       "      <th>7</th>\n",
       "      <td>484768</td>\n",
       "      <td>Raebareli</td>\n",
       "    </tr>\n",
       "    <tr>\n",
       "      <th>8</th>\n",
       "      <td>486277</td>\n",
       "      <td>Bastar</td>\n",
       "    </tr>\n",
       "    <tr>\n",
       "      <th>9</th>\n",
       "      <td>487821</td>\n",
       "      <td>Kamrup Metropolitan</td>\n",
       "    </tr>\n",
       "  </tbody>\n",
       "</table>\n",
       "</div>"
      ],
      "text/plain": [
       "   Userinfo_Key           UserDistrict\n",
       "0        474737           Nabarangapur\n",
       "1        474986         Jammu District\n",
       "2        476738              Faridabad\n",
       "3        481106           Kanpur Nagar\n",
       "4        481511          Pauri Garhwal\n",
       "5        482082  አዲስ አበባ / Addis Ababa\n",
       "6        483043                 Cachar\n",
       "7        484768              Raebareli\n",
       "8        486277                 Bastar\n",
       "9        487821    Kamrup Metropolitan"
      ]
     },
     "execution_count": 219,
     "metadata": {},
     "output_type": "execute_result"
    }
   ],
   "source": [
    "# And now we just concatenate the dataframes;\n",
    "\n",
    "found_users_df = pd.concat([user_district_df, found_you_df],axis=1)\n",
    "found_users_df.head(10)"
   ]
  },
  {
   "cell_type": "code",
   "execution_count": 264,
   "id": "67ee455d-ba6b-42a7-a189-b6d10cb2f733",
   "metadata": {
    "execution": {
     "iopub.execute_input": "2022-12-08T11:13:19.627482Z",
     "iopub.status.busy": "2022-12-08T11:13:19.626955Z",
     "iopub.status.idle": "2022-12-08T11:13:19.631516Z",
     "shell.execute_reply": "2022-12-08T11:13:19.630896Z",
     "shell.execute_reply.started": "2022-12-08T11:13:19.627445Z"
    }
   },
   "outputs": [],
   "source": [
    "### After this point, I am just cleaning the outputs of the location scrape. This is just to show how we did it, and not something to just be copy/pasted necessarily.\n",
    "\n",
    "\n",
    "\n",
    "\n",
    "# There might be a smarter way of implementing NLP to perform the majority of the final cleaning/translations from the Google scrape, but we didn't have time to properly look into those solutions at the time of writing this.\n"
   ]
  },
  {
   "cell_type": "code",
   "execution_count": 265,
   "id": "c1c33547-f766-43e1-a0fd-9a21e7f89d3d",
   "metadata": {
    "execution": {
     "iopub.execute_input": "2022-12-08T11:13:19.967375Z",
     "iopub.status.busy": "2022-12-08T11:13:19.966838Z",
     "iopub.status.idle": "2022-12-08T11:13:19.977594Z",
     "shell.execute_reply": "2022-12-08T11:13:19.976652Z",
     "shell.execute_reply.started": "2022-12-08T11:13:19.967339Z"
    },
    "tags": []
   },
   "outputs": [
    {
     "data": {
      "text/plain": [
       "array(['Nabarangapur', 'Jammu District', 'Faridabad', 'Kanpur Nagar',\n",
       "       'Pauri Garhwal', ' Addis Ababa', 'Cachar', 'Raebareli', 'Bastar',\n",
       "       'Kamrup Metropolitan', 'Pathanamthitta', 'Muzaffarpur', 'Neemuch',\n",
       "       'Bale', 'Zone 1', 'Patan', 'Chitrakoot', 'Samastipur',\n",
       "       'Dahod District', 'Vidisha', 'Singrauli', 'Tapi District',\n",
       "       'Anand District', 'Sikar District', 'Khargone',\n",
       "       'Bhilwara District', 'Uttar Dinajpur', 'Gautam Buddha Nagar',\n",
       "       'Saharanpur', 'Dehradun', 'Murshidabad', 'Gonda', 'South Delhi',\n",
       "       'Haveri district', 'Kolkata', 'Sahibzada Ajit Singh Nagar',\n",
       "       'South 24 Parganas', 'North Gondar', 'Jajapur', 'Hugli',\n",
       "       'Srinagar District', 'Darjeeling District', 'Purbi Singhbhum',\n",
       "       'North Shewa (Oromia Region)', 'Nagaur District', 'Kheda District',\n",
       "       'Moga', 'Amritsar', 'Vizianagaram', 'Ghazipur',\n",
       "       'Jabalpur District', 'Varanasi', 'Shamli', 'Mahoba', 'Mau',\n",
       "       'Rajkot', 'Hapur', 'Moradabad', 'Bareilly District',\n",
       "       'Salem District', 'Bangalore Urban', 'Prayagraj', 'Nawada',\n",
       "       'Mainpuri', 'Udaipur District', 'Pithoragarh district',\n",
       "       'Tirupattur District', 'Sitamarhi', 'Chandauli', 'Aizwal',\n",
       "       'Gopalganj', 'Sambhal', 'Sitapur', 'Mokokchung', 'Bahraich',\n",
       "       'Sehore', 'Kutch District', 'West Gojjam', 'Bijnor', 'Agar Malwa',\n",
       "       'Gandhinagar District', 'Patna District', 'Bhagalpur', 'Fatehpur',\n",
       "       'Sabar Kantha District', 'Ranchi', 'Ujjain', 'Khunti',\n",
       "       'Puducherry district', 'Nadia', 'Banka', 'Dibrugarh',\n",
       "       'North West Delhi', 'Vadodara District', 'Kaimur (Bhabua)',\n",
       "       'Dhanbad', 'Lucknow', 'Pashchim Champaran', 'Korba District',\n",
       "       'Sheikhpura', 'Siddharth Nagar', 'Mahrajganj', 'Godda',\n",
       "       'Raigarh District', 'Mirzapur District', 'Purnia district',\n",
       "       'Sharawasti', 'Tehri Garhwal', 'Gaya', 'Chhindwara', 'Valsad',\n",
       "       'Barnala', 'Nav Sari District', 'Bemetara', 'Bokaro', 'Rangareddy',\n",
       "       'Mahesana District', 'Faridkot', 'Jaunpur', 'Shimla', 'Mandi',\n",
       "       'Nalanda', 'Saran', 'Lakhisarai', 'Sri Potti Sriramulu Nellore',\n",
       "       'Serchhip', 'South West Shewa', 'Pune', 'Meerut',\n",
       "       'Balaghat District', 'Chandigarh', 'Hisar', 'Ambala', 'Supaul',\n",
       "       'Seraikela Kharsawan', 'Jimma', 'Gurdaspur district',\n",
       "       'Sait Kibir Nagar', 'North Shewa (Amhara Region)',\n",
       "       'Ramanathapuram District', 'Vijayanagara district', 'Kakinada',\n",
       "       'Bilaspur', 'Araria', 'Surguja District', 'Dumka', 'Nuh',\n",
       "       'Jaipur District', 'Purba Medinipur', 'Gondiya', 'Cuttack',\n",
       "       'Fafan', 'Patiala', 'Yamunanagar', 'Gorakhpur', 'Narayanpur',\n",
       "       'Jyotiba Phule Nagar', 'Saharsa', 'Sakti', 'Rohtak',\n",
       "       'Chittorgarh District', 'Prakasam', 'Rewari District', 'Guntur',\n",
       "       'Mahendragarh', 'Etawah', 'Jind', 'Gajapati', 'Agra', 'Bathinda',\n",
       "       'Purba Champaran', 'Gurgaon', 'Gir Somnath District', 'Jalandhar',\n",
       "       'Raichur district', 'Raipur', 'Sirsa', 'Fatehabad', 'Karnal',\n",
       "       'Gamo Gofa', 'Barabanki', 'Sonipat', 'Deoria', 'Mumbai Suburban',\n",
       "       'Amravati', 'Pashchimi Singhbhum', 'Aurangabad District',\n",
       "       'Ramgarh', 'Virudhunagar District', 'Ernakulam district', 'Kheri',\n",
       "       'Hazaribagh', 'Chandrapur', 'Hoshangabad', 'Thane', 'Simdega',\n",
       "       'Wardha', 'Narsimhapur', 'Bhandara', 'Palghar', 'Delhi',\n",
       "       'Buldhana', 'Gadchiroli', 'Sindhudurg', 'Malkangiri',\n",
       "       'Jhalawar District', 'Rohtas District', 'Upper Subansiri', 'Sagar',\n",
       "       'Hassan district', 'Uttar Bastar Kanker', 'Dimapur', 'Jhansi',\n",
       "       'Kota District', 'Hardoi', 'Shivpuri', 'Hadiya', 'Ghaziabad',\n",
       "       'Palwal', 'Dhamtari', 'Sidama Region', 'Buxar', 'Janjgir-Champa',\n",
       "       'Kandhamal', 'Munger', 'Rajnandgaon', 'South Gonder', 'Zone 2',\n",
       "       'Gaurela-Pendra-Marwahi district', 'Mamit', 'Damoh', 'Kolhapur',\n",
       "       'Sahibganj (district)', 'Oromia Region', 'West Shewa', 'Mungeli',\n",
       "       'Kodarma', 'Giridih', 'Palamu', 'Bijapur', 'Betul', 'Wolayita',\n",
       "       'Agnuak', 'West Harerghe', 'Illubabor', 'Selti', 'Latehar',\n",
       "       'Papum Pare', 'Arsi', 'Amhara Region', 'Zone 3',\n",
       "       'Dirashe special woreda', 'Belgaum district', 'Jhajjar',\n",
       "       'South Wollo', 'Alaba', 'Gedeo', 'Bench Maji', 'West Arsi',\n",
       "       'Afder', 'Dawro', \"Segen Peoples'\", 'Yem Special Woreda',\n",
       "       'Mudug Region', 'South Omo', 'Amaro Special Woreda', 'Korahe',\n",
       "       'Thiruvallur District', 'Keffa', 'Guraghe', 'Sheka', 'Hareri',\n",
       "       'Konso Special Woreda', 'Dire Dawa Region', 'Western Tigray',\n",
       "       'Burji Special Woreda', 'East Harerghe', 'Awi Agew', 'Guji',\n",
       "       'West Wellega', 'North Wello', 'East Shewa', 'East Wellega',\n",
       "       'East Gojjam', 'Pawe Special', 'Oromia', 'Metekel', 'Liben',\n",
       "       'Poonch district', 'Madhepura', 'Solan', 'Baloda Bazar',\n",
       "       'Somali Region', 'Maldah', 'Shabelle', 'Mandera Triangle',\n",
       "       'Kelem Wellega', 'Ri-Bhoi', 'Zone 5', 'Agra division', 'Nogob',\n",
       "       'Asosa', 'Sri Muktsar Sahib District', 'Paschim Bardhaman',\n",
       "       'Gwalior', 'Borena', 'Siti', 'Jarar', 'Raigad', 'Osmanabad',\n",
       "       'Medchal–Malkajgiri', 'Umaria', 'Jashpur', 'Indore District',\n",
       "       'Guna', 'Bhind', 'Dhar', 'Anuppur', 'Bhopal', 'Rajgarh', 'Nagpur',\n",
       "       'Sidhi', 'Konta Special Woreda', 'Seoni', 'Nashik', 'Kurnool',\n",
       "       'Chikkamagaluru district', 'Durg', 'CAL Fire Southern Region',\n",
       "       'North Delhi', 'Howrah', 'Nyabihu', 'Sarlahi', 'Daedok Innopolis',\n",
       "       'Al Faw', 'Annamayya', 'Churachandpur', 'চুয়াডাঙ্গা জেলা',\n",
       "       'Firozabad', 'Ahmedabad District', 'Shimoga District',\n",
       "       'Nairobi Area', 'Jodhpur District', 'Hyderabad', 'Khandwa',\n",
       "       'Dhule', 'West Khasi Hills', 'Faizabad', 'Kembata Tembaro',\n",
       "       'Dakshina Kannada district', 'Dantewada'], dtype=object)"
      ]
     },
     "execution_count": 265,
     "metadata": {},
     "output_type": "execute_result"
    }
   ],
   "source": [
    "found_users_df['UserDistrict'].unique()"
   ]
  },
  {
   "cell_type": "code",
   "execution_count": 221,
   "id": "1c8fa2b0-f5e0-4010-a63b-c30f7e74aab4",
   "metadata": {
    "execution": {
     "iopub.execute_input": "2022-12-06T15:20:59.636198Z",
     "iopub.status.busy": "2022-12-06T15:20:59.635450Z",
     "iopub.status.idle": "2022-12-06T15:21:01.033919Z",
     "shell.execute_reply": "2022-12-06T15:21:00.834469Z",
     "shell.execute_reply.started": "2022-12-06T15:20:59.636144Z"
    },
    "tags": []
   },
   "outputs": [
    {
     "data": {
      "text/plain": [
       "' Addis Ababa'"
      ]
     },
     "execution_count": 221,
     "metadata": {},
     "output_type": "execute_result"
    }
   ],
   "source": [
    "#Since we had some weird names in our list, we will try and clean it up abit. The .split('/') function will split strings by a given separator\n",
    "found_you[5].split('/')[-1] #If we add the minus one, we should always get the last (and hopefully correct district name)"
   ]
  },
  {
   "cell_type": "code",
   "execution_count": 222,
   "id": "93ea1c4a-247a-4aae-95e7-21507787795f",
   "metadata": {
    "execution": {
     "iopub.execute_input": "2022-12-06T15:21:01.235344Z",
     "iopub.status.busy": "2022-12-06T15:21:01.233275Z",
     "iopub.status.idle": "2022-12-06T15:21:02.536286Z",
     "shell.execute_reply": "2022-12-06T15:21:02.534264Z",
     "shell.execute_reply.started": "2022-12-06T15:21:01.235284Z"
    },
    "tags": []
   },
   "outputs": [
    {
     "data": {
      "text/plain": [
       "'Faridabad'"
      ]
     },
     "execution_count": 222,
     "metadata": {},
     "output_type": "execute_result"
    }
   ],
   "source": [
    "found_you[2].split('/')[-1] #It also works for the ones without a / separator"
   ]
  },
  {
   "cell_type": "code",
   "execution_count": 223,
   "id": "a8ba2db5-2e8e-4533-a583-c9f1758ef599",
   "metadata": {
    "execution": {
     "iopub.execute_input": "2022-12-06T15:21:02.539380Z",
     "iopub.status.busy": "2022-12-06T15:21:02.538744Z",
     "iopub.status.idle": "2022-12-06T15:21:02.839439Z",
     "shell.execute_reply": "2022-12-06T15:21:02.838141Z",
     "shell.execute_reply.started": "2022-12-06T15:21:02.539327Z"
    },
    "tags": []
   },
   "outputs": [
    {
     "name": "stderr",
     "output_type": "stream",
     "text": [
      "100%|██████████| 1619/1619 [00:00<00:00, 16808.11it/s]\n"
     ]
    }
   ],
   "source": [
    "# Let's try to get these districts looking a bit nicer without the non-english names. We write a for loop with the above code;\n",
    "really_found_you = []\n",
    "for x in tqdm(range(len(found_you))):\n",
    "    I_dont_know = found_you[x].split('/')[-1] # adding the bits of code i tested above\n",
    "    really_found_you.append(I_dont_know) #Append to our empty list. Indexes should match up"
   ]
  },
  {
   "cell_type": "code",
   "execution_count": 224,
   "id": "08263d79-dc22-4d15-82eb-e253e432d5c0",
   "metadata": {
    "execution": {
     "iopub.execute_input": "2022-12-06T15:21:02.843048Z",
     "iopub.status.busy": "2022-12-06T15:21:02.842269Z",
     "iopub.status.idle": "2022-12-06T15:21:02.946953Z",
     "shell.execute_reply": "2022-12-06T15:21:02.945757Z",
     "shell.execute_reply.started": "2022-12-06T15:21:02.842995Z"
    },
    "tags": []
   },
   "outputs": [
    {
     "data": {
      "text/plain": [
       "'ሰሜን ጎንደር'"
      ]
     },
     "execution_count": 224,
     "metadata": {},
     "output_type": "execute_result"
    }
   ],
   "source": [
    "really_found_you[39] # we still got some weird names that aren't english. After a quick look through them, the \"patterns\" in lack of better words seem to be repeating the same 2 again.\n",
    "# So we let's first replace those. \n",
    "#We got: \n",
    "# ሰሜን ጎንደር = North Gondar and \n",
    "# ሰሜን ወሎ = North Wello (no I don't read ethiopean, but Google is my friend)"
   ]
  },
  {
   "cell_type": "code",
   "execution_count": 225,
   "id": "44a2a39b-e0f9-4c8d-b7bb-da8e2b584b0e",
   "metadata": {
    "execution": {
     "iopub.execute_input": "2022-12-06T15:21:02.949972Z",
     "iopub.status.busy": "2022-12-06T15:21:02.949347Z",
     "iopub.status.idle": "2022-12-06T15:21:03.451238Z",
     "shell.execute_reply": "2022-12-06T15:21:03.449974Z",
     "shell.execute_reply.started": "2022-12-06T15:21:02.949929Z"
    },
    "tags": []
   },
   "outputs": [],
   "source": [
    "#Let's replace them\n",
    "for i in range(len(really_found_you)):\n",
    "  \n",
    "    \n",
    "    if really_found_you[i] == 'ሰሜን ጎንደር':\n",
    "        really_found_you[i] = 'North Gondar'\n",
    "  \n",
    "    \n",
    "    if really_found_you[i] == 'ሰሜን ወሎ':\n",
    "        really_found_you[i] = 'North Wello'"
   ]
  },
  {
   "cell_type": "code",
   "execution_count": 226,
   "id": "073ae2a4-2155-44f8-bee4-c6e8c8bc348f",
   "metadata": {
    "execution": {
     "iopub.execute_input": "2022-12-06T15:21:03.454033Z",
     "iopub.status.busy": "2022-12-06T15:21:03.453418Z",
     "iopub.status.idle": "2022-12-06T15:21:03.802437Z",
     "shell.execute_reply": "2022-12-06T15:21:03.801305Z",
     "shell.execute_reply.started": "2022-12-06T15:21:03.453989Z"
    },
    "tags": []
   },
   "outputs": [
    {
     "data": {
      "text/plain": [
       "'North Gondar'"
      ]
     },
     "execution_count": 226,
     "metadata": {},
     "output_type": "execute_result"
    }
   ],
   "source": [
    "really_found_you[39] #sucess!"
   ]
  },
  {
   "cell_type": "code",
   "execution_count": 227,
   "id": "8878521c-acda-4d0e-931c-10f61744ec76",
   "metadata": {
    "execution": {
     "iopub.execute_input": "2022-12-06T15:21:03.805411Z",
     "iopub.status.busy": "2022-12-06T15:21:03.804846Z",
     "iopub.status.idle": "2022-12-06T15:21:03.900211Z",
     "shell.execute_reply": "2022-12-06T15:21:03.898992Z",
     "shell.execute_reply.started": "2022-12-06T15:21:03.805360Z"
    },
    "tags": []
   },
   "outputs": [],
   "source": [
    "# Let's recreate our DF again now with the corrected values;\n",
    "found_you_df = pd.DataFrame(really_found_you,columns=['UserDistrict'])"
   ]
  },
  {
   "cell_type": "code",
   "execution_count": 228,
   "id": "55b1c802-590d-437f-a23f-04cab3489dc6",
   "metadata": {
    "execution": {
     "iopub.execute_input": "2022-12-06T15:21:03.903351Z",
     "iopub.status.busy": "2022-12-06T15:21:03.902651Z",
     "iopub.status.idle": "2022-12-06T15:21:03.950516Z",
     "shell.execute_reply": "2022-12-06T15:21:03.949784Z",
     "shell.execute_reply.started": "2022-12-06T15:21:03.903299Z"
    },
    "tags": []
   },
   "outputs": [
    {
     "data": {
      "text/html": [
       "<div>\n",
       "<style scoped>\n",
       "    .dataframe tbody tr th:only-of-type {\n",
       "        vertical-align: middle;\n",
       "    }\n",
       "\n",
       "    .dataframe tbody tr th {\n",
       "        vertical-align: top;\n",
       "    }\n",
       "\n",
       "    .dataframe thead th {\n",
       "        text-align: right;\n",
       "    }\n",
       "</style>\n",
       "<table border=\"1\" class=\"dataframe\">\n",
       "  <thead>\n",
       "    <tr style=\"text-align: right;\">\n",
       "      <th></th>\n",
       "      <th>Userinfo_Key</th>\n",
       "      <th>UserDistrict</th>\n",
       "    </tr>\n",
       "  </thead>\n",
       "  <tbody>\n",
       "    <tr>\n",
       "      <th>0</th>\n",
       "      <td>474737</td>\n",
       "      <td>Nabarangapur</td>\n",
       "    </tr>\n",
       "    <tr>\n",
       "      <th>1</th>\n",
       "      <td>474986</td>\n",
       "      <td>Jammu District</td>\n",
       "    </tr>\n",
       "    <tr>\n",
       "      <th>2</th>\n",
       "      <td>476738</td>\n",
       "      <td>Faridabad</td>\n",
       "    </tr>\n",
       "    <tr>\n",
       "      <th>3</th>\n",
       "      <td>481106</td>\n",
       "      <td>Kanpur Nagar</td>\n",
       "    </tr>\n",
       "    <tr>\n",
       "      <th>4</th>\n",
       "      <td>481511</td>\n",
       "      <td>Pauri Garhwal</td>\n",
       "    </tr>\n",
       "    <tr>\n",
       "      <th>...</th>\n",
       "      <td>...</td>\n",
       "      <td>...</td>\n",
       "    </tr>\n",
       "    <tr>\n",
       "      <th>1614</th>\n",
       "      <td>928390</td>\n",
       "      <td>North Shewa (Amhara Region)</td>\n",
       "    </tr>\n",
       "    <tr>\n",
       "      <th>1615</th>\n",
       "      <td>928853</td>\n",
       "      <td>North Gondar</td>\n",
       "    </tr>\n",
       "    <tr>\n",
       "      <th>1616</th>\n",
       "      <td>935121</td>\n",
       "      <td>North Shewa (Amhara Region)</td>\n",
       "    </tr>\n",
       "    <tr>\n",
       "      <th>1617</th>\n",
       "      <td>939284</td>\n",
       "      <td>North Shewa (Amhara Region)</td>\n",
       "    </tr>\n",
       "    <tr>\n",
       "      <th>1618</th>\n",
       "      <td>945718</td>\n",
       "      <td>North Gondar</td>\n",
       "    </tr>\n",
       "  </tbody>\n",
       "</table>\n",
       "<p>1619 rows × 2 columns</p>\n",
       "</div>"
      ],
      "text/plain": [
       "      Userinfo_Key                 UserDistrict\n",
       "0           474737                 Nabarangapur\n",
       "1           474986               Jammu District\n",
       "2           476738                    Faridabad\n",
       "3           481106                 Kanpur Nagar\n",
       "4           481511                Pauri Garhwal\n",
       "...            ...                          ...\n",
       "1614        928390  North Shewa (Amhara Region)\n",
       "1615        928853                 North Gondar\n",
       "1616        935121  North Shewa (Amhara Region)\n",
       "1617        939284  North Shewa (Amhara Region)\n",
       "1618        945718                 North Gondar\n",
       "\n",
       "[1619 rows x 2 columns]"
      ]
     },
     "execution_count": 228,
     "metadata": {},
     "output_type": "execute_result"
    }
   ],
   "source": [
    "found_users_df = pd.concat([user_district_df, found_you_df],axis=1)\n",
    "found_users_df"
   ]
  },
  {
   "cell_type": "code",
   "execution_count": 229,
   "id": "668c41b6-6ca7-4428-962f-4e7ceb20ddf7",
   "metadata": {
    "execution": {
     "iopub.execute_input": "2022-12-06T15:21:03.951819Z",
     "iopub.status.busy": "2022-12-06T15:21:03.951570Z",
     "iopub.status.idle": "2022-12-06T15:21:03.972790Z",
     "shell.execute_reply": "2022-12-06T15:21:03.971955Z",
     "shell.execute_reply.started": "2022-12-06T15:21:03.951796Z"
    },
    "tags": []
   },
   "outputs": [
    {
     "data": {
      "text/plain": [
       "''"
      ]
     },
     "execution_count": 229,
     "metadata": {},
     "output_type": "execute_result"
    }
   ],
   "source": [
    "# As it turns out we still have roughly 130 users with empty strings for districts which isn't useful. Most of these are from roughly the same areas based on the lat/lon data\n",
    "# so for these I will simply find the districts through google and add them manually (yes, sometimes efforts have to be lowtech)\n",
    "really_found_you[118]"
   ]
  },
  {
   "cell_type": "code",
   "execution_count": 230,
   "id": "acae2f2a-d5b1-448d-9c75-6f3ce2ba03ef",
   "metadata": {
    "execution": {
     "iopub.execute_input": "2022-12-06T15:21:03.974700Z",
     "iopub.status.busy": "2022-12-06T15:21:03.974258Z",
     "iopub.status.idle": "2022-12-06T15:21:04.035011Z",
     "shell.execute_reply": "2022-12-06T15:21:04.033302Z",
     "shell.execute_reply.started": "2022-12-06T15:21:03.974671Z"
    },
    "tags": []
   },
   "outputs": [],
   "source": [
    "#Making a function to give me the indexes of the missing states.\n",
    "def find_indices(list_to_check, item_to_find):\n",
    "    indices = []\n",
    "    for idx, value in enumerate(list_to_check):\n",
    "        if value == item_to_find:\n",
    "            indices.append(idx)\n",
    "    return indices"
   ]
  },
  {
   "cell_type": "code",
   "execution_count": 231,
   "id": "551debc2-4351-4db7-a2c7-83834b7ccad6",
   "metadata": {
    "execution": {
     "iopub.execute_input": "2022-12-06T15:21:04.037995Z",
     "iopub.status.busy": "2022-12-06T15:21:04.037304Z",
     "iopub.status.idle": "2022-12-06T15:21:04.048208Z",
     "shell.execute_reply": "2022-12-06T15:21:04.047028Z",
     "shell.execute_reply.started": "2022-12-06T15:21:04.037944Z"
    },
    "tags": []
   },
   "outputs": [],
   "source": [
    "blank_list = find_indices(really_found_you,'') #Creating my list of indexes that have '' empty string for state_district."
   ]
  },
  {
   "cell_type": "code",
   "execution_count": 232,
   "id": "ac851aa8-ea63-4697-bb30-6d40070f388f",
   "metadata": {
    "execution": {
     "iopub.execute_input": "2022-12-06T15:21:04.050671Z",
     "iopub.status.busy": "2022-12-06T15:21:04.050108Z",
     "iopub.status.idle": "2022-12-06T15:21:04.072983Z",
     "shell.execute_reply": "2022-12-06T15:21:04.071878Z",
     "shell.execute_reply.started": "2022-12-06T15:21:04.050632Z"
    },
    "tags": []
   },
   "outputs": [
    {
     "name": "stdout",
     "output_type": "stream",
     "text": [
      "Index 36 lat/lon: 22.5159759,88.3929637\n",
      "Index 118 lat/lon: 23.8072333,86.4701313\n",
      "Index 124 lat/lon: 22.4734067,88.3695949\n",
      "Index 129 lat/lon: 22.7519828,88.3713696\n",
      "Index 157 lat/lon: 22.4880621,88.3935816\n",
      "Index 168 lat/lon: 18.4348198,73.8480931\n",
      "Index 169 lat/lon: 18.6206324,73.7353715\n",
      "Index 173 lat/lon: 30.7081854,76.7785551\n",
      "Index 176 lat/lon: 22.8957172,88.427064\n",
      "Index 198 lat/lon: 31.4205292,76.6445826\n",
      "Index 248 lat/lon: 28.4776379,76.9074673\n",
      "Index 323 lat/lon: 28.6740771,77.4664234\n",
      "Index 352 lat/lon: 28.8531986,77.5875557\n",
      "Index 358 lat/lon: 6.60032,38.4242443\n",
      "Index 366 lat/lon: 20.41981604,80.85105434\n",
      "Index 387 lat/lon: 8.5367352,39.2621208\n",
      "Index 398 lat/lon: 8.577749,39.2895764\n",
      "Index 399 lat/lon: 22.0715715,81.6834564\n",
      "Index 406 lat/lon: 23.2992656,81.3979299\n",
      "Index 413 lat/lon: 18.7900281,80.8119131\n",
      "Index 443 lat/lon: 11.594148,37.3822772\n",
      "Index 472 lat/lon: 7.0323651,38.4781653\n",
      "Index 477 lat/lon: 6.7869172,47.4153237\n",
      "Index 509 lat/lon: 7.0419751,38.4703338\n",
      "Index 522 lat/lon: 9.5978026,41.8441558\n",
      "Index 523 lat/lon: 9.5819253,41.8705006\n",
      "Index 524 lat/lon: 9.6220047,41.7875422\n",
      "Index 527 lat/lon: 9.6019754,41.8238639\n",
      "Index 553 lat/lon: 9.5923034,41.8419443\n",
      "Index 558 lat/lon: 9.5964777,41.8381868\n",
      "Index 562 lat/lon: 9.5947508,41.8764985\n",
      "Index 579 lat/lon: 8.5641349,39.2641078\n",
      "Index 580 lat/lon: 6.48954304,38.51300733\n",
      "Index 585 lat/lon: 7.0249042,38.4899364\n",
      "Index 586 lat/lon: 9.5993352,41.876372\n",
      "Index 595 lat/lon: 9.6092541,41.8261655\n",
      "Index 607 lat/lon: 8.5480634,39.2804892\n",
      "Index 620 lat/lon: 7.0242817,38.473414\n",
      "Index 643 lat/lon: 11.5860973,37.3887736\n",
      "Index 644 lat/lon: 4.1610466,42.0816966\n",
      "Index 647 lat/lon: 8.527878,39.2613394\n",
      "Index 669 lat/lon: 3.9407243,41.8577484\n",
      "Index 678 lat/lon: 8.5521491,39.2734219\n",
      "Index 686 lat/lon: 8.5552312,39.296512\n",
      "Index 754 lat/lon: 8.5500937,39.2766672\n",
      "Index 755 lat/lon: 8.5279087,39.261335\n",
      "Index 777 lat/lon: 9.5990341,41.8314843\n",
      "Index 786 lat/lon: 11.5940502,37.3923945\n",
      "Index 827 lat/lon: 8.5403866,39.264335\n",
      "Index 834 lat/lon: 7.0265431,38.4782571\n",
      "Index 847 lat/lon: 9.5941805,41.8835093\n",
      "Index 849 lat/lon: 6.6011075,38.4141566\n",
      "Index 864 lat/lon: 8.5669086,39.2634629\n",
      "Index 927 lat/lon: 9.598899,41.8508178\n",
      "Index 929 lat/lon: 9.6024442,41.8589902\n",
      "Index 940 lat/lon: 9.5985231,41.875521\n",
      "Index 951 lat/lon: 9.595285,41.8547293\n",
      "Index 956 lat/lon: 7.0449559,38.4696863\n",
      "Index 960 lat/lon: 9.5956967,41.8369518\n",
      "Index 984 lat/lon: 11.5841229,37.3870609\n",
      "Index 991 lat/lon: 9.5893764,41.8556534\n",
      "Index 1004 lat/lon: 7.0696473,38.4819757\n",
      "Index 1012 lat/lon: 6.8759287,38.4440779\n",
      "Index 1020 lat/lon: 7.0165877,38.4762424\n",
      "Index 1021 lat/lon: 31.4492726,76.7278825\n",
      "Index 1038 lat/lon: 9.5911323,41.8689234\n",
      "Index 1043 lat/lon: 22.5716195,88.3607621\n",
      "Index 1051 lat/lon: 11.58416864,37.38717795\n",
      "Index 1059 lat/lon: 9.6071086,41.8207796\n",
      "Index 1063 lat/lon: 7.0796454,38.4869695\n",
      "Index 1071 lat/lon: 7.0366973,38.4961284\n",
      "Index 1077 lat/lon: 8.540014,39.2646481\n",
      "Index 1092 lat/lon: 8.5415593,39.2734301\n",
      "Index 1095 lat/lon: 8.5387074,39.2634857\n",
      "Index 1103 lat/lon: 7.0291997,38.4657792\n",
      "Index 1105 lat/lon: 9.5999252,41.8720716\n",
      "Index 1120 lat/lon: 9.6119622,41.8372977\n",
      "Index 1121 lat/lon: 8.5366623,39.261413\n",
      "Index 1123 lat/lon: 8.536971,39.2625764\n",
      "Index 1125 lat/lon: 8.537378,39.2623868\n",
      "Index 1126 lat/lon: 8.5367238,39.2626896\n",
      "Index 1127 lat/lon: 8.5367237,39.2626892\n",
      "Index 1130 lat/lon: 8.5369475,39.2626263\n",
      "Index 1159 lat/lon: 22.5356399,88.320361\n",
      "Index 1173 lat/lon: 8.5278975,39.261346\n",
      "Index 1177 lat/lon: 8.5278362,39.2614205\n",
      "Index 1179 lat/lon: 11.5930078,37.3847188\n",
      "Index 1181 lat/lon: 8.5432228,39.2758375\n",
      "Index 1187 lat/lon: 6.527768271,38.82822021\n",
      "Index 1192 lat/lon: 7.0312728,38.473589\n",
      "Index 1209 lat/lon: 8.5278957,39.2613103\n",
      "Index 1210 lat/lon: 8.5278902,39.2613234\n",
      "Index 1211 lat/lon: 8.5278981,39.2613098\n",
      "Index 1212 lat/lon: 8.5545214,39.269852\n",
      "Index 1214 lat/lon: 8.5544769,39.2697215\n",
      "Index 1220 lat/lon: 8.5278184,39.2614101\n",
      "Index 1224 lat/lon: 8.5402636,39.2679623\n",
      "Index 1231 lat/lon: 8.5443651,39.2706149\n",
      "Index 1246 lat/lon: 8.5278978,39.2613102\n",
      "Index 1252 lat/lon: 7.0431923,38.4753\n",
      "Index 1268 lat/lon: -1.6427321,29.3873708\n",
      "Index 1277 lat/lon: 4.1650745,42.0751741\n",
      "Index 1290 lat/lon: 9.5842953,41.8651986\n",
      "Index 1293 lat/lon: 9.5890354,41.8683026\n",
      "Index 1338 lat/lon: 26.8681696,85.5517178\n",
      "Index 1340 lat/lon: 7.0316222,38.4728912\n",
      "Index 1360 lat/lon: 8.5375687,39.2628148\n",
      "Index 1364 lat/lon: 36.3741546,127.3654559\n",
      "Index 1369 lat/lon: 3.9491398,41.8501974\n",
      "Index 1375 lat/lon: 11.5943413,37.4010006\n",
      "Index 1387 lat/lon: 13.7540904,34.3992737\n",
      "Index 1402 lat/lon: 7.0511992,38.4940261\n",
      "Index 1412 lat/lon: 7.026196,38.4663779\n",
      "Index 1464 lat/lon: 9.60389488,41.86909641\n",
      "Index 1467 lat/lon: 8.538728,39.2578423\n",
      "Index 1470 lat/lon: 9.6025896,41.836641\n",
      "Index 1474 lat/lon: 9.6043528,41.8720271\n",
      "Index 1478 lat/lon: -1.2946861,36.7908956\n",
      "Index 1511 lat/lon: 11.583531,37.400985\n",
      "Index 1536 lat/lon: 8.5386268,39.2586674\n",
      "Index 1554 lat/lon: 8.5386715,39.2585113\n",
      "Index 1575 lat/lon: 8.539311,39.2578423\n",
      "Index 1583 lat/lon: 8.5386759,39.2584928\n",
      "Index 1585 lat/lon: 8.5397492,39.2588162\n",
      "Index 1589 lat/lon: 8.5354567,39.2547371\n",
      "Index 1595 lat/lon: 8.5376246,39.2552061\n",
      "Index 1596 lat/lon: 8.5376194,39.2552143\n",
      "Index 1597 lat/lon: 8.5377021,39.2556153\n",
      "Index 1598 lat/lon: 8.537674,39.2555723\n",
      "Index 1599 lat/lon: 8.537626,39.2552044\n",
      "Index 1600 lat/lon: 8.5395106,39.2584916\n",
      "Index 1601 lat/lon: 8.5376241,39.2552137\n",
      "Index 1607 lat/lon: 8.5386803,39.2585066\n"
     ]
    }
   ],
   "source": [
    "# Just creating a printed out list of indexes and matching lat/long to find them manually (it was initially 134 users with empty strings)\n",
    "for i in blank_list:\n",
    "    print(f'Index {i} lat/lon: ' + str(lat_list[i]) +\",\"+str(lon_list[i]))"
   ]
  },
  {
   "cell_type": "code",
   "execution_count": 233,
   "id": "87b5bc9a-520a-444c-9ac6-bc5c6f6f31c4",
   "metadata": {
    "execution": {
     "iopub.execute_input": "2022-12-06T15:21:04.133007Z",
     "iopub.status.busy": "2022-12-06T15:21:04.075317Z",
     "iopub.status.idle": "2022-12-06T15:21:04.165193Z",
     "shell.execute_reply": "2022-12-06T15:21:04.164424Z",
     "shell.execute_reply.started": "2022-12-06T15:21:04.132939Z"
    },
    "tags": []
   },
   "outputs": [],
   "source": [
    "indexes = [36, 124, 129, 157 ,176,1043,1159] #Doing all the replacements after manually finding them\n",
    "replacements = list(len(indexes) * ('Kolkata',))    \n",
    "\n",
    "for (index, replacement) in zip(indexes, replacements):\n",
    "    really_found_you[index] = replacement\n",
    "    \n",
    "\n",
    "indexes = [118]\n",
    "replacements = list(len(indexes) * ('Dhanbad',))        \n",
    "\n",
    "for (index, replacement) in zip(indexes, replacements):\n",
    "    really_found_you[index] = replacement\n",
    "    \n",
    "\n",
    "indexes = [168, 169,1423]\n",
    "replacements = list(len(indexes) * ('Pune',))\n",
    "\n",
    "for (index, replacement) in zip(indexes, replacements):\n",
    "    really_found_you[index] = replacement\n",
    "\n",
    "\n",
    "indexes = [173]\n",
    "replacements = list(len(indexes) * ('Chandigarh',))   \n",
    "\n",
    "for (index, replacement) in zip(indexes, replacements):\n",
    "    really_found_you[index] = replacement\n",
    "    \n",
    "\n",
    "indexes = [198]\n",
    "replacements = list(len(indexes) * ('Bilaspur',))\n",
    "\n",
    "for (index, replacement) in zip(indexes, replacements):\n",
    "    really_found_you[index] = replacement\n",
    "    \n",
    "indexes = [248]\n",
    "replacements = list(len(indexes) * ('Gurgaon',))    \n",
    "\n",
    "for (index, replacement) in zip(indexes, replacements):\n",
    "    really_found_you[index] = replacement\n",
    "    \n",
    "\n",
    "indexes = [323]\n",
    "replacements = list(len(indexes) * ('Delhi',))    \n",
    "\n",
    "for (index, replacement) in zip(indexes, replacements):\n",
    "    really_found_you[index] = replacement\n",
    "    \n",
    "\n",
    "indexes = [352]\n",
    "replacements = list(len(indexes) * ('Ghaziabad',))    \n",
    "\n",
    "for (index, replacement) in zip(indexes, replacements):\n",
    "    really_found_you[index] = replacement\n",
    "    \n",
    "\n",
    "indexes = [358, 472, 509, 580, 585, 620,834,849,956,1004,1012,1020,1063, 1071,1103,1187,1192,1252,1340,1402,1412]\n",
    "replacements = list(len(indexes) * ('Sidama Region',))    \n",
    "\n",
    "for (index, replacement) in zip(indexes, replacements):\n",
    "    really_found_you[index] = replacement\n",
    "    \n",
    "\n",
    "indexes = [366]\n",
    "replacements = list(len(indexes) * ('Rajnandgaon',))\n",
    "    \n",
    "for (index, replacement) in zip(indexes, replacements):\n",
    "    really_found_you[index] = replacement\n",
    "        \n",
    "\n",
    "indexes = [387,398,579,607,647,678,686,754,755,827,864,1077,1092,1095,1121,1123,1125,1126,1127,1130,1173, 1177,1181,1209,1210,1211,1212,1214,1220,1224,1231,1246, 1360,1467,1536,1554,1575,1583,1585,1589,1595,1596,1597,1598,1599,1600,1601,1607]\n",
    "replacements = list(len(indexes) * ('Oromia Region',))    \n",
    "for (index, replacement) in zip(indexes, replacements):\n",
    "    really_found_you[index] = replacement\n",
    "    \n",
    "\n",
    "indexes = [399]\n",
    "replacements = list(len(indexes) * ('Mungeli',))    \n",
    "for (index, replacement) in zip(indexes, replacements):\n",
    "    really_found_you[index] = replacement\n",
    "    \n",
    "\n",
    "indexes = [406]\n",
    "replacements = list(len(indexes) * ('Giridih',))    \n",
    "for (index, replacement) in zip(indexes, replacements):\n",
    "    really_found_you[index] = replacement\n",
    "    \n",
    "\n",
    "indexes = [413]\n",
    "replacements = list(len(indexes) * ('Bijapur',))    \n",
    "for (index, replacement) in zip(indexes, replacements):\n",
    "    really_found_you[index] = replacement\n",
    "    \n",
    "\n",
    "indexes = [1338]\n",
    "replacements = list(len(indexes) * ('Sarlahi',))    \n",
    "for (index, replacement) in zip(indexes, replacements):\n",
    "    really_found_you[index] = replacement\n",
    "    \n",
    "indexes = [1021]\n",
    "replacements = list(len(indexes) * ('Sonipat',))    \n",
    "for (index, replacement) in zip(indexes, replacements):\n",
    "    really_found_you[index] = replacement\n",
    "    \n",
    "\n",
    "indexes = [443, 643, 786,984,1051,1179,1375,1511]\n",
    "replacements = list(len(indexes) * ('Amhara Region',))    \n",
    "for (index, replacement) in zip(indexes, replacements):\n",
    "    really_found_you[index] = replacement\n",
    "    \n",
    "\n",
    "indexes = [522, 523, 524, 527, 553, 558, 562, 586,595,777,847,927,929,940,951,960,991, 1038, 1059,1105,1120, 1290, 1293, 1464,1470,1474]\n",
    "replacements = list(len(indexes) * ('Dire Dawa Region',))    \n",
    "for (index, replacement) in zip(indexes, replacements):\n",
    "    really_found_you[index] = replacement\n",
    "    \n",
    "\n",
    "indexes = [477]\n",
    "replacements = list(len(indexes) * ('Mudug Region',))    \n",
    "for (index, replacement) in zip(indexes, replacements):\n",
    "    really_found_you[index] = replacement\n",
    "    \n",
    "\n",
    "indexes = [644,1277]\n",
    "replacements = list(len(indexes) * ('Somali Region',))    \n",
    "for (index, replacement) in zip(indexes, replacements):\n",
    "    really_found_you[index] = replacement\n",
    "    \n",
    "\n",
    "indexes = [669,1369]\n",
    "replacements = list(len(indexes) * ('Mandera Triangle',))    \n",
    "for (index, replacement) in zip(indexes, replacements):\n",
    "    really_found_you[index] = replacement\n",
    "        \n",
    "\n",
    "indexes = [1364]\n",
    "replacements = list(len(indexes) * ('Daedok Innopolis',))    \n",
    "for (index, replacement) in zip(indexes, replacements):\n",
    "    really_found_you[index] = replacement\n",
    "        \n",
    "\n",
    "indexes = [1387]\n",
    "replacements = list(len(indexes) * ('Al Faw',))    \n",
    "for (index, replacement) in zip(indexes, replacements):\n",
    "    really_found_you[index] = replacement\n",
    "        \n",
    "\n",
    "indexes = [1478]\n",
    "replacements = list(len(indexes) * ('Nairobi Area',))    \n",
    "for (index, replacement) in zip(indexes, replacements):\n",
    "    really_found_you[index] = replacement\n",
    "\n",
    "indexes = [1268]\n",
    "replacements = list(len(indexes) * ('Nyabihu',))    \n",
    "for (index, replacement) in zip(indexes, replacements):\n",
    "    really_found_you[index] = replacement"
   ]
  },
  {
   "cell_type": "code",
   "execution_count": 234,
   "id": "3639b4c1-f54f-4c9f-9d43-01eddd9c29f3",
   "metadata": {
    "execution": {
     "iopub.execute_input": "2022-12-06T15:21:04.166216Z",
     "iopub.status.busy": "2022-12-06T15:21:04.165998Z",
     "iopub.status.idle": "2022-12-06T15:21:04.239102Z",
     "shell.execute_reply": "2022-12-06T15:21:04.237946Z",
     "shell.execute_reply.started": "2022-12-06T15:21:04.166197Z"
    },
    "tags": []
   },
   "outputs": [
    {
     "data": {
      "text/plain": [
       "'CAL Fire Southern Region'"
      ]
     },
     "execution_count": 234,
     "metadata": {},
     "output_type": "execute_result"
    }
   ],
   "source": [
    "really_found_you[1170] #apparently the California Fire department has been looking at the app as well"
   ]
  },
  {
   "cell_type": "code",
   "execution_count": 235,
   "id": "f4256b44-2399-4a98-bc71-bccc1ec9062b",
   "metadata": {
    "execution": {
     "iopub.execute_input": "2022-12-06T15:21:04.241866Z",
     "iopub.status.busy": "2022-12-06T15:21:04.241251Z",
     "iopub.status.idle": "2022-12-06T15:21:04.259744Z",
     "shell.execute_reply": "2022-12-06T15:21:04.258594Z",
     "shell.execute_reply.started": "2022-12-06T15:21:04.241822Z"
    },
    "tags": []
   },
   "outputs": [],
   "source": [
    "blank_list = find_indices(really_found_you,'') #Performing another blank value check"
   ]
  },
  {
   "cell_type": "code",
   "execution_count": 236,
   "id": "d7238d17-7347-478c-a5d1-1a3d6da68271",
   "metadata": {
    "execution": {
     "iopub.execute_input": "2022-12-06T15:21:04.262571Z",
     "iopub.status.busy": "2022-12-06T15:21:04.261878Z",
     "iopub.status.idle": "2022-12-06T15:21:04.336475Z",
     "shell.execute_reply": "2022-12-06T15:21:04.335348Z",
     "shell.execute_reply.started": "2022-12-06T15:21:04.262498Z"
    },
    "tags": []
   },
   "outputs": [
    {
     "data": {
      "text/plain": [
       "[]"
      ]
     },
     "execution_count": 236,
     "metadata": {},
     "output_type": "execute_result"
    }
   ],
   "source": [
    "blank_list #No more blank districts, yay."
   ]
  },
  {
   "cell_type": "code",
   "execution_count": 237,
   "id": "0fdd86c9-cd36-4ef8-a772-44ecf41600b9",
   "metadata": {
    "execution": {
     "iopub.execute_input": "2022-12-06T15:21:04.339363Z",
     "iopub.status.busy": "2022-12-06T15:21:04.338691Z",
     "iopub.status.idle": "2022-12-06T15:21:04.366228Z",
     "shell.execute_reply": "2022-12-06T15:21:04.365020Z",
     "shell.execute_reply.started": "2022-12-06T15:21:04.339310Z"
    },
    "tags": []
   },
   "outputs": [],
   "source": [
    "found_you_df = pd.DataFrame(really_found_you,columns=['UserDistrict']) # Creating the dataframe with final districts"
   ]
  },
  {
   "cell_type": "code",
   "execution_count": 238,
   "id": "664a4753-b50e-4033-9a9f-1255623a214b",
   "metadata": {
    "execution": {
     "iopub.execute_input": "2022-12-06T15:21:04.369132Z",
     "iopub.status.busy": "2022-12-06T15:21:04.368435Z",
     "iopub.status.idle": "2022-12-06T15:21:04.447331Z",
     "shell.execute_reply": "2022-12-06T15:21:04.446566Z",
     "shell.execute_reply.started": "2022-12-06T15:21:04.369080Z"
    },
    "tags": []
   },
   "outputs": [
    {
     "data": {
      "text/html": [
       "<div>\n",
       "<style scoped>\n",
       "    .dataframe tbody tr th:only-of-type {\n",
       "        vertical-align: middle;\n",
       "    }\n",
       "\n",
       "    .dataframe tbody tr th {\n",
       "        vertical-align: top;\n",
       "    }\n",
       "\n",
       "    .dataframe thead th {\n",
       "        text-align: right;\n",
       "    }\n",
       "</style>\n",
       "<table border=\"1\" class=\"dataframe\">\n",
       "  <thead>\n",
       "    <tr style=\"text-align: right;\">\n",
       "      <th></th>\n",
       "      <th>Userinfo_Key</th>\n",
       "      <th>UserDistrict</th>\n",
       "    </tr>\n",
       "  </thead>\n",
       "  <tbody>\n",
       "    <tr>\n",
       "      <th>0</th>\n",
       "      <td>474737</td>\n",
       "      <td>Nabarangapur</td>\n",
       "    </tr>\n",
       "    <tr>\n",
       "      <th>1</th>\n",
       "      <td>474986</td>\n",
       "      <td>Jammu District</td>\n",
       "    </tr>\n",
       "    <tr>\n",
       "      <th>2</th>\n",
       "      <td>476738</td>\n",
       "      <td>Faridabad</td>\n",
       "    </tr>\n",
       "    <tr>\n",
       "      <th>3</th>\n",
       "      <td>481106</td>\n",
       "      <td>Kanpur Nagar</td>\n",
       "    </tr>\n",
       "    <tr>\n",
       "      <th>4</th>\n",
       "      <td>481511</td>\n",
       "      <td>Pauri Garhwal</td>\n",
       "    </tr>\n",
       "    <tr>\n",
       "      <th>...</th>\n",
       "      <td>...</td>\n",
       "      <td>...</td>\n",
       "    </tr>\n",
       "    <tr>\n",
       "      <th>1614</th>\n",
       "      <td>928390</td>\n",
       "      <td>North Shewa (Amhara Region)</td>\n",
       "    </tr>\n",
       "    <tr>\n",
       "      <th>1615</th>\n",
       "      <td>928853</td>\n",
       "      <td>North Gondar</td>\n",
       "    </tr>\n",
       "    <tr>\n",
       "      <th>1616</th>\n",
       "      <td>935121</td>\n",
       "      <td>North Shewa (Amhara Region)</td>\n",
       "    </tr>\n",
       "    <tr>\n",
       "      <th>1617</th>\n",
       "      <td>939284</td>\n",
       "      <td>North Shewa (Amhara Region)</td>\n",
       "    </tr>\n",
       "    <tr>\n",
       "      <th>1618</th>\n",
       "      <td>945718</td>\n",
       "      <td>North Gondar</td>\n",
       "    </tr>\n",
       "  </tbody>\n",
       "</table>\n",
       "<p>1619 rows × 2 columns</p>\n",
       "</div>"
      ],
      "text/plain": [
       "      Userinfo_Key                 UserDistrict\n",
       "0           474737                 Nabarangapur\n",
       "1           474986               Jammu District\n",
       "2           476738                    Faridabad\n",
       "3           481106                 Kanpur Nagar\n",
       "4           481511                Pauri Garhwal\n",
       "...            ...                          ...\n",
       "1614        928390  North Shewa (Amhara Region)\n",
       "1615        928853                 North Gondar\n",
       "1616        935121  North Shewa (Amhara Region)\n",
       "1617        939284  North Shewa (Amhara Region)\n",
       "1618        945718                 North Gondar\n",
       "\n",
       "[1619 rows x 2 columns]"
      ]
     },
     "execution_count": 238,
     "metadata": {},
     "output_type": "execute_result"
    }
   ],
   "source": [
    "found_users_df = pd.concat([user_district_df, found_you_df],axis=1)\n",
    "found_users_df"
   ]
  },
  {
   "cell_type": "code",
   "execution_count": 239,
   "id": "38385dd6-d614-4fb3-a1d3-eb8a55aad8cc",
   "metadata": {
    "execution": {
     "iopub.execute_input": "2022-12-06T15:21:04.449205Z",
     "iopub.status.busy": "2022-12-06T15:21:04.448788Z",
     "iopub.status.idle": "2022-12-06T15:21:04.472813Z",
     "shell.execute_reply": "2022-12-06T15:21:04.471921Z",
     "shell.execute_reply.started": "2022-12-06T15:21:04.449179Z"
    },
    "tags": []
   },
   "outputs": [],
   "source": [
    "# Now let's do the same steps for the country and state names;"
   ]
  },
  {
   "cell_type": "code",
   "execution_count": 240,
   "id": "20ea4c8d-e568-49fb-a3b8-03c47f5279a7",
   "metadata": {
    "execution": {
     "iopub.execute_input": "2022-12-06T15:21:04.474894Z",
     "iopub.status.busy": "2022-12-06T15:21:04.474398Z",
     "iopub.status.idle": "2022-12-06T15:35:09.174685Z",
     "shell.execute_reply": "2022-12-06T15:35:09.172904Z",
     "shell.execute_reply.started": "2022-12-06T15:21:04.474861Z"
    },
    "tags": []
   },
   "outputs": [
    {
     "name": "stderr",
     "output_type": "stream",
     "text": [
      "1619it [14:04,  1.92it/s]\n"
     ]
    }
   ],
   "source": [
    "# We create a list, and run each ID through our geolocator to get the countries. These will match up indexwise with our dataframe\n",
    "found_your_country = []\n",
    "for lat, lon in tqdm(zip(lat_list, lon_list)):\n",
    "    location = geolocator.reverse(str(lat)+ ','+ str(lon))\n",
    "    country = location.raw['address'].get('country','')\n",
    "    found_your_country.append(country)"
   ]
  },
  {
   "cell_type": "code",
   "execution_count": 241,
   "id": "b4140b6a-8a18-48ea-8651-89542de7181f",
   "metadata": {
    "execution": {
     "iopub.execute_input": "2022-12-06T15:35:09.190830Z",
     "iopub.status.busy": "2022-12-06T15:35:09.190555Z",
     "iopub.status.idle": "2022-12-06T15:48:38.680902Z",
     "shell.execute_reply": "2022-12-06T15:48:38.678822Z",
     "shell.execute_reply.started": "2022-12-06T15:35:09.190808Z"
    },
    "tags": []
   },
   "outputs": [
    {
     "name": "stderr",
     "output_type": "stream",
     "text": [
      "1619it [13:29,  2.00it/s]\n"
     ]
    }
   ],
   "source": [
    "# We create a list, and run each ID through our geolocator to get the states. These will match up indexwise with our dataframe\n",
    "found_your_state = []\n",
    "for lat, lon in tqdm(zip(lat_list, lon_list)):\n",
    "    location = geolocator.reverse(str(lat)+ ','+ str(lon))\n",
    "    state = location.raw['address'].get('state','')\n",
    "    found_your_state.append(state)"
   ]
  },
  {
   "cell_type": "code",
   "execution_count": 242,
   "id": "7c9e2d07-dc87-489d-9d68-336e73f32704",
   "metadata": {
    "execution": {
     "iopub.execute_input": "2022-12-06T15:48:38.685083Z",
     "iopub.status.busy": "2022-12-06T15:48:38.684651Z",
     "iopub.status.idle": "2022-12-06T15:48:38.694987Z",
     "shell.execute_reply": "2022-12-06T15:48:38.694347Z",
     "shell.execute_reply.started": "2022-12-06T15:48:38.685049Z"
    },
    "tags": []
   },
   "outputs": [
    {
     "data": {
      "text/plain": [
       "1170"
      ]
     },
     "execution_count": 242,
     "metadata": {},
     "output_type": "execute_result"
    }
   ],
   "source": [
    "found_your_country.index('United States') #Was a bit confused about a US user, but mostly just needed to list up the 'weird' names\n",
    "# ኢትዮጵያ = Ethiopia\n",
    "# Soomaaliya الصومال = Somalia\n",
    "# नेपाल = Nepal\n",
    "# 대한민국 = South Korea\n",
    "# السودان = Sudan\n",
    "# বাংলাদেশ = Bangladesh"
   ]
  },
  {
   "cell_type": "code",
   "execution_count": 243,
   "id": "bca60459-0160-45b7-bb80-59df93e70654",
   "metadata": {
    "execution": {
     "iopub.execute_input": "2022-12-06T15:48:38.696074Z",
     "iopub.status.busy": "2022-12-06T15:48:38.695868Z",
     "iopub.status.idle": "2022-12-06T15:48:38.756944Z",
     "shell.execute_reply": "2022-12-06T15:48:38.756317Z",
     "shell.execute_reply.started": "2022-12-06T15:48:38.696055Z"
    },
    "tags": []
   },
   "outputs": [],
   "source": [
    "country_df = pd.DataFrame(found_your_country,columns=['UserCountry'])"
   ]
  },
  {
   "cell_type": "code",
   "execution_count": 244,
   "id": "51ecd10d-8e9e-4c0b-a943-a91e438eb266",
   "metadata": {
    "execution": {
     "iopub.execute_input": "2022-12-06T15:48:38.758489Z",
     "iopub.status.busy": "2022-12-06T15:48:38.758126Z",
     "iopub.status.idle": "2022-12-06T15:48:38.781722Z",
     "shell.execute_reply": "2022-12-06T15:48:38.781035Z",
     "shell.execute_reply.started": "2022-12-06T15:48:38.758466Z"
    },
    "tags": []
   },
   "outputs": [
    {
     "data": {
      "text/plain": [
       "array(['India', 'ኢትዮጵያ', 'Soomaaliya الصومال', 'Kenya', 'United States',\n",
       "       'Rwanda', 'नेपाल', '대한민국', 'السودان', 'বাংলাদেশ'], dtype=object)"
      ]
     },
     "execution_count": 244,
     "metadata": {},
     "output_type": "execute_result"
    }
   ],
   "source": [
    "country_df['UserCountry'].unique() #I create a dataframe to get out the unique values"
   ]
  },
  {
   "cell_type": "code",
   "execution_count": 245,
   "id": "4753001d-d80a-4297-9b4f-c31dd9e7f484",
   "metadata": {
    "execution": {
     "iopub.execute_input": "2022-12-06T15:48:38.783696Z",
     "iopub.status.busy": "2022-12-06T15:48:38.783250Z",
     "iopub.status.idle": "2022-12-06T15:48:38.811722Z",
     "shell.execute_reply": "2022-12-06T15:48:38.810895Z",
     "shell.execute_reply.started": "2022-12-06T15:48:38.783667Z"
    },
    "tags": []
   },
   "outputs": [],
   "source": [
    "#Let's replace them\n",
    "for i in range(len(found_your_country)):\n",
    "  \n",
    "    \n",
    "    if found_your_country[i] == 'Soomaaliya الصومال':\n",
    "        found_your_country[i] = 'Somalia'\n",
    "  \n",
    "    \n",
    "    if found_your_country[i] == 'ኢትዮጵያ':\n",
    "        found_your_country[i] = 'Ethiopia'\n",
    "    \n",
    "    if found_your_country[i] == '대한민국':\n",
    "        found_your_country[i] = 'South Korea'\n",
    "        \n",
    "    if found_your_country[i] == 'السودان':\n",
    "        found_your_country[i] = 'Sudan'\n",
    "    \n",
    "    if found_your_country[i] == 'বাংলাদেশ':\n",
    "        found_your_country[i] = 'Bangladesh'\n",
    "    \n",
    "    if found_your_country[i] == 'नेपाल':\n",
    "        found_your_country[i] = 'Nepal'\n",
    "        "
   ]
  },
  {
   "cell_type": "code",
   "execution_count": 246,
   "id": "803be3ae-20b9-4b13-bf66-19e1bb292af3",
   "metadata": {
    "execution": {
     "iopub.execute_input": "2022-12-06T15:48:38.813378Z",
     "iopub.status.busy": "2022-12-06T15:48:38.813092Z",
     "iopub.status.idle": "2022-12-06T15:48:38.838561Z",
     "shell.execute_reply": "2022-12-06T15:48:38.837580Z",
     "shell.execute_reply.started": "2022-12-06T15:48:38.813351Z"
    },
    "tags": []
   },
   "outputs": [],
   "source": [
    "country_df = pd.DataFrame(found_your_country,columns=['UserCountry']) #Let's remake the DF with our corrected values for another check before we concat"
   ]
  },
  {
   "cell_type": "code",
   "execution_count": 247,
   "id": "989bb05e-a196-4e8d-91ee-f9f1349246ff",
   "metadata": {
    "execution": {
     "iopub.execute_input": "2022-12-06T15:48:38.840711Z",
     "iopub.status.busy": "2022-12-06T15:48:38.840283Z",
     "iopub.status.idle": "2022-12-06T15:48:38.856962Z",
     "shell.execute_reply": "2022-12-06T15:48:38.855941Z",
     "shell.execute_reply.started": "2022-12-06T15:48:38.840673Z"
    },
    "tags": []
   },
   "outputs": [
    {
     "data": {
      "text/plain": [
       "array(['India', 'Ethiopia', 'Somalia', 'Kenya', 'United States', 'Rwanda',\n",
       "       'Nepal', 'South Korea', 'Sudan', 'Bangladesh'], dtype=object)"
      ]
     },
     "execution_count": 247,
     "metadata": {},
     "output_type": "execute_result"
    }
   ],
   "source": [
    "country_df['UserCountry'].unique() # Looks good"
   ]
  },
  {
   "cell_type": "code",
   "execution_count": 248,
   "id": "10531105-8676-4f17-b94c-fef921e1164f",
   "metadata": {
    "execution": {
     "iopub.execute_input": "2022-12-06T15:48:38.859154Z",
     "iopub.status.busy": "2022-12-06T15:48:38.858722Z",
     "iopub.status.idle": "2022-12-06T15:48:38.883742Z",
     "shell.execute_reply": "2022-12-06T15:48:38.882941Z",
     "shell.execute_reply.started": "2022-12-06T15:48:38.859114Z"
    },
    "tags": []
   },
   "outputs": [
    {
     "data": {
      "text/html": [
       "<div>\n",
       "<style scoped>\n",
       "    .dataframe tbody tr th:only-of-type {\n",
       "        vertical-align: middle;\n",
       "    }\n",
       "\n",
       "    .dataframe tbody tr th {\n",
       "        vertical-align: top;\n",
       "    }\n",
       "\n",
       "    .dataframe thead th {\n",
       "        text-align: right;\n",
       "    }\n",
       "</style>\n",
       "<table border=\"1\" class=\"dataframe\">\n",
       "  <thead>\n",
       "    <tr style=\"text-align: right;\">\n",
       "      <th></th>\n",
       "      <th>Userinfo_Key</th>\n",
       "      <th>UserDistrict</th>\n",
       "      <th>UserCountry</th>\n",
       "    </tr>\n",
       "  </thead>\n",
       "  <tbody>\n",
       "    <tr>\n",
       "      <th>0</th>\n",
       "      <td>474737</td>\n",
       "      <td>Nabarangapur</td>\n",
       "      <td>India</td>\n",
       "    </tr>\n",
       "    <tr>\n",
       "      <th>1</th>\n",
       "      <td>474986</td>\n",
       "      <td>Jammu District</td>\n",
       "      <td>India</td>\n",
       "    </tr>\n",
       "    <tr>\n",
       "      <th>2</th>\n",
       "      <td>476738</td>\n",
       "      <td>Faridabad</td>\n",
       "      <td>India</td>\n",
       "    </tr>\n",
       "    <tr>\n",
       "      <th>3</th>\n",
       "      <td>481106</td>\n",
       "      <td>Kanpur Nagar</td>\n",
       "      <td>India</td>\n",
       "    </tr>\n",
       "    <tr>\n",
       "      <th>4</th>\n",
       "      <td>481511</td>\n",
       "      <td>Pauri Garhwal</td>\n",
       "      <td>India</td>\n",
       "    </tr>\n",
       "    <tr>\n",
       "      <th>...</th>\n",
       "      <td>...</td>\n",
       "      <td>...</td>\n",
       "      <td>...</td>\n",
       "    </tr>\n",
       "    <tr>\n",
       "      <th>1614</th>\n",
       "      <td>928390</td>\n",
       "      <td>North Shewa (Amhara Region)</td>\n",
       "      <td>Ethiopia</td>\n",
       "    </tr>\n",
       "    <tr>\n",
       "      <th>1615</th>\n",
       "      <td>928853</td>\n",
       "      <td>North Gondar</td>\n",
       "      <td>Ethiopia</td>\n",
       "    </tr>\n",
       "    <tr>\n",
       "      <th>1616</th>\n",
       "      <td>935121</td>\n",
       "      <td>North Shewa (Amhara Region)</td>\n",
       "      <td>Ethiopia</td>\n",
       "    </tr>\n",
       "    <tr>\n",
       "      <th>1617</th>\n",
       "      <td>939284</td>\n",
       "      <td>North Shewa (Amhara Region)</td>\n",
       "      <td>Ethiopia</td>\n",
       "    </tr>\n",
       "    <tr>\n",
       "      <th>1618</th>\n",
       "      <td>945718</td>\n",
       "      <td>North Gondar</td>\n",
       "      <td>Ethiopia</td>\n",
       "    </tr>\n",
       "  </tbody>\n",
       "</table>\n",
       "<p>1619 rows × 3 columns</p>\n",
       "</div>"
      ],
      "text/plain": [
       "      Userinfo_Key                 UserDistrict UserCountry\n",
       "0           474737                 Nabarangapur       India\n",
       "1           474986               Jammu District       India\n",
       "2           476738                    Faridabad       India\n",
       "3           481106                 Kanpur Nagar       India\n",
       "4           481511                Pauri Garhwal       India\n",
       "...            ...                          ...         ...\n",
       "1614        928390  North Shewa (Amhara Region)    Ethiopia\n",
       "1615        928853                 North Gondar    Ethiopia\n",
       "1616        935121  North Shewa (Amhara Region)    Ethiopia\n",
       "1617        939284  North Shewa (Amhara Region)    Ethiopia\n",
       "1618        945718                 North Gondar    Ethiopia\n",
       "\n",
       "[1619 rows x 3 columns]"
      ]
     },
     "execution_count": 248,
     "metadata": {},
     "output_type": "execute_result"
    }
   ],
   "source": [
    "found_users_df = pd.concat([found_users_df, country_df],axis=1) # Let's put this next part of the dataframe together\n",
    "found_users_df"
   ]
  },
  {
   "cell_type": "code",
   "execution_count": 249,
   "id": "138eef7b-ad2c-4f4d-9a0e-80bfb5b9960a",
   "metadata": {
    "execution": {
     "iopub.execute_input": "2022-12-06T15:48:38.885688Z",
     "iopub.status.busy": "2022-12-06T15:48:38.885206Z",
     "iopub.status.idle": "2022-12-06T15:48:38.901972Z",
     "shell.execute_reply": "2022-12-06T15:48:38.901230Z",
     "shell.execute_reply.started": "2022-12-06T15:48:38.885658Z"
    },
    "tags": []
   },
   "outputs": [],
   "source": [
    "# That's country names done, let's take a look at your state names"
   ]
  },
  {
   "cell_type": "code",
   "execution_count": 250,
   "id": "46ddfa88-05f7-40bb-ac16-72947a1b6141",
   "metadata": {
    "execution": {
     "iopub.execute_input": "2022-12-06T15:48:38.903372Z",
     "iopub.status.busy": "2022-12-06T15:48:38.902950Z",
     "iopub.status.idle": "2022-12-06T15:48:38.929600Z",
     "shell.execute_reply": "2022-12-06T15:48:38.928437Z",
     "shell.execute_reply.started": "2022-12-06T15:48:38.903350Z"
    },
    "tags": []
   },
   "outputs": [],
   "source": [
    "state_df = pd.DataFrame(found_your_state,columns=['UserState']) #Let's do the same for the State data. This time we will have to repeat some of the cleaning steps from earlier"
   ]
  },
  {
   "cell_type": "code",
   "execution_count": 251,
   "id": "39de11f8-a77e-449b-a18f-ec31d96030b5",
   "metadata": {
    "execution": {
     "iopub.execute_input": "2022-12-06T15:48:38.932506Z",
     "iopub.status.busy": "2022-12-06T15:48:38.931810Z",
     "iopub.status.idle": "2022-12-06T15:48:38.959295Z",
     "shell.execute_reply": "2022-12-06T15:48:38.958215Z",
     "shell.execute_reply.started": "2022-12-06T15:48:38.932455Z"
    },
    "tags": []
   },
   "outputs": [
    {
     "data": {
      "text/plain": [
       "array(['Odisha', 'Jammu and Kashmir', 'Haryana', 'Uttar Pradesh',\n",
       "       'Uttarakhand', 'አዲስ አበባ', 'Assam', 'Chhattisgarh', 'Kerala',\n",
       "       'Bihar', 'Madhya Pradesh', 'ኦሮሚያ ክልል / Oromia', 'አፋር ክልል / Afar',\n",
       "       'Gujarat', 'Rajasthan', 'West Bengal', 'Delhi', 'Karnataka',\n",
       "       'Punjab', 'አማራ ክልል / Amhara', 'Jharkhand', 'Andhra Pradesh',\n",
       "       'Tamil Nadu', 'Mizoram', 'Nagaland', 'Puducherry', 'Telangana',\n",
       "       'Himachal Pradesh', 'Maharashtra', '', 'ሶማሌ ክልል / Somali',\n",
       "       \"የደቡብ ብሔር ብሔረሰቦችና ሕዝቦች ክልል / Southern Nations, Nationalities, and Peoples' Region\",\n",
       "       'Arunachal Pradesh', 'ሲዳማ ክልል / Sidama', 'ጋምቤላ ሕዝቦች ክልል / Gambela',\n",
       "       'Mudug مدج', 'ሐረሪ ሕዝብ ክልል / Harar', 'ድሬዳዋ', 'ትግራይ',\n",
       "       'ቤንሻንጉል ጉሙዝ ክልል / Benishangul-Gumuz', 'Gedo جدو', 'Mandera',\n",
       "       'Meghalaya', 'California', 'Iburengerazuba', 'القضارف', 'Manipur',\n",
       "       'খুলনা বিভাগ', 'Nairobi'], dtype=object)"
      ]
     },
     "execution_count": 251,
     "metadata": {},
     "output_type": "execute_result"
    }
   ],
   "source": [
    "state_df['UserState'].unique()"
   ]
  },
  {
   "cell_type": "code",
   "execution_count": 252,
   "id": "69b96f49-67fc-49a2-a038-50a65b826e46",
   "metadata": {
    "execution": {
     "iopub.execute_input": "2022-12-06T15:48:38.962134Z",
     "iopub.status.busy": "2022-12-06T15:48:38.961429Z",
     "iopub.status.idle": "2022-12-06T15:48:38.990903Z",
     "shell.execute_reply": "2022-12-06T15:48:38.989760Z",
     "shell.execute_reply.started": "2022-12-06T15:48:38.962083Z"
    },
    "tags": []
   },
   "outputs": [
    {
     "name": "stderr",
     "output_type": "stream",
     "text": [
      "100%|██████████| 1619/1619 [00:00<00:00, 566353.48it/s]\n"
     ]
    }
   ],
   "source": [
    "found_states = [] # Doing the splitsies first so we mostly get english text;\n",
    "for x in tqdm(range(len(found_your_state))):\n",
    "    I_dont_know = found_your_state[x].split('/')[-1] # adding the bits of code i tested earlier\n",
    "    found_states.append(I_dont_know)"
   ]
  },
  {
   "cell_type": "code",
   "execution_count": 253,
   "id": "f3736289-a9f2-4941-a17a-2babea629db6",
   "metadata": {
    "execution": {
     "iopub.execute_input": "2022-12-06T15:48:38.993787Z",
     "iopub.status.busy": "2022-12-06T15:48:38.992822Z",
     "iopub.status.idle": "2022-12-06T15:48:39.025176Z",
     "shell.execute_reply": "2022-12-06T15:48:39.024069Z",
     "shell.execute_reply.started": "2022-12-06T15:48:38.993740Z"
    },
    "tags": []
   },
   "outputs": [
    {
     "data": {
      "text/plain": [
       "array(['Odisha', 'Jammu and Kashmir', 'Haryana', 'Uttar Pradesh',\n",
       "       'Uttarakhand', 'አዲስ አበባ', 'Assam', 'Chhattisgarh', 'Kerala',\n",
       "       'Bihar', 'Madhya Pradesh', ' Oromia', ' Afar', 'Gujarat',\n",
       "       'Rajasthan', 'West Bengal', 'Delhi', 'Karnataka', 'Punjab',\n",
       "       ' Amhara', 'Jharkhand', 'Andhra Pradesh', 'Tamil Nadu', 'Mizoram',\n",
       "       'Nagaland', 'Puducherry', 'Telangana', 'Himachal Pradesh',\n",
       "       'Maharashtra', '', ' Somali',\n",
       "       \" Southern Nations, Nationalities, and Peoples' Region\",\n",
       "       'Arunachal Pradesh', ' Sidama', ' Gambela', 'Mudug مدج', ' Harar',\n",
       "       'ድሬዳዋ', 'ትግራይ', ' Benishangul-Gumuz', 'Gedo جدو', 'Mandera',\n",
       "       'Meghalaya', 'California', 'Iburengerazuba', 'القضارف', 'Manipur',\n",
       "       'খুলনা বিভাগ', 'Nairobi'], dtype=object)"
      ]
     },
     "execution_count": 253,
     "metadata": {},
     "output_type": "execute_result"
    }
   ],
   "source": [
    "found_states_df = pd.DataFrame(found_states,columns=['UserState'])\n",
    "found_states_df['UserState'].unique()"
   ]
  },
  {
   "cell_type": "code",
   "execution_count": 254,
   "id": "39a49b2f-b80c-4fbd-b7f6-4f1cb59893e2",
   "metadata": {
    "execution": {
     "iopub.execute_input": "2022-12-06T15:48:39.027616Z",
     "iopub.status.busy": "2022-12-06T15:48:39.027098Z",
     "iopub.status.idle": "2022-12-06T15:48:39.064740Z",
     "shell.execute_reply": "2022-12-06T15:48:39.063686Z",
     "shell.execute_reply.started": "2022-12-06T15:48:39.027575Z"
    },
    "tags": []
   },
   "outputs": [],
   "source": [
    "# Replacing for english names; \n",
    "# አዲስ አበባ = Addis Ababa\n",
    "# Mudug مدج = Mudug\n",
    "# ድሬዳዋ = Dire Dawa\n",
    "# ትግራይ = Tigray\n",
    "# Gedo جدو = Gedo\n",
    "# القضارف = Al Qadarif\n",
    "# খুলনা বিভাগ = Khulna Division"
   ]
  },
  {
   "cell_type": "code",
   "execution_count": 255,
   "id": "e4bc7b27-81c0-425f-89fa-fcf9417b5ce7",
   "metadata": {
    "execution": {
     "iopub.execute_input": "2022-12-06T15:48:39.067424Z",
     "iopub.status.busy": "2022-12-06T15:48:39.066810Z",
     "iopub.status.idle": "2022-12-06T15:48:39.107577Z",
     "shell.execute_reply": "2022-12-06T15:48:39.106403Z",
     "shell.execute_reply.started": "2022-12-06T15:48:39.067381Z"
    },
    "tags": []
   },
   "outputs": [],
   "source": [
    "#Let's replace/translate/clean up the ones we already know;\n",
    "for i in range(len(found_states)):\n",
    "  \n",
    "    \n",
    "    if found_states[i] == 'አዲስ አበባ':\n",
    "        found_states[i] = 'Addis Ababa'\n",
    "  \n",
    "    \n",
    "    if found_states[i] == 'Mudug مدج':\n",
    "        found_states[i] = 'Mudug'\n",
    "    \n",
    "    if found_states[i] == 'ድሬዳዋ':\n",
    "        found_states[i] = 'Dire Dawa'\n",
    "        \n",
    "    if found_states[i] == 'ትግራይ':\n",
    "        found_states[i] = 'Tigray'\n",
    "    \n",
    "    if found_states[i] == 'Gedo جدو':\n",
    "        found_states[i] = 'Gedo'\n",
    "    \n",
    "    if found_states[i] == 'القضارف':\n",
    "        found_states[i] = 'Al Qadarif'\n",
    "    \n",
    "    if found_states[i] == 'খুলনা বিভাগ':\n",
    "        found_states[i] = 'Khulna Division'"
   ]
  },
  {
   "cell_type": "code",
   "execution_count": 256,
   "id": "012fcef0-4979-40de-81ae-b9a9e0f3ebb2",
   "metadata": {
    "execution": {
     "iopub.execute_input": "2022-12-06T15:48:39.109735Z",
     "iopub.status.busy": "2022-12-06T15:48:39.109317Z",
     "iopub.status.idle": "2022-12-06T15:48:39.142562Z",
     "shell.execute_reply": "2022-12-06T15:48:39.141440Z",
     "shell.execute_reply.started": "2022-12-06T15:48:39.109696Z"
    },
    "tags": []
   },
   "outputs": [
    {
     "data": {
      "text/plain": [
       "[173,\n",
       " 461,\n",
       " 473,\n",
       " 508,\n",
       " 512,\n",
       " 535,\n",
       " 600,\n",
       " 740,\n",
       " 774,\n",
       " 783,\n",
       " 840,\n",
       " 913,\n",
       " 955,\n",
       " 967,\n",
       " 1073,\n",
       " 1124,\n",
       " 1166,\n",
       " 1338,\n",
       " 1364,\n",
       " 1557]"
      ]
     },
     "execution_count": 256,
     "metadata": {},
     "output_type": "execute_result"
    }
   ],
   "source": [
    "blank_list = find_indices(found_states,'') #Performing another blank value check\n",
    "blank_list #Only a few blank states, which is manageable to find."
   ]
  },
  {
   "cell_type": "code",
   "execution_count": 257,
   "id": "8bdd0c47-d5df-4134-9a33-89adb99fcc2e",
   "metadata": {
    "execution": {
     "iopub.execute_input": "2022-12-06T15:48:39.145436Z",
     "iopub.status.busy": "2022-12-06T15:48:39.144727Z",
     "iopub.status.idle": "2022-12-06T15:48:39.203528Z",
     "shell.execute_reply": "2022-12-06T15:48:39.202488Z",
     "shell.execute_reply.started": "2022-12-06T15:48:39.145384Z"
    },
    "tags": []
   },
   "outputs": [
    {
     "name": "stdout",
     "output_type": "stream",
     "text": [
      "Index 173 lat/lon: 30.7081854,76.7785551\n",
      "Index 461 lat/lon: 6.9995648,35.5902338\n",
      "Index 473 lat/lon: 7.0141415,37.2720475\n",
      "Index 508 lat/lon: 7.3015715,36.2311204\n",
      "Index 512 lat/lon: 7.2007231,35.414186\n",
      "Index 535 lat/lon: 7.7484153,35.4762193\n",
      "Index 600 lat/lon: 7.1179448,36.1462237\n",
      "Index 740 lat/lon: 7.2750214,36.2387556\n",
      "Index 774 lat/lon: 7.1172462,36.4697523\n",
      "Index 783 lat/lon: 6.8761637,35.5208036\n",
      "Index 840 lat/lon: 7.1487538,35.8112923\n",
      "Index 913 lat/lon: 7.1448886,35.800893\n",
      "Index 955 lat/lon: 6.9582235,35.5574072\n",
      "Index 967 lat/lon: 7.0608879,35.4648514\n",
      "Index 1073 lat/lon: 7.176276,36.7939001\n",
      "Index 1124 lat/lon: 7.1177607,36.470417\n",
      "Index 1166 lat/lon: 7.682416667,35.26707667\n",
      "Index 1338 lat/lon: 26.8681696,85.5517178\n",
      "Index 1364 lat/lon: 36.3741546,127.3654559\n",
      "Index 1557 lat/lon: 6.9545739,35.5519171\n"
     ]
    }
   ],
   "source": [
    "for i in blank_list: #Creating the list of blank indexes and their corresponding lat/lon to find the country. They seem to be in 3-4 general areas, so that makes it a lot easier.\n",
    "    print(f'Index {i} lat/lon: ' + str(lat_list[i]) +\",\"+str(lon_list[i]))"
   ]
  },
  {
   "cell_type": "code",
   "execution_count": 258,
   "id": "8dc55a38-b54c-4fb5-99db-6cee8071e8f7",
   "metadata": {
    "execution": {
     "iopub.execute_input": "2022-12-06T15:48:39.206156Z",
     "iopub.status.busy": "2022-12-06T15:48:39.205514Z",
     "iopub.status.idle": "2022-12-06T15:48:39.224643Z",
     "shell.execute_reply": "2022-12-06T15:48:39.223667Z",
     "shell.execute_reply.started": "2022-12-06T15:48:39.206113Z"
    },
    "tags": []
   },
   "outputs": [],
   "source": [
    "indexes = [173] # Replacing the empty strings with the state names\n",
    "replacements = list(len(indexes) * ('Himachal Pradesh',))    \n",
    "for (index, replacement) in zip(indexes, replacements):\n",
    "    found_states[index] = replacement\n",
    "    \n",
    "indexes = [461,473,508,512,535,600,740,774,783,840,913,955,967,1073,1124,1166,1557,1557]\n",
    "replacements = list(len(indexes) * (\"Southern Nations, Nationalities, and People's Region\",))    \n",
    "for (index, replacement) in zip(indexes, replacements):\n",
    "    found_states[index] = replacement\n",
    "    \n",
    "indexes = [1338]\n",
    "replacements = list(len(indexes) * ('Madhesh Pradesh',))    \n",
    "for (index, replacement) in zip(indexes, replacements):\n",
    "    found_states[index] = replacement\n",
    "    \n",
    "indexes = [1364]\n",
    "replacements = list(len(indexes) * ('Daejon',))    \n",
    "for (index, replacement) in zip(indexes, replacements):\n",
    "    found_states[index] = replacement"
   ]
  },
  {
   "cell_type": "code",
   "execution_count": 259,
   "id": "31ed199c-27a2-47c5-8fca-595abade2e84",
   "metadata": {
    "execution": {
     "iopub.execute_input": "2022-12-06T15:48:39.226588Z",
     "iopub.status.busy": "2022-12-06T15:48:39.226212Z",
     "iopub.status.idle": "2022-12-06T15:48:39.257105Z",
     "shell.execute_reply": "2022-12-06T15:48:39.254614Z",
     "shell.execute_reply.started": "2022-12-06T15:48:39.226553Z"
    },
    "tags": []
   },
   "outputs": [
    {
     "ename": "ValueError",
     "evalue": "'' is not in list",
     "output_type": "error",
     "traceback": [
      "\u001b[0;31m---------------------------------------------------------------------------\u001b[0m",
      "\u001b[0;31mValueError\u001b[0m                                Traceback (most recent call last)",
      "Cell \u001b[0;32mIn [259], line 1\u001b[0m\n\u001b[0;32m----> 1\u001b[0m \u001b[43mfound_states\u001b[49m\u001b[38;5;241;43m.\u001b[39;49m\u001b[43mindex\u001b[49m\u001b[43m(\u001b[49m\u001b[38;5;124;43m'\u001b[39;49m\u001b[38;5;124;43m'\u001b[39;49m\u001b[43m)\u001b[49m\n",
      "\u001b[0;31mValueError\u001b[0m: '' is not in list"
     ]
    }
   ],
   "source": [
    "found_states.index('') #Checking for any more empty strings. And there is no more empty strings, yaay"
   ]
  },
  {
   "cell_type": "code",
   "execution_count": 261,
   "id": "cb59e375-cd7a-4260-8342-c64cc5b17b35",
   "metadata": {
    "execution": {
     "iopub.execute_input": "2022-12-06T16:20:59.510815Z",
     "iopub.status.busy": "2022-12-06T16:20:59.509977Z",
     "iopub.status.idle": "2022-12-06T16:20:59.524906Z",
     "shell.execute_reply": "2022-12-06T16:20:59.522520Z",
     "shell.execute_reply.started": "2022-12-06T16:20:59.510757Z"
    },
    "tags": []
   },
   "outputs": [],
   "source": [
    " #Assemble the final dataframe. (Don't be a dummy like me and run this twice accidentally)\n",
    "found_states_df = pd.DataFrame(found_states,columns=['UserState'])"
   ]
  },
  {
   "cell_type": "code",
   "execution_count": null,
   "id": "1fc44b5a-e511-445b-9aaf-7979c6071e12",
   "metadata": {
    "execution": {
     "iopub.status.busy": "2022-12-06T15:48:39.258679Z",
     "iopub.status.idle": "2022-12-06T15:48:39.258894Z",
     "shell.execute_reply": "2022-12-06T15:48:39.258797Z",
     "shell.execute_reply.started": "2022-12-06T15:48:39.258786Z"
    },
    "tags": []
   },
   "outputs": [],
   "source": [
    "found_users_df1 = pd.concat([found_users_df,found_states_df],axis=1)"
   ]
  },
  {
   "cell_type": "code",
   "execution_count": null,
   "id": "93de3522-fe38-484b-9089-ffebf3a519f3",
   "metadata": {},
   "outputs": [],
   "source": [
    "# FINAL NOTES: With this code we simply assume that the most pinged GPS coordinates from the user, is their true locations.\n",
    "# If any other true data says otherwise (such as the Userinfo_State or other location data), this assumption is broken and these 'imputations' could very well be wrong\n",
    "# If no other data states the true location for the missing data, the assumptions holds ground and these 'imputations' are the best estimator for the true values."
   ]
  },
  {
   "cell_type": "code",
   "execution_count": 268,
   "id": "a21103c4-d15a-4869-8b53-b9224bb6b758",
   "metadata": {
    "execution": {
     "iopub.execute_input": "2022-12-08T18:47:06.256049Z",
     "iopub.status.busy": "2022-12-08T18:47:06.255358Z",
     "iopub.status.idle": "2022-12-08T18:47:06.293023Z",
     "shell.execute_reply": "2022-12-08T18:47:06.291872Z",
     "shell.execute_reply.started": "2022-12-08T18:47:06.255996Z"
    },
    "tags": []
   },
   "outputs": [
    {
     "data": {
      "text/html": [
       "<div>\n",
       "<style scoped>\n",
       "    .dataframe tbody tr th:only-of-type {\n",
       "        vertical-align: middle;\n",
       "    }\n",
       "\n",
       "    .dataframe tbody tr th {\n",
       "        vertical-align: top;\n",
       "    }\n",
       "\n",
       "    .dataframe thead th {\n",
       "        text-align: right;\n",
       "    }\n",
       "</style>\n",
       "<table border=\"1\" class=\"dataframe\">\n",
       "  <thead>\n",
       "    <tr style=\"text-align: right;\">\n",
       "      <th></th>\n",
       "      <th>Userinfo_Key</th>\n",
       "      <th>UserDistrict</th>\n",
       "      <th>UserCountry</th>\n",
       "      <th>UserState</th>\n",
       "      <th>UserState</th>\n",
       "      <th>UserState</th>\n",
       "    </tr>\n",
       "  </thead>\n",
       "  <tbody>\n",
       "    <tr>\n",
       "      <th>1170</th>\n",
       "      <td>772268</td>\n",
       "      <td>CAL Fire Southern Region</td>\n",
       "      <td>United States</td>\n",
       "      <td>California</td>\n",
       "      <td>California</td>\n",
       "      <td>California</td>\n",
       "    </tr>\n",
       "  </tbody>\n",
       "</table>\n",
       "</div>"
      ],
      "text/plain": [
       "      Userinfo_Key              UserDistrict    UserCountry   UserState  \\\n",
       "1170        772268  CAL Fire Southern Region  United States  California   \n",
       "\n",
       "       UserState   UserState  \n",
       "1170  California  California  "
      ]
     },
     "execution_count": 268,
     "metadata": {},
     "output_type": "execute_result"
    }
   ],
   "source": [
    "found_users_df1.loc[found_users_df1['UserCountry'] == 'United States']"
   ]
  },
  {
   "cell_type": "code",
   "execution_count": 150,
   "id": "72acc9b8-a1c2-4d95-9d4b-75d23a9cb420",
   "metadata": {
    "execution": {
     "iopub.execute_input": "2022-12-06T13:30:43.967467Z",
     "iopub.status.busy": "2022-12-06T13:30:43.965976Z",
     "iopub.status.idle": "2022-12-06T13:30:43.986908Z",
     "shell.execute_reply": "2022-12-06T13:30:43.986116Z",
     "shell.execute_reply.started": "2022-12-06T13:30:43.967400Z"
    },
    "tags": []
   },
   "outputs": [],
   "source": [
    "#found_users_df.to_csv('Found_users_location_data.csv',index=False) # Out of habit, we saved it to a CSV file in order to implement it in further work. "
   ]
  }
 ],
 "metadata": {
  "kernelspec": {
   "display_name": "Python 3 ",
   "language": "python",
   "name": "python3"
  },
  "language_info": {
   "codemirror_mode": {
    "name": "ipython",
    "version": 3
   },
   "file_extension": ".py",
   "mimetype": "text/x-python",
   "name": "python",
   "nbconvert_exporter": "python",
   "pygments_lexer": "ipython3",
   "version": "3.10.6"
  }
 },
 "nbformat": 4,
 "nbformat_minor": 5
}
