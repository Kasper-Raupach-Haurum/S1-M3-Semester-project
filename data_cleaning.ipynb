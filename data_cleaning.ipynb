{
 "cells": [
  {
   "cell_type": "code",
   "execution_count": null,
   "id": "dbd3f20b-911b-48ea-ac60-3ea25e00dfcc",
   "metadata": {},
   "outputs": [],
   "source": [
    "!pip install -r Requirements.txt"
   ]
  },
  {
   "cell_type": "code",
   "execution_count": 72,
   "id": "3a59c000-c604-45db-b6c9-fc889df5b227",
   "metadata": {
    "execution": {
     "iopub.execute_input": "2022-12-19T15:14:34.815177Z",
     "iopub.status.busy": "2022-12-19T15:14:34.814512Z",
     "iopub.status.idle": "2022-12-19T15:14:35.344841Z",
     "shell.execute_reply": "2022-12-19T15:14:35.343542Z",
     "shell.execute_reply.started": "2022-12-19T15:14:34.815120Z"
    },
    "tags": []
   },
   "outputs": [],
   "source": [
    "#Imports\n",
    "import pandas as pd\n",
    "import numpy as np\n",
    "import datetime as DT\n",
    "from sklearn.preprocessing import LabelEncoder\n",
    "\n",
    "\n",
    "import warnings\n",
    "warnings.filterwarnings('ignore')"
   ]
  },
  {
   "cell_type": "code",
   "execution_count": 2,
   "id": "53bbc26f-a7b6-4acb-bd97-3b184ac5a79e",
   "metadata": {
    "execution": {
     "iopub.execute_input": "2022-12-19T15:09:57.115924Z",
     "iopub.status.busy": "2022-12-19T15:09:57.115752Z",
     "iopub.status.idle": "2022-12-19T15:09:57.359583Z",
     "shell.execute_reply": "2022-12-19T15:09:57.357851Z",
     "shell.execute_reply.started": "2022-12-19T15:09:57.115906Z"
    },
    "tags": []
   },
   "outputs": [],
   "source": [
    "#user dataset given by the company\n",
    "user_data= pd.read_parquet('/work/project_maternity/data/users/data_users.parquet')"
   ]
  },
  {
   "cell_type": "code",
   "execution_count": 3,
   "id": "de559f10-6a11-451d-9533-cc8f38009a51",
   "metadata": {
    "execution": {
     "iopub.execute_input": "2022-12-19T15:09:57.362774Z",
     "iopub.status.busy": "2022-12-19T15:09:57.362172Z",
     "iopub.status.idle": "2022-12-19T15:09:57.541412Z",
     "shell.execute_reply": "2022-12-19T15:09:57.540688Z",
     "shell.execute_reply.started": "2022-12-19T15:09:57.362718Z"
    }
   },
   "outputs": [
    {
     "name": "stdout",
     "output_type": "stream",
     "text": [
      "<class 'pandas.core.frame.DataFrame'>\n",
      "RangeIndex: 105914 entries, 0 to 105913\n",
      "Data columns (total 20 columns):\n",
      " #   Column                            Non-Null Count   Dtype              \n",
      "---  ------                            --------------   -----              \n",
      " 0   Userinfo_Key                      105914 non-null  object             \n",
      " 1   Userinfo_BK                       105914 non-null  object             \n",
      " 2   Country_Key                       105914 non-null  object             \n",
      " 3   UserinfoAppId                     105914 non-null  object             \n",
      " 4   RN                                105914 non-null  float64            \n",
      " 5   OnlyUser                          105914 non-null  object             \n",
      " 6   NumberOfUsers                     105914 non-null  object             \n",
      " 7   UserinfoCountry                   105914 non-null  object             \n",
      " 8   UserinfoState                     105914 non-null  object             \n",
      " 9   UserinfoDistrict                  105914 non-null  object             \n",
      " 10  HealthcareWorker                  105914 non-null  object             \n",
      " 11  Profession                        105914 non-null  object             \n",
      " 12  Experiance                        105914 non-null  object             \n",
      " 13  WorkPlace                         105914 non-null  object             \n",
      " 14  SafeDeliveryApp                   105914 non-null  object             \n",
      " 15  UserinfoNumberOfDelivery          105914 non-null  object             \n",
      " 16  UserinfoIsMyLearning              105914 non-null  float64            \n",
      " 17  UserinfoUserIsActive              105914 non-null  float64            \n",
      " 18  UserInfoFirstMyLearningEventDate  82822 non-null   datetime64[ns, UTC]\n",
      " 19  UserInfoFirstUseDate              105914 non-null  datetime64[ns, UTC]\n",
      "dtypes: datetime64[ns, UTC](2), float64(3), object(15)\n",
      "memory usage: 16.2+ MB\n"
     ]
    }
   ],
   "source": [
    "user_data.info()"
   ]
  },
  {
   "cell_type": "code",
   "execution_count": 4,
   "id": "206b4fa1-9427-4400-88b6-44dfd5316850",
   "metadata": {
    "execution": {
     "iopub.execute_input": "2022-12-19T15:09:57.542329Z",
     "iopub.status.busy": "2022-12-19T15:09:57.542148Z",
     "iopub.status.idle": "2022-12-19T15:09:57.606245Z",
     "shell.execute_reply": "2022-12-19T15:09:57.605448Z",
     "shell.execute_reply.started": "2022-12-19T15:09:57.542311Z"
    }
   },
   "outputs": [],
   "source": [
    "#converting object to numeric\n",
    "user_data['Userinfo_Key']=pd.to_numeric(user_data['Userinfo_Key'])"
   ]
  },
  {
   "cell_type": "markdown",
   "id": "1e14606f-d93c-4f66-9e41-2e6476fbafec",
   "metadata": {},
   "source": [
    "# Imputing locations from activity dataset"
   ]
  },
  {
   "cell_type": "code",
   "execution_count": 5,
   "id": "ae91e69e-6cab-4586-a526-8d1b51790a33",
   "metadata": {
    "execution": {
     "iopub.execute_input": "2022-12-19T15:09:57.607344Z",
     "iopub.status.busy": "2022-12-19T15:09:57.607137Z",
     "iopub.status.idle": "2022-12-19T15:09:57.645361Z",
     "shell.execute_reply": "2022-12-19T15:09:57.644419Z",
     "shell.execute_reply.started": "2022-12-19T15:09:57.607324Z"
    },
    "tags": []
   },
   "outputs": [],
   "source": [
    "# location dataset getting from the lat and log for each user \n",
    "data_location= pd.read_csv('Found_users_location_data.csv')"
   ]
  },
  {
   "cell_type": "code",
   "execution_count": 6,
   "id": "57171010-ec99-4db3-8173-6cd9fd69a08a",
   "metadata": {
    "execution": {
     "iopub.execute_input": "2022-12-19T15:09:57.650198Z",
     "iopub.status.busy": "2022-12-19T15:09:57.649815Z",
     "iopub.status.idle": "2022-12-19T15:09:57.661242Z",
     "shell.execute_reply": "2022-12-19T15:09:57.660647Z",
     "shell.execute_reply.started": "2022-12-19T15:09:57.650161Z"
    },
    "tags": []
   },
   "outputs": [
    {
     "name": "stdout",
     "output_type": "stream",
     "text": [
      "<class 'pandas.core.frame.DataFrame'>\n",
      "RangeIndex: 1607 entries, 0 to 1606\n",
      "Data columns (total 4 columns):\n",
      " #   Column        Non-Null Count  Dtype \n",
      "---  ------        --------------  ----- \n",
      " 0   Userinfo_Key  1607 non-null   int64 \n",
      " 1   UserDistrict  1607 non-null   object\n",
      " 2   UserCountry   1607 non-null   object\n",
      " 3   UserState     1607 non-null   object\n",
      "dtypes: int64(1), object(3)\n",
      "memory usage: 50.3+ KB\n"
     ]
    }
   ],
   "source": [
    "data_location.info()"
   ]
  },
  {
   "cell_type": "code",
   "execution_count": 7,
   "id": "2631d86f-7460-41b5-86b2-bae8b71d9e25",
   "metadata": {
    "execution": {
     "iopub.execute_input": "2022-12-19T15:09:57.662156Z",
     "iopub.status.busy": "2022-12-19T15:09:57.661968Z",
     "iopub.status.idle": "2022-12-19T15:09:57.675676Z",
     "shell.execute_reply": "2022-12-19T15:09:57.675017Z",
     "shell.execute_reply.started": "2022-12-19T15:09:57.662138Z"
    }
   },
   "outputs": [
    {
     "data": {
      "text/plain": [
       "1607"
      ]
     },
     "execution_count": 7,
     "metadata": {},
     "output_type": "execute_result"
    }
   ],
   "source": [
    "# checking every user is unique inside the location datset\n",
    "len(data_location['Userinfo_Key'].unique())"
   ]
  },
  {
   "cell_type": "code",
   "execution_count": 8,
   "id": "09ddd2b9-064d-4adf-86b6-80fdca83b3b2",
   "metadata": {
    "execution": {
     "iopub.execute_input": "2022-12-19T15:09:57.676488Z",
     "iopub.status.busy": "2022-12-19T15:09:57.676319Z",
     "iopub.status.idle": "2022-12-19T15:09:57.691083Z",
     "shell.execute_reply": "2022-12-19T15:09:57.690447Z",
     "shell.execute_reply.started": "2022-12-19T15:09:57.676466Z"
    },
    "tags": []
   },
   "outputs": [
    {
     "data": {
      "text/plain": [
       "1607"
      ]
     },
     "execution_count": 8,
     "metadata": {},
     "output_type": "execute_result"
    }
   ],
   "source": [
    "# Making sure user in data_location dataset are all inside the user_data\n",
    "data_location['Userinfo_Key'].isin(user_data['Userinfo_Key']).sum()"
   ]
  },
  {
   "cell_type": "code",
   "execution_count": 9,
   "id": "c3138bb9-b422-4b3c-acb6-822f9ec3c1f5",
   "metadata": {
    "execution": {
     "iopub.execute_input": "2022-12-19T15:09:57.691858Z",
     "iopub.status.busy": "2022-12-19T15:09:57.691694Z",
     "iopub.status.idle": "2022-12-19T15:09:57.700714Z",
     "shell.execute_reply": "2022-12-19T15:09:57.700068Z",
     "shell.execute_reply.started": "2022-12-19T15:09:57.691842Z"
    },
    "tags": []
   },
   "outputs": [
    {
     "data": {
      "text/html": [
       "<div>\n",
       "<style scoped>\n",
       "    .dataframe tbody tr th:only-of-type {\n",
       "        vertical-align: middle;\n",
       "    }\n",
       "\n",
       "    .dataframe tbody tr th {\n",
       "        vertical-align: top;\n",
       "    }\n",
       "\n",
       "    .dataframe thead th {\n",
       "        text-align: right;\n",
       "    }\n",
       "</style>\n",
       "<table border=\"1\" class=\"dataframe\">\n",
       "  <thead>\n",
       "    <tr style=\"text-align: right;\">\n",
       "      <th></th>\n",
       "      <th>Userinfo_Key</th>\n",
       "      <th>UserDistrict</th>\n",
       "      <th>UserCountry</th>\n",
       "      <th>UserState</th>\n",
       "    </tr>\n",
       "  </thead>\n",
       "  <tbody>\n",
       "    <tr>\n",
       "      <th>0</th>\n",
       "      <td>474737</td>\n",
       "      <td>Nabarangapur</td>\n",
       "      <td>India</td>\n",
       "      <td>Odisha</td>\n",
       "    </tr>\n",
       "    <tr>\n",
       "      <th>1</th>\n",
       "      <td>474986</td>\n",
       "      <td>Jammu District</td>\n",
       "      <td>India</td>\n",
       "      <td>Jammu and Kashmir</td>\n",
       "    </tr>\n",
       "    <tr>\n",
       "      <th>2</th>\n",
       "      <td>476738</td>\n",
       "      <td>Faridabad</td>\n",
       "      <td>India</td>\n",
       "      <td>Haryana</td>\n",
       "    </tr>\n",
       "    <tr>\n",
       "      <th>3</th>\n",
       "      <td>481106</td>\n",
       "      <td>Kanpur Nagar</td>\n",
       "      <td>India</td>\n",
       "      <td>Uttar Pradesh</td>\n",
       "    </tr>\n",
       "    <tr>\n",
       "      <th>4</th>\n",
       "      <td>481511</td>\n",
       "      <td>Pauri Garhwal</td>\n",
       "      <td>India</td>\n",
       "      <td>Uttarakhand</td>\n",
       "    </tr>\n",
       "  </tbody>\n",
       "</table>\n",
       "</div>"
      ],
      "text/plain": [
       "   Userinfo_Key    UserDistrict UserCountry          UserState\n",
       "0        474737    Nabarangapur       India             Odisha\n",
       "1        474986  Jammu District       India  Jammu and Kashmir\n",
       "2        476738       Faridabad       India            Haryana\n",
       "3        481106    Kanpur Nagar       India      Uttar Pradesh\n",
       "4        481511   Pauri Garhwal       India        Uttarakhand"
      ]
     },
     "execution_count": 9,
     "metadata": {},
     "output_type": "execute_result"
    }
   ],
   "source": [
    "data_location.head()"
   ]
  },
  {
   "cell_type": "code",
   "execution_count": 10,
   "id": "a06e8ac5-4290-474a-968f-7ab080f916bf",
   "metadata": {
    "execution": {
     "iopub.execute_input": "2022-12-19T15:09:57.701556Z",
     "iopub.status.busy": "2022-12-19T15:09:57.701375Z",
     "iopub.status.idle": "2022-12-19T15:09:57.718222Z",
     "shell.execute_reply": "2022-12-19T15:09:57.717537Z",
     "shell.execute_reply.started": "2022-12-19T15:09:57.701539Z"
    },
    "tags": []
   },
   "outputs": [
    {
     "data": {
      "text/html": [
       "<div>\n",
       "<style scoped>\n",
       "    .dataframe tbody tr th:only-of-type {\n",
       "        vertical-align: middle;\n",
       "    }\n",
       "\n",
       "    .dataframe tbody tr th {\n",
       "        vertical-align: top;\n",
       "    }\n",
       "\n",
       "    .dataframe thead th {\n",
       "        text-align: right;\n",
       "    }\n",
       "</style>\n",
       "<table border=\"1\" class=\"dataframe\">\n",
       "  <thead>\n",
       "    <tr style=\"text-align: right;\">\n",
       "      <th></th>\n",
       "      <th>Userinfo_Key</th>\n",
       "      <th>Userinfo_BK</th>\n",
       "      <th>Country_Key</th>\n",
       "      <th>UserinfoAppId</th>\n",
       "      <th>RN</th>\n",
       "      <th>OnlyUser</th>\n",
       "      <th>NumberOfUsers</th>\n",
       "      <th>UserinfoCountry</th>\n",
       "      <th>UserinfoState</th>\n",
       "      <th>UserinfoDistrict</th>\n",
       "      <th>HealthcareWorker</th>\n",
       "      <th>Profession</th>\n",
       "      <th>Experiance</th>\n",
       "      <th>WorkPlace</th>\n",
       "      <th>SafeDeliveryApp</th>\n",
       "      <th>UserinfoNumberOfDelivery</th>\n",
       "      <th>UserinfoIsMyLearning</th>\n",
       "      <th>UserinfoUserIsActive</th>\n",
       "      <th>UserInfoFirstMyLearningEventDate</th>\n",
       "      <th>UserInfoFirstUseDate</th>\n",
       "    </tr>\n",
       "  </thead>\n",
       "  <tbody>\n",
       "    <tr>\n",
       "      <th>219</th>\n",
       "      <td>474737</td>\n",
       "      <td>157dea60-696f-11e8-8d1f-35d06538fae1</td>\n",
       "      <td>487380</td>\n",
       "      <td>157dea60-696f-11e8-8d1f-35d06538fae1</td>\n",
       "      <td>4.0</td>\n",
       "      <td>Unknown</td>\n",
       "      <td>Unknown</td>\n",
       "      <td>India</td>\n",
       "      <td>Unknown</td>\n",
       "      <td>Unknown</td>\n",
       "      <td>Yes</td>\n",
       "      <td>Unknown</td>\n",
       "      <td>Unknown</td>\n",
       "      <td>Primary health facility</td>\n",
       "      <td>Unknown</td>\n",
       "      <td>50+</td>\n",
       "      <td>1.0</td>\n",
       "      <td>0.0</td>\n",
       "      <td>2018-06-09 00:00:00+00:00</td>\n",
       "      <td>2018-06-06 00:00:00+00:00</td>\n",
       "    </tr>\n",
       "  </tbody>\n",
       "</table>\n",
       "</div>"
      ],
      "text/plain": [
       "     Userinfo_Key                           Userinfo_BK Country_Key  \\\n",
       "219        474737  157dea60-696f-11e8-8d1f-35d06538fae1      487380   \n",
       "\n",
       "                            UserinfoAppId   RN OnlyUser NumberOfUsers  \\\n",
       "219  157dea60-696f-11e8-8d1f-35d06538fae1  4.0  Unknown       Unknown   \n",
       "\n",
       "    UserinfoCountry UserinfoState UserinfoDistrict HealthcareWorker  \\\n",
       "219           India       Unknown          Unknown              Yes   \n",
       "\n",
       "    Profession Experiance                WorkPlace SafeDeliveryApp  \\\n",
       "219    Unknown    Unknown  Primary health facility         Unknown   \n",
       "\n",
       "    UserinfoNumberOfDelivery  UserinfoIsMyLearning  UserinfoUserIsActive  \\\n",
       "219                      50+                   1.0                   0.0   \n",
       "\n",
       "    UserInfoFirstMyLearningEventDate      UserInfoFirstUseDate  \n",
       "219        2018-06-09 00:00:00+00:00 2018-06-06 00:00:00+00:00  "
      ]
     },
     "execution_count": 10,
     "metadata": {},
     "output_type": "execute_result"
    }
   ],
   "source": [
    "user_data[user_data['Userinfo_Key']==474737]"
   ]
  },
  {
   "cell_type": "code",
   "execution_count": 11,
   "id": "b75782ca-6106-46ed-8fb1-645918cd5117",
   "metadata": {
    "execution": {
     "iopub.execute_input": "2022-12-19T15:09:57.742709Z",
     "iopub.status.busy": "2022-12-19T15:09:57.742531Z",
     "iopub.status.idle": "2022-12-19T15:09:57.749430Z",
     "shell.execute_reply": "2022-12-19T15:09:57.748832Z",
     "shell.execute_reply.started": "2022-12-19T15:09:57.742692Z"
    }
   },
   "outputs": [
    {
     "data": {
      "text/html": [
       "<div>\n",
       "<style scoped>\n",
       "    .dataframe tbody tr th:only-of-type {\n",
       "        vertical-align: middle;\n",
       "    }\n",
       "\n",
       "    .dataframe tbody tr th {\n",
       "        vertical-align: top;\n",
       "    }\n",
       "\n",
       "    .dataframe thead th {\n",
       "        text-align: right;\n",
       "    }\n",
       "</style>\n",
       "<table border=\"1\" class=\"dataframe\">\n",
       "  <thead>\n",
       "    <tr style=\"text-align: right;\">\n",
       "      <th></th>\n",
       "      <th>Userinfo_Key</th>\n",
       "      <th>UserDistrict</th>\n",
       "      <th>UserCountry</th>\n",
       "      <th>UserState</th>\n",
       "    </tr>\n",
       "  </thead>\n",
       "  <tbody>\n",
       "    <tr>\n",
       "      <th>0</th>\n",
       "      <td>474737</td>\n",
       "      <td>Nabarangapur</td>\n",
       "      <td>India</td>\n",
       "      <td>Odisha</td>\n",
       "    </tr>\n",
       "  </tbody>\n",
       "</table>\n",
       "</div>"
      ],
      "text/plain": [
       "   Userinfo_Key  UserDistrict UserCountry UserState\n",
       "0        474737  Nabarangapur       India    Odisha"
      ]
     },
     "execution_count": 11,
     "metadata": {},
     "output_type": "execute_result"
    }
   ],
   "source": [
    "data_location[data_location['Userinfo_Key']==474737]"
   ]
  },
  {
   "cell_type": "code",
   "execution_count": 12,
   "id": "00e076e5-4ecc-4320-a2ba-ef36694683cb",
   "metadata": {
    "execution": {
     "iopub.execute_input": "2022-12-19T15:09:57.756821Z",
     "iopub.status.busy": "2022-12-19T15:09:57.756643Z",
     "iopub.status.idle": "2022-12-19T15:09:57.785099Z",
     "shell.execute_reply": "2022-12-19T15:09:57.784456Z",
     "shell.execute_reply.started": "2022-12-19T15:09:57.756803Z"
    }
   },
   "outputs": [
    {
     "name": "stdout",
     "output_type": "stream",
     "text": [
      "(25225, 20)\n",
      "(13147, 20)\n"
     ]
    }
   ],
   "source": [
    "#unknown values before \n",
    "print(user_data[user_data['UserinfoDistrict']== 'Unknown'].shape)\n",
    "print(user_data[user_data['UserinfoState']== 'Unknown'].shape)"
   ]
  },
  {
   "cell_type": "code",
   "execution_count": 13,
   "id": "8ee2fcf0-7a60-48a9-8cf7-9237fde68506",
   "metadata": {
    "execution": {
     "iopub.execute_input": "2022-12-19T15:09:57.786065Z",
     "iopub.status.busy": "2022-12-19T15:09:57.785866Z",
     "iopub.status.idle": "2022-12-19T15:09:59.753955Z",
     "shell.execute_reply": "2022-12-19T15:09:59.752851Z",
     "shell.execute_reply.started": "2022-12-19T15:09:57.786046Z"
    },
    "tags": []
   },
   "outputs": [],
   "source": [
    "#looking into data_location dataset (where we have values for state and district), \n",
    "#imputing the values of userinfoDistrict and UserinfoState based on Userinfo_Key\n",
    "\n",
    "for index, row in data_location.iterrows():\n",
    "    row_district = row['UserDistrict']\n",
    "    row_state = row['UserState']\n",
    "    row_user = row['Userinfo_Key']\n",
    "    \n",
    "    user_data.loc[user_data['Userinfo_Key']==row_user, 'UserinfoDistrict'] = row_district\n",
    "    user_data.loc[user_data['Userinfo_Key']==row_user, 'UserinfoState'] = row_state"
   ]
  },
  {
   "cell_type": "code",
   "execution_count": 14,
   "id": "381458c1-676c-4c49-8270-a0a1bbc91da8",
   "metadata": {
    "execution": {
     "iopub.execute_input": "2022-12-19T15:09:59.755359Z",
     "iopub.status.busy": "2022-12-19T15:09:59.755025Z",
     "iopub.status.idle": "2022-12-19T15:09:59.784072Z",
     "shell.execute_reply": "2022-12-19T15:09:59.783350Z",
     "shell.execute_reply.started": "2022-12-19T15:09:59.755333Z"
    },
    "tags": []
   },
   "outputs": [
    {
     "name": "stdout",
     "output_type": "stream",
     "text": [
      "(23618, 20)\n",
      "(11924, 20)\n"
     ]
    }
   ],
   "source": [
    "#unknown values after\n",
    "print(user_data[user_data['UserinfoDistrict']== 'Unknown'].shape)\n",
    "print(user_data[user_data['UserinfoState']== 'Unknown'].shape)"
   ]
  },
  {
   "cell_type": "markdown",
   "id": "170600b0-f515-4b88-a12e-47b77f4533c3",
   "metadata": {},
   "source": [
    "# looking into activity dataset"
   ]
  },
  {
   "cell_type": "code",
   "execution_count": 15,
   "id": "410dc13c-d59b-4486-8da1-66669d4a2649",
   "metadata": {
    "execution": {
     "iopub.execute_input": "2022-12-19T15:09:59.856109Z",
     "iopub.status.busy": "2022-12-19T15:09:59.855943Z",
     "iopub.status.idle": "2022-12-19T15:10:22.020250Z",
     "shell.execute_reply": "2022-12-19T15:10:22.019126Z",
     "shell.execute_reply.started": "2022-12-19T15:09:59.856093Z"
    }
   },
   "outputs": [],
   "source": [
    "data_activity = pd.read_parquet('/work/project_maternity/data/activity', engine='pyarrow')"
   ]
  },
  {
   "cell_type": "code",
   "execution_count": 16,
   "id": "c5775bf2-542d-4e03-be88-7cc2a05f67a5",
   "metadata": {
    "execution": {
     "iopub.execute_input": "2022-12-19T15:10:22.034906Z",
     "iopub.status.busy": "2022-12-19T15:10:22.034655Z",
     "iopub.status.idle": "2022-12-19T15:10:22.043492Z",
     "shell.execute_reply": "2022-12-19T15:10:22.042816Z",
     "shell.execute_reply.started": "2022-12-19T15:10:22.034886Z"
    }
   },
   "outputs": [
    {
     "name": "stdout",
     "output_type": "stream",
     "text": [
      "<class 'pandas.core.frame.DataFrame'>\n",
      "RangeIndex: 25336286 entries, 0 to 25336285\n",
      "Data columns (total 21 columns):\n",
      " #   Column             Dtype              \n",
      "---  ------             -----              \n",
      " 0   Module_Key         object             \n",
      " 1   Date_Key           object             \n",
      " 2   Time_Key           object             \n",
      " 3   VideoChapter_Key   object             \n",
      " 4   Userinfo_Key       object             \n",
      " 5   Feature_Key        object             \n",
      " 6   Drug_Key           object             \n",
      " 7   Procedure_Key      object             \n",
      " 8   ActionCard_Key     object             \n",
      " 9   Chapter_Key        object             \n",
      " 10  Language_Key       object             \n",
      " 11  Lat                object             \n",
      " 12  Lon                object             \n",
      " 13  EventStart         datetime64[ns, UTC]\n",
      " 14  EventEnd           datetime64[ns, UTC]\n",
      " 15  SessionDuration    float64            \n",
      " 16  SessId             object             \n",
      " 17  AppId              object             \n",
      " 18  UserIsActive       object             \n",
      " 19  SessionNumber_Key  object             \n",
      " 20  AppVersion_Key     object             \n",
      "dtypes: datetime64[ns, UTC](2), float64(1), object(18)\n",
      "memory usage: 4.0+ GB\n"
     ]
    }
   ],
   "source": [
    "data_activity.info()"
   ]
  },
  {
   "cell_type": "code",
   "execution_count": 17,
   "id": "038f2252-3e9e-45c4-b3e4-cfe7f4b5c8f3",
   "metadata": {
    "execution": {
     "iopub.execute_input": "2022-12-19T15:10:22.044589Z",
     "iopub.status.busy": "2022-12-19T15:10:22.044382Z",
     "iopub.status.idle": "2022-12-19T15:10:34.775994Z",
     "shell.execute_reply": "2022-12-19T15:10:34.774091Z",
     "shell.execute_reply.started": "2022-12-19T15:10:22.044572Z"
    }
   },
   "outputs": [],
   "source": [
    "data_activity['Userinfo_Key']=pd.to_numeric(data_activity['Userinfo_Key'])"
   ]
  },
  {
   "cell_type": "markdown",
   "id": "e3b71797-c843-4371-b1dc-92308f3683b9",
   "metadata": {
    "tags": []
   },
   "source": [
    "## Module_key"
   ]
  },
  {
   "cell_type": "code",
   "execution_count": 18,
   "id": "6755a360-23c4-4e54-87a5-4d25130f7f59",
   "metadata": {
    "execution": {
     "iopub.execute_input": "2022-12-19T15:10:34.777239Z",
     "iopub.status.busy": "2022-12-19T15:10:34.777027Z",
     "iopub.status.idle": "2022-12-19T15:10:35.594085Z",
     "shell.execute_reply": "2022-12-19T15:10:35.593433Z",
     "shell.execute_reply.started": "2022-12-19T15:10:34.777219Z"
    }
   },
   "outputs": [
    {
     "data": {
      "text/plain": [
       "array(['473104', '-1', '473107', '603672', '473109', '473100', '473105',\n",
       "       '631971', '473101', '473108', '473110', '473102', '595063',\n",
       "       '649662', '473106', '473103', '786735'], dtype=object)"
      ]
     },
     "execution_count": 18,
     "metadata": {},
     "output_type": "execute_result"
    }
   ],
   "source": [
    "data_activity['Module_Key'].unique()"
   ]
  },
  {
   "cell_type": "code",
   "execution_count": 19,
   "id": "5fd85f20-2616-4dd5-885b-0aaae51ee827",
   "metadata": {
    "execution": {
     "iopub.execute_input": "2022-12-19T15:10:35.594964Z",
     "iopub.status.busy": "2022-12-19T15:10:35.594780Z",
     "iopub.status.idle": "2022-12-19T15:10:35.814589Z",
     "shell.execute_reply": "2022-12-19T15:10:35.813734Z",
     "shell.execute_reply.started": "2022-12-19T15:10:35.594946Z"
    },
    "tags": []
   },
   "outputs": [],
   "source": [
    "#just looking into module_Key and Userinfo_key\n",
    "data_module = data_activity[['Userinfo_Key', 'Module_Key']]"
   ]
  },
  {
   "cell_type": "code",
   "execution_count": 20,
   "id": "9155901b-b4b8-4746-9762-87e7bd7fbe4f",
   "metadata": {
    "execution": {
     "iopub.execute_input": "2022-12-19T15:10:35.815643Z",
     "iopub.status.busy": "2022-12-19T15:10:35.815435Z",
     "iopub.status.idle": "2022-12-19T15:10:35.848241Z",
     "shell.execute_reply": "2022-12-19T15:10:35.847444Z",
     "shell.execute_reply.started": "2022-12-19T15:10:35.815623Z"
    },
    "tags": []
   },
   "outputs": [
    {
     "name": "stdout",
     "output_type": "stream",
     "text": [
      "<class 'pandas.core.frame.DataFrame'>\n",
      "RangeIndex: 25336286 entries, 0 to 25336285\n",
      "Data columns (total 2 columns):\n",
      " #   Column        Dtype \n",
      "---  ------        ----- \n",
      " 0   Userinfo_Key  int64 \n",
      " 1   Module_Key    object\n",
      "dtypes: int64(1), object(1)\n",
      "memory usage: 386.6+ MB\n"
     ]
    }
   ],
   "source": [
    "data_module.info()"
   ]
  },
  {
   "cell_type": "code",
   "execution_count": 21,
   "id": "7ee10dda-aee3-42b4-84ef-3a59cf3c914a",
   "metadata": {
    "execution": {
     "iopub.execute_input": "2022-12-19T15:10:35.849545Z",
     "iopub.status.busy": "2022-12-19T15:10:35.849220Z",
     "iopub.status.idle": "2022-12-19T15:10:37.521658Z",
     "shell.execute_reply": "2022-12-19T15:10:37.520739Z",
     "shell.execute_reply.started": "2022-12-19T15:10:35.849519Z"
    },
    "tags": []
   },
   "outputs": [],
   "source": [
    "## Replacing all the -1 values with nan, as we suppose -1 represents the missing values. \n",
    "# its because when we see the most repetative module_key we don't get the -1 but get some values as the result. \n",
    "data_module.loc[data_module['Module_Key']== '-1', 'Module_Key'] = np.nan"
   ]
  },
  {
   "cell_type": "code",
   "execution_count": 22,
   "id": "45e63925-0333-43b6-a386-2e92f7e64723",
   "metadata": {
    "execution": {
     "iopub.execute_input": "2022-12-19T15:10:37.522655Z",
     "iopub.status.busy": "2022-12-19T15:10:37.522446Z",
     "iopub.status.idle": "2022-12-19T15:10:38.137620Z",
     "shell.execute_reply": "2022-12-19T15:10:38.137018Z",
     "shell.execute_reply.started": "2022-12-19T15:10:37.522636Z"
    },
    "tags": []
   },
   "outputs": [
    {
     "data": {
      "text/plain": [
       "array(['473104', nan, '473107', '603672', '473109', '473100', '473105',\n",
       "       '631971', '473101', '473108', '473110', '473102', '595063',\n",
       "       '649662', '473106', '473103', '786735'], dtype=object)"
      ]
     },
     "execution_count": 22,
     "metadata": {},
     "output_type": "execute_result"
    }
   ],
   "source": [
    "data_module['Module_Key'].unique()"
   ]
  },
  {
   "cell_type": "code",
   "execution_count": 23,
   "id": "d92b8021-a786-4968-b8f6-df6b3e576af7",
   "metadata": {
    "execution": {
     "iopub.execute_input": "2022-12-19T15:10:38.171147Z",
     "iopub.status.busy": "2022-12-19T15:10:38.170981Z",
     "iopub.status.idle": "2022-12-19T15:10:40.513614Z",
     "shell.execute_reply": "2022-12-19T15:10:40.512789Z",
     "shell.execute_reply.started": "2022-12-19T15:10:38.171131Z"
    },
    "tags": []
   },
   "outputs": [],
   "source": [
    "# getting the most valuecounts model_key per userinfo_key\n",
    "data_module = pd.DataFrame(data_module.groupby(['Userinfo_Key','Module_Key']).value_counts() \n",
    "   .sort_values(ascending=False) \n",
    "   .reset_index(name='count') \n",
    "   .drop_duplicates(subset='Userinfo_Key'))"
   ]
  },
  {
   "cell_type": "code",
   "execution_count": 24,
   "id": "84e6977c-9942-4fc2-bdb5-622806365bd8",
   "metadata": {
    "execution": {
     "iopub.execute_input": "2022-12-19T15:10:40.514619Z",
     "iopub.status.busy": "2022-12-19T15:10:40.514429Z",
     "iopub.status.idle": "2022-12-19T15:10:40.526323Z",
     "shell.execute_reply": "2022-12-19T15:10:40.525703Z",
     "shell.execute_reply.started": "2022-12-19T15:10:40.514601Z"
    },
    "tags": []
   },
   "outputs": [
    {
     "name": "stdout",
     "output_type": "stream",
     "text": [
      "<class 'pandas.core.frame.DataFrame'>\n",
      "Int64Index: 28199 entries, 0 to 144590\n",
      "Data columns (total 3 columns):\n",
      " #   Column        Non-Null Count  Dtype \n",
      "---  ------        --------------  ----- \n",
      " 0   Userinfo_Key  28199 non-null  int64 \n",
      " 1   Module_Key    28199 non-null  object\n",
      " 2   count         28199 non-null  int64 \n",
      "dtypes: int64(2), object(1)\n",
      "memory usage: 881.2+ KB\n"
     ]
    }
   ],
   "source": [
    "data_module.info()"
   ]
  },
  {
   "cell_type": "code",
   "execution_count": 25,
   "id": "c43eb1bb-d881-4bbd-917c-fa2fd46aa493",
   "metadata": {
    "execution": {
     "iopub.execute_input": "2022-12-19T15:10:40.527354Z",
     "iopub.status.busy": "2022-12-19T15:10:40.527154Z",
     "iopub.status.idle": "2022-12-19T15:10:40.675582Z",
     "shell.execute_reply": "2022-12-19T15:10:40.674753Z",
     "shell.execute_reply.started": "2022-12-19T15:10:40.527334Z"
    },
    "tags": []
   },
   "outputs": [
    {
     "data": {
      "text/plain": [
       "25358"
      ]
     },
     "execution_count": 25,
     "metadata": {},
     "output_type": "execute_result"
    }
   ],
   "source": [
    "data_module['Userinfo_Key'].isin(user_data['Userinfo_Key']).sum()\n",
    "# seems like all the Userinfo_key in data_module is not inside user_data\n",
    "# but lets merge the users who is inside user_data "
   ]
  },
  {
   "cell_type": "code",
   "execution_count": null,
   "id": "8ea48ffc-d4b7-4388-9a24-5ba548b02c2d",
   "metadata": {},
   "outputs": [],
   "source": []
  },
  {
   "cell_type": "code",
   "execution_count": 26,
   "id": "105c0b95-2705-4945-890d-8b4742cde467",
   "metadata": {
    "execution": {
     "iopub.execute_input": "2022-12-19T15:10:40.676901Z",
     "iopub.status.busy": "2022-12-19T15:10:40.676642Z",
     "iopub.status.idle": "2022-12-19T15:10:40.737911Z",
     "shell.execute_reply": "2022-12-19T15:10:40.736598Z",
     "shell.execute_reply.started": "2022-12-19T15:10:40.676876Z"
    },
    "tags": []
   },
   "outputs": [],
   "source": [
    "# merging Module_Key variable from data_module to user_data based on Userinfo_Key\n",
    "user_data = pd.merge(user_data, data_module[['Userinfo_Key', 'Module_Key']], on=\"Userinfo_Key\", how=\"left\")"
   ]
  },
  {
   "cell_type": "code",
   "execution_count": 27,
   "id": "374f1c27-7dc7-477e-8f6c-06ee71772e4f",
   "metadata": {
    "execution": {
     "iopub.execute_input": "2022-12-19T15:10:40.738974Z",
     "iopub.status.busy": "2022-12-19T15:10:40.738769Z",
     "iopub.status.idle": "2022-12-19T15:10:40.917005Z",
     "shell.execute_reply": "2022-12-19T15:10:40.916292Z",
     "shell.execute_reply.started": "2022-12-19T15:10:40.738955Z"
    }
   },
   "outputs": [
    {
     "name": "stdout",
     "output_type": "stream",
     "text": [
      "<class 'pandas.core.frame.DataFrame'>\n",
      "Int64Index: 105914 entries, 0 to 105913\n",
      "Data columns (total 21 columns):\n",
      " #   Column                            Non-Null Count   Dtype              \n",
      "---  ------                            --------------   -----              \n",
      " 0   Userinfo_Key                      105914 non-null  int64              \n",
      " 1   Userinfo_BK                       105914 non-null  object             \n",
      " 2   Country_Key                       105914 non-null  object             \n",
      " 3   UserinfoAppId                     105914 non-null  object             \n",
      " 4   RN                                105914 non-null  float64            \n",
      " 5   OnlyUser                          105914 non-null  object             \n",
      " 6   NumberOfUsers                     105914 non-null  object             \n",
      " 7   UserinfoCountry                   105914 non-null  object             \n",
      " 8   UserinfoState                     105914 non-null  object             \n",
      " 9   UserinfoDistrict                  105914 non-null  object             \n",
      " 10  HealthcareWorker                  105914 non-null  object             \n",
      " 11  Profession                        105914 non-null  object             \n",
      " 12  Experiance                        105914 non-null  object             \n",
      " 13  WorkPlace                         105914 non-null  object             \n",
      " 14  SafeDeliveryApp                   105914 non-null  object             \n",
      " 15  UserinfoNumberOfDelivery          105914 non-null  object             \n",
      " 16  UserinfoIsMyLearning              105914 non-null  float64            \n",
      " 17  UserinfoUserIsActive              105914 non-null  float64            \n",
      " 18  UserInfoFirstMyLearningEventDate  82822 non-null   datetime64[ns, UTC]\n",
      " 19  UserInfoFirstUseDate              105914 non-null  datetime64[ns, UTC]\n",
      " 20  Module_Key                        25358 non-null   object             \n",
      "dtypes: datetime64[ns, UTC](2), float64(3), int64(1), object(15)\n",
      "memory usage: 17.8+ MB\n"
     ]
    }
   ],
   "source": [
    "user_data.info()"
   ]
  },
  {
   "cell_type": "markdown",
   "id": "05ea6653-7395-4752-b53c-5cb8328d5b71",
   "metadata": {},
   "source": [
    "## looking for the average time used per user\n",
    "- In this sectioin, we look into SessionDuration and EventStart, and find the average time per month per user. "
   ]
  },
  {
   "cell_type": "code",
   "execution_count": 28,
   "id": "3f08cf04-7905-4110-b8de-bf4f70c844e0",
   "metadata": {
    "execution": {
     "iopub.execute_input": "2022-12-19T15:10:40.917910Z",
     "iopub.status.busy": "2022-12-19T15:10:40.917736Z",
     "iopub.status.idle": "2022-12-19T15:10:40.925626Z",
     "shell.execute_reply": "2022-12-19T15:10:40.924982Z",
     "shell.execute_reply.started": "2022-12-19T15:10:40.917893Z"
    }
   },
   "outputs": [
    {
     "name": "stdout",
     "output_type": "stream",
     "text": [
      "<class 'pandas.core.frame.DataFrame'>\n",
      "RangeIndex: 25336286 entries, 0 to 25336285\n",
      "Data columns (total 21 columns):\n",
      " #   Column             Dtype              \n",
      "---  ------             -----              \n",
      " 0   Module_Key         object             \n",
      " 1   Date_Key           object             \n",
      " 2   Time_Key           object             \n",
      " 3   VideoChapter_Key   object             \n",
      " 4   Userinfo_Key       int64              \n",
      " 5   Feature_Key        object             \n",
      " 6   Drug_Key           object             \n",
      " 7   Procedure_Key      object             \n",
      " 8   ActionCard_Key     object             \n",
      " 9   Chapter_Key        object             \n",
      " 10  Language_Key       object             \n",
      " 11  Lat                object             \n",
      " 12  Lon                object             \n",
      " 13  EventStart         datetime64[ns, UTC]\n",
      " 14  EventEnd           datetime64[ns, UTC]\n",
      " 15  SessionDuration    float64            \n",
      " 16  SessId             object             \n",
      " 17  AppId              object             \n",
      " 18  UserIsActive       object             \n",
      " 19  SessionNumber_Key  object             \n",
      " 20  AppVersion_Key     object             \n",
      "dtypes: datetime64[ns, UTC](2), float64(1), int64(1), object(17)\n",
      "memory usage: 4.0+ GB\n"
     ]
    }
   ],
   "source": [
    "data_activity.info()"
   ]
  },
  {
   "cell_type": "code",
   "execution_count": 29,
   "id": "b4023b9a-520e-4d26-99b7-06aab3592c42",
   "metadata": {
    "execution": {
     "iopub.execute_input": "2022-12-19T15:10:40.926368Z",
     "iopub.status.busy": "2022-12-19T15:10:40.926192Z",
     "iopub.status.idle": "2022-12-19T15:10:41.214739Z",
     "shell.execute_reply": "2022-12-19T15:10:41.213926Z",
     "shell.execute_reply.started": "2022-12-19T15:10:40.926351Z"
    },
    "tags": []
   },
   "outputs": [],
   "source": [
    "data_time= data_activity[['SessionDuration', 'EventStart', 'Userinfo_Key']]\n",
    "#focusing in these vaiables"
   ]
  },
  {
   "cell_type": "code",
   "execution_count": 30,
   "id": "cf271d73-2910-4c7b-9b0d-78ac15cb1724",
   "metadata": {
    "execution": {
     "iopub.execute_input": "2022-12-19T15:10:41.215952Z",
     "iopub.status.busy": "2022-12-19T15:10:41.215744Z",
     "iopub.status.idle": "2022-12-19T15:10:41.434502Z",
     "shell.execute_reply": "2022-12-19T15:10:41.433309Z",
     "shell.execute_reply.started": "2022-12-19T15:10:41.215933Z"
    },
    "tags": []
   },
   "outputs": [],
   "source": [
    "data_time.SessionDuration = data_time.SessionDuration.fillna(0)\n",
    "#filling missing values by 0 as we suppose missing session duration implies users not opening that session "
   ]
  },
  {
   "cell_type": "code",
   "execution_count": 31,
   "id": "52814633-988c-4194-a016-eb3b08950346",
   "metadata": {
    "execution": {
     "iopub.execute_input": "2022-12-19T15:10:41.435734Z",
     "iopub.status.busy": "2022-12-19T15:10:41.435547Z",
     "iopub.status.idle": "2022-12-19T15:10:45.256728Z",
     "shell.execute_reply": "2022-12-19T15:10:45.255930Z",
     "shell.execute_reply.started": "2022-12-19T15:10:41.435716Z"
    },
    "tags": []
   },
   "outputs": [],
   "source": [
    "# Separating year and month from EventStart variable \n",
    "data_time[\"year\"] = data_time[\"EventStart\"].dt.year\n",
    "data_time[\"month\"] = data_time[\"EventStart\"].dt.month\n"
   ]
  },
  {
   "cell_type": "code",
   "execution_count": 32,
   "id": "2658d015-9944-45ee-bc98-f9874295c773",
   "metadata": {
    "execution": {
     "iopub.execute_input": "2022-12-19T15:10:45.257899Z",
     "iopub.status.busy": "2022-12-19T15:10:45.257704Z",
     "iopub.status.idle": "2022-12-19T15:10:45.646438Z",
     "shell.execute_reply": "2022-12-19T15:10:45.645694Z",
     "shell.execute_reply.started": "2022-12-19T15:10:45.257882Z"
    },
    "tags": []
   },
   "outputs": [],
   "source": [
    "data_time= data_time.loc[:, ['SessionDuration', 'Userinfo_Key', 'year', 'month']]"
   ]
  },
  {
   "cell_type": "code",
   "execution_count": 33,
   "id": "e20784df-e759-4bbc-8fd9-b56f5e5b79c7",
   "metadata": {
    "execution": {
     "iopub.execute_input": "2022-12-19T15:10:45.647492Z",
     "iopub.status.busy": "2022-12-19T15:10:45.647290Z",
     "iopub.status.idle": "2022-12-19T15:10:45.919094Z",
     "shell.execute_reply": "2022-12-19T15:10:45.918443Z",
     "shell.execute_reply.started": "2022-12-19T15:10:45.647465Z"
    },
    "tags": []
   },
   "outputs": [
    {
     "data": {
      "text/plain": [
       "array([ 2,  1,  3, 11, 10, 12,  9,  8])"
      ]
     },
     "execution_count": 33,
     "metadata": {},
     "output_type": "execute_result"
    }
   ],
   "source": [
    "data_time.month.unique()"
   ]
  },
  {
   "cell_type": "code",
   "execution_count": 34,
   "id": "717c02d7-8570-4625-acd3-61307fafd361",
   "metadata": {
    "execution": {
     "iopub.execute_input": "2022-12-19T15:10:45.919991Z",
     "iopub.status.busy": "2022-12-19T15:10:45.919800Z",
     "iopub.status.idle": "2022-12-19T15:10:45.930160Z",
     "shell.execute_reply": "2022-12-19T15:10:45.929601Z",
     "shell.execute_reply.started": "2022-12-19T15:10:45.919973Z"
    },
    "tags": []
   },
   "outputs": [
    {
     "data": {
      "text/html": [
       "<div>\n",
       "<style scoped>\n",
       "    .dataframe tbody tr th:only-of-type {\n",
       "        vertical-align: middle;\n",
       "    }\n",
       "\n",
       "    .dataframe tbody tr th {\n",
       "        vertical-align: top;\n",
       "    }\n",
       "\n",
       "    .dataframe thead th {\n",
       "        text-align: right;\n",
       "    }\n",
       "</style>\n",
       "<table border=\"1\" class=\"dataframe\">\n",
       "  <thead>\n",
       "    <tr style=\"text-align: right;\">\n",
       "      <th></th>\n",
       "      <th>SessionDuration</th>\n",
       "      <th>Userinfo_Key</th>\n",
       "      <th>year</th>\n",
       "      <th>month</th>\n",
       "    </tr>\n",
       "  </thead>\n",
       "  <tbody>\n",
       "    <tr>\n",
       "      <th>0</th>\n",
       "      <td>0.0</td>\n",
       "      <td>657254</td>\n",
       "      <td>2022</td>\n",
       "      <td>2</td>\n",
       "    </tr>\n",
       "    <tr>\n",
       "      <th>1</th>\n",
       "      <td>4.0</td>\n",
       "      <td>774423</td>\n",
       "      <td>2022</td>\n",
       "      <td>2</td>\n",
       "    </tr>\n",
       "    <tr>\n",
       "      <th>2</th>\n",
       "      <td>91.0</td>\n",
       "      <td>774423</td>\n",
       "      <td>2022</td>\n",
       "      <td>2</td>\n",
       "    </tr>\n",
       "    <tr>\n",
       "      <th>3</th>\n",
       "      <td>7.0</td>\n",
       "      <td>774423</td>\n",
       "      <td>2022</td>\n",
       "      <td>2</td>\n",
       "    </tr>\n",
       "    <tr>\n",
       "      <th>4</th>\n",
       "      <td>5.0</td>\n",
       "      <td>774423</td>\n",
       "      <td>2022</td>\n",
       "      <td>2</td>\n",
       "    </tr>\n",
       "    <tr>\n",
       "      <th>...</th>\n",
       "      <td>...</td>\n",
       "      <td>...</td>\n",
       "      <td>...</td>\n",
       "      <td>...</td>\n",
       "    </tr>\n",
       "    <tr>\n",
       "      <th>25336281</th>\n",
       "      <td>189.0</td>\n",
       "      <td>775997</td>\n",
       "      <td>2021</td>\n",
       "      <td>12</td>\n",
       "    </tr>\n",
       "    <tr>\n",
       "      <th>25336282</th>\n",
       "      <td>22.0</td>\n",
       "      <td>775997</td>\n",
       "      <td>2021</td>\n",
       "      <td>12</td>\n",
       "    </tr>\n",
       "    <tr>\n",
       "      <th>25336283</th>\n",
       "      <td>42.0</td>\n",
       "      <td>775997</td>\n",
       "      <td>2021</td>\n",
       "      <td>12</td>\n",
       "    </tr>\n",
       "    <tr>\n",
       "      <th>25336284</th>\n",
       "      <td>73.0</td>\n",
       "      <td>775997</td>\n",
       "      <td>2021</td>\n",
       "      <td>12</td>\n",
       "    </tr>\n",
       "    <tr>\n",
       "      <th>25336285</th>\n",
       "      <td>0.0</td>\n",
       "      <td>732955</td>\n",
       "      <td>2021</td>\n",
       "      <td>12</td>\n",
       "    </tr>\n",
       "  </tbody>\n",
       "</table>\n",
       "<p>25336286 rows × 4 columns</p>\n",
       "</div>"
      ],
      "text/plain": [
       "          SessionDuration  Userinfo_Key  year  month\n",
       "0                     0.0        657254  2022      2\n",
       "1                     4.0        774423  2022      2\n",
       "2                    91.0        774423  2022      2\n",
       "3                     7.0        774423  2022      2\n",
       "4                     5.0        774423  2022      2\n",
       "...                   ...           ...   ...    ...\n",
       "25336281            189.0        775997  2021     12\n",
       "25336282             22.0        775997  2021     12\n",
       "25336283             42.0        775997  2021     12\n",
       "25336284             73.0        775997  2021     12\n",
       "25336285              0.0        732955  2021     12\n",
       "\n",
       "[25336286 rows x 4 columns]"
      ]
     },
     "execution_count": 34,
     "metadata": {},
     "output_type": "execute_result"
    }
   ],
   "source": [
    "data_time"
   ]
  },
  {
   "cell_type": "code",
   "execution_count": null,
   "id": "0a5ac206-36d5-4055-b129-032fe157c569",
   "metadata": {},
   "outputs": [],
   "source": []
  },
  {
   "cell_type": "code",
   "execution_count": 35,
   "id": "41673428-ac10-4366-b10a-fc1e966d21ae",
   "metadata": {
    "execution": {
     "iopub.execute_input": "2022-12-19T15:10:45.931013Z",
     "iopub.status.busy": "2022-12-19T15:10:45.930834Z",
     "iopub.status.idle": "2022-12-19T15:10:46.323236Z",
     "shell.execute_reply": "2022-12-19T15:10:46.322436Z",
     "shell.execute_reply.started": "2022-12-19T15:10:45.930997Z"
    },
    "tags": []
   },
   "outputs": [],
   "source": [
    "# mapping the month \n",
    "data_time['Month_Name'] = data_time['month'].map({1:'Jan', 2:'Feb', 3:'Mar', 8:'Aug', 9:'Sep', 10:'Oct', 11:'Nov', 12:'Dec'})"
   ]
  },
  {
   "cell_type": "code",
   "execution_count": 36,
   "id": "fc5f620f-8344-4db1-9d30-4fea5e38f74e",
   "metadata": {
    "execution": {
     "iopub.execute_input": "2022-12-19T15:10:46.324325Z",
     "iopub.status.busy": "2022-12-19T15:10:46.324135Z",
     "iopub.status.idle": "2022-12-19T15:10:54.819885Z",
     "shell.execute_reply": "2022-12-19T15:10:54.819092Z",
     "shell.execute_reply.started": "2022-12-19T15:10:46.324308Z"
    },
    "tags": []
   },
   "outputs": [],
   "source": [
    "#Using pivot table to get mean duration that user used per month \n",
    "Avg_data_time = pd.pivot_table(data_time, index='Userinfo_Key', values='SessionDuration', columns='Month_Name', aggfunc='mean', margins=True)"
   ]
  },
  {
   "cell_type": "code",
   "execution_count": 37,
   "id": "4587c82f-a55a-4b4e-80c9-40cbee6ab9c1",
   "metadata": {
    "execution": {
     "iopub.execute_input": "2022-12-19T15:10:54.820947Z",
     "iopub.status.busy": "2022-12-19T15:10:54.820756Z",
     "iopub.status.idle": "2022-12-19T15:10:54.831695Z",
     "shell.execute_reply": "2022-12-19T15:10:54.831037Z",
     "shell.execute_reply.started": "2022-12-19T15:10:54.820930Z"
    },
    "tags": []
   },
   "outputs": [],
   "source": [
    "Avg_data_time= Avg_data_time.reset_index()"
   ]
  },
  {
   "cell_type": "code",
   "execution_count": 38,
   "id": "c7caf86b-297a-440c-bd41-b751602b5dd4",
   "metadata": {
    "execution": {
     "iopub.execute_input": "2022-12-19T15:10:54.832629Z",
     "iopub.status.busy": "2022-12-19T15:10:54.832442Z",
     "iopub.status.idle": "2022-12-19T15:10:54.888045Z",
     "shell.execute_reply": "2022-12-19T15:10:54.886620Z",
     "shell.execute_reply.started": "2022-12-19T15:10:54.832611Z"
    },
    "tags": []
   },
   "outputs": [],
   "source": [
    "Avg_data_time = Avg_data_time.replace('Nan', np.nan)"
   ]
  },
  {
   "cell_type": "code",
   "execution_count": 39,
   "id": "878d7bd1-1a8c-4f66-9351-63334612c8ae",
   "metadata": {
    "execution": {
     "iopub.execute_input": "2022-12-19T15:10:54.890465Z",
     "iopub.status.busy": "2022-12-19T15:10:54.889942Z",
     "iopub.status.idle": "2022-12-19T15:10:54.968266Z",
     "shell.execute_reply": "2022-12-19T15:10:54.967612Z",
     "shell.execute_reply.started": "2022-12-19T15:10:54.890414Z"
    }
   },
   "outputs": [
    {
     "data": {
      "text/html": [
       "<div>\n",
       "<style scoped>\n",
       "    .dataframe tbody tr th:only-of-type {\n",
       "        vertical-align: middle;\n",
       "    }\n",
       "\n",
       "    .dataframe tbody tr th {\n",
       "        vertical-align: top;\n",
       "    }\n",
       "\n",
       "    .dataframe thead th {\n",
       "        text-align: right;\n",
       "    }\n",
       "</style>\n",
       "<table border=\"1\" class=\"dataframe\">\n",
       "  <thead>\n",
       "    <tr style=\"text-align: right;\">\n",
       "      <th>Month_Name</th>\n",
       "      <th>Userinfo_Key</th>\n",
       "      <th>Aug</th>\n",
       "      <th>Dec</th>\n",
       "      <th>Feb</th>\n",
       "      <th>Jan</th>\n",
       "      <th>Mar</th>\n",
       "      <th>Nov</th>\n",
       "      <th>Oct</th>\n",
       "      <th>Sep</th>\n",
       "      <th>All</th>\n",
       "    </tr>\n",
       "  </thead>\n",
       "  <tbody>\n",
       "    <tr>\n",
       "      <th>0</th>\n",
       "      <td>474365</td>\n",
       "      <td>NaN</td>\n",
       "      <td>NaN</td>\n",
       "      <td>NaN</td>\n",
       "      <td>NaN</td>\n",
       "      <td>NaN</td>\n",
       "      <td>NaN</td>\n",
       "      <td>7.00000</td>\n",
       "      <td>NaN</td>\n",
       "      <td>7.000000</td>\n",
       "    </tr>\n",
       "    <tr>\n",
       "      <th>1</th>\n",
       "      <td>474442</td>\n",
       "      <td>NaN</td>\n",
       "      <td>NaN</td>\n",
       "      <td>NaN</td>\n",
       "      <td>NaN</td>\n",
       "      <td>0.000000</td>\n",
       "      <td>NaN</td>\n",
       "      <td>NaN</td>\n",
       "      <td>NaN</td>\n",
       "      <td>0.000000</td>\n",
       "    </tr>\n",
       "    <tr>\n",
       "      <th>2</th>\n",
       "      <td>474687</td>\n",
       "      <td>NaN</td>\n",
       "      <td>NaN</td>\n",
       "      <td>NaN</td>\n",
       "      <td>NaN</td>\n",
       "      <td>NaN</td>\n",
       "      <td>NaN</td>\n",
       "      <td>4.00000</td>\n",
       "      <td>NaN</td>\n",
       "      <td>4.000000</td>\n",
       "    </tr>\n",
       "    <tr>\n",
       "      <th>3</th>\n",
       "      <td>474737</td>\n",
       "      <td>NaN</td>\n",
       "      <td>NaN</td>\n",
       "      <td>NaN</td>\n",
       "      <td>NaN</td>\n",
       "      <td>NaN</td>\n",
       "      <td>NaN</td>\n",
       "      <td>NaN</td>\n",
       "      <td>3.416667</td>\n",
       "      <td>3.416667</td>\n",
       "    </tr>\n",
       "    <tr>\n",
       "      <th>4</th>\n",
       "      <td>474986</td>\n",
       "      <td>NaN</td>\n",
       "      <td>NaN</td>\n",
       "      <td>0.333333</td>\n",
       "      <td>NaN</td>\n",
       "      <td>NaN</td>\n",
       "      <td>NaN</td>\n",
       "      <td>37.00000</td>\n",
       "      <td>2.629630</td>\n",
       "      <td>4.562500</td>\n",
       "    </tr>\n",
       "    <tr>\n",
       "      <th>...</th>\n",
       "      <td>...</td>\n",
       "      <td>...</td>\n",
       "      <td>...</td>\n",
       "      <td>...</td>\n",
       "      <td>...</td>\n",
       "      <td>...</td>\n",
       "      <td>...</td>\n",
       "      <td>...</td>\n",
       "      <td>...</td>\n",
       "      <td>...</td>\n",
       "    </tr>\n",
       "    <tr>\n",
       "      <th>39643</th>\n",
       "      <td>948550</td>\n",
       "      <td>NaN</td>\n",
       "      <td>NaN</td>\n",
       "      <td>NaN</td>\n",
       "      <td>NaN</td>\n",
       "      <td>1.666667</td>\n",
       "      <td>NaN</td>\n",
       "      <td>NaN</td>\n",
       "      <td>4.775000</td>\n",
       "      <td>4.369565</td>\n",
       "    </tr>\n",
       "    <tr>\n",
       "      <th>39644</th>\n",
       "      <td>948744</td>\n",
       "      <td>NaN</td>\n",
       "      <td>NaN</td>\n",
       "      <td>NaN</td>\n",
       "      <td>NaN</td>\n",
       "      <td>34.116279</td>\n",
       "      <td>NaN</td>\n",
       "      <td>NaN</td>\n",
       "      <td>NaN</td>\n",
       "      <td>34.116279</td>\n",
       "    </tr>\n",
       "    <tr>\n",
       "      <th>39645</th>\n",
       "      <td>948886</td>\n",
       "      <td>NaN</td>\n",
       "      <td>NaN</td>\n",
       "      <td>NaN</td>\n",
       "      <td>NaN</td>\n",
       "      <td>NaN</td>\n",
       "      <td>NaN</td>\n",
       "      <td>1.00000</td>\n",
       "      <td>NaN</td>\n",
       "      <td>1.000000</td>\n",
       "    </tr>\n",
       "    <tr>\n",
       "      <th>39646</th>\n",
       "      <td>949140</td>\n",
       "      <td>NaN</td>\n",
       "      <td>NaN</td>\n",
       "      <td>NaN</td>\n",
       "      <td>NaN</td>\n",
       "      <td>NaN</td>\n",
       "      <td>NaN</td>\n",
       "      <td>2.00000</td>\n",
       "      <td>NaN</td>\n",
       "      <td>2.000000</td>\n",
       "    </tr>\n",
       "    <tr>\n",
       "      <th>39647</th>\n",
       "      <td>All</td>\n",
       "      <td>49.196984</td>\n",
       "      <td>18.37272</td>\n",
       "      <td>16.153374</td>\n",
       "      <td>16.829806</td>\n",
       "      <td>15.437286</td>\n",
       "      <td>16.551712</td>\n",
       "      <td>18.13949</td>\n",
       "      <td>17.689687</td>\n",
       "      <td>17.643827</td>\n",
       "    </tr>\n",
       "  </tbody>\n",
       "</table>\n",
       "<p>39648 rows × 10 columns</p>\n",
       "</div>"
      ],
      "text/plain": [
       "Month_Name Userinfo_Key        Aug       Dec        Feb        Jan        Mar  \\\n",
       "0                474365        NaN       NaN        NaN        NaN        NaN   \n",
       "1                474442        NaN       NaN        NaN        NaN   0.000000   \n",
       "2                474687        NaN       NaN        NaN        NaN        NaN   \n",
       "3                474737        NaN       NaN        NaN        NaN        NaN   \n",
       "4                474986        NaN       NaN   0.333333        NaN        NaN   \n",
       "...                 ...        ...       ...        ...        ...        ...   \n",
       "39643            948550        NaN       NaN        NaN        NaN   1.666667   \n",
       "39644            948744        NaN       NaN        NaN        NaN  34.116279   \n",
       "39645            948886        NaN       NaN        NaN        NaN        NaN   \n",
       "39646            949140        NaN       NaN        NaN        NaN        NaN   \n",
       "39647               All  49.196984  18.37272  16.153374  16.829806  15.437286   \n",
       "\n",
       "Month_Name        Nov       Oct        Sep        All  \n",
       "0                 NaN   7.00000        NaN   7.000000  \n",
       "1                 NaN       NaN        NaN   0.000000  \n",
       "2                 NaN   4.00000        NaN   4.000000  \n",
       "3                 NaN       NaN   3.416667   3.416667  \n",
       "4                 NaN  37.00000   2.629630   4.562500  \n",
       "...               ...       ...        ...        ...  \n",
       "39643             NaN       NaN   4.775000   4.369565  \n",
       "39644             NaN       NaN        NaN  34.116279  \n",
       "39645             NaN   1.00000        NaN   1.000000  \n",
       "39646             NaN   2.00000        NaN   2.000000  \n",
       "39647       16.551712  18.13949  17.689687  17.643827  \n",
       "\n",
       "[39648 rows x 10 columns]"
      ]
     },
     "execution_count": 39,
     "metadata": {},
     "output_type": "execute_result"
    }
   ],
   "source": [
    "Avg_data_time"
   ]
  },
  {
   "cell_type": "code",
   "execution_count": 40,
   "id": "22373c90-e501-4e5b-92d5-687e601d309b",
   "metadata": {
    "execution": {
     "iopub.execute_input": "2022-12-19T15:10:54.969319Z",
     "iopub.status.busy": "2022-12-19T15:10:54.969099Z",
     "iopub.status.idle": "2022-12-19T15:10:55.128645Z",
     "shell.execute_reply": "2022-12-19T15:10:55.127695Z",
     "shell.execute_reply.started": "2022-12-19T15:10:54.969302Z"
    },
    "tags": []
   },
   "outputs": [],
   "source": [
    "Avg_data_time = Avg_data_time.fillna(0)"
   ]
  },
  {
   "cell_type": "code",
   "execution_count": 41,
   "id": "fddf5749-fa48-41e8-87a7-8f9e8bb58ea6",
   "metadata": {
    "execution": {
     "iopub.execute_input": "2022-12-19T15:10:55.129782Z",
     "iopub.status.busy": "2022-12-19T15:10:55.129572Z",
     "iopub.status.idle": "2022-12-19T15:10:55.224950Z",
     "shell.execute_reply": "2022-12-19T15:10:55.224242Z",
     "shell.execute_reply.started": "2022-12-19T15:10:55.129763Z"
    },
    "tags": []
   },
   "outputs": [
    {
     "data": {
      "text/html": [
       "<div>\n",
       "<style scoped>\n",
       "    .dataframe tbody tr th:only-of-type {\n",
       "        vertical-align: middle;\n",
       "    }\n",
       "\n",
       "    .dataframe tbody tr th {\n",
       "        vertical-align: top;\n",
       "    }\n",
       "\n",
       "    .dataframe thead th {\n",
       "        text-align: right;\n",
       "    }\n",
       "</style>\n",
       "<table border=\"1\" class=\"dataframe\">\n",
       "  <thead>\n",
       "    <tr style=\"text-align: right;\">\n",
       "      <th>Month_Name</th>\n",
       "      <th>Userinfo_Key</th>\n",
       "      <th>Aug</th>\n",
       "      <th>Dec</th>\n",
       "      <th>Feb</th>\n",
       "      <th>Jan</th>\n",
       "      <th>Mar</th>\n",
       "      <th>Nov</th>\n",
       "      <th>Oct</th>\n",
       "      <th>Sep</th>\n",
       "      <th>All</th>\n",
       "    </tr>\n",
       "  </thead>\n",
       "  <tbody>\n",
       "    <tr>\n",
       "      <th>0</th>\n",
       "      <td>474365</td>\n",
       "      <td>0.000000</td>\n",
       "      <td>0.00000</td>\n",
       "      <td>0.000000</td>\n",
       "      <td>0.000000</td>\n",
       "      <td>0.000000</td>\n",
       "      <td>0.000000</td>\n",
       "      <td>7.00000</td>\n",
       "      <td>0.000000</td>\n",
       "      <td>7.000000</td>\n",
       "    </tr>\n",
       "    <tr>\n",
       "      <th>1</th>\n",
       "      <td>474442</td>\n",
       "      <td>0.000000</td>\n",
       "      <td>0.00000</td>\n",
       "      <td>0.000000</td>\n",
       "      <td>0.000000</td>\n",
       "      <td>0.000000</td>\n",
       "      <td>0.000000</td>\n",
       "      <td>0.00000</td>\n",
       "      <td>0.000000</td>\n",
       "      <td>0.000000</td>\n",
       "    </tr>\n",
       "    <tr>\n",
       "      <th>2</th>\n",
       "      <td>474687</td>\n",
       "      <td>0.000000</td>\n",
       "      <td>0.00000</td>\n",
       "      <td>0.000000</td>\n",
       "      <td>0.000000</td>\n",
       "      <td>0.000000</td>\n",
       "      <td>0.000000</td>\n",
       "      <td>4.00000</td>\n",
       "      <td>0.000000</td>\n",
       "      <td>4.000000</td>\n",
       "    </tr>\n",
       "    <tr>\n",
       "      <th>3</th>\n",
       "      <td>474737</td>\n",
       "      <td>0.000000</td>\n",
       "      <td>0.00000</td>\n",
       "      <td>0.000000</td>\n",
       "      <td>0.000000</td>\n",
       "      <td>0.000000</td>\n",
       "      <td>0.000000</td>\n",
       "      <td>0.00000</td>\n",
       "      <td>3.416667</td>\n",
       "      <td>3.416667</td>\n",
       "    </tr>\n",
       "    <tr>\n",
       "      <th>4</th>\n",
       "      <td>474986</td>\n",
       "      <td>0.000000</td>\n",
       "      <td>0.00000</td>\n",
       "      <td>0.333333</td>\n",
       "      <td>0.000000</td>\n",
       "      <td>0.000000</td>\n",
       "      <td>0.000000</td>\n",
       "      <td>37.00000</td>\n",
       "      <td>2.629630</td>\n",
       "      <td>4.562500</td>\n",
       "    </tr>\n",
       "    <tr>\n",
       "      <th>...</th>\n",
       "      <td>...</td>\n",
       "      <td>...</td>\n",
       "      <td>...</td>\n",
       "      <td>...</td>\n",
       "      <td>...</td>\n",
       "      <td>...</td>\n",
       "      <td>...</td>\n",
       "      <td>...</td>\n",
       "      <td>...</td>\n",
       "      <td>...</td>\n",
       "    </tr>\n",
       "    <tr>\n",
       "      <th>39643</th>\n",
       "      <td>948550</td>\n",
       "      <td>0.000000</td>\n",
       "      <td>0.00000</td>\n",
       "      <td>0.000000</td>\n",
       "      <td>0.000000</td>\n",
       "      <td>1.666667</td>\n",
       "      <td>0.000000</td>\n",
       "      <td>0.00000</td>\n",
       "      <td>4.775000</td>\n",
       "      <td>4.369565</td>\n",
       "    </tr>\n",
       "    <tr>\n",
       "      <th>39644</th>\n",
       "      <td>948744</td>\n",
       "      <td>0.000000</td>\n",
       "      <td>0.00000</td>\n",
       "      <td>0.000000</td>\n",
       "      <td>0.000000</td>\n",
       "      <td>34.116279</td>\n",
       "      <td>0.000000</td>\n",
       "      <td>0.00000</td>\n",
       "      <td>0.000000</td>\n",
       "      <td>34.116279</td>\n",
       "    </tr>\n",
       "    <tr>\n",
       "      <th>39645</th>\n",
       "      <td>948886</td>\n",
       "      <td>0.000000</td>\n",
       "      <td>0.00000</td>\n",
       "      <td>0.000000</td>\n",
       "      <td>0.000000</td>\n",
       "      <td>0.000000</td>\n",
       "      <td>0.000000</td>\n",
       "      <td>1.00000</td>\n",
       "      <td>0.000000</td>\n",
       "      <td>1.000000</td>\n",
       "    </tr>\n",
       "    <tr>\n",
       "      <th>39646</th>\n",
       "      <td>949140</td>\n",
       "      <td>0.000000</td>\n",
       "      <td>0.00000</td>\n",
       "      <td>0.000000</td>\n",
       "      <td>0.000000</td>\n",
       "      <td>0.000000</td>\n",
       "      <td>0.000000</td>\n",
       "      <td>2.00000</td>\n",
       "      <td>0.000000</td>\n",
       "      <td>2.000000</td>\n",
       "    </tr>\n",
       "    <tr>\n",
       "      <th>39647</th>\n",
       "      <td>All</td>\n",
       "      <td>49.196984</td>\n",
       "      <td>18.37272</td>\n",
       "      <td>16.153374</td>\n",
       "      <td>16.829806</td>\n",
       "      <td>15.437286</td>\n",
       "      <td>16.551712</td>\n",
       "      <td>18.13949</td>\n",
       "      <td>17.689687</td>\n",
       "      <td>17.643827</td>\n",
       "    </tr>\n",
       "  </tbody>\n",
       "</table>\n",
       "<p>39648 rows × 10 columns</p>\n",
       "</div>"
      ],
      "text/plain": [
       "Month_Name Userinfo_Key        Aug       Dec        Feb        Jan        Mar  \\\n",
       "0                474365   0.000000   0.00000   0.000000   0.000000   0.000000   \n",
       "1                474442   0.000000   0.00000   0.000000   0.000000   0.000000   \n",
       "2                474687   0.000000   0.00000   0.000000   0.000000   0.000000   \n",
       "3                474737   0.000000   0.00000   0.000000   0.000000   0.000000   \n",
       "4                474986   0.000000   0.00000   0.333333   0.000000   0.000000   \n",
       "...                 ...        ...       ...        ...        ...        ...   \n",
       "39643            948550   0.000000   0.00000   0.000000   0.000000   1.666667   \n",
       "39644            948744   0.000000   0.00000   0.000000   0.000000  34.116279   \n",
       "39645            948886   0.000000   0.00000   0.000000   0.000000   0.000000   \n",
       "39646            949140   0.000000   0.00000   0.000000   0.000000   0.000000   \n",
       "39647               All  49.196984  18.37272  16.153374  16.829806  15.437286   \n",
       "\n",
       "Month_Name        Nov       Oct        Sep        All  \n",
       "0            0.000000   7.00000   0.000000   7.000000  \n",
       "1            0.000000   0.00000   0.000000   0.000000  \n",
       "2            0.000000   4.00000   0.000000   4.000000  \n",
       "3            0.000000   0.00000   3.416667   3.416667  \n",
       "4            0.000000  37.00000   2.629630   4.562500  \n",
       "...               ...       ...        ...        ...  \n",
       "39643        0.000000   0.00000   4.775000   4.369565  \n",
       "39644        0.000000   0.00000   0.000000  34.116279  \n",
       "39645        0.000000   1.00000   0.000000   1.000000  \n",
       "39646        0.000000   2.00000   0.000000   2.000000  \n",
       "39647       16.551712  18.13949  17.689687  17.643827  \n",
       "\n",
       "[39648 rows x 10 columns]"
      ]
     },
     "execution_count": 41,
     "metadata": {},
     "output_type": "execute_result"
    }
   ],
   "source": [
    "Avg_data_time"
   ]
  },
  {
   "cell_type": "code",
   "execution_count": 42,
   "id": "2b91cb53-3a95-4f94-a51b-f64b148842dd",
   "metadata": {
    "execution": {
     "iopub.execute_input": "2022-12-19T15:10:55.226071Z",
     "iopub.status.busy": "2022-12-19T15:10:55.225848Z",
     "iopub.status.idle": "2022-12-19T15:10:55.385395Z",
     "shell.execute_reply": "2022-12-19T15:10:55.384593Z",
     "shell.execute_reply.started": "2022-12-19T15:10:55.226050Z"
    },
    "tags": []
   },
   "outputs": [],
   "source": [
    "Avg_data_time['Userinfo_Key']= Avg_data_time['Userinfo_Key'].replace('All', np.nan)"
   ]
  },
  {
   "cell_type": "code",
   "execution_count": 43,
   "id": "dabdf2de-c9c9-4eed-a688-4b1693c21ee1",
   "metadata": {
    "execution": {
     "iopub.execute_input": "2022-12-19T15:10:55.387091Z",
     "iopub.status.busy": "2022-12-19T15:10:55.386593Z",
     "iopub.status.idle": "2022-12-19T15:10:55.398341Z",
     "shell.execute_reply": "2022-12-19T15:10:55.397671Z",
     "shell.execute_reply.started": "2022-12-19T15:10:55.387054Z"
    }
   },
   "outputs": [],
   "source": [
    "Avg_data_time.dropna(inplace= True)"
   ]
  },
  {
   "cell_type": "code",
   "execution_count": 44,
   "id": "5c51636d-29ef-434c-8df8-2f27196f7e2a",
   "metadata": {
    "execution": {
     "iopub.execute_input": "2022-12-19T15:10:55.399379Z",
     "iopub.status.busy": "2022-12-19T15:10:55.399184Z",
     "iopub.status.idle": "2022-12-19T15:10:55.465857Z",
     "shell.execute_reply": "2022-12-19T15:10:55.465024Z",
     "shell.execute_reply.started": "2022-12-19T15:10:55.399361Z"
    }
   },
   "outputs": [
    {
     "data": {
      "text/html": [
       "<div>\n",
       "<style scoped>\n",
       "    .dataframe tbody tr th:only-of-type {\n",
       "        vertical-align: middle;\n",
       "    }\n",
       "\n",
       "    .dataframe tbody tr th {\n",
       "        vertical-align: top;\n",
       "    }\n",
       "\n",
       "    .dataframe thead th {\n",
       "        text-align: right;\n",
       "    }\n",
       "</style>\n",
       "<table border=\"1\" class=\"dataframe\">\n",
       "  <thead>\n",
       "    <tr style=\"text-align: right;\">\n",
       "      <th>Month_Name</th>\n",
       "      <th>Userinfo_Key</th>\n",
       "      <th>Aug</th>\n",
       "      <th>Dec</th>\n",
       "      <th>Feb</th>\n",
       "      <th>Jan</th>\n",
       "      <th>Mar</th>\n",
       "      <th>Nov</th>\n",
       "      <th>Oct</th>\n",
       "      <th>Sep</th>\n",
       "      <th>All</th>\n",
       "    </tr>\n",
       "  </thead>\n",
       "  <tbody>\n",
       "    <tr>\n",
       "      <th>0</th>\n",
       "      <td>474365.0</td>\n",
       "      <td>0.0</td>\n",
       "      <td>0.0</td>\n",
       "      <td>0.000000</td>\n",
       "      <td>0.0</td>\n",
       "      <td>0.000000</td>\n",
       "      <td>0.0</td>\n",
       "      <td>7.0</td>\n",
       "      <td>0.000000</td>\n",
       "      <td>7.000000</td>\n",
       "    </tr>\n",
       "    <tr>\n",
       "      <th>1</th>\n",
       "      <td>474442.0</td>\n",
       "      <td>0.0</td>\n",
       "      <td>0.0</td>\n",
       "      <td>0.000000</td>\n",
       "      <td>0.0</td>\n",
       "      <td>0.000000</td>\n",
       "      <td>0.0</td>\n",
       "      <td>0.0</td>\n",
       "      <td>0.000000</td>\n",
       "      <td>0.000000</td>\n",
       "    </tr>\n",
       "    <tr>\n",
       "      <th>2</th>\n",
       "      <td>474687.0</td>\n",
       "      <td>0.0</td>\n",
       "      <td>0.0</td>\n",
       "      <td>0.000000</td>\n",
       "      <td>0.0</td>\n",
       "      <td>0.000000</td>\n",
       "      <td>0.0</td>\n",
       "      <td>4.0</td>\n",
       "      <td>0.000000</td>\n",
       "      <td>4.000000</td>\n",
       "    </tr>\n",
       "    <tr>\n",
       "      <th>3</th>\n",
       "      <td>474737.0</td>\n",
       "      <td>0.0</td>\n",
       "      <td>0.0</td>\n",
       "      <td>0.000000</td>\n",
       "      <td>0.0</td>\n",
       "      <td>0.000000</td>\n",
       "      <td>0.0</td>\n",
       "      <td>0.0</td>\n",
       "      <td>3.416667</td>\n",
       "      <td>3.416667</td>\n",
       "    </tr>\n",
       "    <tr>\n",
       "      <th>4</th>\n",
       "      <td>474986.0</td>\n",
       "      <td>0.0</td>\n",
       "      <td>0.0</td>\n",
       "      <td>0.333333</td>\n",
       "      <td>0.0</td>\n",
       "      <td>0.000000</td>\n",
       "      <td>0.0</td>\n",
       "      <td>37.0</td>\n",
       "      <td>2.629630</td>\n",
       "      <td>4.562500</td>\n",
       "    </tr>\n",
       "    <tr>\n",
       "      <th>...</th>\n",
       "      <td>...</td>\n",
       "      <td>...</td>\n",
       "      <td>...</td>\n",
       "      <td>...</td>\n",
       "      <td>...</td>\n",
       "      <td>...</td>\n",
       "      <td>...</td>\n",
       "      <td>...</td>\n",
       "      <td>...</td>\n",
       "      <td>...</td>\n",
       "    </tr>\n",
       "    <tr>\n",
       "      <th>39642</th>\n",
       "      <td>948514.0</td>\n",
       "      <td>0.0</td>\n",
       "      <td>0.0</td>\n",
       "      <td>0.000000</td>\n",
       "      <td>0.0</td>\n",
       "      <td>0.000000</td>\n",
       "      <td>0.0</td>\n",
       "      <td>0.0</td>\n",
       "      <td>0.000000</td>\n",
       "      <td>0.000000</td>\n",
       "    </tr>\n",
       "    <tr>\n",
       "      <th>39643</th>\n",
       "      <td>948550.0</td>\n",
       "      <td>0.0</td>\n",
       "      <td>0.0</td>\n",
       "      <td>0.000000</td>\n",
       "      <td>0.0</td>\n",
       "      <td>1.666667</td>\n",
       "      <td>0.0</td>\n",
       "      <td>0.0</td>\n",
       "      <td>4.775000</td>\n",
       "      <td>4.369565</td>\n",
       "    </tr>\n",
       "    <tr>\n",
       "      <th>39644</th>\n",
       "      <td>948744.0</td>\n",
       "      <td>0.0</td>\n",
       "      <td>0.0</td>\n",
       "      <td>0.000000</td>\n",
       "      <td>0.0</td>\n",
       "      <td>34.116279</td>\n",
       "      <td>0.0</td>\n",
       "      <td>0.0</td>\n",
       "      <td>0.000000</td>\n",
       "      <td>34.116279</td>\n",
       "    </tr>\n",
       "    <tr>\n",
       "      <th>39645</th>\n",
       "      <td>948886.0</td>\n",
       "      <td>0.0</td>\n",
       "      <td>0.0</td>\n",
       "      <td>0.000000</td>\n",
       "      <td>0.0</td>\n",
       "      <td>0.000000</td>\n",
       "      <td>0.0</td>\n",
       "      <td>1.0</td>\n",
       "      <td>0.000000</td>\n",
       "      <td>1.000000</td>\n",
       "    </tr>\n",
       "    <tr>\n",
       "      <th>39646</th>\n",
       "      <td>949140.0</td>\n",
       "      <td>0.0</td>\n",
       "      <td>0.0</td>\n",
       "      <td>0.000000</td>\n",
       "      <td>0.0</td>\n",
       "      <td>0.000000</td>\n",
       "      <td>0.0</td>\n",
       "      <td>2.0</td>\n",
       "      <td>0.000000</td>\n",
       "      <td>2.000000</td>\n",
       "    </tr>\n",
       "  </tbody>\n",
       "</table>\n",
       "<p>39647 rows × 10 columns</p>\n",
       "</div>"
      ],
      "text/plain": [
       "Month_Name  Userinfo_Key  Aug  Dec       Feb  Jan        Mar  Nov   Oct  \\\n",
       "0               474365.0  0.0  0.0  0.000000  0.0   0.000000  0.0   7.0   \n",
       "1               474442.0  0.0  0.0  0.000000  0.0   0.000000  0.0   0.0   \n",
       "2               474687.0  0.0  0.0  0.000000  0.0   0.000000  0.0   4.0   \n",
       "3               474737.0  0.0  0.0  0.000000  0.0   0.000000  0.0   0.0   \n",
       "4               474986.0  0.0  0.0  0.333333  0.0   0.000000  0.0  37.0   \n",
       "...                  ...  ...  ...       ...  ...        ...  ...   ...   \n",
       "39642           948514.0  0.0  0.0  0.000000  0.0   0.000000  0.0   0.0   \n",
       "39643           948550.0  0.0  0.0  0.000000  0.0   1.666667  0.0   0.0   \n",
       "39644           948744.0  0.0  0.0  0.000000  0.0  34.116279  0.0   0.0   \n",
       "39645           948886.0  0.0  0.0  0.000000  0.0   0.000000  0.0   1.0   \n",
       "39646           949140.0  0.0  0.0  0.000000  0.0   0.000000  0.0   2.0   \n",
       "\n",
       "Month_Name       Sep        All  \n",
       "0           0.000000   7.000000  \n",
       "1           0.000000   0.000000  \n",
       "2           0.000000   4.000000  \n",
       "3           3.416667   3.416667  \n",
       "4           2.629630   4.562500  \n",
       "...              ...        ...  \n",
       "39642       0.000000   0.000000  \n",
       "39643       4.775000   4.369565  \n",
       "39644       0.000000  34.116279  \n",
       "39645       0.000000   1.000000  \n",
       "39646       0.000000   2.000000  \n",
       "\n",
       "[39647 rows x 10 columns]"
      ]
     },
     "execution_count": 44,
     "metadata": {},
     "output_type": "execute_result"
    }
   ],
   "source": [
    "Avg_data_time"
   ]
  },
  {
   "cell_type": "code",
   "execution_count": 45,
   "id": "d5efbc45-ddd4-492b-b1cd-5cff579c7c40",
   "metadata": {
    "execution": {
     "iopub.execute_input": "2022-12-19T15:10:55.467159Z",
     "iopub.status.busy": "2022-12-19T15:10:55.466831Z",
     "iopub.status.idle": "2022-12-19T15:10:55.539673Z",
     "shell.execute_reply": "2022-12-19T15:10:55.538019Z",
     "shell.execute_reply.started": "2022-12-19T15:10:55.467136Z"
    },
    "tags": []
   },
   "outputs": [],
   "source": [
    "Avg_data_time = Avg_data_time.rename(columns={'All': 'Time'})"
   ]
  },
  {
   "cell_type": "code",
   "execution_count": 46,
   "id": "75e89bd5-4704-46d8-9983-d5d63ff026c2",
   "metadata": {
    "execution": {
     "iopub.execute_input": "2022-12-19T15:10:55.542934Z",
     "iopub.status.busy": "2022-12-19T15:10:55.542139Z",
     "iopub.status.idle": "2022-12-19T15:10:55.712049Z",
     "shell.execute_reply": "2022-12-19T15:10:55.711236Z",
     "shell.execute_reply.started": "2022-12-19T15:10:55.542858Z"
    },
    "tags": []
   },
   "outputs": [],
   "source": [
    "# merging time repesenting variable (ALL) from Avg_data_time to user_data based on Userinfo_Key\n",
    "user_data = pd.merge(user_data, Avg_data_time[['Userinfo_Key', 'Time']], on=\"Userinfo_Key\", how=\"left\")"
   ]
  },
  {
   "cell_type": "code",
   "execution_count": 47,
   "id": "79918750-b682-4aca-a01b-66aacc7335d2",
   "metadata": {
    "execution": {
     "iopub.execute_input": "2022-12-19T15:10:55.713445Z",
     "iopub.status.busy": "2022-12-19T15:10:55.713096Z",
     "iopub.status.idle": "2022-12-19T15:10:55.893243Z",
     "shell.execute_reply": "2022-12-19T15:10:55.892461Z",
     "shell.execute_reply.started": "2022-12-19T15:10:55.713423Z"
    },
    "tags": []
   },
   "outputs": [
    {
     "name": "stdout",
     "output_type": "stream",
     "text": [
      "<class 'pandas.core.frame.DataFrame'>\n",
      "Int64Index: 105914 entries, 0 to 105913\n",
      "Data columns (total 22 columns):\n",
      " #   Column                            Non-Null Count   Dtype              \n",
      "---  ------                            --------------   -----              \n",
      " 0   Userinfo_Key                      105914 non-null  int64              \n",
      " 1   Userinfo_BK                       105914 non-null  object             \n",
      " 2   Country_Key                       105914 non-null  object             \n",
      " 3   UserinfoAppId                     105914 non-null  object             \n",
      " 4   RN                                105914 non-null  float64            \n",
      " 5   OnlyUser                          105914 non-null  object             \n",
      " 6   NumberOfUsers                     105914 non-null  object             \n",
      " 7   UserinfoCountry                   105914 non-null  object             \n",
      " 8   UserinfoState                     105914 non-null  object             \n",
      " 9   UserinfoDistrict                  105914 non-null  object             \n",
      " 10  HealthcareWorker                  105914 non-null  object             \n",
      " 11  Profession                        105914 non-null  object             \n",
      " 12  Experiance                        105914 non-null  object             \n",
      " 13  WorkPlace                         105914 non-null  object             \n",
      " 14  SafeDeliveryApp                   105914 non-null  object             \n",
      " 15  UserinfoNumberOfDelivery          105914 non-null  object             \n",
      " 16  UserinfoIsMyLearning              105914 non-null  float64            \n",
      " 17  UserinfoUserIsActive              105914 non-null  float64            \n",
      " 18  UserInfoFirstMyLearningEventDate  82822 non-null   datetime64[ns, UTC]\n",
      " 19  UserInfoFirstUseDate              105914 non-null  datetime64[ns, UTC]\n",
      " 20  Module_Key                        25358 non-null   object             \n",
      " 21  Time                              33099 non-null   float64            \n",
      "dtypes: datetime64[ns, UTC](2), float64(4), int64(1), object(15)\n",
      "memory usage: 18.6+ MB\n"
     ]
    }
   ],
   "source": [
    "user_data.info()"
   ]
  },
  {
   "cell_type": "markdown",
   "id": "cd60c25a-f8f0-4600-ae03-f89fd2afa92a",
   "metadata": {},
   "source": [
    "## looking into mylearning dataset"
   ]
  },
  {
   "cell_type": "code",
   "execution_count": 48,
   "id": "e3dc1484-4a31-4718-a41f-b27378a53cf9",
   "metadata": {
    "execution": {
     "iopub.execute_input": "2022-12-19T15:10:55.894314Z",
     "iopub.status.busy": "2022-12-19T15:10:55.894090Z",
     "iopub.status.idle": "2022-12-19T15:10:56.365493Z",
     "shell.execute_reply": "2022-12-19T15:10:56.364020Z",
     "shell.execute_reply.started": "2022-12-19T15:10:55.894294Z"
    }
   },
   "outputs": [],
   "source": [
    "my_learning = pd.read_parquet('/work/project_maternity/data/mylearning/data_mylearning.parquet')"
   ]
  },
  {
   "cell_type": "code",
   "execution_count": 49,
   "id": "2c20f6d9-66cf-4f12-9e55-57e841345e9d",
   "metadata": {
    "execution": {
     "iopub.execute_input": "2022-12-19T15:10:56.369189Z",
     "iopub.status.busy": "2022-12-19T15:10:56.368294Z",
     "iopub.status.idle": "2022-12-19T15:10:57.141665Z",
     "shell.execute_reply": "2022-12-19T15:10:57.140933Z",
     "shell.execute_reply.started": "2022-12-19T15:10:56.369105Z"
    }
   },
   "outputs": [
    {
     "name": "stdout",
     "output_type": "stream",
     "text": [
      "<class 'pandas.core.frame.DataFrame'>\n",
      "RangeIndex: 1462262 entries, 0 to 1462261\n",
      "Data columns (total 9 columns):\n",
      " #   Column          Non-Null Count    Dtype  \n",
      "---  ------          --------------    -----  \n",
      " 0   Module_Key      1462262 non-null  object \n",
      " 1   Date_Key        1462180 non-null  object \n",
      " 2   Time_Key        1462262 non-null  float64\n",
      " 3   Userinfo_Key    1462262 non-null  object \n",
      " 4   SessId          1462262 non-null  object \n",
      " 5   AppId           1462262 non-null  object \n",
      " 6   KlpResultLevel  1462262 non-null  float64\n",
      " 7   KlpResultStars  1462138 non-null  float64\n",
      " 8   KlpResultScore  145372 non-null   float64\n",
      "dtypes: float64(4), object(5)\n",
      "memory usage: 100.4+ MB\n"
     ]
    }
   ],
   "source": [
    "my_learning.info()"
   ]
  },
  {
   "cell_type": "code",
   "execution_count": 50,
   "id": "bd01a637-970d-4354-9498-e68802d2925d",
   "metadata": {
    "execution": {
     "iopub.execute_input": "2022-12-19T15:10:57.142685Z",
     "iopub.status.busy": "2022-12-19T15:10:57.142479Z",
     "iopub.status.idle": "2022-12-19T15:10:57.330132Z",
     "shell.execute_reply": "2022-12-19T15:10:57.329171Z",
     "shell.execute_reply.started": "2022-12-19T15:10:57.142665Z"
    },
    "tags": []
   },
   "outputs": [
    {
     "name": "stdout",
     "output_type": "stream",
     "text": [
      "1316890\n",
      "0\n"
     ]
    }
   ],
   "source": [
    "#we wanted to add some sort of achievement scores of the users and we found KlpResultScore and KlpResultLevel from which we can see acheivement\n",
    "print(my_learning['KlpResultScore'].isna().sum())\n",
    "print(my_learning['KlpResultLevel'].isna().sum())\n",
    "#since the missing values of KlpResultLevel is 0, using KlpResultLevel as the acheivement for users"
   ]
  },
  {
   "cell_type": "code",
   "execution_count": 51,
   "id": "1b891b5d-37a7-4c70-99ee-3f282fc8867e",
   "metadata": {
    "execution": {
     "iopub.execute_input": "2022-12-19T15:10:57.331944Z",
     "iopub.status.busy": "2022-12-19T15:10:57.331398Z",
     "iopub.status.idle": "2022-12-19T15:10:57.393599Z",
     "shell.execute_reply": "2022-12-19T15:10:57.392792Z",
     "shell.execute_reply.started": "2022-12-19T15:10:57.331915Z"
    }
   },
   "outputs": [],
   "source": [
    "my_learning= my_learning[['Userinfo_Key', 'KlpResultLevel']]"
   ]
  },
  {
   "cell_type": "code",
   "execution_count": 52,
   "id": "8ede8dba-f8b1-45b3-95c8-18922546425c",
   "metadata": {
    "execution": {
     "iopub.execute_input": "2022-12-19T15:10:57.394678Z",
     "iopub.status.busy": "2022-12-19T15:10:57.394449Z",
     "iopub.status.idle": "2022-12-19T15:10:57.556615Z",
     "shell.execute_reply": "2022-12-19T15:10:57.555822Z",
     "shell.execute_reply.started": "2022-12-19T15:10:57.394658Z"
    }
   },
   "outputs": [
    {
     "name": "stdout",
     "output_type": "stream",
     "text": [
      "<class 'pandas.core.frame.DataFrame'>\n",
      "RangeIndex: 1462262 entries, 0 to 1462261\n",
      "Data columns (total 2 columns):\n",
      " #   Column          Non-Null Count    Dtype  \n",
      "---  ------          --------------    -----  \n",
      " 0   Userinfo_Key    1462262 non-null  object \n",
      " 1   KlpResultLevel  1462262 non-null  float64\n",
      "dtypes: float64(1), object(1)\n",
      "memory usage: 22.3+ MB\n"
     ]
    }
   ],
   "source": [
    "my_learning.info()"
   ]
  },
  {
   "cell_type": "code",
   "execution_count": 53,
   "id": "64c9dd5b-547e-414f-b124-e18e00415e1a",
   "metadata": {
    "execution": {
     "iopub.execute_input": "2022-12-19T15:10:57.557654Z",
     "iopub.status.busy": "2022-12-19T15:10:57.557430Z",
     "iopub.status.idle": "2022-12-19T15:10:58.282309Z",
     "shell.execute_reply": "2022-12-19T15:10:58.281516Z",
     "shell.execute_reply.started": "2022-12-19T15:10:57.557632Z"
    }
   },
   "outputs": [],
   "source": [
    "my_learning['Userinfo_Key'] = pd.to_numeric(my_learning['Userinfo_Key'])"
   ]
  },
  {
   "cell_type": "code",
   "execution_count": 54,
   "id": "d953d12c-801b-4d1b-b8bd-9b17af160fb4",
   "metadata": {
    "execution": {
     "iopub.execute_input": "2022-12-19T15:10:58.283355Z",
     "iopub.status.busy": "2022-12-19T15:10:58.283167Z",
     "iopub.status.idle": "2022-12-19T15:10:58.322576Z",
     "shell.execute_reply": "2022-12-19T15:10:58.321784Z",
     "shell.execute_reply.started": "2022-12-19T15:10:58.283337Z"
    },
    "tags": []
   },
   "outputs": [
    {
     "name": "stdout",
     "output_type": "stream",
     "text": [
      "14285\n",
      "4\n"
     ]
    }
   ],
   "source": [
    "print(len(my_learning['Userinfo_Key'].unique()))\n",
    "print(len(my_learning['KlpResultLevel'].unique()))"
   ]
  },
  {
   "cell_type": "code",
   "execution_count": 55,
   "id": "859f46fc-cca6-4c2e-b916-3c9884600fe9",
   "metadata": {
    "execution": {
     "iopub.execute_input": "2022-12-19T15:10:58.323593Z",
     "iopub.status.busy": "2022-12-19T15:10:58.323367Z",
     "iopub.status.idle": "2022-12-19T15:10:58.351179Z",
     "shell.execute_reply": "2022-12-19T15:10:58.350444Z",
     "shell.execute_reply.started": "2022-12-19T15:10:58.323573Z"
    },
    "tags": []
   },
   "outputs": [],
   "source": [
    "# getting mean of KlpResultLevel per each user\n",
    "my_learning_level =pd.DataFrame(my_learning.groupby(['Userinfo_Key'])['KlpResultLevel'].mean())\n"
   ]
  },
  {
   "cell_type": "code",
   "execution_count": 56,
   "id": "8f3ab8b2-409d-44b2-9df1-5029a8b50454",
   "metadata": {
    "execution": {
     "iopub.execute_input": "2022-12-19T15:10:58.352190Z",
     "iopub.status.busy": "2022-12-19T15:10:58.351998Z",
     "iopub.status.idle": "2022-12-19T15:10:58.357251Z",
     "shell.execute_reply": "2022-12-19T15:10:58.356472Z",
     "shell.execute_reply.started": "2022-12-19T15:10:58.352172Z"
    },
    "tags": []
   },
   "outputs": [],
   "source": [
    "my_learning_level= my_learning_level.reset_index()"
   ]
  },
  {
   "cell_type": "code",
   "execution_count": 57,
   "id": "e5098ca9-81c7-44e0-a436-749b53cc3470",
   "metadata": {
    "execution": {
     "iopub.execute_input": "2022-12-19T15:10:58.358117Z",
     "iopub.status.busy": "2022-12-19T15:10:58.357942Z",
     "iopub.status.idle": "2022-12-19T15:10:58.420283Z",
     "shell.execute_reply": "2022-12-19T15:10:58.419329Z",
     "shell.execute_reply.started": "2022-12-19T15:10:58.358101Z"
    },
    "tags": []
   },
   "outputs": [
    {
     "name": "stdout",
     "output_type": "stream",
     "text": [
      "<class 'pandas.core.frame.DataFrame'>\n",
      "RangeIndex: 14285 entries, 0 to 14284\n",
      "Data columns (total 2 columns):\n",
      " #   Column          Non-Null Count  Dtype  \n",
      "---  ------          --------------  -----  \n",
      " 0   Userinfo_Key    14285 non-null  int64  \n",
      " 1   KlpResultLevel  14285 non-null  float64\n",
      "dtypes: float64(1), int64(1)\n",
      "memory usage: 223.3 KB\n"
     ]
    }
   ],
   "source": [
    "my_learning_level.info()"
   ]
  },
  {
   "cell_type": "code",
   "execution_count": 58,
   "id": "2e8c4b03-518b-44a7-aa14-66cc8f5144b2",
   "metadata": {
    "execution": {
     "iopub.execute_input": "2022-12-19T15:10:58.447020Z",
     "iopub.status.busy": "2022-12-19T15:10:58.446840Z",
     "iopub.status.idle": "2022-12-19T15:10:58.590464Z",
     "shell.execute_reply": "2022-12-19T15:10:58.589759Z",
     "shell.execute_reply.started": "2022-12-19T15:10:58.447004Z"
    },
    "tags": []
   },
   "outputs": [
    {
     "data": {
      "text/plain": [
       "14285"
      ]
     },
     "execution_count": 58,
     "metadata": {},
     "output_type": "execute_result"
    }
   ],
   "source": [
    "my_learning_level['Userinfo_Key'].isin(user_data['Userinfo_Key']).sum()\n"
   ]
  },
  {
   "cell_type": "code",
   "execution_count": 59,
   "id": "98eab98b-7c5e-4648-9f66-2cc685bc855e",
   "metadata": {
    "execution": {
     "iopub.execute_input": "2022-12-19T15:10:58.591552Z",
     "iopub.status.busy": "2022-12-19T15:10:58.591318Z",
     "iopub.status.idle": "2022-12-19T15:10:58.640480Z",
     "shell.execute_reply": "2022-12-19T15:10:58.639219Z",
     "shell.execute_reply.started": "2022-12-19T15:10:58.591530Z"
    },
    "tags": []
   },
   "outputs": [],
   "source": [
    "user_data = pd.merge(user_data, my_learning_level[['Userinfo_Key', 'KlpResultLevel']], on=\"Userinfo_Key\", how=\"left\")"
   ]
  },
  {
   "cell_type": "markdown",
   "id": "6dbf95a2-5818-47a3-8b78-149aa5134ff3",
   "metadata": {},
   "source": [
    "# Data Cleaning for further analysis"
   ]
  },
  {
   "cell_type": "code",
   "execution_count": 60,
   "id": "5f33b1bb-5e7a-4cef-b5f9-8edcd74081b7",
   "metadata": {
    "execution": {
     "iopub.execute_input": "2022-12-19T15:10:58.641495Z",
     "iopub.status.busy": "2022-12-19T15:10:58.641297Z",
     "iopub.status.idle": "2022-12-19T15:10:58.820797Z",
     "shell.execute_reply": "2022-12-19T15:10:58.820072Z",
     "shell.execute_reply.started": "2022-12-19T15:10:58.641469Z"
    },
    "tags": []
   },
   "outputs": [
    {
     "name": "stdout",
     "output_type": "stream",
     "text": [
      "<class 'pandas.core.frame.DataFrame'>\n",
      "Int64Index: 105914 entries, 0 to 105913\n",
      "Data columns (total 23 columns):\n",
      " #   Column                            Non-Null Count   Dtype              \n",
      "---  ------                            --------------   -----              \n",
      " 0   Userinfo_Key                      105914 non-null  int64              \n",
      " 1   Userinfo_BK                       105914 non-null  object             \n",
      " 2   Country_Key                       105914 non-null  object             \n",
      " 3   UserinfoAppId                     105914 non-null  object             \n",
      " 4   RN                                105914 non-null  float64            \n",
      " 5   OnlyUser                          105914 non-null  object             \n",
      " 6   NumberOfUsers                     105914 non-null  object             \n",
      " 7   UserinfoCountry                   105914 non-null  object             \n",
      " 8   UserinfoState                     105914 non-null  object             \n",
      " 9   UserinfoDistrict                  105914 non-null  object             \n",
      " 10  HealthcareWorker                  105914 non-null  object             \n",
      " 11  Profession                        105914 non-null  object             \n",
      " 12  Experiance                        105914 non-null  object             \n",
      " 13  WorkPlace                         105914 non-null  object             \n",
      " 14  SafeDeliveryApp                   105914 non-null  object             \n",
      " 15  UserinfoNumberOfDelivery          105914 non-null  object             \n",
      " 16  UserinfoIsMyLearning              105914 non-null  float64            \n",
      " 17  UserinfoUserIsActive              105914 non-null  float64            \n",
      " 18  UserInfoFirstMyLearningEventDate  82822 non-null   datetime64[ns, UTC]\n",
      " 19  UserInfoFirstUseDate              105914 non-null  datetime64[ns, UTC]\n",
      " 20  Module_Key                        25358 non-null   object             \n",
      " 21  Time                              33099 non-null   float64            \n",
      " 22  KlpResultLevel                    14285 non-null   float64            \n",
      "dtypes: datetime64[ns, UTC](2), float64(5), int64(1), object(15)\n",
      "memory usage: 19.4+ MB\n"
     ]
    }
   ],
   "source": [
    "user_data.info()"
   ]
  },
  {
   "cell_type": "code",
   "execution_count": 61,
   "id": "16cca616-1421-4fcc-b3d1-f5675d5bdd88",
   "metadata": {
    "execution": {
     "iopub.execute_input": "2022-12-19T15:10:58.821747Z",
     "iopub.status.busy": "2022-12-19T15:10:58.821536Z",
     "iopub.status.idle": "2022-12-19T15:10:58.829754Z",
     "shell.execute_reply": "2022-12-19T15:10:58.829073Z",
     "shell.execute_reply.started": "2022-12-19T15:10:58.821726Z"
    },
    "tags": []
   },
   "outputs": [],
   "source": [
    "# filling missing values by 0 \n",
    "user_data['KlpResultLevel'][np.isnan(user_data['KlpResultLevel'])] = 0\n",
    "user_data['Time'][np.isnan(user_data['Time'])] = 0"
   ]
  },
  {
   "cell_type": "code",
   "execution_count": 86,
   "id": "3eee538d-f74a-4fcd-8e19-d84199aa0c73",
   "metadata": {
    "execution": {
     "iopub.execute_input": "2022-12-19T15:23:17.769122Z",
     "iopub.status.busy": "2022-12-19T15:23:17.768424Z",
     "iopub.status.idle": "2022-12-19T15:23:17.784588Z",
     "shell.execute_reply": "2022-12-19T15:23:17.783692Z",
     "shell.execute_reply.started": "2022-12-19T15:23:17.769062Z"
    },
    "tags": []
   },
   "outputs": [],
   "source": [
    "# filling missing values by -1,as in activity dataset all the missing values were filled with -1. \n",
    "user_data.Module_Key = user_data.Module_Key.fillna('-1')\n"
   ]
  },
  {
   "cell_type": "code",
   "execution_count": 87,
   "id": "29c9ad86-670f-46b9-9484-ec878f9baa71",
   "metadata": {
    "execution": {
     "iopub.execute_input": "2022-12-19T15:23:20.494452Z",
     "iopub.status.busy": "2022-12-19T15:23:20.493794Z",
     "iopub.status.idle": "2022-12-19T15:23:20.523387Z",
     "shell.execute_reply": "2022-12-19T15:23:20.522601Z",
     "shell.execute_reply.started": "2022-12-19T15:23:20.494394Z"
    },
    "tags": []
   },
   "outputs": [
    {
     "name": "stdout",
     "output_type": "stream",
     "text": [
      "<class 'pandas.core.frame.DataFrame'>\n",
      "Int64Index: 91009 entries, 140 to 105913\n",
      "Data columns (total 12 columns):\n",
      " #   Column                Non-Null Count  Dtype  \n",
      "---  ------                --------------  -----  \n",
      " 0   RN                    91009 non-null  float64\n",
      " 1   UserinfoCountry       91009 non-null  int64  \n",
      " 2   HealthcareWorker      91009 non-null  int64  \n",
      " 3   Profession            91009 non-null  int64  \n",
      " 4   Experiance            91009 non-null  int64  \n",
      " 5   WorkPlace             91009 non-null  int64  \n",
      " 6   SafeDeliveryApp       91009 non-null  int64  \n",
      " 7   UserinfoIsMyLearning  91009 non-null  float64\n",
      " 8   UserinfoUserIsActive  91009 non-null  float64\n",
      " 9   Module_Key            91009 non-null  object \n",
      " 10  Time                  91009 non-null  float64\n",
      " 11  KlpResultLevel        91009 non-null  float64\n",
      "dtypes: float64(5), int64(6), object(1)\n",
      "memory usage: 9.0+ MB\n"
     ]
    }
   ],
   "source": [
    "user_data.info()"
   ]
  },
  {
   "cell_type": "code",
   "execution_count": 64,
   "id": "16a882cc-f14b-4524-8c76-7522b0412374",
   "metadata": {
    "execution": {
     "iopub.execute_input": "2022-12-19T15:13:50.098816Z",
     "iopub.status.busy": "2022-12-19T15:13:50.098030Z",
     "iopub.status.idle": "2022-12-19T15:13:50.171408Z",
     "shell.execute_reply": "2022-12-19T15:13:50.170612Z",
     "shell.execute_reply.started": "2022-12-19T15:13:50.098758Z"
    },
    "tags": []
   },
   "outputs": [],
   "source": [
    "# Replacing all the Unknown to nan\n",
    "user_data= user_data.replace('Unknown', np.nan)"
   ]
  },
  {
   "cell_type": "code",
   "execution_count": 65,
   "id": "7c355332-72fd-4920-96e2-b0074c2f0531",
   "metadata": {
    "execution": {
     "iopub.execute_input": "2022-12-19T15:13:50.316612Z",
     "iopub.status.busy": "2022-12-19T15:13:50.315978Z",
     "iopub.status.idle": "2022-12-19T15:13:50.395347Z",
     "shell.execute_reply": "2022-12-19T15:13:50.394626Z",
     "shell.execute_reply.started": "2022-12-19T15:13:50.316556Z"
    },
    "tags": []
   },
   "outputs": [
    {
     "name": "stdout",
     "output_type": "stream",
     "text": [
      "> Userinfo_Key, Missing: 0 (0.00 %)\n",
      "> Userinfo_BK, Missing: 0 (0.00 %)\n",
      "> Country_Key, Missing: 0 (0.00 %)\n",
      "> UserinfoAppId, Missing: 0 (0.00 %)\n",
      "> RN, Missing: 0 (0.00 %)\n",
      "> OnlyUser, Missing: 9090 (8.58 %)\n",
      "> NumberOfUsers, Missing: 78053 (73.69 %)\n",
      "> UserinfoCountry, Missing: 0 (0.00 %)\n",
      "> UserinfoState, Missing: 11924 (11.26 %)\n",
      "> UserinfoDistrict, Missing: 23618 (22.30 %)\n",
      "> HealthcareWorker, Missing: 783 (0.74 %)\n",
      "> Profession, Missing: 13370 (12.62 %)\n",
      "> Experiance, Missing: 13640 (12.88 %)\n",
      "> WorkPlace, Missing: 5310 (5.01 %)\n",
      "> SafeDeliveryApp, Missing: 14351 (13.55 %)\n",
      "> UserinfoNumberOfDelivery, Missing: 50329 (47.52 %)\n",
      "> UserinfoIsMyLearning, Missing: 0 (0.00 %)\n",
      "> UserinfoUserIsActive, Missing: 0 (0.00 %)\n",
      "> UserInfoFirstMyLearningEventDate, Missing: 23092 (21.80 %)\n",
      "> UserInfoFirstUseDate, Missing: 0 (0.00 %)\n",
      "> Module_Key, Missing: 0 (0.00 %)\n",
      "> Time, Missing: 0 (0.00 %)\n",
      "> KlpResultLevel, Missing: 0 (0.00 %)\n"
     ]
    }
   ],
   "source": [
    "# looking into missing values of each variable\n",
    "for i in user_data.columns:\n",
    "    n_miss = user_data[i].isna().sum()\n",
    "    perc = n_miss / user_data.shape[0] * 100\n",
    "    print(f'> {i}, Missing: {n_miss} ({perc:.2f} %)')"
   ]
  },
  {
   "cell_type": "code",
   "execution_count": 66,
   "id": "a612c69b-10e3-45cd-81ab-491f8c0f5677",
   "metadata": {
    "execution": {
     "iopub.execute_input": "2022-12-19T15:14:00.595365Z",
     "iopub.status.busy": "2022-12-19T15:14:00.594602Z",
     "iopub.status.idle": "2022-12-19T15:14:00.630918Z",
     "shell.execute_reply": "2022-12-19T15:14:00.630197Z",
     "shell.execute_reply.started": "2022-12-19T15:14:00.595308Z"
    },
    "tags": []
   },
   "outputs": [
    {
     "data": {
      "text/html": [
       "<div>\n",
       "<style scoped>\n",
       "    .dataframe tbody tr th:only-of-type {\n",
       "        vertical-align: middle;\n",
       "    }\n",
       "\n",
       "    .dataframe tbody tr th {\n",
       "        vertical-align: top;\n",
       "    }\n",
       "\n",
       "    .dataframe thead th {\n",
       "        text-align: right;\n",
       "    }\n",
       "</style>\n",
       "<table border=\"1\" class=\"dataframe\">\n",
       "  <thead>\n",
       "    <tr style=\"text-align: right;\">\n",
       "      <th></th>\n",
       "      <th>Country_Key</th>\n",
       "      <th>UserinfoCountry</th>\n",
       "    </tr>\n",
       "  </thead>\n",
       "  <tbody>\n",
       "    <tr>\n",
       "      <th>0</th>\n",
       "      <td>487380</td>\n",
       "      <td>India</td>\n",
       "    </tr>\n",
       "    <tr>\n",
       "      <th>1</th>\n",
       "      <td>487366</td>\n",
       "      <td>Ethiopia</td>\n",
       "    </tr>\n",
       "    <tr>\n",
       "      <th>2</th>\n",
       "      <td>487380</td>\n",
       "      <td>India</td>\n",
       "    </tr>\n",
       "    <tr>\n",
       "      <th>3</th>\n",
       "      <td>487380</td>\n",
       "      <td>India</td>\n",
       "    </tr>\n",
       "    <tr>\n",
       "      <th>4</th>\n",
       "      <td>487380</td>\n",
       "      <td>India</td>\n",
       "    </tr>\n",
       "    <tr>\n",
       "      <th>...</th>\n",
       "      <td>...</td>\n",
       "      <td>...</td>\n",
       "    </tr>\n",
       "    <tr>\n",
       "      <th>105909</th>\n",
       "      <td>487366</td>\n",
       "      <td>Ethiopia</td>\n",
       "    </tr>\n",
       "    <tr>\n",
       "      <th>105910</th>\n",
       "      <td>487380</td>\n",
       "      <td>India</td>\n",
       "    </tr>\n",
       "    <tr>\n",
       "      <th>105911</th>\n",
       "      <td>487380</td>\n",
       "      <td>India</td>\n",
       "    </tr>\n",
       "    <tr>\n",
       "      <th>105912</th>\n",
       "      <td>487380</td>\n",
       "      <td>India</td>\n",
       "    </tr>\n",
       "    <tr>\n",
       "      <th>105913</th>\n",
       "      <td>487380</td>\n",
       "      <td>India</td>\n",
       "    </tr>\n",
       "  </tbody>\n",
       "</table>\n",
       "<p>105914 rows × 2 columns</p>\n",
       "</div>"
      ],
      "text/plain": [
       "       Country_Key UserinfoCountry\n",
       "0           487380           India\n",
       "1           487366        Ethiopia\n",
       "2           487380           India\n",
       "3           487380           India\n",
       "4           487380           India\n",
       "...            ...             ...\n",
       "105909      487366        Ethiopia\n",
       "105910      487380           India\n",
       "105911      487380           India\n",
       "105912      487380           India\n",
       "105913      487380           India\n",
       "\n",
       "[105914 rows x 2 columns]"
      ]
     },
     "execution_count": 66,
     "metadata": {},
     "output_type": "execute_result"
    }
   ],
   "source": [
    "user_data[['Country_Key', 'UserinfoCountry']]\n",
    "# India = 487380\n",
    "# Ethoipia 487366"
   ]
  },
  {
   "cell_type": "code",
   "execution_count": 67,
   "id": "3e835784-318a-4dcc-97e4-9f421a740e28",
   "metadata": {
    "execution": {
     "iopub.execute_input": "2022-12-19T15:14:02.826989Z",
     "iopub.status.busy": "2022-12-19T15:14:02.826303Z",
     "iopub.status.idle": "2022-12-19T15:14:02.852557Z",
     "shell.execute_reply": "2022-12-19T15:14:02.851180Z",
     "shell.execute_reply.started": "2022-12-19T15:14:02.826929Z"
    }
   },
   "outputs": [],
   "source": [
    "# dropping some vaiables which doesn't seems important for imputation\n",
    "# - UserinfoAppId, Userinfo_Key, Userinfo_BK are key with all unique values\n",
    "# - UserInfoFirstMyLearningEventDate, UserInfoFirstUseDate are data and time variable which don’t make sense to impute based on.\n",
    "# - NumberOfUsers, UserinfoNumberOfDelivery:both the variables has a lot  missing data, which wasn’t enough preexisting data to go off of\n",
    "# - Country_Key : Country_key and UserinfoCountry provides same information(about the country), decided to move on with UserinfoCountry and drop Country_Key\n",
    "# - UserinfoState, UserinfoDistrict: have restrictions like a district needs to be inside a particular state, probably made more sense to leave them out of imputation and decided to remove the two features. \n",
    "user_data.drop(['UserInfoFirstMyLearningEventDate', 'UserInfoFirstUseDate', 'UserinfoAppId','Userinfo_Key', 'NumberOfUsers', 'Userinfo_BK','UserinfoNumberOfDelivery', 'Country_Key', 'OnlyUser', 'UserinfoState', 'UserinfoDistrict', ], axis=1, inplace=True)"
   ]
  },
  {
   "cell_type": "code",
   "execution_count": 68,
   "id": "cc559277-6ca1-479a-904c-9a1cff997002",
   "metadata": {
    "execution": {
     "iopub.execute_input": "2022-12-19T15:14:04.238890Z",
     "iopub.status.busy": "2022-12-19T15:14:04.238019Z",
     "iopub.status.idle": "2022-12-19T15:14:04.332693Z",
     "shell.execute_reply": "2022-12-19T15:14:04.331952Z",
     "shell.execute_reply.started": "2022-12-19T15:14:04.238830Z"
    }
   },
   "outputs": [
    {
     "name": "stdout",
     "output_type": "stream",
     "text": [
      "<class 'pandas.core.frame.DataFrame'>\n",
      "Int64Index: 105914 entries, 0 to 105913\n",
      "Data columns (total 12 columns):\n",
      " #   Column                Non-Null Count   Dtype  \n",
      "---  ------                --------------   -----  \n",
      " 0   RN                    105914 non-null  float64\n",
      " 1   UserinfoCountry       105914 non-null  object \n",
      " 2   HealthcareWorker      105131 non-null  object \n",
      " 3   Profession            92544 non-null   object \n",
      " 4   Experiance            92274 non-null   object \n",
      " 5   WorkPlace             100604 non-null  object \n",
      " 6   SafeDeliveryApp       91563 non-null   object \n",
      " 7   UserinfoIsMyLearning  105914 non-null  float64\n",
      " 8   UserinfoUserIsActive  105914 non-null  float64\n",
      " 9   Module_Key            105914 non-null  object \n",
      " 10  Time                  105914 non-null  float64\n",
      " 11  KlpResultLevel        105914 non-null  float64\n",
      "dtypes: float64(5), object(7)\n",
      "memory usage: 10.5+ MB\n"
     ]
    }
   ],
   "source": [
    "user_data.info()"
   ]
  },
  {
   "cell_type": "code",
   "execution_count": 69,
   "id": "60d29bb4-cbc0-44fc-a804-ce4b0bc7b393",
   "metadata": {
    "execution": {
     "iopub.execute_input": "2022-12-19T15:14:06.939143Z",
     "iopub.status.busy": "2022-12-19T15:14:06.938463Z",
     "iopub.status.idle": "2022-12-19T15:14:07.031605Z",
     "shell.execute_reply": "2022-12-19T15:14:07.030841Z",
     "shell.execute_reply.started": "2022-12-19T15:14:06.939085Z"
    },
    "tags": []
   },
   "outputs": [],
   "source": [
    "user_data.dropna(inplace = True)"
   ]
  },
  {
   "cell_type": "code",
   "execution_count": 70,
   "id": "686ee7f7-9f7b-4098-8408-0853960d81d5",
   "metadata": {
    "execution": {
     "iopub.execute_input": "2022-12-19T15:14:08.241341Z",
     "iopub.status.busy": "2022-12-19T15:14:08.240519Z",
     "iopub.status.idle": "2022-12-19T15:14:08.323169Z",
     "shell.execute_reply": "2022-12-19T15:14:08.322471Z",
     "shell.execute_reply.started": "2022-12-19T15:14:08.241282Z"
    },
    "tags": []
   },
   "outputs": [
    {
     "name": "stdout",
     "output_type": "stream",
     "text": [
      "<class 'pandas.core.frame.DataFrame'>\n",
      "Int64Index: 91009 entries, 140 to 105913\n",
      "Data columns (total 12 columns):\n",
      " #   Column                Non-Null Count  Dtype  \n",
      "---  ------                --------------  -----  \n",
      " 0   RN                    91009 non-null  float64\n",
      " 1   UserinfoCountry       91009 non-null  object \n",
      " 2   HealthcareWorker      91009 non-null  object \n",
      " 3   Profession            91009 non-null  object \n",
      " 4   Experiance            91009 non-null  object \n",
      " 5   WorkPlace             91009 non-null  object \n",
      " 6   SafeDeliveryApp       91009 non-null  object \n",
      " 7   UserinfoIsMyLearning  91009 non-null  float64\n",
      " 8   UserinfoUserIsActive  91009 non-null  float64\n",
      " 9   Module_Key            91009 non-null  object \n",
      " 10  Time                  91009 non-null  float64\n",
      " 11  KlpResultLevel        91009 non-null  float64\n",
      "dtypes: float64(5), object(7)\n",
      "memory usage: 9.0+ MB\n"
     ]
    }
   ],
   "source": [
    "user_data.info()"
   ]
  },
  {
   "cell_type": "code",
   "execution_count": 90,
   "id": "202bf9b9-8ea4-4ed8-9a3a-767f8b49946d",
   "metadata": {
    "execution": {
     "iopub.execute_input": "2022-12-19T15:35:47.790372Z",
     "iopub.status.busy": "2022-12-19T15:35:47.789700Z",
     "iopub.status.idle": "2022-12-19T15:35:47.829566Z",
     "shell.execute_reply": "2022-12-19T15:35:47.828795Z",
     "shell.execute_reply.started": "2022-12-19T15:35:47.790312Z"
    }
   },
   "outputs": [],
   "source": [
    "user_data['Module_Key'] = pd.to_numeric(user_data['Module_Key'])"
   ]
  },
  {
   "cell_type": "code",
   "execution_count": 91,
   "id": "3620de98-bdf4-4f8d-91c8-13c788c2d00c",
   "metadata": {
    "execution": {
     "iopub.execute_input": "2022-12-19T15:36:03.646964Z",
     "iopub.status.busy": "2022-12-19T15:36:03.646279Z",
     "iopub.status.idle": "2022-12-19T15:36:03.654272Z",
     "shell.execute_reply": "2022-12-19T15:36:03.652796Z",
     "shell.execute_reply.started": "2022-12-19T15:36:03.646905Z"
    },
    "tags": []
   },
   "outputs": [],
   "source": [
    "label = LabelEncoder()"
   ]
  },
  {
   "cell_type": "code",
   "execution_count": 93,
   "id": "50618e6a-bd30-4b01-aa45-d0b68e581a02",
   "metadata": {
    "execution": {
     "iopub.execute_input": "2022-12-19T15:36:20.075053Z",
     "iopub.status.busy": "2022-12-19T15:36:20.074519Z",
     "iopub.status.idle": "2022-12-19T15:36:20.102155Z",
     "shell.execute_reply": "2022-12-19T15:36:20.101407Z",
     "shell.execute_reply.started": "2022-12-19T15:36:20.075019Z"
    },
    "tags": []
   },
   "outputs": [],
   "source": [
    "# changing string labels into numeric\n",
    "user_data.Profession= label.fit_transform(user_data.Profession)\n",
    "user_data.Experiance= label.fit_transform(user_data.Experiance)\n",
    "user_data.WorkPlace= label.fit_transform(user_data.WorkPlace)\n",
    "user_data.SafeDeliveryApp= label.fit_transform(user_data.SafeDeliveryApp)\n",
    "user_data.HealthcareWorker = label.fit_transform(user_data.HealthcareWorker)\n",
    "user_data.UserinfoCountry = label.fit_transform(user_data.UserinfoCountry)\n",
    "user_data.Module_Key = label.fit_transform(user_data.Module_Key)"
   ]
  },
  {
   "cell_type": "code",
   "execution_count": 95,
   "id": "86189028-f7ff-435c-a46b-26ae24939468",
   "metadata": {
    "execution": {
     "iopub.execute_input": "2022-12-19T16:14:14.239597Z",
     "iopub.status.busy": "2022-12-19T16:14:14.238926Z",
     "iopub.status.idle": "2022-12-19T16:14:14.501837Z",
     "shell.execute_reply": "2022-12-19T16:14:14.501046Z",
     "shell.execute_reply.started": "2022-12-19T16:14:14.239539Z"
    },
    "tags": []
   },
   "outputs": [],
   "source": [
    "user_data.to_csv('clean_data.csv', index=False)"
   ]
  },
  {
   "cell_type": "code",
   "execution_count": null,
   "id": "618369d4-faca-42ff-9b29-91d045ccbc28",
   "metadata": {},
   "outputs": [],
   "source": []
  }
 ],
 "metadata": {
  "kernelspec": {
   "display_name": "Python 3 ",
   "language": "python",
   "name": "python3"
  },
  "language_info": {
   "codemirror_mode": {
    "name": "ipython",
    "version": 3
   },
   "file_extension": ".py",
   "mimetype": "text/x-python",
   "name": "python",
   "nbconvert_exporter": "python",
   "pygments_lexer": "ipython3",
   "version": "3.10.6"
  }
 },
 "nbformat": 4,
 "nbformat_minor": 5
}
